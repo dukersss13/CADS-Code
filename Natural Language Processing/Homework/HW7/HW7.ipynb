{
 "cells": [
  {
   "cell_type": "markdown",
   "metadata": {},
   "source": [
    "### Problem 1"
   ]
  },
  {
   "cell_type": "code",
   "execution_count": 26,
   "metadata": {},
   "outputs": [],
   "source": [
    "import pandas as pd\n",
    "import numpy as np\n",
    "from sklearn.feature_extraction.text import CountVectorizer\n",
    "from sklearn.feature_extraction.text import TfidfTransformer"
   ]
  },
  {
   "cell_type": "code",
   "execution_count": 27,
   "metadata": {},
   "outputs": [],
   "source": [
    "doc1 = 'Chapman university is in Orange County'\n",
    "doc2 = 'Chapman university is a good university'\n",
    "corpus = [doc1, doc2]"
   ]
  },
  {
   "cell_type": "code",
   "execution_count": 28,
   "metadata": {},
   "outputs": [
    {
     "data": {
      "text/html": [
       "<div>\n",
       "<style scoped>\n",
       "    .dataframe tbody tr th:only-of-type {\n",
       "        vertical-align: middle;\n",
       "    }\n",
       "\n",
       "    .dataframe tbody tr th {\n",
       "        vertical-align: top;\n",
       "    }\n",
       "\n",
       "    .dataframe thead th {\n",
       "        text-align: right;\n",
       "    }\n",
       "</style>\n",
       "<table border=\"1\" class=\"dataframe\">\n",
       "  <thead>\n",
       "    <tr style=\"text-align: right;\">\n",
       "      <th></th>\n",
       "      <th>chapman</th>\n",
       "      <th>county</th>\n",
       "      <th>good</th>\n",
       "      <th>in</th>\n",
       "      <th>is</th>\n",
       "      <th>orange</th>\n",
       "      <th>university</th>\n",
       "    </tr>\n",
       "  </thead>\n",
       "  <tbody>\n",
       "    <tr>\n",
       "      <td>0</td>\n",
       "      <td>0.334712</td>\n",
       "      <td>0.470426</td>\n",
       "      <td>0.000000</td>\n",
       "      <td>0.470426</td>\n",
       "      <td>0.334712</td>\n",
       "      <td>0.470426</td>\n",
       "      <td>0.334712</td>\n",
       "    </tr>\n",
       "    <tr>\n",
       "      <td>1</td>\n",
       "      <td>0.354100</td>\n",
       "      <td>0.000000</td>\n",
       "      <td>0.497675</td>\n",
       "      <td>0.000000</td>\n",
       "      <td>0.354100</td>\n",
       "      <td>0.000000</td>\n",
       "      <td>0.708199</td>\n",
       "    </tr>\n",
       "  </tbody>\n",
       "</table>\n",
       "</div>"
      ],
      "text/plain": [
       "    chapman    county      good        in        is    orange  university\n",
       "0  0.334712  0.470426  0.000000  0.470426  0.334712  0.470426    0.334712\n",
       "1  0.354100  0.000000  0.497675  0.000000  0.354100  0.000000    0.708199"
      ]
     },
     "execution_count": 28,
     "metadata": {},
     "output_type": "execute_result"
    }
   ],
   "source": [
    "from sklearn.feature_extraction.text import CountVectorizer\n",
    "vect = CountVectorizer()\n",
    "X = vect.fit_transform(corpus)\n",
    "\n",
    "\n",
    "transformer = TfidfTransformer()\n",
    "tfidf = transformer.fit_transform(X)\n",
    "tfi_df = pd.DataFrame(tfidf.toarray(), columns = vect.get_feature_names())\n",
    "tfi_df"
   ]
  },
  {
   "cell_type": "code",
   "execution_count": 29,
   "metadata": {},
   "outputs": [
    {
     "name": "stdout",
     "output_type": "stream",
     "text": [
      "['chapman', 'county', 'good', 'in', 'is', 'orange', 'university']\n",
      "{'chapman': 0, 'university': 6, 'is': 4, 'in': 3, 'orange': 5, 'county': 1, 'good': 2}\n"
     ]
    }
   ],
   "source": [
    "cv = CountVectorizer()\n",
    "X = cv.fit(corpus)\n",
    "print(cv.get_feature_names())\n",
    "print(X.vocabulary_)\n",
    "\n",
    "Y = cv.transform(corpus)\n",
    "df = pd.DataFrame(Y.toarray(), columns = cv.get_feature_names())\n",
    "df = df.T"
   ]
  },
  {
   "cell_type": "code",
   "execution_count": 30,
   "metadata": {},
   "outputs": [
    {
     "data": {
      "text/html": [
       "<div>\n",
       "<style scoped>\n",
       "    .dataframe tbody tr th:only-of-type {\n",
       "        vertical-align: middle;\n",
       "    }\n",
       "\n",
       "    .dataframe tbody tr th {\n",
       "        vertical-align: top;\n",
       "    }\n",
       "\n",
       "    .dataframe thead th {\n",
       "        text-align: right;\n",
       "    }\n",
       "</style>\n",
       "<table border=\"1\" class=\"dataframe\">\n",
       "  <thead>\n",
       "    <tr style=\"text-align: right;\">\n",
       "      <th></th>\n",
       "      <th>chapman</th>\n",
       "      <th>county</th>\n",
       "      <th>good</th>\n",
       "      <th>in</th>\n",
       "      <th>is</th>\n",
       "      <th>orange</th>\n",
       "      <th>university</th>\n",
       "    </tr>\n",
       "  </thead>\n",
       "  <tbody>\n",
       "    <tr>\n",
       "      <td>0</td>\n",
       "      <td>0.166667</td>\n",
       "      <td>0.166667</td>\n",
       "      <td>0.0</td>\n",
       "      <td>0.166667</td>\n",
       "      <td>0.166667</td>\n",
       "      <td>0.166667</td>\n",
       "      <td>0.166667</td>\n",
       "    </tr>\n",
       "    <tr>\n",
       "      <td>1</td>\n",
       "      <td>0.200000</td>\n",
       "      <td>0.000000</td>\n",
       "      <td>0.2</td>\n",
       "      <td>0.000000</td>\n",
       "      <td>0.200000</td>\n",
       "      <td>0.000000</td>\n",
       "      <td>0.400000</td>\n",
       "    </tr>\n",
       "  </tbody>\n",
       "</table>\n",
       "</div>"
      ],
      "text/plain": [
       "    chapman    county  good        in        is    orange  university\n",
       "0  0.166667  0.166667   0.0  0.166667  0.166667  0.166667    0.166667\n",
       "1  0.200000  0.000000   0.2  0.000000  0.200000  0.000000    0.400000"
      ]
     },
     "execution_count": 30,
     "metadata": {},
     "output_type": "execute_result"
    }
   ],
   "source": [
    "sumDocu = np.zeros(Y.shape[0])\n",
    "docFreq = np.zeros(Y.shape)\n",
    "\n",
    "for i in range(len(corpus)):\n",
    "    sumDocu[i] = sum(Y.toarray()[i])\n",
    "    for j in range(len(Y.toarray()[i])):\n",
    "        docFreq[i][j] = Y.toarray()[i][j]/sumDocu[i]\n",
    "sklearn_df = pd.DataFrame(docFreq, columns= cv.get_feature_names())\n",
    "sklearn_df"
   ]
  },
  {
   "cell_type": "markdown",
   "metadata": {},
   "source": [
    "### Problem 2"
   ]
  },
  {
   "cell_type": "code",
   "execution_count": 24,
   "metadata": {},
   "outputs": [
    {
     "data": {
      "text/html": [
       "<div>\n",
       "<style scoped>\n",
       "    .dataframe tbody tr th:only-of-type {\n",
       "        vertical-align: middle;\n",
       "    }\n",
       "\n",
       "    .dataframe tbody tr th {\n",
       "        vertical-align: top;\n",
       "    }\n",
       "\n",
       "    .dataframe thead th {\n",
       "        text-align: right;\n",
       "    }\n",
       "</style>\n",
       "<table border=\"1\" class=\"dataframe\">\n",
       "  <thead>\n",
       "    <tr style=\"text-align: right;\">\n",
       "      <th></th>\n",
       "      <th>blue</th>\n",
       "      <th>is</th>\n",
       "      <th>not</th>\n",
       "      <th>sky</th>\n",
       "      <th>the</th>\n",
       "    </tr>\n",
       "  </thead>\n",
       "  <tbody>\n",
       "    <tr>\n",
       "      <td>0</td>\n",
       "      <td>0.50000</td>\n",
       "      <td>0.50000</td>\n",
       "      <td>0.000000</td>\n",
       "      <td>0.50000</td>\n",
       "      <td>0.50000</td>\n",
       "    </tr>\n",
       "    <tr>\n",
       "      <td>1</td>\n",
       "      <td>0.40909</td>\n",
       "      <td>0.40909</td>\n",
       "      <td>0.574962</td>\n",
       "      <td>0.40909</td>\n",
       "      <td>0.40909</td>\n",
       "    </tr>\n",
       "  </tbody>\n",
       "</table>\n",
       "</div>"
      ],
      "text/plain": [
       "      blue       is       not      sky      the\n",
       "0  0.50000  0.50000  0.000000  0.50000  0.50000\n",
       "1  0.40909  0.40909  0.574962  0.40909  0.40909"
      ]
     },
     "execution_count": 24,
     "metadata": {},
     "output_type": "execute_result"
    }
   ],
   "source": [
    "doc1 = 'The sky is blue'\n",
    "doc2 = 'The sky is not blue'\n",
    "corpus = [doc1, doc2]\n",
    "vect = CountVectorizer()\n",
    "X = vect.fit_transform(corpus)\n",
    "\n",
    "transformer = TfidfTransformer()\n",
    "tfidf = transformer.fit_transform(X)\n",
    "tfi_df = pd.DataFrame(tfidf.toarray(), columns = vect.get_feature_names())\n",
    "tfi_df\n",
    "\n",
    "# the word \"not\" has the highest TF-IDF value"
   ]
  },
  {
   "cell_type": "markdown",
   "metadata": {},
   "source": [
    "### Problem 3"
   ]
  },
  {
   "cell_type": "code",
   "execution_count": 6,
   "metadata": {},
   "outputs": [],
   "source": [
    "from numpy import linalg as la"
   ]
  },
  {
   "cell_type": "code",
   "execution_count": 7,
   "metadata": {},
   "outputs": [
    {
     "name": "stdout",
     "output_type": "stream",
     "text": [
      "Eigvals: [2. 5.] \n",
      "\n",
      "Eigvects:\n",
      " [[1. 0.]\n",
      " [0. 1.]]\n"
     ]
    }
   ],
   "source": [
    "# Problem 3.1\n",
    "m1 = np.array([[2,0],[0,5]])\n",
    "m1_eigvals, m1_eigvects = la.eig(m1)\n",
    "print(\"Eigvals:\", m1_eigvals, \"\\n\")\n",
    "print(\"Eigvects:\\n\", m1_eigvects)"
   ]
  },
  {
   "cell_type": "code",
   "execution_count": 8,
   "metadata": {},
   "outputs": [
    {
     "name": "stdout",
     "output_type": "stream",
     "text": [
      "Eigvals: [4. 2. 9.] \n",
      "\n",
      "Eigvects:\n",
      " [[ 1.         -0.4472136   0.76337004]\n",
      " [ 0.          0.89442719  0.25445668]\n",
      " [ 0.          0.          0.59373225]]\n"
     ]
    }
   ],
   "source": [
    "# Problem 3.2 \n",
    "m2 = np.array([[4,1,6],[0,2,3],[0,0,9]])\n",
    "m2_eigvals, m2_eigvects = la.eig(m2)\n",
    "print(\"Eigvals:\", m2_eigvals, \"\\n\")\n",
    "print(\"Eigvects:\\n\", m2_eigvects)"
   ]
  },
  {
   "cell_type": "code",
   "execution_count": 9,
   "metadata": {},
   "outputs": [
    {
     "name": "stdout",
     "output_type": "stream",
     "text": [
      "Eigvals: [0. 3. 1. 2.] \n",
      "\n",
      "Eigvects:\n",
      " [[ 0.          0.          0.19518001  0.10929207]\n",
      " [ 0.          0.          0.          0.02732302]\n",
      " [-0.70710678 -0.4472136   0.09759001 -0.31421469]\n",
      " [ 0.70710678 -0.89442719 -0.97590007 -0.94264406]]\n"
     ]
    }
   ],
   "source": [
    "# Problem 3.3 \n",
    "m3 = np.array([[1,4,0,0],[0,2,0,0],[5,3,1,1],[4,7,2,2]])\n",
    "m3_eigvals, m3_eigvects = la.eig(m3)\n",
    "print(\"Eigvals:\", m3_eigvals, \"\\n\")\n",
    "print(\"Eigvects:\\n\", m3_eigvects)"
   ]
  },
  {
   "cell_type": "code",
   "execution_count": 10,
   "metadata": {},
   "outputs": [],
   "source": [
    "# No you cannot compute the eigvals and eigvectors of a non-square matrix"
   ]
  },
  {
   "cell_type": "markdown",
   "metadata": {},
   "source": [
    "### Problem 4"
   ]
  },
  {
   "cell_type": "code",
   "execution_count": 11,
   "metadata": {},
   "outputs": [
    {
     "name": "stdout",
     "output_type": "stream",
     "text": [
      "[[ 5  7 21 32]\n",
      " [ 0  3 43 24]\n",
      " [ 2 36 95 84]\n",
      " [92 37 57 64]] \n",
      "\n",
      "[[5.00000000e+00 7.00000000e+00 2.10000000e+01 3.20000000e+01]\n",
      " [3.55271368e-15 3.00000000e+00 4.30000000e+01 2.40000000e+01]\n",
      " [2.00000000e+00 3.60000000e+01 9.50000000e+01 8.40000000e+01]\n",
      " [9.20000000e+01 3.70000000e+01 5.70000000e+01 6.40000000e+01]]\n"
     ]
    }
   ],
   "source": [
    "from scipy.linalg import svd\n",
    "A = np.array([[5,7,21,32],[0,3,43,24],[2,36,95,84],[92,37,57,64]])\n",
    "V, Sigma, Ustar = svd(A)\n",
    "A_svd = V@np.diag(Sigma)@Ustar\n",
    "print(A, \"\\n\")\n",
    "print(A_svd)"
   ]
  },
  {
   "cell_type": "markdown",
   "metadata": {},
   "source": [
    "### Problem 5"
   ]
  },
  {
   "cell_type": "code",
   "execution_count": 12,
   "metadata": {},
   "outputs": [],
   "source": [
    "A[0] = A[1] + A[2]\n",
    "A[-1] = A[1]"
   ]
  },
  {
   "cell_type": "code",
   "execution_count": 13,
   "metadata": {},
   "outputs": [
    {
     "name": "stdout",
     "output_type": "stream",
     "text": [
      "[[  2  39 138 108]\n",
      " [  0   3  43  24]\n",
      " [  2  36  95  84]\n",
      " [  0   3  43  24]]\n"
     ]
    }
   ],
   "source": [
    "print(A)"
   ]
  },
  {
   "cell_type": "code",
   "execution_count": 14,
   "metadata": {},
   "outputs": [
    {
     "name": "stdout",
     "output_type": "stream",
     "text": [
      "V:\n",
      " [[-0.77161256 -0.06792686  0.63241345  0.00729593]\n",
      " [-0.20657449 -0.59776833 -0.30804962 -0.7107077 ]\n",
      " [-0.56503807  0.52984147 -0.63241345 -0.00729593]\n",
      " [-0.20657449 -0.59776833 -0.32436383  0.70341176]] \n",
      "\n",
      "Sigma: [2.32669952e+02 1.86197104e+01 1.34612623e-15 5.05418452e-17] \n",
      "\n",
      "UStar:\n",
      " [[-0.01148967 -0.22209016 -0.76471652 -0.60477483]\n",
      " [ 0.04961566  0.68951315 -0.56107449  0.45530794]\n",
      " [ 0.14600333  0.67562108  0.31568188 -0.65004933]\n",
      " [-0.98797232  0.13705376  0.02736804 -0.06616613]]\n"
     ]
    }
   ],
   "source": [
    "V, sigma, ustar = svd(A)\n",
    "print(\"V:\\n\", V, \"\\n\")\n",
    "print(\"Sigma:\", sigma, \"\\n\")\n",
    "print(\"UStar:\\n\", ustar)"
   ]
  },
  {
   "cell_type": "code",
   "execution_count": 15,
   "metadata": {},
   "outputs": [],
   "source": [
    "# The last 2 values of the Sigma matrix are zeros because 2 rows in A are dependent on each other.\n",
    "# Row2 = Row4 "
   ]
  }
 ],
 "metadata": {
  "kernelspec": {
   "display_name": "Python 3",
   "language": "python",
   "name": "python3"
  },
  "language_info": {
   "codemirror_mode": {
    "name": "ipython",
    "version": 3
   },
   "file_extension": ".py",
   "mimetype": "text/x-python",
   "name": "python",
   "nbconvert_exporter": "python",
   "pygments_lexer": "ipython3",
   "version": "3.7.4"
  }
 },
 "nbformat": 4,
 "nbformat_minor": 2
}
