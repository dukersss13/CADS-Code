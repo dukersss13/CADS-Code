{
 "cells": [
  {
   "cell_type": "code",
   "execution_count": 1,
   "metadata": {},
   "outputs": [],
   "source": [
    "import numpy as np\n",
    "import pandas as pd\n",
    "import matplotlib.pyplot as plt\n",
    "%matplotlib inline"
   ]
  },
  {
   "cell_type": "code",
   "execution_count": 2,
   "metadata": {},
   "outputs": [
    {
     "data": {
      "text/html": [
       "<div>\n",
       "<style scoped>\n",
       "    .dataframe tbody tr th:only-of-type {\n",
       "        vertical-align: middle;\n",
       "    }\n",
       "\n",
       "    .dataframe tbody tr th {\n",
       "        vertical-align: top;\n",
       "    }\n",
       "\n",
       "    .dataframe thead th {\n",
       "        text-align: right;\n",
       "    }\n",
       "</style>\n",
       "<table border=\"1\" class=\"dataframe\">\n",
       "  <thead>\n",
       "    <tr style=\"text-align: right;\">\n",
       "      <th></th>\n",
       "      <th>A</th>\n",
       "      <th>B</th>\n",
       "    </tr>\n",
       "  </thead>\n",
       "  <tbody>\n",
       "    <tr>\n",
       "      <td>0</td>\n",
       "      <td>A1</td>\n",
       "      <td>B1</td>\n",
       "    </tr>\n",
       "    <tr>\n",
       "      <td>1</td>\n",
       "      <td>A2</td>\n",
       "      <td>B2</td>\n",
       "    </tr>\n",
       "    <tr>\n",
       "      <td>2</td>\n",
       "      <td>A2</td>\n",
       "      <td>B2</td>\n",
       "    </tr>\n",
       "    <tr>\n",
       "      <td>3</td>\n",
       "      <td>A1</td>\n",
       "      <td>B1</td>\n",
       "    </tr>\n",
       "    <tr>\n",
       "      <td>4</td>\n",
       "      <td>A3</td>\n",
       "      <td>B4</td>\n",
       "    </tr>\n",
       "    <tr>\n",
       "      <td>5</td>\n",
       "      <td>A3</td>\n",
       "      <td>B3</td>\n",
       "    </tr>\n",
       "    <tr>\n",
       "      <td>6</td>\n",
       "      <td>A1</td>\n",
       "      <td>B4</td>\n",
       "    </tr>\n",
       "    <tr>\n",
       "      <td>7</td>\n",
       "      <td>A3</td>\n",
       "      <td>B4</td>\n",
       "    </tr>\n",
       "    <tr>\n",
       "      <td>8</td>\n",
       "      <td>A1</td>\n",
       "      <td>B3</td>\n",
       "    </tr>\n",
       "  </tbody>\n",
       "</table>\n",
       "</div>"
      ],
      "text/plain": [
       "    A   B\n",
       "0  A1  B1\n",
       "1  A2  B2\n",
       "2  A2  B2\n",
       "3  A1  B1\n",
       "4  A3  B4\n",
       "5  A3  B3\n",
       "6  A1  B4\n",
       "7  A3  B4\n",
       "8  A1  B3"
      ]
     },
     "execution_count": 2,
     "metadata": {},
     "output_type": "execute_result"
    }
   ],
   "source": [
    "A = np.array(['A1', 'A2', 'A2', 'A1', 'A3', 'A3', 'A1', 'A3', 'A1'])\n",
    "B = np.array(['B1', 'B2', 'B2', 'B1', 'B4', 'B3', 'B4', 'B4', 'B3'])\n",
    "df = pd.DataFrame({\"A\": A, \"B\": B})\n",
    "df"
   ]
  },
  {
   "cell_type": "code",
   "execution_count": 3,
   "metadata": {},
   "outputs": [],
   "source": [
    "def cond_prob(prob, given):\n",
    "    both = np.array([prob, given])\n",
    "    both2 = np.array([given, prob])\n",
    "\n",
    "    intersection = len(df[df == both].dropna())\n",
    "    intersection2 = len(df[df == both2].dropna())\n",
    "\n",
    "    if given[0]=='B':\n",
    "        given_prob = sum(B==given)\n",
    "    else:\n",
    "        given_prob = sum(A==given)\n",
    "\n",
    "    if intersection > intersection2:\n",
    "        print(\"Probability of {} given {}: {}\".format(prob, given, round(intersection/given_prob,3)))\n",
    "    else:\n",
    "        print(\"Probability of {} given {}: {}\".format(prob, given, round(intersection2/given_prob,3)))"
   ]
  },
  {
   "cell_type": "code",
   "execution_count": 4,
   "metadata": {},
   "outputs": [
    {
     "name": "stdout",
     "output_type": "stream",
     "text": [
      "Probability of B1 given A1: 0.5\n",
      "Probability of B1 given A2: 0.0\n",
      "Probability of B1 given A3: 0.0\n"
     ]
    }
   ],
   "source": [
    "# Problem 1.1\n",
    "cond_prob('B1', 'A1')\n",
    "cond_prob('B1', 'A2')\n",
    "cond_prob('B1', 'A3')"
   ]
  },
  {
   "cell_type": "code",
   "execution_count": 5,
   "metadata": {},
   "outputs": [
    {
     "name": "stdout",
     "output_type": "stream",
     "text": [
      "Probability of B2 given A1: 0.0\n",
      "Probability of B2 given A2: 1.0\n",
      "Probability of B2 given A3: 0.0\n"
     ]
    }
   ],
   "source": [
    "# Problem 1.2\n",
    "cond_prob('B2', 'A1')\n",
    "cond_prob('B2', 'A2')\n",
    "cond_prob('B2', 'A3')"
   ]
  },
  {
   "cell_type": "code",
   "execution_count": 6,
   "metadata": {},
   "outputs": [
    {
     "name": "stdout",
     "output_type": "stream",
     "text": [
      "Probability of B3 given A1: 0.25\n",
      "Probability of B3 given A2: 0.0\n",
      "Probability of B3 given A3: 0.333\n"
     ]
    }
   ],
   "source": [
    "# Problem 1.3\n",
    "cond_prob('B3', 'A1')\n",
    "cond_prob('B3', 'A2')\n",
    "cond_prob('B3', 'A3')"
   ]
  },
  {
   "cell_type": "code",
   "execution_count": 7,
   "metadata": {},
   "outputs": [
    {
     "name": "stdout",
     "output_type": "stream",
     "text": [
      "Probability of B4 given A1: 0.25\n",
      "Probability of B4 given A2: 0.0\n",
      "Probability of B4 given A3: 0.667\n"
     ]
    }
   ],
   "source": [
    "# Problem 1.4\n",
    "cond_prob('B4', 'A1')\n",
    "cond_prob('B4', 'A2')\n",
    "cond_prob('B4', 'A3')"
   ]
  },
  {
   "cell_type": "code",
   "execution_count": 8,
   "metadata": {},
   "outputs": [
    {
     "name": "stdout",
     "output_type": "stream",
     "text": [
      "Probability of B5 given A1: 0.0\n",
      "Probability of B5 given A2: 0.0\n",
      "Probability of B5 given A3: 0.0\n"
     ]
    }
   ],
   "source": [
    "# Problem 1.5\n",
    "cond_prob('B5', 'A1')\n",
    "cond_prob('B5', 'A2')\n",
    "cond_prob('B5', 'A3')"
   ]
  },
  {
   "cell_type": "code",
   "execution_count": 9,
   "metadata": {},
   "outputs": [],
   "source": [
    "def laplace_smoothing(prob, given, k=1):\n",
    "    total_count = len(np.unique(A)) + len(np.unique(B))\n",
    "    both = np.array([prob, given])\n",
    "    both2 = np.array([given, prob])\n",
    "\n",
    "    intersection = len(df[df == both].dropna())\n",
    "    intersection2 = len(df[df == both2].dropna())\n",
    "\n",
    "    if given[0]=='B':\n",
    "        given_prob = sum(B==given)\n",
    "    else:\n",
    "        given_prob = sum(A==given)\n",
    "\n",
    "    if intersection > intersection2:\n",
    "        print(\"Probability of {} given {}: {}\".format(prob, given, round(intersection/(total_count*(given_prob*k)),3)))\n",
    "    else:\n",
    "        print(\"Probability of {} given {}: {}\".format(prob, given, round(intersection2/(total_count*(given_prob*k)),3)))"
   ]
  },
  {
   "cell_type": "code",
   "execution_count": 10,
   "metadata": {},
   "outputs": [
    {
     "name": "stdout",
     "output_type": "stream",
     "text": [
      "Probability of B1 given A1: 0.071\n",
      "Probability of B1 given A2: 0.0\n",
      "Probability of B1 given A3: 0.0\n"
     ]
    }
   ],
   "source": [
    "laplace_smoothing('B1', 'A1')\n",
    "laplace_smoothing('B1', 'A2')\n",
    "laplace_smoothing('B1', 'A3')"
   ]
  },
  {
   "cell_type": "code",
   "execution_count": 11,
   "metadata": {},
   "outputs": [
    {
     "name": "stdout",
     "output_type": "stream",
     "text": [
      "Probability of B2 given A1: 0.0\n",
      "Probability of B2 given A2: 0.143\n",
      "Probability of B2 given A3: 0.0\n"
     ]
    }
   ],
   "source": [
    "laplace_smoothing('B2', 'A1')\n",
    "laplace_smoothing('B2', 'A2')\n",
    "laplace_smoothing('B2', 'A3')"
   ]
  },
  {
   "cell_type": "code",
   "execution_count": 12,
   "metadata": {},
   "outputs": [
    {
     "name": "stdout",
     "output_type": "stream",
     "text": [
      "Probability of B3 given A1: 0.036\n",
      "Probability of B3 given A2: 0.0\n",
      "Probability of B3 given A3: 0.048\n"
     ]
    }
   ],
   "source": [
    "laplace_smoothing('B3', 'A1')\n",
    "laplace_smoothing('B3', 'A2')\n",
    "laplace_smoothing('B3', 'A3')"
   ]
  },
  {
   "cell_type": "code",
   "execution_count": 13,
   "metadata": {},
   "outputs": [
    {
     "name": "stdout",
     "output_type": "stream",
     "text": [
      "Probability of B4 given A1: 0.036\n",
      "Probability of B4 given A2: 0.0\n",
      "Probability of B4 given A3: 0.095\n"
     ]
    }
   ],
   "source": [
    "laplace_smoothing('B4', 'A1')\n",
    "laplace_smoothing('B4', 'A2')\n",
    "laplace_smoothing('B4', 'A3')"
   ]
  },
  {
   "cell_type": "code",
   "execution_count": 14,
   "metadata": {},
   "outputs": [
    {
     "name": "stdout",
     "output_type": "stream",
     "text": [
      "Probability of B5 given A1: 0.0\n",
      "Probability of B5 given A2: 0.0\n",
      "Probability of B5 given A3: 0.0\n"
     ]
    }
   ],
   "source": [
    "laplace_smoothing('B5', 'A1')\n",
    "laplace_smoothing('B5', 'A2')\n",
    "laplace_smoothing('B5', 'A3')"
   ]
  },
  {
   "cell_type": "code",
   "execution_count": 29,
   "metadata": {},
   "outputs": [],
   "source": [
    "# Problem 2\n",
    "from sklearn.feature_extraction.text import CountVectorizer\n",
    "cv = CountVectorizer()\n",
    "corpusClass = [[\"money, money, money\", \"true\"], [\"free money for free gambling fun\", \"true\"], [\"gambling for fun\", \"true\"],\n",
    "              [\"machine learning for fun fun fun\", \"false\"], [\"free machine learning\", \"false\"], ['machine learning for free']]\n",
    "df = pd.DataFrame(corpusClass, columns=[\"Sentences\", \"Spam\"])\n",
    "X = cv.fit_transform(df['Sentences'])"
   ]
  },
  {
   "cell_type": "code",
   "execution_count": 30,
   "metadata": {},
   "outputs": [
    {
     "data": {
      "text/html": [
       "<div>\n",
       "<style scoped>\n",
       "    .dataframe tbody tr th:only-of-type {\n",
       "        vertical-align: middle;\n",
       "    }\n",
       "\n",
       "    .dataframe tbody tr th {\n",
       "        vertical-align: top;\n",
       "    }\n",
       "\n",
       "    .dataframe thead th {\n",
       "        text-align: right;\n",
       "    }\n",
       "</style>\n",
       "<table border=\"1\" class=\"dataframe\">\n",
       "  <thead>\n",
       "    <tr style=\"text-align: right;\">\n",
       "      <th></th>\n",
       "      <th>for</th>\n",
       "      <th>free</th>\n",
       "      <th>fun</th>\n",
       "      <th>gambling</th>\n",
       "      <th>learning</th>\n",
       "      <th>machine</th>\n",
       "      <th>money</th>\n",
       "      <th>Spam</th>\n",
       "    </tr>\n",
       "  </thead>\n",
       "  <tbody>\n",
       "    <tr>\n",
       "      <td>0</td>\n",
       "      <td>0</td>\n",
       "      <td>0</td>\n",
       "      <td>0</td>\n",
       "      <td>0</td>\n",
       "      <td>0</td>\n",
       "      <td>0</td>\n",
       "      <td>3</td>\n",
       "      <td>true</td>\n",
       "    </tr>\n",
       "    <tr>\n",
       "      <td>1</td>\n",
       "      <td>1</td>\n",
       "      <td>2</td>\n",
       "      <td>1</td>\n",
       "      <td>1</td>\n",
       "      <td>0</td>\n",
       "      <td>0</td>\n",
       "      <td>1</td>\n",
       "      <td>true</td>\n",
       "    </tr>\n",
       "    <tr>\n",
       "      <td>2</td>\n",
       "      <td>1</td>\n",
       "      <td>0</td>\n",
       "      <td>1</td>\n",
       "      <td>1</td>\n",
       "      <td>0</td>\n",
       "      <td>0</td>\n",
       "      <td>0</td>\n",
       "      <td>true</td>\n",
       "    </tr>\n",
       "    <tr>\n",
       "      <td>3</td>\n",
       "      <td>1</td>\n",
       "      <td>0</td>\n",
       "      <td>3</td>\n",
       "      <td>0</td>\n",
       "      <td>1</td>\n",
       "      <td>1</td>\n",
       "      <td>0</td>\n",
       "      <td>false</td>\n",
       "    </tr>\n",
       "    <tr>\n",
       "      <td>4</td>\n",
       "      <td>0</td>\n",
       "      <td>1</td>\n",
       "      <td>0</td>\n",
       "      <td>0</td>\n",
       "      <td>1</td>\n",
       "      <td>1</td>\n",
       "      <td>0</td>\n",
       "      <td>false</td>\n",
       "    </tr>\n",
       "    <tr>\n",
       "      <td>5</td>\n",
       "      <td>1</td>\n",
       "      <td>1</td>\n",
       "      <td>0</td>\n",
       "      <td>0</td>\n",
       "      <td>1</td>\n",
       "      <td>1</td>\n",
       "      <td>0</td>\n",
       "      <td>None</td>\n",
       "    </tr>\n",
       "  </tbody>\n",
       "</table>\n",
       "</div>"
      ],
      "text/plain": [
       "   for  free  fun  gambling  learning  machine  money   Spam\n",
       "0    0     0    0         0         0        0      3   true\n",
       "1    1     2    1         1         0        0      1   true\n",
       "2    1     0    1         1         0        0      0   true\n",
       "3    1     0    3         0         1        1      0  false\n",
       "4    0     1    0         0         1        1      0  false\n",
       "5    1     1    0         0         1        1      0   None"
      ]
     },
     "execution_count": 30,
     "metadata": {},
     "output_type": "execute_result"
    }
   ],
   "source": [
    "df_all = pd.DataFrame(X.toarray(), columns=cv.get_feature_names())\n",
    "df_all['Spam'] = df['Spam']\n",
    "df_all"
   ]
  },
  {
   "cell_type": "code",
   "execution_count": 62,
   "metadata": {},
   "outputs": [],
   "source": [
    "from sklearn.naive_bayes import CategoricalNB\n",
    "cnb = CategoricalNB()\n",
    "X = df_all.iloc[:-1,:].drop(columns=['Spam'])\n",
    "y = df_all.iloc[:-1,:]['Spam']\n",
    "model = cnb.fit(X, y)"
   ]
  },
  {
   "cell_type": "code",
   "execution_count": 72,
   "metadata": {},
   "outputs": [
    {
     "name": "stdout",
     "output_type": "stream",
     "text": [
      "Prediction: false\n",
      "The document is not a spam\n"
     ]
    }
   ],
   "source": [
    "Xtest = df_all.drop(columns=['Spam']).iloc[-1, :].values.astype('float64')\n",
    "pred = model.predict(Xtest.reshape(1,-1))\n",
    "print(\"Prediction:\", pred[0])\n",
    "print(\"The document is not a spam\")"
   ]
  }
 ],
 "metadata": {
  "kernelspec": {
   "display_name": "Python 3",
   "language": "python",
   "name": "python3"
  },
  "language_info": {
   "codemirror_mode": {
    "name": "ipython",
    "version": 3
   },
   "file_extension": ".py",
   "mimetype": "text/x-python",
   "name": "python",
   "nbconvert_exporter": "python",
   "pygments_lexer": "ipython3",
   "version": "3.7.4"
  }
 },
 "nbformat": 4,
 "nbformat_minor": 2
}
