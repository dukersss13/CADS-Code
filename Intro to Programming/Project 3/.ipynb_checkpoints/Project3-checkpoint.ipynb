{
 "cells": [
  {
   "cell_type": "code",
   "execution_count": 6,
   "metadata": {},
   "outputs": [
    {
     "name": "stdout",
     "output_type": "stream",
     "text": [
      "Using matplotlib backend: Qt5Agg\n"
     ]
    }
   ],
   "source": [
    "%matplotlib\n",
    "import matplotlib as mpl\n",
    "import numpy as np\n",
    "import pandas as pd\n",
    "import matplotlib.pyplot as plt \n",
    "from datascience import *"
   ]
  },
  {
   "cell_type": "code",
   "execution_count": 7,
   "metadata": {},
   "outputs": [],
   "source": [
    "#1)\n",
    "one = pd.read_csv(\"country_profile_variables.csv\")"
   ]
  },
  {
   "cell_type": "code",
   "execution_count": 8,
   "metadata": {},
   "outputs": [],
   "source": [
    "#Extracting the columns from the data frame and converting them into arrays\n",
    "gdp = np.array(one['GDP'])\n",
    "lef = np.array(one['LEF'])\n",
    "pop = np.array(one['Pop'])\n",
    "coun = np.array(one['Country'])\n",
    "color1 = range(len(pop))\n",
    "df = pd.DataFrame ({'GDP':gdp,'LEF':lef, 'Country':coun})"
   ]
  },
  {
   "cell_type": "code",
   "execution_count": 9,
   "metadata": {},
   "outputs": [],
   "source": [
    "fig = plt.figure()\n",
    "ax1 = fig.add_subplot(111)\n",
    "sa = np.array(one['SA'])\n",
    "#Creating a scatter plot with the bubbles of the sizes proportional to the Surface Area column (SA)\n",
    "ax1.scatter(gdp,lef, c= color1, s = sa/10000)\n",
    "ax1.set_xlabel('GDP')\n",
    "ax1.set_ylabel('Life Expectancy Female')\n",
    "\n",
    "def onclick(event):\n",
    "    Country = df.iloc[event.ind[0]]['Country']\n",
    "    plt.gca().set_title('Selected item s name is {} '.format(Country))\n",
    "\n",
    "fig.canvas.mpl_connect('pick_event', onclick)\n",
    "plt.show()"
   ]
  },
  {
   "cell_type": "code",
   "execution_count": 10,
   "metadata": {},
   "outputs": [],
   "source": [
    "fig = plt.figure()\n",
    "ax2 = fig.add_subplot(111)\n",
    "pop = np.array(one['Pop'])\n",
    "#Creating scatter plot with bubles of the sizes proportional to the Population (pop)\n",
    "ax2.scatter(gdp,lef, c= color1, s = pop/1000)\n",
    "ax2.set_xlabel('GDP')\n",
    "ax2.set_ylabel('Life Expectancy Female')\n",
    "\n",
    "def onclick(event):\n",
    "    Country = df.iloc[event.ind[0]]['Country']\n",
    "    plt.gca().set_title('Selected item s name is {} '.format(Country))\n",
    "fig.canvas.mpl_connect('pick_event', onclick)\n",
    "fig.show()"
   ]
  },
  {
   "cell_type": "markdown",
   "metadata": {},
   "source": []
  },
  {
   "cell_type": "code",
   "execution_count": 11,
   "metadata": {},
   "outputs": [],
   "source": [
    "#3) \n",
    "three = pd.read_csv('iris.csv')\n",
    "\n",
    "x = three['PetalLength']\n",
    "y = three['PetalWidth']\n",
    "z = three['Name']\n",
    "df = pd.DataFrame ({'PetalLength':x,'PetalWidth':y, 'Name':z})\n",
    "names = df['Name'].astype('category')\n",
    "name = names.cat.codes\n",
    "\n",
    "fig = plt.figure()\n",
    "ax = fig.add_subplot(111)\n",
    "ax.scatter(x, y, Picker=True, c=name)\n",
    "\n",
    "def onclick(event):\n",
    "    Name = df.iloc[event.ind[0]]['Name']\n",
    "    plt.gca().set_title('Selected item is {} '.format(Name))\n",
    "\n",
    "fig.canvas.mpl_connect('pick_event', onclick)\n",
    "fig.show()"
   ]
  },
  {
   "cell_type": "code",
   "execution_count": 7,
   "metadata": {},
   "outputs": [],
   "source": [
    "import seaborn as sn"
   ]
  },
  {
   "cell_type": "code",
   "execution_count": 8,
   "metadata": {},
   "outputs": [
    {
     "data": {
      "text/plain": [
       "<seaborn.axisgrid.JointGrid at 0x224448d7fc8>"
      ]
     },
     "execution_count": 8,
     "metadata": {},
     "output_type": "execute_result"
    }
   ],
   "source": [
    "#4)\n",
    "m1 = 50\n",
    "sig1 = 10  \n",
    "data1 = np.random.normal(m1, sig1, 1000)\n",
    "\n",
    "m2 = 75\n",
    "sig2 = 50\n",
    "data2 = np.random.normal(m2, sig2, 1000)\n",
    "\n",
    "plt.hist(([data1, data2]), histtype='barstacked', density=True)\n",
    "graph = np.concatenate((data1,data2))\n",
    "sn.kdeplot(graph)\n",
    "sn.jointplot(data1, data2, kind='kde', space=0)"
   ]
  },
  {
   "cell_type": "code",
   "execution_count": null,
   "metadata": {},
   "outputs": [],
   "source": []
  },
  {
   "cell_type": "code",
   "execution_count": 9,
   "metadata": {},
   "outputs": [
    {
     "data": {
      "text/plain": [
       "<seaborn.axisgrid.JointGrid at 0x2244511e348>"
      ]
     },
     "execution_count": 9,
     "metadata": {},
     "output_type": "execute_result"
    }
   ],
   "source": [
    "sn.jointplot(data1, data2, kind='hex', space=0)"
   ]
  },
  {
   "cell_type": "code",
   "execution_count": null,
   "metadata": {},
   "outputs": [],
   "source": []
  }
 ],
 "metadata": {
  "kernelspec": {
   "display_name": "Python 3",
   "language": "python",
   "name": "python3"
  },
  "language_info": {
   "codemirror_mode": {
    "name": "ipython",
    "version": 3
   },
   "file_extension": ".py",
   "mimetype": "text/x-python",
   "name": "python",
   "nbconvert_exporter": "python",
   "pygments_lexer": "ipython3",
   "version": "3.7.4"
  }
 },
 "nbformat": 4,
 "nbformat_minor": 2
}
