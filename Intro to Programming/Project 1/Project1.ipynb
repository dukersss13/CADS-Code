{
 "cells": [
  {
   "cell_type": "code",
   "execution_count": 2,
   "metadata": {},
   "outputs": [
    {
     "data": {
      "text/html": [
       "<table border=\"1\" class=\"dataframe\">\n",
       "    <thead>\n",
       "        <tr>\n",
       "            <th>SEX</th> <th>AGE</th> <th>CENSUS2010POP</th> <th>POPESTIMATE2015</th>\n",
       "        </tr>\n",
       "    </thead>\n",
       "    <tbody>\n",
       "        <tr>\n",
       "            <td>0   </td> <td>0   </td> <td>3944153      </td> <td>3978038        </td>\n",
       "        </tr>\n",
       "        <tr>\n",
       "            <td>0   </td> <td>1   </td> <td>3978070      </td> <td>3968564        </td>\n",
       "        </tr>\n",
       "        <tr>\n",
       "            <td>0   </td> <td>2   </td> <td>4096929      </td> <td>3966583        </td>\n",
       "        </tr>\n",
       "        <tr>\n",
       "            <td>0   </td> <td>3   </td> <td>4119040      </td> <td>3974061        </td>\n",
       "        </tr>\n",
       "        <tr>\n",
       "            <td>0   </td> <td>4   </td> <td>4063170      </td> <td>4020035        </td>\n",
       "        </tr>\n",
       "        <tr>\n",
       "            <td>0   </td> <td>5   </td> <td>4056858      </td> <td>4018158        </td>\n",
       "        </tr>\n",
       "        <tr>\n",
       "            <td>0   </td> <td>6   </td> <td>4066381      </td> <td>4019207        </td>\n",
       "        </tr>\n",
       "        <tr>\n",
       "            <td>0   </td> <td>7   </td> <td>4030579      </td> <td>4148360        </td>\n",
       "        </tr>\n",
       "        <tr>\n",
       "            <td>0   </td> <td>8   </td> <td>4046486      </td> <td>4167887        </td>\n",
       "        </tr>\n",
       "        <tr>\n",
       "            <td>0   </td> <td>9   </td> <td>4148353      </td> <td>4133564        </td>\n",
       "        </tr>\n",
       "    </tbody>\n",
       "</table>\n",
       "<p>... (296 rows omitted)</p>"
      ],
      "text/plain": [
       "SEX  | AGE  | CENSUS2010POP | POPESTIMATE2015\n",
       "0    | 0    | 3944153       | 3978038\n",
       "0    | 1    | 3978070       | 3968564\n",
       "0    | 2    | 4096929       | 3966583\n",
       "0    | 3    | 4119040       | 3974061\n",
       "0    | 4    | 4063170       | 4020035\n",
       "0    | 5    | 4056858       | 4018158\n",
       "0    | 6    | 4066381       | 4019207\n",
       "0    | 7    | 4030579       | 4148360\n",
       "0    | 8    | 4046486       | 4167887\n",
       "0    | 9    | 4148353       | 4133564\n",
       "... (296 rows omitted)"
      ]
     },
     "execution_count": 2,
     "metadata": {},
     "output_type": "execute_result"
    }
   ],
   "source": [
    "from datascience import * \n",
    "import numpy as np \n",
    "import matplotlib.pyplot as plots \n",
    "plots.style.use('fivethirtyeight') \n",
    "%matplotlib inline \n",
    "\n",
    "main = Table.read_table('agesex.csv').select(0,1,2,9)\n",
    "main"
   ]
  },
  {
   "cell_type": "code",
   "execution_count": 7,
   "metadata": {},
   "outputs": [
    {
     "data": {
      "text/html": [
       "<table border=\"1\" class=\"dataframe\">\n",
       "    <thead>\n",
       "        <tr>\n",
       "            <th>SEX</th> <th>AGE</th> <th>CENSUS2010POP</th> <th>POPESTIMATE2015</th> <th>Annual Growth</th>\n",
       "        </tr>\n",
       "    </thead>\n",
       "    <tbody>\n",
       "        <tr>\n",
       "            <td>1   </td> <td>100 </td> <td>9162         </td> <td>15088          </td> <td>0.104913     </td>\n",
       "        </tr>\n",
       "        <tr>\n",
       "            <td>1   </td> <td>98  </td> <td>9259         </td> <td>14719          </td> <td>0.097142     </td>\n",
       "        </tr>\n",
       "        <tr>\n",
       "            <td>1   </td> <td>97  </td> <td>14556        </td> <td>23092          </td> <td>0.09669      </td>\n",
       "        </tr>\n",
       "        <tr>\n",
       "            <td>1   </td> <td>99  </td> <td>6073         </td> <td>9577           </td> <td>0.0953811    </td>\n",
       "        </tr>\n",
       "        <tr>\n",
       "            <td>1   </td> <td>94  </td> <td>43531        </td> <td>68135          </td> <td>0.0937406    </td>\n",
       "        </tr>\n",
       "        <tr>\n",
       "            <td>1   </td> <td>95  </td> <td>30951        </td> <td>48015          </td> <td>0.0917934    </td>\n",
       "        </tr>\n",
       "        <tr>\n",
       "            <td>1   </td> <td>96  </td> <td>21424        </td> <td>32585          </td> <td>0.0874854    </td>\n",
       "        </tr>\n",
       "        <tr>\n",
       "            <td>1   </td> <td>93  </td> <td>59037        </td> <td>88660          </td> <td>0.0847276    </td>\n",
       "        </tr>\n",
       "        <tr>\n",
       "            <td>1   </td> <td>68  </td> <td>1087296      </td> <td>1623929        </td> <td>0.0835373    </td>\n",
       "        </tr>\n",
       "        <tr>\n",
       "            <td>0   </td> <td>68  </td> <td>2323672      </td> <td>3436357        </td> <td>0.0813958    </td>\n",
       "        </tr>\n",
       "    </tbody>\n",
       "</table>\n",
       "<p>... (296 rows omitted)</p>"
      ],
      "text/plain": [
       "SEX  | AGE  | CENSUS2010POP | POPESTIMATE2015 | Annual Growth\n",
       "1    | 100  | 9162          | 15088           | 0.104913\n",
       "1    | 98   | 9259          | 14719           | 0.097142\n",
       "1    | 97   | 14556         | 23092           | 0.09669\n",
       "1    | 99   | 6073          | 9577            | 0.0953811\n",
       "1    | 94   | 43531         | 68135           | 0.0937406\n",
       "1    | 95   | 30951         | 48015           | 0.0917934\n",
       "1    | 96   | 21424         | 32585           | 0.0874854\n",
       "1    | 93   | 59037         | 88660           | 0.0847276\n",
       "1    | 68   | 1087296       | 1623929         | 0.0835373\n",
       "0    | 68   | 2323672       | 3436357         | 0.0813958\n",
       "... (296 rows omitted)"
      ]
     },
     "execution_count": 7,
     "metadata": {},
     "output_type": "execute_result"
    }
   ],
   "source": [
    "#Here I calculated the Annual Growth and appended that column to the 'main' table\n",
    "\n",
    "growth = ((main.column(3)/main.column(2)) ** (0.2)) - 1\n",
    "new = main.with_column('Annual Growth',growth).sort('Annual Growth',descending = True)\n",
    "new"
   ]
  },
  {
   "cell_type": "code",
   "execution_count": 22,
   "metadata": {},
   "outputs": [
    {
     "data": {
      "text/html": [
       "<table border=\"1\" class=\"dataframe\">\n",
       "    <thead>\n",
       "        <tr>\n",
       "            <th>Age</th> <th>Male Population</th>\n",
       "        </tr>\n",
       "    </thead>\n",
       "    <tbody>\n",
       "        <tr>\n",
       "            <td>100 </td> <td>15088          </td>\n",
       "        </tr>\n",
       "        <tr>\n",
       "            <td>98  </td> <td>14719          </td>\n",
       "        </tr>\n",
       "        <tr>\n",
       "            <td>97  </td> <td>23092          </td>\n",
       "        </tr>\n",
       "        <tr>\n",
       "            <td>99  </td> <td>9577           </td>\n",
       "        </tr>\n",
       "        <tr>\n",
       "            <td>94  </td> <td>68135          </td>\n",
       "        </tr>\n",
       "        <tr>\n",
       "            <td>95  </td> <td>48015          </td>\n",
       "        </tr>\n",
       "        <tr>\n",
       "            <td>96  </td> <td>32585          </td>\n",
       "        </tr>\n",
       "        <tr>\n",
       "            <td>93  </td> <td>88660          </td>\n",
       "        </tr>\n",
       "        <tr>\n",
       "            <td>68  </td> <td>1623929        </td>\n",
       "        </tr>\n",
       "        <tr>\n",
       "            <td>92  </td> <td>113834         </td>\n",
       "        </tr>\n",
       "    </tbody>\n",
       "</table>\n",
       "<p>... (91 rows omitted)</p>"
      ],
      "text/plain": [
       "Age  | Male Population\n",
       "100  | 15088\n",
       "98   | 14719\n",
       "97   | 23092\n",
       "99   | 9577\n",
       "94   | 68135\n",
       "95   | 48015\n",
       "96   | 32585\n",
       "93   | 88660\n",
       "68   | 1623929\n",
       "92   | 113834\n",
       "... (91 rows omitted)"
      ]
     },
     "execution_count": 22,
     "metadata": {},
     "output_type": "execute_result"
    }
   ],
   "source": [
    "#Selecting the Male info out of the table and dropping unrelated columns\n",
    "\n",
    "male = new.where('SEX',1).where(\"AGE\", are.between(0,101)).relabeled(3,\"Male Population\").relabeled(\"AGE\",\"Age\")\n",
    "male = male.drop(0,2,4)\n",
    "male\n"
   ]
  },
  {
   "cell_type": "code",
   "execution_count": 25,
   "metadata": {},
   "outputs": [
    {
     "data": {
      "text/html": [
       "<table border=\"1\" class=\"dataframe\">\n",
       "    <thead>\n",
       "        <tr>\n",
       "            <th>Age</th> <th>Female Population</th>\n",
       "        </tr>\n",
       "    </thead>\n",
       "    <tbody>\n",
       "        <tr>\n",
       "            <td>68  </td> <td>1812428          </td>\n",
       "        </tr>\n",
       "        <tr>\n",
       "            <td>100 </td> <td>61886            </td>\n",
       "        </tr>\n",
       "        <tr>\n",
       "            <td>64  </td> <td>1857069          </td>\n",
       "        </tr>\n",
       "        <tr>\n",
       "            <td>72  </td> <td>1328954          </td>\n",
       "        </tr>\n",
       "        <tr>\n",
       "            <td>94  </td> <td>164983           </td>\n",
       "        </tr>\n",
       "        <tr>\n",
       "            <td>99  </td> <td>34064            </td>\n",
       "        </tr>\n",
       "        <tr>\n",
       "            <td>93  </td> <td>205146           </td>\n",
       "        </tr>\n",
       "        <tr>\n",
       "            <td>97  </td> <td>69285            </td>\n",
       "        </tr>\n",
       "        <tr>\n",
       "            <td>98  </td> <td>47272            </td>\n",
       "        </tr>\n",
       "        <tr>\n",
       "            <td>65  </td> <td>1812107          </td>\n",
       "        </tr>\n",
       "    </tbody>\n",
       "</table>\n",
       "<p>... (91 rows omitted)</p>"
      ],
      "text/plain": [
       "Age  | Female Population\n",
       "68   | 1812428\n",
       "100  | 61886\n",
       "64   | 1857069\n",
       "72   | 1328954\n",
       "94   | 164983\n",
       "99   | 34064\n",
       "93   | 205146\n",
       "97   | 69285\n",
       "98   | 47272\n",
       "65   | 1812107\n",
       "... (91 rows omitted)"
      ]
     },
     "execution_count": 25,
     "metadata": {},
     "output_type": "execute_result"
    }
   ],
   "source": [
    "#Selecting Female info and dropping unrelated columns\n",
    "\n",
    "female = new.where('SEX',2).where(\"AGE\", are.between(0,101)).relabeled(3,\"Female Population\").relabeled(\"AGE\",\"Age\")\n",
    "female = female.drop(0,2,4)\n",
    "female"
   ]
  },
  {
   "cell_type": "code",
   "execution_count": 26,
   "metadata": {},
   "outputs": [
    {
     "data": {
      "image/png": "[encoded data removed]",
      "text/plain": [
       "<Figure size 432x288 with 1 Axes>"
      ]
     },
     "metadata": {
      "needs_background": "light"
     },
     "output_type": "display_data"
    }
   ],
   "source": [
    "#Joining the new Male & Female tables and plotting them on a line graph\n",
    "\n",
    "new = male.join('Age',female,'Age')\n",
    "new.plot(0)"
   ]
  },
  {
   "cell_type": "code",
   "execution_count": null,
   "metadata": {},
   "outputs": [],
   "source": []
  },
  {
   "cell_type": "code",
   "execution_count": null,
   "metadata": {},
   "outputs": [],
   "source": []
  }
 ],
 "metadata": {
  "kernelspec": {
   "display_name": "Python 3",
   "language": "python",
   "name": "python3"
  },
  "language_info": {
   "codemirror_mode": {
    "name": "ipython",
    "version": 3
   },
   "file_extension": ".py",
   "mimetype": "text/x-python",
   "name": "python",
   "nbconvert_exporter": "python",
   "pygments_lexer": "ipython3",
   "version": "3.7.3"
  }
 },
 "nbformat": 4,
 "nbformat_minor": 2
}
