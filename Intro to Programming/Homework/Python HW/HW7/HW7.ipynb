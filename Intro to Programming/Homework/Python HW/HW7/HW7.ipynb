{
 "cells": [
  {
   "cell_type": "code",
   "execution_count": 5,
   "metadata": {},
   "outputs": [
    {
     "data": {
      "text/html": [
       "<table border=\"1\" class=\"dataframe\">\n",
       "    <thead>\n",
       "        <tr>\n",
       "            <th>Year</th> <th>Age</th> <th>Gender</th> <th>Educational Attainment</th> <th>Personal Income</th> <th>Population Count</th>\n",
       "        </tr>\n",
       "    </thead>\n",
       "    <tbody>\n",
       "        <tr>\n",
       "            <td>1/1/08 0:00</td> <td>00 to 17 </td> <td>Male  </td> <td>College, less than 4-yr degree</td> <td>C: 10,000 to 14,999</td> <td>1304            </td>\n",
       "        </tr>\n",
       "        <tr>\n",
       "            <td>1/1/08 0:00</td> <td>00 to 17 </td> <td>Female</td> <td>College, less than 4-yr degree</td> <td>B: 5,000 to 9,999  </td> <td>1565            </td>\n",
       "        </tr>\n",
       "        <tr>\n",
       "            <td>1/1/08 0:00</td> <td>65 to 80+</td> <td>Male  </td> <td>College, less than 4-yr degree</td> <td>A: 0 to 4,999      </td> <td>1923            </td>\n",
       "        </tr>\n",
       "        <tr>\n",
       "            <td>1/1/08 0:00</td> <td>65 to 80+</td> <td>Female</td> <td>No high school diploma        </td> <td>H: 75,000 and over </td> <td>1981            </td>\n",
       "        </tr>\n",
       "        <tr>\n",
       "            <td>1/1/08 0:00</td> <td>00 to 17 </td> <td>Female</td> <td>No high school diploma        </td> <td>D: 15,000 to 24,999</td> <td>2009            </td>\n",
       "        </tr>\n",
       "        <tr>\n",
       "            <td>1/1/08 0:00</td> <td>00 to 17 </td> <td>Male  </td> <td>No high school diploma        </td> <td>F: 35,000 to 49,999</td> <td>2227            </td>\n",
       "        </tr>\n",
       "        <tr>\n",
       "            <td>1/1/08 0:00</td> <td>00 to 17 </td> <td>Male  </td> <td>No high school diploma        </td> <td>E: 25,000 to 34,999</td> <td>2606            </td>\n",
       "        </tr>\n",
       "        <tr>\n",
       "            <td>1/1/08 0:00</td> <td>00 to 17 </td> <td>Male  </td> <td>College, less than 4-yr degree</td> <td>D: 15,000 to 24,999</td> <td>3465            </td>\n",
       "        </tr>\n",
       "        <tr>\n",
       "            <td>1/1/08 0:00</td> <td>00 to 17 </td> <td>Male  </td> <td>No high school diploma        </td> <td>D: 15,000 to 24,999</td> <td>3974            </td>\n",
       "        </tr>\n",
       "        <tr>\n",
       "            <td>1/1/08 0:00</td> <td>18 to 64 </td> <td>Female</td> <td>No high school diploma        </td> <td>H: 75,000 and over </td> <td>4233            </td>\n",
       "        </tr>\n",
       "    </tbody>\n",
       "</table>\n",
       "<p>... (1016 rows omitted)</p>"
      ],
      "text/plain": [
       "Year        | Age       | Gender | Educational Attainment         | Personal Income     | Population Count\n",
       "1/1/08 0:00 | 00 to 17  | Male   | College, less than 4-yr degree | C: 10,000 to 14,999 | 1304\n",
       "1/1/08 0:00 | 00 to 17  | Female | College, less than 4-yr degree | B: 5,000 to 9,999   | 1565\n",
       "1/1/08 0:00 | 65 to 80+ | Male   | College, less than 4-yr degree | A: 0 to 4,999       | 1923\n",
       "1/1/08 0:00 | 65 to 80+ | Female | No high school diploma         | H: 75,000 and over  | 1981\n",
       "1/1/08 0:00 | 00 to 17  | Female | No high school diploma         | D: 15,000 to 24,999 | 2009\n",
       "1/1/08 0:00 | 00 to 17  | Male   | No high school diploma         | F: 35,000 to 49,999 | 2227\n",
       "1/1/08 0:00 | 00 to 17  | Male   | No high school diploma         | E: 25,000 to 34,999 | 2606\n",
       "1/1/08 0:00 | 00 to 17  | Male   | College, less than 4-yr degree | D: 15,000 to 24,999 | 3465\n",
       "1/1/08 0:00 | 00 to 17  | Male   | No high school diploma         | D: 15,000 to 24,999 | 3974\n",
       "1/1/08 0:00 | 18 to 64  | Female | No high school diploma         | H: 75,000 and over  | 4233\n",
       "... (1016 rows omitted)"
      ]
     },
     "execution_count": 5,
     "metadata": {},
     "output_type": "execute_result"
    }
   ],
   "source": [
    "from datascience import * \n",
    "import numpy as np \n",
    "import matplotlib.pyplot as plots \n",
    "plots.style.use('fivethirtyeight') \n",
    "%matplotlib inline \n",
    "\n",
    "table = Table.read_table('educ_inc.csv')\n",
    "table"
   ]
  },
  {
   "cell_type": "code",
   "execution_count": 6,
   "metadata": {},
   "outputs": [
    {
     "data": {
      "text/html": [
       "<table border=\"1\" class=\"dataframe\">\n",
       "    <thead>\n",
       "        <tr>\n",
       "            <th>Year</th> <th>count</th>\n",
       "        </tr>\n",
       "    </thead>\n",
       "    <tbody>\n",
       "        <tr>\n",
       "            <td>1/1/08 0:00</td> <td>145  </td>\n",
       "        </tr>\n",
       "        <tr>\n",
       "            <td>1/1/09 0:00</td> <td>149  </td>\n",
       "        </tr>\n",
       "        <tr>\n",
       "            <td>1/1/10 0:00</td> <td>147  </td>\n",
       "        </tr>\n",
       "        <tr>\n",
       "            <td>1/1/11 0:00</td> <td>151  </td>\n",
       "        </tr>\n",
       "        <tr>\n",
       "            <td>1/1/12 0:00</td> <td>145  </td>\n",
       "        </tr>\n",
       "        <tr>\n",
       "            <td>1/1/13 0:00</td> <td>144  </td>\n",
       "        </tr>\n",
       "        <tr>\n",
       "            <td>1/1/14 0:00</td> <td>145  </td>\n",
       "        </tr>\n",
       "    </tbody>\n",
       "</table>"
      ],
      "text/plain": [
       "Year        | count\n",
       "1/1/08 0:00 | 145\n",
       "1/1/09 0:00 | 149\n",
       "1/1/10 0:00 | 147\n",
       "1/1/11 0:00 | 151\n",
       "1/1/12 0:00 | 145\n",
       "1/1/13 0:00 | 144\n",
       "1/1/14 0:00 | 145"
      ]
     },
     "execution_count": 6,
     "metadata": {},
     "output_type": "execute_result"
    }
   ],
   "source": [
    "year = table.group(['Year'])\n",
    "age = table.group(['Age'])\n",
    "gen = table.group(2)\n",
    "ea = table.group(3)\n",
    "pi = table.group(4)\n",
    "pc = table.group(5)\n",
    "\n",
    "year"
   ]
  },
  {
   "cell_type": "code",
   "execution_count": 7,
   "metadata": {},
   "outputs": [
    {
     "data": {
      "text/html": [
       "<table border=\"1\" class=\"dataframe\">\n",
       "    <thead>\n",
       "        <tr>\n",
       "            <th>Age</th> <th>count</th>\n",
       "        </tr>\n",
       "    </thead>\n",
       "    <tbody>\n",
       "        <tr>\n",
       "            <td>00 to 17 </td> <td>134  </td>\n",
       "        </tr>\n",
       "        <tr>\n",
       "            <td>18 to 64 </td> <td>448  </td>\n",
       "        </tr>\n",
       "        <tr>\n",
       "            <td>65 to 80+</td> <td>444  </td>\n",
       "        </tr>\n",
       "    </tbody>\n",
       "</table>"
      ],
      "text/plain": [
       "Age       | count\n",
       "00 to 17  | 134\n",
       "18 to 64  | 448\n",
       "65 to 80+ | 444"
      ]
     },
     "execution_count": 7,
     "metadata": {},
     "output_type": "execute_result"
    }
   ],
   "source": [
    "age"
   ]
  },
  {
   "cell_type": "code",
   "execution_count": 8,
   "metadata": {},
   "outputs": [
    {
     "data": {
      "text/html": [
       "<table border=\"1\" class=\"dataframe\">\n",
       "    <thead>\n",
       "        <tr>\n",
       "            <th>Gender</th> <th>count</th>\n",
       "        </tr>\n",
       "    </thead>\n",
       "    <tbody>\n",
       "        <tr>\n",
       "            <td>Female</td> <td>513  </td>\n",
       "        </tr>\n",
       "        <tr>\n",
       "            <td>Male  </td> <td>513  </td>\n",
       "        </tr>\n",
       "    </tbody>\n",
       "</table>"
      ],
      "text/plain": [
       "Gender | count\n",
       "Female | 513\n",
       "Male   | 513"
      ]
     },
     "execution_count": 8,
     "metadata": {},
     "output_type": "execute_result"
    }
   ],
   "source": [
    "gen"
   ]
  },
  {
   "cell_type": "code",
   "execution_count": 9,
   "metadata": {},
   "outputs": [
    {
     "data": {
      "text/html": [
       "<table border=\"1\" class=\"dataframe\">\n",
       "    <thead>\n",
       "        <tr>\n",
       "            <th>Educational Attainment</th> <th>count</th>\n",
       "        </tr>\n",
       "    </thead>\n",
       "    <tbody>\n",
       "        <tr>\n",
       "            <td>Bachelor's degree or higher   </td> <td>231  </td>\n",
       "        </tr>\n",
       "        <tr>\n",
       "            <td>College, less than 4-yr degree</td> <td>258  </td>\n",
       "        </tr>\n",
       "        <tr>\n",
       "            <td>High school or equivalent     </td> <td>250  </td>\n",
       "        </tr>\n",
       "        <tr>\n",
       "            <td>No high school diploma        </td> <td>287  </td>\n",
       "        </tr>\n",
       "    </tbody>\n",
       "</table>"
      ],
      "text/plain": [
       "Educational Attainment         | count\n",
       "Bachelor's degree or higher    | 231\n",
       "College, less than 4-yr degree | 258\n",
       "High school or equivalent      | 250\n",
       "No high school diploma         | 287"
      ]
     },
     "execution_count": 9,
     "metadata": {},
     "output_type": "execute_result"
    }
   ],
   "source": [
    "ea"
   ]
  },
  {
   "cell_type": "code",
   "execution_count": 10,
   "metadata": {},
   "outputs": [
    {
     "data": {
      "text/html": [
       "<table border=\"1\" class=\"dataframe\">\n",
       "    <thead>\n",
       "        <tr>\n",
       "            <th>Personal Income</th> <th>count</th>\n",
       "        </tr>\n",
       "    </thead>\n",
       "    <tbody>\n",
       "        <tr>\n",
       "            <td>A: 0 to 4,999      </td> <td>143  </td>\n",
       "        </tr>\n",
       "        <tr>\n",
       "            <td>B: 5,000 to 9,999  </td> <td>141  </td>\n",
       "        </tr>\n",
       "        <tr>\n",
       "            <td>C: 10,000 to 14,999</td> <td>138  </td>\n",
       "        </tr>\n",
       "        <tr>\n",
       "            <td>D: 15,000 to 24,999</td> <td>137  </td>\n",
       "        </tr>\n",
       "        <tr>\n",
       "            <td>E: 25,000 to 34,999</td> <td>122  </td>\n",
       "        </tr>\n",
       "        <tr>\n",
       "            <td>F: 35,000 to 49,999</td> <td>118  </td>\n",
       "        </tr>\n",
       "        <tr>\n",
       "            <td>G: 50,000 to 74,999</td> <td>115  </td>\n",
       "        </tr>\n",
       "        <tr>\n",
       "            <td>H: 75,000 and over </td> <td>112  </td>\n",
       "        </tr>\n",
       "    </tbody>\n",
       "</table>"
      ],
      "text/plain": [
       "Personal Income     | count\n",
       "A: 0 to 4,999       | 143\n",
       "B: 5,000 to 9,999   | 141\n",
       "C: 10,000 to 14,999 | 138\n",
       "D: 15,000 to 24,999 | 137\n",
       "E: 25,000 to 34,999 | 122\n",
       "F: 35,000 to 49,999 | 118\n",
       "G: 50,000 to 74,999 | 115\n",
       "H: 75,000 and over  | 112"
      ]
     },
     "execution_count": 10,
     "metadata": {},
     "output_type": "execute_result"
    }
   ],
   "source": [
    "pi"
   ]
  },
  {
   "cell_type": "code",
   "execution_count": 11,
   "metadata": {},
   "outputs": [
    {
     "data": {
      "text/html": [
       "<table border=\"1\" class=\"dataframe\">\n",
       "    <thead>\n",
       "        <tr>\n",
       "            <th>Population Count</th> <th>count</th>\n",
       "        </tr>\n",
       "    </thead>\n",
       "    <tbody>\n",
       "        <tr>\n",
       "            <td>1048            </td> <td>1    </td>\n",
       "        </tr>\n",
       "        <tr>\n",
       "            <td>1104            </td> <td>1    </td>\n",
       "        </tr>\n",
       "        <tr>\n",
       "            <td>1117            </td> <td>1    </td>\n",
       "        </tr>\n",
       "        <tr>\n",
       "            <td>1185            </td> <td>1    </td>\n",
       "        </tr>\n",
       "        <tr>\n",
       "            <td>1192            </td> <td>1    </td>\n",
       "        </tr>\n",
       "        <tr>\n",
       "            <td>1198            </td> <td>2    </td>\n",
       "        </tr>\n",
       "        <tr>\n",
       "            <td>1209            </td> <td>1    </td>\n",
       "        </tr>\n",
       "        <tr>\n",
       "            <td>1283            </td> <td>1    </td>\n",
       "        </tr>\n",
       "        <tr>\n",
       "            <td>1294            </td> <td>1    </td>\n",
       "        </tr>\n",
       "        <tr>\n",
       "            <td>1304            </td> <td>1    </td>\n",
       "        </tr>\n",
       "    </tbody>\n",
       "</table>\n",
       "<p>... (1014 rows omitted)</p>"
      ],
      "text/plain": [
       "Population Count | count\n",
       "1048             | 1\n",
       "1104             | 1\n",
       "1117             | 1\n",
       "1185             | 1\n",
       "1192             | 1\n",
       "1198             | 2\n",
       "1209             | 1\n",
       "1283             | 1\n",
       "1294             | 1\n",
       "1304             | 1\n",
       "... (1014 rows omitted)"
      ]
     },
     "execution_count": 11,
     "metadata": {},
     "output_type": "execute_result"
    }
   ],
   "source": [
    "pc"
   ]
  },
  {
   "cell_type": "code",
   "execution_count": 21,
   "metadata": {},
   "outputs": [
    {
     "data": {
      "text/html": [
       "<table border=\"1\" class=\"dataframe\">\n",
       "    <thead>\n",
       "        <tr>\n",
       "            <th>Year</th> <th>Population Count sum</th>\n",
       "        </tr>\n",
       "    </thead>\n",
       "    <tbody>\n",
       "        <tr>\n",
       "            <td>1/1/08 0:00</td> <td>26532250            </td>\n",
       "        </tr>\n",
       "        <tr>\n",
       "            <td>1/1/09 0:00</td> <td>26442817            </td>\n",
       "        </tr>\n",
       "        <tr>\n",
       "            <td>1/1/10 0:00</td> <td>26469031            </td>\n",
       "        </tr>\n",
       "        <tr>\n",
       "            <td>1/1/11 0:00</td> <td>27160088            </td>\n",
       "        </tr>\n",
       "        <tr>\n",
       "            <td>1/1/12 0:00</td> <td>27641508            </td>\n",
       "        </tr>\n",
       "        <tr>\n",
       "            <td>1/1/13 0:00</td> <td>27905466            </td>\n",
       "        </tr>\n",
       "        <tr>\n",
       "            <td>1/1/14 0:00</td> <td>28215807            </td>\n",
       "        </tr>\n",
       "    </tbody>\n",
       "</table>"
      ],
      "text/plain": [
       "Year        | Population Count sum\n",
       "1/1/08 0:00 | 26532250\n",
       "1/1/09 0:00 | 26442817\n",
       "1/1/10 0:00 | 26469031\n",
       "1/1/11 0:00 | 27160088\n",
       "1/1/12 0:00 | 27641508\n",
       "1/1/13 0:00 | 27905466\n",
       "1/1/14 0:00 | 28215807"
      ]
     },
     "execution_count": 21,
     "metadata": {},
     "output_type": "execute_result"
    }
   ],
   "source": [
    "t = table.group(\"Year\",sum).drop(1,2,3,4)\n",
    "t"
   ]
  },
  {
   "cell_type": "code",
   "execution_count": 13,
   "metadata": {},
   "outputs": [
    {
     "data": {
      "text/html": [
       "<table border=\"1\" class=\"dataframe\">\n",
       "    <thead>\n",
       "        <tr>\n",
       "            <th>Year</th> <th>Age</th> <th>count</th>\n",
       "        </tr>\n",
       "    </thead>\n",
       "    <tbody>\n",
       "        <tr>\n",
       "            <td>1/1/08 0:00</td> <td>00 to 17 </td> <td>17   </td>\n",
       "        </tr>\n",
       "        <tr>\n",
       "            <td>1/1/08 0:00</td> <td>18 to 64 </td> <td>64   </td>\n",
       "        </tr>\n",
       "        <tr>\n",
       "            <td>1/1/08 0:00</td> <td>65 to 80+</td> <td>64   </td>\n",
       "        </tr>\n",
       "        <tr>\n",
       "            <td>1/1/09 0:00</td> <td>00 to 17 </td> <td>21   </td>\n",
       "        </tr>\n",
       "        <tr>\n",
       "            <td>1/1/09 0:00</td> <td>18 to 64 </td> <td>64   </td>\n",
       "        </tr>\n",
       "        <tr>\n",
       "            <td>1/1/09 0:00</td> <td>65 to 80+</td> <td>64   </td>\n",
       "        </tr>\n",
       "        <tr>\n",
       "            <td>1/1/10 0:00</td> <td>00 to 17 </td> <td>19   </td>\n",
       "        </tr>\n",
       "        <tr>\n",
       "            <td>1/1/10 0:00</td> <td>18 to 64 </td> <td>64   </td>\n",
       "        </tr>\n",
       "        <tr>\n",
       "            <td>1/1/10 0:00</td> <td>65 to 80+</td> <td>64   </td>\n",
       "        </tr>\n",
       "        <tr>\n",
       "            <td>1/1/11 0:00</td> <td>00 to 17 </td> <td>23   </td>\n",
       "        </tr>\n",
       "    </tbody>\n",
       "</table>\n",
       "<p>... (11 rows omitted)</p>"
      ],
      "text/plain": [
       "Year        | Age       | count\n",
       "1/1/08 0:00 | 00 to 17  | 17\n",
       "1/1/08 0:00 | 18 to 64  | 64\n",
       "1/1/08 0:00 | 65 to 80+ | 64\n",
       "1/1/09 0:00 | 00 to 17  | 21\n",
       "1/1/09 0:00 | 18 to 64  | 64\n",
       "1/1/09 0:00 | 65 to 80+ | 64\n",
       "1/1/10 0:00 | 00 to 17  | 19\n",
       "1/1/10 0:00 | 18 to 64  | 64\n",
       "1/1/10 0:00 | 65 to 80+ | 64\n",
       "1/1/11 0:00 | 00 to 17  | 23\n",
       "... (11 rows omitted)"
      ]
     },
     "execution_count": 13,
     "metadata": {},
     "output_type": "execute_result"
    }
   ],
   "source": [
    "table.group(['Year','Age'])"
   ]
  },
  {
   "cell_type": "code",
   "execution_count": 14,
   "metadata": {},
   "outputs": [
    {
     "data": {
      "text/html": [
       "<table border=\"1\" class=\"dataframe\">\n",
       "    <thead>\n",
       "        <tr>\n",
       "            <th>Age</th> <th>1/1/08 0:00</th> <th>1/1/09 0:00</th> <th>1/1/10 0:00</th> <th>1/1/11 0:00</th> <th>1/1/12 0:00</th> <th>1/1/13 0:00</th> <th>1/1/14 0:00</th>\n",
       "        </tr>\n",
       "    </thead>\n",
       "    <tbody>\n",
       "        <tr>\n",
       "            <td>00 to 17 </td> <td>17         </td> <td>21         </td> <td>19         </td> <td>23         </td> <td>19         </td> <td>17         </td> <td>18         </td>\n",
       "        </tr>\n",
       "        <tr>\n",
       "            <td>18 to 64 </td> <td>64         </td> <td>64         </td> <td>64         </td> <td>64         </td> <td>64         </td> <td>64         </td> <td>64         </td>\n",
       "        </tr>\n",
       "        <tr>\n",
       "            <td>65 to 80+</td> <td>64         </td> <td>64         </td> <td>64         </td> <td>64         </td> <td>62         </td> <td>63         </td> <td>63         </td>\n",
       "        </tr>\n",
       "    </tbody>\n",
       "</table>"
      ],
      "text/plain": [
       "Age       | 1/1/08 0:00 | 1/1/09 0:00 | 1/1/10 0:00 | 1/1/11 0:00 | 1/1/12 0:00 | 1/1/13 0:00 | 1/1/14 0:00\n",
       "00 to 17  | 17          | 21          | 19          | 23          | 19          | 17          | 18\n",
       "18 to 64  | 64          | 64          | 64          | 64          | 64          | 64          | 64\n",
       "65 to 80+ | 64          | 64          | 64          | 64          | 62          | 63          | 63"
      ]
     },
     "execution_count": 14,
     "metadata": {},
     "output_type": "execute_result"
    }
   ],
   "source": [
    "table.pivot('Year','Age')"
   ]
  },
  {
   "cell_type": "code",
   "execution_count": 15,
   "metadata": {},
   "outputs": [
    {
     "name": "stdout",
     "output_type": "stream",
     "text": [
      "a    | b    | c\n",
      "9    | 1    | 3\n",
      "3    | 2    | 4\n",
      "3    | 2    | 5\n",
      "1    | 10   | 6\n",
      "\n",
      "a    | d    | e\n",
      "9    | 1    | 3\n",
      "1    | 2    | 4\n",
      "1    | 2    | 5\n",
      "1    | 10   | 6\n"
     ]
    },
    {
     "data": {
      "text/html": [
       "<table border=\"1\" class=\"dataframe\">\n",
       "    <thead>\n",
       "        <tr>\n",
       "            <th>a</th> <th>b</th> <th>c</th> <th>d</th> <th>e</th>\n",
       "        </tr>\n",
       "    </thead>\n",
       "    <tbody>\n",
       "        <tr>\n",
       "            <td>1   </td> <td>10  </td> <td>6   </td> <td>2   </td> <td>4   </td>\n",
       "        </tr>\n",
       "        <tr>\n",
       "            <td>1   </td> <td>10  </td> <td>6   </td> <td>2   </td> <td>5   </td>\n",
       "        </tr>\n",
       "        <tr>\n",
       "            <td>1   </td> <td>10  </td> <td>6   </td> <td>10  </td> <td>6   </td>\n",
       "        </tr>\n",
       "        <tr>\n",
       "            <td>9   </td> <td>1   </td> <td>3   </td> <td>1   </td> <td>3   </td>\n",
       "        </tr>\n",
       "    </tbody>\n",
       "</table>"
      ],
      "text/plain": [
       "a    | b    | c    | d    | e\n",
       "1    | 10   | 6    | 2    | 4\n",
       "1    | 10   | 6    | 2    | 5\n",
       "1    | 10   | 6    | 10   | 6\n",
       "9    | 1    | 3    | 1    | 3"
      ]
     },
     "execution_count": 15,
     "metadata": {},
     "output_type": "execute_result"
    }
   ],
   "source": [
    "table1 = Table().with_columns('a', make_array(9,3,3,1),\n",
    "                             'b',make_array(1,2,2,10),\n",
    "                             'c',make_array(3,4,5,6))\n",
    "print(table1)\n",
    "print()\n",
    "\n",
    "table2 = Table().with_columns('a', make_array(9,1,1,1),\n",
    "                             'd', make_array(1,2,2,10),\n",
    "                             'e',make_array(3,4,5,6))\n",
    "print(table2)\n",
    "\n",
    "table3 = table1.join('a',table2,'a')\n",
    "table3"
   ]
  },
  {
   "cell_type": "code",
   "execution_count": 16,
   "metadata": {},
   "outputs": [
    {
     "data": {
      "image/png": "[encoded data removed]",
      "text/plain": [
       "<Figure size 360x360 with 1 Axes>"
      ]
     },
     "metadata": {
      "needs_background": "light"
     },
     "output_type": "display_data"
    }
   ],
   "source": [
    "e = Table.read_table('energy.csv')\n",
    "e.scatter(0)"
   ]
  },
  {
   "cell_type": "code",
   "execution_count": 17,
   "metadata": {},
   "outputs": [
    {
     "data": {
      "image/png": "[encoded data removed]",
      "text/plain": [
       "<Figure size 432x288 with 1 Axes>"
      ]
     },
     "metadata": {
      "needs_background": "light"
     },
     "output_type": "display_data"
    }
   ],
   "source": [
    "la = Table.read_table('larain.csv')\n",
    "la.plot(0)"
   ]
  },
  {
   "cell_type": "code",
   "execution_count": 18,
   "metadata": {},
   "outputs": [
    {
     "data": {
      "image/png": "[encoded data removed]",
      "text/plain": [
       "<Figure size 432x288 with 1 Axes>"
      ]
     },
     "metadata": {
      "needs_background": "light"
     },
     "output_type": "display_data"
    }
   ],
   "source": [
    "year.barh(0)"
   ]
  },
  {
   "cell_type": "code",
   "execution_count": 22,
   "metadata": {},
   "outputs": [
    {
     "data": {
      "image/png": "[encoded data removed]",
      "text/plain": [
       "<Figure size 432x288 with 1 Axes>"
      ]
     },
     "metadata": {
      "needs_background": "light"
     },
     "output_type": "display_data"
    }
   ],
   "source": [
    "t.barh(0)"
   ]
  },
  {
   "cell_type": "code",
   "execution_count": null,
   "metadata": {},
   "outputs": [],
   "source": []
  }
 ],
 "metadata": {
  "kernelspec": {
   "display_name": "Python 3",
   "language": "python",
   "name": "python3"
  },
  "language_info": {
   "codemirror_mode": {
    "name": "ipython",
    "version": 3
   },
   "file_extension": ".py",
   "mimetype": "text/x-python",
   "name": "python",
   "nbconvert_exporter": "python",
   "pygments_lexer": "ipython3",
   "version": "3.7.3"
  }
 },
 "nbformat": 4,
 "nbformat_minor": 2
}
