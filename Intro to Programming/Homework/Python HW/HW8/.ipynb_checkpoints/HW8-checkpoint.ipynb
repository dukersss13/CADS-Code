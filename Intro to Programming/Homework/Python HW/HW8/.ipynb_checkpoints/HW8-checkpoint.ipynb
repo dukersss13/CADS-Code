{
 "cells": [
  {
   "cell_type": "code",
   "execution_count": 282,
   "metadata": {},
   "outputs": [
    {
     "data": {
      "text/plain": [
       "0.03125"
      ]
     },
     "execution_count": 282,
     "metadata": {},
     "output_type": "execute_result"
    }
   ],
   "source": [
    "from datascience import * \n",
    "import numpy as np \n",
    "import matplotlib.pyplot as plots \n",
    "plots.style.use('fivethirtyeight') \n",
    "%matplotlib inline \n",
    "import random\n",
    "\n",
    "#1a) \n",
    "tails = (1/2)**5\n",
    "tails"
   ]
  },
  {
   "cell_type": "code",
   "execution_count": 294,
   "metadata": {},
   "outputs": [
    {
     "name": "stdout",
     "output_type": "stream",
     "text": [
      "Number of tails you got is 4\n"
     ]
    }
   ],
   "source": [
    "#1b) \n",
    "choices = make_array(\"head\",\"tail\")\n",
    "count = 0\n",
    "for i in range(6):\n",
    "    outcome = make_array(np.random.choice(choices))\n",
    "    for i in outcome:\n",
    "        if i == 'tail':\n",
    "            count += 1\n",
    "print('Number of tails you got is',count)\n"
   ]
  },
  {
   "cell_type": "code",
   "execution_count": 295,
   "metadata": {},
   "outputs": [
    {
     "name": "stdout",
     "output_type": "stream",
     "text": [
      "You got 5 tails in a row 3 times\n"
     ]
    }
   ],
   "source": [
    "#1c)\n",
    "count = 0\n",
    "choices = make_array(\"head\",\"tail\")\n",
    "for i in range(101):\n",
    "    outcome = np.random.choice(choices,5)\n",
    "    if sum(outcome == \"tail\") == 5:\n",
    "        count += 1\n",
    "print('You got 5 tails in a row',count,'times')"
   ]
  },
  {
   "cell_type": "code",
   "execution_count": 285,
   "metadata": {},
   "outputs": [
    {
     "name": "stdout",
     "output_type": "stream",
     "text": [
      "The probability of getting 5 tails in a row is 0.3147\n"
     ]
    }
   ],
   "source": [
    "#1d)\n",
    "choices = make_array(\"head\",\"tail\")\n",
    "count = 0\n",
    "for n in range(100001):\n",
    "    outcome = np.random.choice(choices,5)\n",
    "    if sum(outcome == 'tail') == 5:\n",
    "        count += 1     \n",
    "prob = count/10000\n",
    "print(\"The probability of getting 5 tails in a row is\", prob)\n"
   ]
  },
  {
   "cell_type": "code",
   "execution_count": 307,
   "metadata": {},
   "outputs": [
    {
     "data": {
      "image/png": "[encoded data removed]",
      "text/plain": [
       "<Figure size 432x288 with 1 Axes>"
      ]
     },
     "metadata": {
      "needs_background": "light"
     },
     "output_type": "display_data"
    }
   ],
   "source": [
    "#1e)\n",
    "choices = make_array(\"head\",\"tail\")\n",
    "trials = 10000\n",
    "i = 0\n",
    "total = make_array()\n",
    "count = 0\n",
    "my_bins = make_array(0,2,4,6,8,10,12)\n",
    "for n in range(trials):\n",
    "    for i in range(101):\n",
    "        outcome = np.random.choice(choices,5)\n",
    "        if sum(outcome == 'tail') == 5:\n",
    "            count += 1\n",
    "        i +=1\n",
    "        prob = count/trials\n",
    "    total = np.append(total,prob)\n",
    "    n += 1\n",
    "total\n",
    "Table().with_column('Number of 5 Consecutive Tails',total).hist(bins = my_bins,normed=False)"
   ]
  },
  {
   "cell_type": "code",
   "execution_count": null,
   "metadata": {},
   "outputs": [],
   "source": []
  },
  {
   "cell_type": "code",
   "execution_count": null,
   "metadata": {},
   "outputs": [],
   "source": []
  }
 ],
 "metadata": {
  "kernelspec": {
   "display_name": "Python 3",
   "language": "python",
   "name": "python3"
  },
  "language_info": {
   "codemirror_mode": {
    "name": "ipython",
    "version": 3
   },
   "file_extension": ".py",
   "mimetype": "text/x-python",
   "name": "python",
   "nbconvert_exporter": "python",
   "pygments_lexer": "ipython3",
   "version": "3.7.3"
  }
 },
 "nbformat": 4,
 "nbformat_minor": 2
}
