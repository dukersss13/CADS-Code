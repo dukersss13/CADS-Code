{
 "cells": [
  {
   "cell_type": "code",
   "execution_count": 4,
   "metadata": {},
   "outputs": [
    {
     "data": {
      "text/html": [
       "<table border=\"1\" class=\"dataframe\">\n",
       "    <thead>\n",
       "        <tr>\n",
       "            <th>Title</th> <th>Studio</th> <th>Gross</th> <th>Gross (Adjusted)</th> <th>Year</th>\n",
       "        </tr>\n",
       "    </thead>\n",
       "    <tbody>\n",
       "        <tr>\n",
       "            <td>101 Dalmatians            </td> <td>Disney              </td> <td>144880014</td> <td>869280100       </td> <td>1961</td>\n",
       "        </tr>\n",
       "        <tr>\n",
       "            <td>2001: A Space Odyssey     </td> <td>MGM                 </td> <td>56954992 </td> <td>377027700       </td> <td>1968</td>\n",
       "        </tr>\n",
       "        <tr>\n",
       "            <td>9 to 5                    </td> <td>Fox                 </td> <td>103290500</td> <td>334062200       </td> <td>1980</td>\n",
       "        </tr>\n",
       "        <tr>\n",
       "            <td>A Star Is Born (1976)     </td> <td>Warner Bros.        </td> <td>80000000 </td> <td>326760600       </td> <td>1976</td>\n",
       "        </tr>\n",
       "        <tr>\n",
       "            <td>Air Force One             </td> <td>Sony                </td> <td>172956409</td> <td>327752300       </td> <td>1997</td>\n",
       "        </tr>\n",
       "        <tr>\n",
       "            <td>Airport                   </td> <td>Universal           </td> <td>100489151</td> <td>575168200       </td> <td>1970</td>\n",
       "        </tr>\n",
       "        <tr>\n",
       "            <td>Aladdin                   </td> <td>Buena Vista (Disney)</td> <td>217350219</td> <td>456248400       </td> <td>1992</td>\n",
       "        </tr>\n",
       "        <tr>\n",
       "            <td>Alice in Wonderland (2010)</td> <td>Buena Vista (Disney)</td> <td>334191110</td> <td>365718600       </td> <td>2010</td>\n",
       "        </tr>\n",
       "        <tr>\n",
       "            <td>American Graffiti         </td> <td>Universal           </td> <td>115000000</td> <td>571714300       </td> <td>1973</td>\n",
       "        </tr>\n",
       "        <tr>\n",
       "            <td>American Sniper           </td> <td>Warner Bros.        </td> <td>350126372</td> <td>374796000       </td> <td>2014</td>\n",
       "        </tr>\n",
       "    </tbody>\n",
       "</table>\n",
       "<p>... (190 rows omitted)</p>"
      ],
      "text/plain": [
       "Title                      | Studio               | Gross     | Gross (Adjusted) | Year\n",
       "101 Dalmatians             | Disney               | 144880014 | 869280100        | 1961\n",
       "2001: A Space Odyssey      | MGM                  | 56954992  | 377027700        | 1968\n",
       "9 to 5                     | Fox                  | 103290500 | 334062200        | 1980\n",
       "A Star Is Born (1976)      | Warner Bros.         | 80000000  | 326760600        | 1976\n",
       "Air Force One              | Sony                 | 172956409 | 327752300        | 1997\n",
       "Airport                    | Universal            | 100489151 | 575168200        | 1970\n",
       "Aladdin                    | Buena Vista (Disney) | 217350219 | 456248400        | 1992\n",
       "Alice in Wonderland (2010) | Buena Vista (Disney) | 334191110 | 365718600        | 2010\n",
       "American Graffiti          | Universal            | 115000000 | 571714300        | 1973\n",
       "American Sniper            | Warner Bros.         | 350126372 | 374796000        | 2014\n",
       "... (190 rows omitted)"
      ]
     },
     "execution_count": 4,
     "metadata": {},
     "output_type": "execute_result"
    }
   ],
   "source": [
    "import pandas as pd\n",
    "from datascience import *\n",
    "import numpy as np\n",
    "import matplotlib.pyplot as plt\n",
    "plt.style.use('fivethirtyeight')\n",
    "%matplotlib inline\n",
    "\n",
    "table1 = Table.read_table('top_movies.csv')\n",
    "table1"
   ]
  },
  {
   "cell_type": "code",
   "execution_count": 5,
   "metadata": {},
   "outputs": [
    {
     "data": {
      "text/html": [
       "<table border=\"1\" class=\"dataframe\">\n",
       "    <thead>\n",
       "        <tr>\n",
       "            <th>Title</th> <th>Year</th>\n",
       "        </tr>\n",
       "    </thead>\n",
       "    <tbody>\n",
       "        <tr>\n",
       "            <td>101 Dalmatians            </td> <td>1961</td>\n",
       "        </tr>\n",
       "        <tr>\n",
       "            <td>2001: A Space Odyssey     </td> <td>1968</td>\n",
       "        </tr>\n",
       "        <tr>\n",
       "            <td>9 to 5                    </td> <td>1980</td>\n",
       "        </tr>\n",
       "        <tr>\n",
       "            <td>A Star Is Born (1976)     </td> <td>1976</td>\n",
       "        </tr>\n",
       "        <tr>\n",
       "            <td>Air Force One             </td> <td>1997</td>\n",
       "        </tr>\n",
       "        <tr>\n",
       "            <td>Airport                   </td> <td>1970</td>\n",
       "        </tr>\n",
       "        <tr>\n",
       "            <td>Aladdin                   </td> <td>1992</td>\n",
       "        </tr>\n",
       "        <tr>\n",
       "            <td>Alice in Wonderland (2010)</td> <td>2010</td>\n",
       "        </tr>\n",
       "        <tr>\n",
       "            <td>American Graffiti         </td> <td>1973</td>\n",
       "        </tr>\n",
       "        <tr>\n",
       "            <td>American Sniper           </td> <td>2014</td>\n",
       "        </tr>\n",
       "    </tbody>\n",
       "</table>\n",
       "<p>... (190 rows omitted)</p>"
      ],
      "text/plain": [
       "Title                      | Year\n",
       "101 Dalmatians             | 1961\n",
       "2001: A Space Odyssey      | 1968\n",
       "9 to 5                     | 1980\n",
       "A Star Is Born (1976)      | 1976\n",
       "Air Force One              | 1997\n",
       "Airport                    | 1970\n",
       "Aladdin                    | 1992\n",
       "Alice in Wonderland (2010) | 2010\n",
       "American Graffiti          | 1973\n",
       "American Sniper            | 2014\n",
       "... (190 rows omitted)"
      ]
     },
     "execution_count": 5,
     "metadata": {},
     "output_type": "execute_result"
    }
   ],
   "source": [
    "table2 = table1.select('Title','Year')\n",
    "table2"
   ]
  },
  {
   "cell_type": "code",
   "execution_count": 6,
   "metadata": {},
   "outputs": [
    {
     "data": {
      "text/html": [
       "<table border=\"1\" class=\"dataframe\">\n",
       "    <thead>\n",
       "        <tr>\n",
       "            <th>Title</th> <th>Studio</th> <th>Gross</th> <th>Gross (Adjusted)</th> <th>Year</th>\n",
       "        </tr>\n",
       "    </thead>\n",
       "    <tbody>\n",
       "        <tr>\n",
       "            <td>101 Dalmatians            </td> <td>Disney              </td> <td>144880014</td> <td>869280100       </td> <td>1961</td>\n",
       "        </tr>\n",
       "        <tr>\n",
       "            <td>9 to 5                    </td> <td>Fox                 </td> <td>103290500</td> <td>334062200       </td> <td>1980</td>\n",
       "        </tr>\n",
       "        <tr>\n",
       "            <td>Air Force One             </td> <td>Sony                </td> <td>172956409</td> <td>327752300       </td> <td>1997</td>\n",
       "        </tr>\n",
       "        <tr>\n",
       "            <td>Airport                   </td> <td>Universal           </td> <td>100489151</td> <td>575168200       </td> <td>1970</td>\n",
       "        </tr>\n",
       "        <tr>\n",
       "            <td>Aladdin                   </td> <td>Buena Vista (Disney)</td> <td>217350219</td> <td>456248400       </td> <td>1992</td>\n",
       "        </tr>\n",
       "        <tr>\n",
       "            <td>Alice in Wonderland (2010)</td> <td>Buena Vista (Disney)</td> <td>334191110</td> <td>365718600       </td> <td>2010</td>\n",
       "        </tr>\n",
       "        <tr>\n",
       "            <td>American Graffiti         </td> <td>Universal           </td> <td>115000000</td> <td>571714300       </td> <td>1973</td>\n",
       "        </tr>\n",
       "        <tr>\n",
       "            <td>American Sniper           </td> <td>Warner Bros.        </td> <td>350126372</td> <td>374796000       </td> <td>2014</td>\n",
       "        </tr>\n",
       "        <tr>\n",
       "            <td>An Officer and a Gentleman</td> <td>Paramount           </td> <td>129795554</td> <td>379814600       </td> <td>1982</td>\n",
       "        </tr>\n",
       "        <tr>\n",
       "            <td>Apollo 13                 </td> <td>Universal           </td> <td>173837933</td> <td>346762300       </td> <td>1995</td>\n",
       "        </tr>\n",
       "    </tbody>\n",
       "</table>\n",
       "<p>... (150 rows omitted)</p>"
      ],
      "text/plain": [
       "Title                      | Studio               | Gross     | Gross (Adjusted) | Year\n",
       "101 Dalmatians             | Disney               | 144880014 | 869280100        | 1961\n",
       "9 to 5                     | Fox                  | 103290500 | 334062200        | 1980\n",
       "Air Force One              | Sony                 | 172956409 | 327752300        | 1997\n",
       "Airport                    | Universal            | 100489151 | 575168200        | 1970\n",
       "Aladdin                    | Buena Vista (Disney) | 217350219 | 456248400        | 1992\n",
       "Alice in Wonderland (2010) | Buena Vista (Disney) | 334191110 | 365718600        | 2010\n",
       "American Graffiti          | Universal            | 115000000 | 571714300        | 1973\n",
       "American Sniper            | Warner Bros.         | 350126372 | 374796000        | 2014\n",
       "An Officer and a Gentleman | Paramount            | 129795554 | 379814600        | 1982\n",
       "Apollo 13                  | Universal            | 173837933 | 346762300        | 1995\n",
       "... (150 rows omitted)"
      ]
     },
     "execution_count": 6,
     "metadata": {},
     "output_type": "execute_result"
    }
   ],
   "source": [
    "table1.where('Gross',are.above(100000000))"
   ]
  },
  {
   "cell_type": "code",
   "execution_count": 7,
   "metadata": {},
   "outputs": [
    {
     "data": {
      "text/html": [
       "<table border=\"1\" class=\"dataframe\">\n",
       "    <thead>\n",
       "        <tr>\n",
       "            <th>Title</th> <th>Studio</th> <th>Gross</th> <th>Gross (Adjusted)</th> <th>Year</th>\n",
       "        </tr>\n",
       "    </thead>\n",
       "    <tbody>\n",
       "        <tr>\n",
       "            <td>101 Dalmatians            </td> <td>Disney      </td> <td>144880014</td> <td>869280100       </td> <td>1961</td>\n",
       "        </tr>\n",
       "        <tr>\n",
       "            <td>9 to 5                    </td> <td>Fox         </td> <td>103290500</td> <td>334062200       </td> <td>1980</td>\n",
       "        </tr>\n",
       "        <tr>\n",
       "            <td>Air Force One             </td> <td>Sony        </td> <td>172956409</td> <td>327752300       </td> <td>1997</td>\n",
       "        </tr>\n",
       "        <tr>\n",
       "            <td>Airport                   </td> <td>Universal   </td> <td>100489151</td> <td>575168200       </td> <td>1970</td>\n",
       "        </tr>\n",
       "        <tr>\n",
       "            <td>American Graffiti         </td> <td>Universal   </td> <td>115000000</td> <td>571714300       </td> <td>1973</td>\n",
       "        </tr>\n",
       "        <tr>\n",
       "            <td>An Officer and a Gentleman</td> <td>Paramount   </td> <td>129795554</td> <td>379814600       </td> <td>1982</td>\n",
       "        </tr>\n",
       "        <tr>\n",
       "            <td>Apollo 13                 </td> <td>Universal   </td> <td>173837933</td> <td>346762300       </td> <td>1995</td>\n",
       "        </tr>\n",
       "        <tr>\n",
       "            <td>Bambi                     </td> <td>RKO         </td> <td>102247150</td> <td>554298300       </td> <td>1942</td>\n",
       "        </tr>\n",
       "        <tr>\n",
       "            <td>Batman Forever            </td> <td>Warner Bros.</td> <td>184031112</td> <td>368062200       </td> <td>1995</td>\n",
       "        </tr>\n",
       "        <tr>\n",
       "            <td>Batman Returns            </td> <td>Warner Bros.</td> <td>162831698</td> <td>341358000       </td> <td>1992</td>\n",
       "        </tr>\n",
       "    </tbody>\n",
       "</table>\n",
       "<p>... (50 rows omitted)</p>"
      ],
      "text/plain": [
       "Title                      | Studio       | Gross     | Gross (Adjusted) | Year\n",
       "101 Dalmatians             | Disney       | 144880014 | 869280100        | 1961\n",
       "9 to 5                     | Fox          | 103290500 | 334062200        | 1980\n",
       "Air Force One              | Sony         | 172956409 | 327752300        | 1997\n",
       "Airport                    | Universal    | 100489151 | 575168200        | 1970\n",
       "American Graffiti          | Universal    | 115000000 | 571714300        | 1973\n",
       "An Officer and a Gentleman | Paramount    | 129795554 | 379814600        | 1982\n",
       "Apollo 13                  | Universal    | 173837933 | 346762300        | 1995\n",
       "Bambi                      | RKO          | 102247150 | 554298300        | 1942\n",
       "Batman Forever             | Warner Bros. | 184031112 | 368062200        | 1995\n",
       "Batman Returns             | Warner Bros. | 162831698 | 341358000        | 1992\n",
       "... (50 rows omitted)"
      ]
     },
     "execution_count": 7,
     "metadata": {},
     "output_type": "execute_result"
    }
   ],
   "source": [
    "table1.where('Gross',are.between(100000000,200000000))"
   ]
  },
  {
   "cell_type": "code",
   "execution_count": 8,
   "metadata": {},
   "outputs": [
    {
     "data": {
      "text/html": [
       "<table border=\"1\" class=\"dataframe\">\n",
       "    <thead>\n",
       "        <tr>\n",
       "            <th>Title</th> <th>Studio</th> <th>Gross</th> <th>Gross (Adjusted)</th> <th>Year</th>\n",
       "        </tr>\n",
       "    </thead>\n",
       "    <tbody>\n",
       "        <tr>\n",
       "            <td>Around the World in 80 Days                </td> <td>UA                  </td> <td>42000000 </td> <td>562153800       </td> <td>1956</td>\n",
       "        </tr>\n",
       "        <tr>\n",
       "            <td>Back to the Future                         </td> <td>Universal           </td> <td>210609762</td> <td>513740700       </td> <td>1985</td>\n",
       "        </tr>\n",
       "        <tr>\n",
       "            <td>Beauty and the Beast                       </td> <td>Buena Vista (Disney)</td> <td>218967620</td> <td>394664300       </td> <td>1991</td>\n",
       "        </tr>\n",
       "        <tr>\n",
       "            <td>Butch Cassidy and the Sundance Kid         </td> <td>Fox                 </td> <td>102308889</td> <td>613853300       </td> <td>1969</td>\n",
       "        </tr>\n",
       "        <tr>\n",
       "            <td>Close Encounters of the Third Kind         </td> <td>Columbia            </td> <td>132088635</td> <td>483507200       </td> <td>1977</td>\n",
       "        </tr>\n",
       "        <tr>\n",
       "            <td>Duel in the Sun                            </td> <td>Selz.               </td> <td>20408163 </td> <td>443877500       </td> <td>1946</td>\n",
       "        </tr>\n",
       "        <tr>\n",
       "            <td>Gone with the Wind                         </td> <td>MGM                 </td> <td>198676459</td> <td>1757788200      </td> <td>1939</td>\n",
       "        </tr>\n",
       "        <tr>\n",
       "            <td>Guardians of the Galaxy                    </td> <td>Buena Vista (Disney)</td> <td>333176600</td> <td>358244800       </td> <td>2014</td>\n",
       "        </tr>\n",
       "        <tr>\n",
       "            <td>Harry Potter and the Chamber of Secrets    </td> <td>Warner Bros.        </td> <td>261988482</td> <td>390768100       </td> <td>2002</td>\n",
       "        </tr>\n",
       "        <tr>\n",
       "            <td>Harry Potter and the Deathly Hallows Part 2</td> <td>Warner Bros.        </td> <td>381011219</td> <td>417512200       </td> <td>2011</td>\n",
       "        </tr>\n",
       "    </tbody>\n",
       "</table>\n",
       "<p>... (33 rows omitted)</p>"
      ],
      "text/plain": [
       "Title                                       | Studio               | Gross     | Gross (Adjusted) | Year\n",
       "Around the World in 80 Days                 | UA                   | 42000000  | 562153800        | 1956\n",
       "Back to the Future                          | Universal            | 210609762 | 513740700        | 1985\n",
       "Beauty and the Beast                        | Buena Vista (Disney) | 218967620 | 394664300        | 1991\n",
       "Butch Cassidy and the Sundance Kid          | Fox                  | 102308889 | 613853300        | 1969\n",
       "Close Encounters of the Third Kind          | Columbia             | 132088635 | 483507200        | 1977\n",
       "Duel in the Sun                             | Selz.                | 20408163  | 443877500        | 1946\n",
       "Gone with the Wind                          | MGM                  | 198676459 | 1757788200       | 1939\n",
       "Guardians of the Galaxy                     | Buena Vista (Disney) | 333176600 | 358244800        | 2014\n",
       "Harry Potter and the Chamber of Secrets     | Warner Bros.         | 261988482 | 390768100        | 2002\n",
       "Harry Potter and the Deathly Hallows Part 2 | Warner Bros.         | 381011219 | 417512200        | 2011\n",
       "... (33 rows omitted)"
      ]
     },
     "execution_count": 8,
     "metadata": {},
     "output_type": "execute_result"
    }
   ],
   "source": [
    "table1.where('Title',are.containing('the'))"
   ]
  },
  {
   "cell_type": "code",
   "execution_count": 9,
   "metadata": {},
   "outputs": [
    {
     "data": {
      "text/html": [
       "<table border=\"1\" class=\"dataframe\">\n",
       "    <thead>\n",
       "        <tr>\n",
       "            <th>Title</th> <th>Studio</th> <th>Gross</th> <th>Gross (Adjusted)</th> <th>Year</th>\n",
       "        </tr>\n",
       "    </thead>\n",
       "    <tbody>\n",
       "        <tr>\n",
       "            <td>Star Wars: The Force Awakens             </td> <td>Buena Vista (Disney)</td> <td>906723418</td> <td>906723400       </td> <td>2015</td>\n",
       "        </tr>\n",
       "        <tr>\n",
       "            <td>Avatar                                   </td> <td>Fox                 </td> <td>760507625</td> <td>846120800       </td> <td>2009</td>\n",
       "        </tr>\n",
       "        <tr>\n",
       "            <td>Titanic                                  </td> <td>Paramount           </td> <td>658672302</td> <td>1178627900      </td> <td>1997</td>\n",
       "        </tr>\n",
       "        <tr>\n",
       "            <td>Jurassic World                           </td> <td>Universal           </td> <td>652270625</td> <td>687728000       </td> <td>2015</td>\n",
       "        </tr>\n",
       "        <tr>\n",
       "            <td>Marvel's The Avengers                    </td> <td>Buena Vista (Disney)</td> <td>623357910</td> <td>668866600       </td> <td>2012</td>\n",
       "        </tr>\n",
       "        <tr>\n",
       "            <td>The Dark Knight                          </td> <td>Warner Bros.        </td> <td>534858444</td> <td>647761600       </td> <td>2008</td>\n",
       "        </tr>\n",
       "        <tr>\n",
       "            <td>Star Wars: Episode I - The Phantom Menace</td> <td>Fox                 </td> <td>474544677</td> <td>785715000       </td> <td>1999</td>\n",
       "        </tr>\n",
       "        <tr>\n",
       "            <td>Star Wars                                </td> <td>Fox                 </td> <td>460998007</td> <td>1549640500      </td> <td>1977</td>\n",
       "        </tr>\n",
       "        <tr>\n",
       "            <td>Avengers: Age of Ultron                  </td> <td>Buena Vista (Disney)</td> <td>459005868</td> <td>465684200       </td> <td>2015</td>\n",
       "        </tr>\n",
       "        <tr>\n",
       "            <td>The Dark Knight Rises                    </td> <td>Warner Bros.        </td> <td>448139099</td> <td>500961700       </td> <td>2012</td>\n",
       "        </tr>\n",
       "    </tbody>\n",
       "</table>\n",
       "<p>... (190 rows omitted)</p>"
      ],
      "text/plain": [
       "Title                                     | Studio               | Gross     | Gross (Adjusted) | Year\n",
       "Star Wars: The Force Awakens              | Buena Vista (Disney) | 906723418 | 906723400        | 2015\n",
       "Avatar                                    | Fox                  | 760507625 | 846120800        | 2009\n",
       "Titanic                                   | Paramount            | 658672302 | 1178627900       | 1997\n",
       "Jurassic World                            | Universal            | 652270625 | 687728000        | 2015\n",
       "Marvel's The Avengers                     | Buena Vista (Disney) | 623357910 | 668866600        | 2012\n",
       "The Dark Knight                           | Warner Bros.         | 534858444 | 647761600        | 2008\n",
       "Star Wars: Episode I - The Phantom Menace | Fox                  | 474544677 | 785715000        | 1999\n",
       "Star Wars                                 | Fox                  | 460998007 | 1549640500       | 1977\n",
       "Avengers: Age of Ultron                   | Buena Vista (Disney) | 459005868 | 465684200        | 2015\n",
       "The Dark Knight Rises                     | Warner Bros.         | 448139099 | 500961700        | 2012\n",
       "... (190 rows omitted)"
      ]
     },
     "execution_count": 9,
     "metadata": {},
     "output_type": "execute_result"
    }
   ],
   "source": [
    "table1.sort('Gross',descending =True)"
   ]
  },
  {
   "cell_type": "code",
   "execution_count": 10,
   "metadata": {},
   "outputs": [
    {
     "data": {
      "text/html": [
       "<table border=\"1\" class=\"dataframe\">\n",
       "    <thead>\n",
       "        <tr>\n",
       "            <th>Title</th> <th>Studio</th> <th>Gross</th> <th>Gross (Adjusted)</th> <th>Year</th>\n",
       "        </tr>\n",
       "    </thead>\n",
       "    <tbody>\n",
       "        <tr>\n",
       "            <td>The Graduate                       </td> <td>AVCO                </td> <td>104945305</td> <td>744517700       </td> <td>1967</td>\n",
       "        </tr>\n",
       "        <tr>\n",
       "            <td>Star Wars: The Force Awakens       </td> <td>Buena Vista (Disney)</td> <td>906723418</td> <td>906723400       </td> <td>2015</td>\n",
       "        </tr>\n",
       "        <tr>\n",
       "            <td>Ghostbusters                       </td> <td>Columbia            </td> <td>242212467</td> <td>619211400       </td> <td>1984</td>\n",
       "        </tr>\n",
       "        <tr>\n",
       "            <td>Snow White and the Seven Dwarfs    </td> <td>Disney              </td> <td>184925486</td> <td>948300000       </td> <td>1937</td>\n",
       "        </tr>\n",
       "        <tr>\n",
       "            <td>Shrek 2                            </td> <td>Dreamworks          </td> <td>441226247</td> <td>618143100       </td> <td>2004</td>\n",
       "        </tr>\n",
       "        <tr>\n",
       "            <td>Avatar                             </td> <td>Fox                 </td> <td>760507625</td> <td>846120800       </td> <td>2009</td>\n",
       "        </tr>\n",
       "        <tr>\n",
       "            <td>My Big Fat Greek Wedding           </td> <td>IFC                 </td> <td>241438208</td> <td>360349500       </td> <td>2002</td>\n",
       "        </tr>\n",
       "        <tr>\n",
       "            <td>The Hunger Games: Catching Fire    </td> <td>Lionsgate           </td> <td>424668047</td> <td>444697400       </td> <td>2013</td>\n",
       "        </tr>\n",
       "        <tr>\n",
       "            <td>Gone with the Wind                 </td> <td>MGM                 </td> <td>198676459</td> <td>1757788200      </td> <td>1939</td>\n",
       "        </tr>\n",
       "        <tr>\n",
       "            <td>The Four Horsemen of the Apocalypse</td> <td>MPC                 </td> <td>9183673  </td> <td>399489800       </td> <td>1921</td>\n",
       "        </tr>\n",
       "    </tbody>\n",
       "</table>\n",
       "<p>... (14 rows omitted)</p>"
      ],
      "text/plain": [
       "Title                               | Studio               | Gross     | Gross (Adjusted) | Year\n",
       "The Graduate                        | AVCO                 | 104945305 | 744517700        | 1967\n",
       "Star Wars: The Force Awakens        | Buena Vista (Disney) | 906723418 | 906723400        | 2015\n",
       "Ghostbusters                        | Columbia             | 242212467 | 619211400        | 1984\n",
       "Snow White and the Seven Dwarfs     | Disney               | 184925486 | 948300000        | 1937\n",
       "Shrek 2                             | Dreamworks           | 441226247 | 618143100        | 2004\n",
       "Avatar                              | Fox                  | 760507625 | 846120800        | 2009\n",
       "My Big Fat Greek Wedding            | IFC                  | 241438208 | 360349500        | 2002\n",
       "The Hunger Games: Catching Fire     | Lionsgate            | 424668047 | 444697400        | 2013\n",
       "Gone with the Wind                  | MGM                  | 198676459 | 1757788200       | 1939\n",
       "The Four Horsemen of the Apocalypse | MPC                  | 9183673   | 399489800        | 1921\n",
       "... (14 rows omitted)"
      ]
     },
     "execution_count": 10,
     "metadata": {},
     "output_type": "execute_result"
    }
   ],
   "source": [
    "table1.sort('Gross',descending = True).sort('Studio',distinct = True)\n",
    "#Columbia's highest grossing is Ghostbusters\n",
    "#Fox's highest grossing is Avatar"
   ]
  },
  {
   "cell_type": "code",
   "execution_count": 23,
   "metadata": {},
   "outputs": [
    {
     "data": {
      "image/png": "[encoded data removed]",
      "text/plain": [
       "<Figure size 432x864 with 1 Axes>"
      ]
     },
     "metadata": {
      "needs_background": "light"
     },
     "output_type": "display_data"
    }
   ],
   "source": [
    "t = table1.select('Studio','Gross','Gross (Adjusted)').sort('Studio',distinct = True)\n",
    "t.barh('Studio')\n"
   ]
  },
  {
   "cell_type": "code",
   "execution_count": 52,
   "metadata": {},
   "outputs": [
    {
     "data": {
      "text/html": [
       "<table border=\"1\" class=\"dataframe\">\n",
       "    <thead>\n",
       "        <tr>\n",
       "            <th>Title</th> <th>Gross</th> <th>Gross (Adjusted)</th> <th>Ratio</th>\n",
       "        </tr>\n",
       "    </thead>\n",
       "    <tbody>\n",
       "        <tr>\n",
       "            <td>The Four Horsemen of the Apocalypse</td> <td>9183673 </td> <td>399489800       </td> <td>43.5   </td>\n",
       "        </tr>\n",
       "        <tr>\n",
       "            <td>The Bells of St. Mary's            </td> <td>21333333</td> <td>545882400       </td> <td>25.5882</td>\n",
       "        </tr>\n",
       "        <tr>\n",
       "            <td>Sergeant York                      </td> <td>16361885</td> <td>418671800       </td> <td>25.5882</td>\n",
       "        </tr>\n",
       "        <tr>\n",
       "            <td>Duel in the Sun                    </td> <td>20408163</td> <td>443877500       </td> <td>21.75  </td>\n",
       "        </tr>\n",
       "        <tr>\n",
       "            <td>The Best Years of Our Lives        </td> <td>23650000</td> <td>478500000       </td> <td>20.2326</td>\n",
       "        </tr>\n",
       "        <tr>\n",
       "            <td>House of Wax                       </td> <td>23750000</td> <td>439627700       </td> <td>18.5106</td>\n",
       "        </tr>\n",
       "        <tr>\n",
       "            <td>The Caine Mutiny                   </td> <td>21750000</td> <td>386173500       </td> <td>17.7551</td>\n",
       "        </tr>\n",
       "        <tr>\n",
       "            <td>The Ten Commandments               </td> <td>65500000</td> <td>1139700000      </td> <td>17.4   </td>\n",
       "        </tr>\n",
       "        <tr>\n",
       "            <td>The Bridge on the River Kwai       </td> <td>27200000</td> <td>473280000       </td> <td>17.4   </td>\n",
       "        </tr>\n",
       "        <tr>\n",
       "            <td>The Robe                           </td> <td>36000000</td> <td>569454500       </td> <td>15.8182</td>\n",
       "        </tr>\n",
       "    </tbody>\n",
       "</table>\n",
       "<p>... (190 rows omitted)</p>"
      ],
      "text/plain": [
       "<IPython.core.display.HTML object>"
      ]
     },
     "metadata": {},
     "output_type": "display_data"
    }
   ],
   "source": [
    "t2 = table1.select('Title','Gross','Gross (Adjusted)')\n",
    "ratio = t2[2]/t2[1]\n",
    "t2 = t2.with_column('Ratio',ratio).sort(ratio,descending=True).show(10)\n",
    "t2"
   ]
  },
  {
   "cell_type": "code",
   "execution_count": 110,
   "metadata": {},
   "outputs": [
    {
     "data": {
      "image/png": "[encoded data removed]",
      "text/plain": [
       "<Figure size 432x2520 with 1 Axes>"
      ]
     },
     "metadata": {
      "needs_background": "light"
     },
     "output_type": "display_data"
    }
   ],
   "source": [
    "t3 = table1.group(['Year']).sort('count',descending = True)\n",
    "t3\n",
    "t3.barh(0,1)\n",
    "#2015 has the max movies released with 6 movies."
   ]
  },
  {
   "cell_type": "raw",
   "metadata": {},
   "source": []
  }
 ],
 "metadata": {
  "kernelspec": {
   "display_name": "Python 3",
   "language": "python",
   "name": "python3"
  },
  "language_info": {
   "codemirror_mode": {
    "name": "ipython",
    "version": 3
   },
   "file_extension": ".py",
   "mimetype": "text/x-python",
   "name": "python",
   "nbconvert_exporter": "python",
   "pygments_lexer": "ipython3",
   "version": "3.7.4"
  }
 },
 "nbformat": 4,
 "nbformat_minor": 2
}
