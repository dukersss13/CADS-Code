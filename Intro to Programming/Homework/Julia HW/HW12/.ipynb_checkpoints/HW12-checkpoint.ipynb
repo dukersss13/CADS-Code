{
 "cells": [
  {
   "cell_type": "code",
   "execution_count": 22,
   "metadata": {},
   "outputs": [
    {
     "data": {
      "text/plain": [
       "0.00012602676010180824"
      ]
     },
     "execution_count": 22,
     "metadata": {},
     "output_type": "execute_result"
    }
   ],
   "source": [
    "#1a)\n",
    "b = log(2)/5500"
   ]
  },
  {
   "cell_type": "code",
   "execution_count": 2,
   "metadata": {},
   "outputs": [
    {
     "data": {
      "text/plain": [
       "836.0170139477749"
      ]
     },
     "execution_count": 2,
     "metadata": {},
     "output_type": "execute_result"
    }
   ],
   "source": [
    "#1b)\n",
    "t = -log(0.9)/log(2)*5500"
   ]
  },
  {
   "cell_type": "code",
   "execution_count": 3,
   "metadata": {},
   "outputs": [
    {
     "name": "stdout",
     "output_type": "stream",
     "text": [
      "[-31 -13 -7; 173 147 -25; 117 57 112]\n",
      "[-31 -13 -7; 173 147 -25; 117 57 112]\n"
     ]
    }
   ],
   "source": [
    "A = [4 -2 1; 6 8 -5; 7 9 10]\n",
    "B = [6 9 -4; 7 5 3; -8 2 1]\n",
    "C = [-4 -5 2; 10 6 1; 3 -9 8]\n",
    "#2a)\n",
    "two_a = A*(B+C)\n",
    "two_b = A*B + A*C\n",
    "println(two_a)\n",
    "println(two_b)"
   ]
  },
  {
   "cell_type": "code",
   "execution_count": 4,
   "metadata": {},
   "outputs": [
    {
     "name": "stdout",
     "output_type": "stream",
     "text": [
      "[209 347 -136; 297 -111 308; 1207 562 250]\n",
      "[209 347 -136; 297 -111 308; 1207 562 250]\n"
     ]
    }
   ],
   "source": [
    "#2b)\n",
    "println((A*B)*C)\n",
    "println(A*(B*C))"
   ]
  },
  {
   "cell_type": "code",
   "execution_count": 5,
   "metadata": {},
   "outputs": [
    {
     "name": "stdout",
     "output_type": "stream",
     "text": [
      "The coefficients are [7.0, 5.0, -6.0, 4.0]\n"
     ]
    }
   ],
   "source": [
    "#3) \n",
    "function cubic(x1,y1,x2,y2,x3,y3,x4,y4)\n",
    "    b = [y1; y2; y3; y4]\n",
    "    A = [x1^3 x1^2 x1 1; x2^3 x2^2 x2 1; x3^3 x3^2 x3 1; x4^3 x4^2 x4 1]\n",
    "    c = A\\b\n",
    "end\n",
    "println(\"The coefficients are \" ,cubic(-2,-20,0,4,2,68,4,508))\n",
    "    "
   ]
  },
  {
   "cell_type": "code",
   "execution_count": 6,
   "metadata": {},
   "outputs": [
    {
     "data": {
      "text/plain": [
       "9.990368891699447"
      ]
     },
     "execution_count": 6,
     "metadata": {},
     "output_type": "execute_result"
    }
   ],
   "source": [
    "#4) #The numbers are uniformly distributed with the desired mean\n",
    "a = 2\n",
    "b = 18\n",
    "diff = b-a\n",
    "r = rand(1000)\n",
    "y = diff*r .+ a\n",
    "using Statistics\n",
    "Statistics.mean(y)"
   ]
  },
  {
   "cell_type": "code",
   "execution_count": 7,
   "metadata": {},
   "outputs": [
    {
     "name": "stdout",
     "output_type": "stream",
     "text": [
      "19.797694112806834\n",
      "4.048516862532985\n"
     ]
    }
   ],
   "source": [
    "#5) The Mean & STD match what we desired\n",
    "using Random, Distributions\n",
    "d = Normal(20,4)\n",
    "j = rand(d,1000)\n",
    "println(Statistics.mean(j))\n",
    "println(Statistics.std(j))\n"
   ]
  },
  {
   "cell_type": "code",
   "execution_count": 24,
   "metadata": {},
   "outputs": [
    {
     "data": {
      "image/png": "[encoded data removed]"
     },
     "execution_count": 24,
     "metadata": {},
     "output_type": "execute_result"
    }
   ],
   "source": [
    "using Plots\n",
    "Plots.histogram(j)\n"
   ]
  },
  {
   "cell_type": "code",
   "execution_count": 33,
   "metadata": {},
   "outputs": [
    {
     "name": "stdout",
     "output_type": "stream",
     "text": [
      "8.62238873868121\n",
      "9.006778607373844\n",
      "1.5890905452130304\n",
      "1.6134864282048804\n",
      "17.629167346055052\n",
      "3.0806329643713823\n",
      "-0.3843898686926336\n",
      "3.3245209824644384\n"
     ]
    }
   ],
   "source": [
    "#6)\n",
    "xx = Normal(8,sqrt(2))\n",
    "yy = Normal(15,2)\n",
    "x = rand(x,100)\n",
    "y = rand(x,100)\n",
    "\n",
    "using Statistics\n",
    "println(Statistics.mean(x))\n",
    "println(Statistics.mean(y))\n",
    "println(Statistics.var(x))\n",
    "println(Statistics.var(y))\n",
    "\n",
    "z1 = x + y\n",
    "z2 = x-y\n",
    "println(Statistics.mean(z1))\n",
    "println(Statistics.var(z1))\n",
    "println(Statistics.mean(z2))\n",
    "println(Statistics.var(z2))"
   ]
  },
  {
   "cell_type": "code",
   "execution_count": null,
   "metadata": {},
   "outputs": [],
   "source": []
  },
  {
   "cell_type": "code",
   "execution_count": null,
   "metadata": {},
   "outputs": [],
   "source": []
  },
  {
   "cell_type": "code",
   "execution_count": null,
   "metadata": {},
   "outputs": [],
   "source": []
  }
 ],
 "metadata": {
  "kernelspec": {
   "display_name": "Julia 1.2.0",
   "language": "julia",
   "name": "julia-1.2"
  },
  "language_info": {
   "file_extension": ".jl",
   "mimetype": "application/julia",
   "name": "julia",
   "version": "1.2.0"
  }
 },
 "nbformat": 4,
 "nbformat_minor": 2
}
