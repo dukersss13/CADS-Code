{
 "cells": [
  {
   "cell_type": "markdown",
   "metadata": {},
   "source": [
    "# Quiz 1"
   ]
  },
  {
   "cell_type": "code",
   "execution_count": 1,
   "metadata": {},
   "outputs": [],
   "source": [
    "import numpy as np \n",
    "from sklearn import linear_model, datasets\n",
    "n_samples = 100\n",
    "X, y, coef = datasets.make_regression(n_samples=n_samples, n_features=3,\n",
    "                                      n_informative=1, noise=10,\n",
    "                                      coef=True, random_state=2)"
   ]
  },
  {
   "cell_type": "code",
   "execution_count": 2,
   "metadata": {},
   "outputs": [
    {
     "data": {
      "text/plain": [
       "<matplotlib.collections.PathCollection at 0x16794177408>"
      ]
     },
     "execution_count": 2,
     "metadata": {},
     "output_type": "execute_result"
    },
    {
     "data": {
      "image/png": "[encoded data removed]",
      "text/plain": [
       "<Figure size 432x288 with 1 Axes>"
      ]
     },
     "metadata": {
      "needs_background": "light"
     },
     "output_type": "display_data"
    }
   ],
   "source": [
    "from matplotlib import pyplot as plt\n",
    "%matplotlib inline\n",
    "plt.scatter(X[:,1], y)"
   ]
  },
  {
   "cell_type": "markdown",
   "metadata": {},
   "source": [
    "#### 1. Run a single linear regression model on the second variable of the the simulated dataset X on y"
   ]
  },
  {
   "cell_type": "code",
   "execution_count": 11,
   "metadata": {},
   "outputs": [
    {
     "name": "stdout",
     "output_type": "stream",
     "text": [
      "                            OLS Regression Results                            \n",
      "==============================================================================\n",
      "Dep. Variable:                      y   R-squared:                       0.982\n",
      "Model:                            OLS   Adj. R-squared:                  0.982\n",
      "Method:                 Least Squares   F-statistic:                     5385.\n",
      "Date:                Mon, 10 Feb 2020   Prob (F-statistic):           1.84e-87\n",
      "Time:                        17:52:52   Log-Likelihood:                -379.98\n",
      "No. Observations:                 100   AIC:                             764.0\n",
      "Df Residuals:                      98   BIC:                             769.2\n",
      "Df Model:                           1                                         \n",
      "Covariance Type:            nonrobust                                         \n",
      "==============================================================================\n",
      "                 coef    std err          t      P>|t|      [0.025      0.975]\n",
      "------------------------------------------------------------------------------\n",
      "const          0.9285      1.096      0.847      0.399      -1.246       3.103\n",
      "x1            72.5420      0.989     73.385      0.000      70.580      74.504\n",
      "==============================================================================\n",
      "Omnibus:                        0.919   Durbin-Watson:                   1.558\n",
      "Prob(Omnibus):                  0.632   Jarque-Bera (JB):                0.990\n",
      "Skew:                          -0.136   Prob(JB):                        0.610\n",
      "Kurtosis:                       2.596   Cond. No.                         1.14\n",
      "==============================================================================\n",
      "\n",
      "Warnings:\n",
      "[1] Standard Errors assume that the covariance matrix of the errors is correctly specified.\n"
     ]
    }
   ],
   "source": [
    "## You code goes here\n",
    "X2 = X[:,1]\n",
    "import statsmodels.api as sm\n",
    "s = sm.add_constant(X2)\n",
    "results = sm.OLS(y,s).fit()\n",
    "print(results.summary())"
   ]
  },
  {
   "cell_type": "markdown",
   "metadata": {},
   "source": [
    "#### 2. Plot the line on the scatter plot along with the data."
   ]
  },
  {
   "cell_type": "code",
   "execution_count": 12,
   "metadata": {},
   "outputs": [
    {
     "data": {
      "text/plain": [
       "[<matplotlib.lines.Line2D at 0x16796f67608>]"
      ]
     },
     "execution_count": 12,
     "metadata": {},
     "output_type": "execute_result"
    },
    {
     "data": {
      "image/png": "[encoded data removed]",
      "text/plain": [
       "<Figure size 432x288 with 1 Axes>"
      ]
     },
     "metadata": {
      "needs_background": "light"
     },
     "output_type": "display_data"
    }
   ],
   "source": [
    "## You code goes here\n",
    "plt.scatter(X2,y)\n",
    "B1 = 72.5420\n",
    "B0 = 0.9285\n",
    "y2 = B1*X2 + B0\n",
    "plt.plot(X2,y2,c = 'r')"
   ]
  },
  {
   "cell_type": "code",
   "execution_count": null,
   "metadata": {},
   "outputs": [],
   "source": []
  }
 ],
 "metadata": {
  "kernelspec": {
   "display_name": "Python 3",
   "language": "python",
   "name": "python3"
  },
  "language_info": {
   "codemirror_mode": {
    "name": "ipython",
    "version": 3
   },
   "file_extension": ".py",
   "mimetype": "text/x-python",
   "name": "python",
   "nbconvert_exporter": "python",
   "pygments_lexer": "ipython3",
   "version": "3.7.4"
  }
 },
 "nbformat": 4,
 "nbformat_minor": 2
}
