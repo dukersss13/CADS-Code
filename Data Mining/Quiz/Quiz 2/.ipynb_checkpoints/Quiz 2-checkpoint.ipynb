{
 "cells": [
  {
   "cell_type": "code",
   "execution_count": 1,
   "metadata": {},
   "outputs": [],
   "source": [
    "import pandas as pd\n",
    "import numpy as np\n",
    "import matplotlib.pyplot as plt\n",
    "from scipy import stats\n",
    "import statsmodels.api as sm\n",
    "%matplotlib inline"
   ]
  },
  {
   "cell_type": "code",
   "execution_count": 5,
   "metadata": {},
   "outputs": [],
   "source": [
    "train = pd.read_csv(\"train.csv\", index_col = 0)\n",
    "test = pd.read_csv(\"test.csv\", index_col = 0)\n",
    "\n",
    "def process(train):\n",
    "    train = train.dropna() \n",
    "    mu = np.mean(train['Lot Area'])\n",
    "    std = np.std(train['Lot Area'])\n",
    "    normalized_data = (train['Lot Area'] - mu)/std\n",
    "    indexes = normalized_data < 3\n",
    "    train_cleaned = train.loc[indexes, :]\n",
    "    return train_cleaned"
   ]
  },
  {
   "cell_type": "code",
   "execution_count": 6,
   "metadata": {},
   "outputs": [],
   "source": [
    "tt = [train1, test1]\n",
    "# Adjust the column names for these\n",
    "def fill(tt):\n",
    "    for df in tt:\n",
    "        df['Lot Frontage'].fillna(df['Lot Frontage'].mean(), inplace=True)\n",
    "        df['Alley'].fillna('No alley', inplace=True)\n",
    "        df['Mas Vnr Area'].fillna(df['Mas Vnr Area'].median(), inplace=True)\n",
    "        df['Fireplace Qu'].fillna('No fireplace', inplace=True)\n",
    "        df['Pool QC'].fillna('No pool', inplace=True)\n",
    "        df['Fence'].fillna('No fence', inplace=True)\n",
    "        df['Misc Feature'].fillna('No', inplace=True)\n",
    "        df['Garage Yr Blt'].fillna(1, inplace=True)\n",
    "        mp1 = {'Ex':4,'Gd':3,'TA':2,'Fa':1,'Po':0}\n",
    "        df['Exter Qual'] = df['Exter Qual'].map(mp1)\n",
    "        df['Exter Cond'] = df['Exter Cond'].map(mp1)\n",
    "        mp3 = {'Ex':5,'Gd':4,'TA':3,'Fa':2,'Po':1,'No basement':0}\n",
    "        df['Bsmt Qual'] = df['Bsmt Qual'].map(mp3)\n",
    "        df['Bsmt Cond'] = df['Bsmt Cond'].map(mp3)\n",
    "        df['Bsmt Exposure'] = df['Bsmt Exposure'].map({'Gd':4,'Av':3,'Mn':2,'No':1,'No basement':0})\n",
    "        mp2 = {'GLQ':6,'ALQ':5,'BLQ':4,'Rec':3,'LwQ':2,'Unf':1,'No basement':0}\n",
    "        df['BsmtFin Type 1'] = df['BsmtFin Type 1'].map(mp2)\n",
    "        df['BsmtFin Type 2'] = df['BsmtFin Type 2'].map(mp2)\n",
    "        df['Heating QC'] = df['Heating QC'].map(mp1)\n",
    "        df['Central Air'] = df['Central Air'].map({'Y':1,'N':0})\n",
    "        df['Kitchen Qual'] = df['Kitchen Qual'].map(mp1)\n",
    "        df['Functional'] = df['Functional'].map({'Typ':7,'Min1':6,'Min2':5,'Mod':4,'Maj1':3,'Maj2':2,'Sev':1,'Sal':0})\n",
    "        df['Garage Finish'] = df['Garage Finish'].map({'Fin':3,'RFn':2,'Unf':1,'No Garage':0})\n",
    "        df['Garage Qual'] = df['Garage Qual'].map({'Ex':5,'Gd':4,'TA':3,'Fa':2,'Po':1,'No Garage':0})\n",
    "        df['Garage Cond'] = df['Garage Cond'].map({'Ex':5,'Gd':4,'TA':3,'Fa':2,'Po':1,'No Garage':0})\n",
    "        df['Garage Type'] = df['Garage Type'].map({'No Garage':6,'Attchd':5,'Detchd':4,'Basment':3,'2Types':2,'BuiltIn':1,'CarPort':0})\n",
    "        df['Sale Condition'] = df['Sale Condition'].map({'Abnorml':5,'AdjLand':4,'Alloca':3,'Family':2,'Normal':1,'Partial':0})\n",
    "        df['Pool QC'] = df['Pool QC'].map({'Ex':4,'Gd':3,'TA':2,'Fa':1,'No pool':0})\n",
    "        df['Bldg Type'] = df['Bldg Type'].map({'1Fam':0, '2fmCon':1,'Duplex':2,'Twnhs':3,'TwnhsE':4})\n",
    "        df['Fence'] = df['Fence'].map({'GdPrv':4,'MnPrv':3,'GdWo':2,'MnWw':1,'No fence':0})\n",
    "        df['House Style'] = df['House Style'].map({'1Story':0,'2Story':1,'1.5Fin':2,'SLvl':3,'SFoyre':4,'2.5Unf':5,'1.5Unf':6,'2.5Fin':7,'':8})\n",
    "    \n",
    "#     for a in ['Mas Vnr Type', 'Bsmt Exposure']:\n",
    "#         df[a].fillna(df[a].mode().iloc[0], inplace=True)\n",
    "#     for a in ['Bsmt Qual', 'Bsmt Cond', 'BsmtFin Type 1', 'BsmtFin Type 2']:\n",
    "#         df[a].fillna('No basement', inplace=True)\n",
    "#     for a in ['Garage Type', 'Garage Finish', 'Garage Qual', 'Garage Cond']:\n",
    "#         df[a].fillna('No Garage', inplace=True)\n",
    "    \n",
    "    train = tt[0]\n",
    "    test = tt[1]\n",
    "    return train,test"
   ]
  },
  {
   "cell_type": "code",
   "execution_count": null,
   "metadata": {},
   "outputs": [],
   "source": []
  },
  {
   "cell_type": "code",
   "execution_count": 11,
   "metadata": {},
   "outputs": [],
   "source": [
    "xtrain = train[['Lot Frontage','Lot Area','Overall Qual','Overall Cond','Total Bsmt SF','1st Flr SF','2nd Flr SF','Gr Liv Area','Garage Area','Wood Deck SF','Overall Qual','Year Remod/Add','Bedroom AbvGr','TotRms AbvGrd','Garage Cars','SalePrice']]\n",
    "newtrain = process(xtrain)\n",
    "\n",
    "X = newtrain.drop('SalePrice', axis = 1)\n",
    "y = newtrain['SalePrice']"
   ]
  },
  {
   "cell_type": "code",
   "execution_count": 12,
   "metadata": {},
   "outputs": [
    {
     "data": {
      "text/plain": [
       "0.8533210586028859"
      ]
     },
     "execution_count": 12,
     "metadata": {},
     "output_type": "execute_result"
    }
   ],
   "source": [
    "def linreg(x,y,x2):\n",
    "    s = sm.add_constant(x)\n",
    "    r = sm.OLS(y,s).fit()\n",
    "    x2 = sm.add_constant(x2)\n",
    "    ypred = r.predict(x2)\n",
    "    return ypred\n",
    "\n",
    "s = sm.add_constant(X)\n",
    "result = sm.OLS(y,s).fit()\n",
    "result.rsquared"
   ]
  },
  {
   "cell_type": "code",
   "execution_count": 13,
   "metadata": {},
   "outputs": [],
   "source": [
    "def calculate_vif(r_squared):\n",
    "    ## Your code goes here\n",
    "    vif = 1/(1 - r_squared)\n",
    "    return vif\n",
    "\n",
    "def vif(processed_train):\n",
    "    vif_scores = []\n",
    "    var = []\n",
    "    \n",
    "    new_data = processed_train.drop(['SalePrice'], axis = 1)\n",
    "    \n",
    "    for i in new_data.columns:\n",
    "        \n",
    "        var = [i]\n",
    "        x = new_data.drop(i,axis=1).values\n",
    "        y = new_data[i].values\n",
    "        \n",
    "        #calculate regression\n",
    "        s = sm.add_constant(x)\n",
    "        result = sm.OLS(y,s).fit()\n",
    "        r2 = result.rsquared\n",
    "        \n",
    "        vif = round(calculate_vif(r2),3)\n",
    "        var.append(vif)\n",
    "        vif_scores.append(var)\n",
    "        \n",
    "        vif_dataframe = pd.DataFrame(vif_scores, columns = ['Variables', 'VIF'])   \n",
    "    \n",
    "    return vif_dataframe"
   ]
  },
  {
   "cell_type": "code",
   "execution_count": null,
   "metadata": {},
   "outputs": [],
   "source": []
  },
  {
   "cell_type": "code",
   "execution_count": 22,
   "metadata": {},
   "outputs": [],
   "source": [
    "xtest = test[['Lot Frontage','Lot Area','Overall Qual','Overall Cond','Total Bsmt SF','1st Flr SF','2nd Flr SF','Gr Liv Area','Garage Area','Wood Deck SF','Overall Qual','Year Remod/Add','Bedroom AbvGr','TotRms AbvGrd','Garage Cars']]\n",
    "xtest2 = process(xtest)\n",
    "sale_price = linreg(X,y,xtest2)\n",
    "test['SalePrice'] = sale_price"
   ]
  },
  {
   "cell_type": "code",
   "execution_count": 23,
   "metadata": {},
   "outputs": [],
   "source": [
    "#test.to_csv(r\"C:\\Users\\Duker\\Desktop\\CS530\\Quiz\\Quiz 2\\attempt11.csv\")"
   ]
  },
  {
   "cell_type": "code",
   "execution_count": null,
   "metadata": {},
   "outputs": [],
   "source": []
  },
  {
   "cell_type": "code",
   "execution_count": null,
   "metadata": {},
   "outputs": [],
   "source": []
  },
  {
   "cell_type": "code",
   "execution_count": null,
   "metadata": {},
   "outputs": [],
   "source": []
  }
 ],
 "metadata": {
  "kernelspec": {
   "display_name": "Python 3",
   "language": "python",
   "name": "python3"
  },
  "language_info": {
   "codemirror_mode": {
    "name": "ipython",
    "version": 3
   },
   "file_extension": ".py",
   "mimetype": "text/x-python",
   "name": "python",
   "nbconvert_exporter": "python",
   "pygments_lexer": "ipython3",
   "version": "3.7.4"
  }
 },
 "nbformat": 4,
 "nbformat_minor": 2
}
