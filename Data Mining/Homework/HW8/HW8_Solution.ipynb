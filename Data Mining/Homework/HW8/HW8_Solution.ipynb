{
 "cells": [
  {
   "cell_type": "markdown",
   "metadata": {},
   "source": [
    "# CS530 HW8"
   ]
  },
  {
   "cell_type": "code",
   "execution_count": 23,
   "metadata": {},
   "outputs": [],
   "source": [
    "import numpy as np\n",
    "import pandas as pd\n",
    "import matplotlib.pyplot as plt"
   ]
  },
  {
   "cell_type": "markdown",
   "metadata": {},
   "source": [
    "#### Question 1. (4 points)\n",
    "\n",
    "a. For classification trees, implement three functions to calculate the (1) cross-entropy, (2) Gini index, and (3) misclassification error. Assume binary classification (labels are 0’s and 1’s). The functions takes p_1, the probability of a record belong to class k=1, as input."
   ]
  },
  {
   "cell_type": "code",
   "execution_count": 24,
   "metadata": {},
   "outputs": [],
   "source": [
    "def cal_cross_entropy(p_1):\n",
    "    cross_entropy = - ((p_1 * np.log(p_1) + (1-p_1) * np.log(1-p_1)))\n",
    "    return cross_entropy\n",
    "\n",
    "def cal_gini_index(p_1):\n",
    "    gini_index =  p_1 * (1-p_1) * 2\n",
    "    return gini_index\n",
    "\n",
    "def cal_misclassification_error(p_1):\n",
    "    \n",
    "    #### Some people found that the probability should be flipped while p_1 is less than 0.5\n",
    "    ## Here is an alternative solution which I think makes more sense and create a better looking graph.\n",
    "    #     if p_1 > 0.5:\n",
    "    #         mc_error = 1 - p_1\n",
    "    #     else:\n",
    "    #         mc_error = p_1\n",
    "    #     return mc_error\n",
    "    \n",
    "    #### This implementation is based on the slides, both would be considered correct in the HW.\n",
    "    mc_error = 1-p_1\n",
    "    return mc_error"
   ]
  },
  {
   "cell_type": "markdown",
   "metadata": {},
   "source": [
    "b. Apply the three functions you implemented in 1a on the training test (train.csv) of the heart-disease dataset. Choose the 'age' variable as the root node. Use each value in the 'age' variable as the splitting value. Plot the cross entropy, Gini index, and misclassification error over age on the two child nodes after splitting."
   ]
  },
  {
   "cell_type": "code",
   "execution_count": 3,
   "metadata": {},
   "outputs": [],
   "source": [
    "# Your code goes here\n",
    "train = pd.read_csv('train.csv', index_col=0)"
   ]
  },
  {
   "cell_type": "code",
   "execution_count": 4,
   "metadata": {},
   "outputs": [
    {
     "data": {
      "text/html": [
       "<div>\n",
       "<style scoped>\n",
       "    .dataframe tbody tr th:only-of-type {\n",
       "        vertical-align: middle;\n",
       "    }\n",
       "\n",
       "    .dataframe tbody tr th {\n",
       "        vertical-align: top;\n",
       "    }\n",
       "\n",
       "    .dataframe thead th {\n",
       "        text-align: right;\n",
       "    }\n",
       "</style>\n",
       "<table border=\"1\" class=\"dataframe\">\n",
       "  <thead>\n",
       "    <tr style=\"text-align: right;\">\n",
       "      <th></th>\n",
       "      <th>age</th>\n",
       "      <th>sex</th>\n",
       "      <th>cp</th>\n",
       "      <th>trestbps</th>\n",
       "      <th>chol</th>\n",
       "      <th>fbs</th>\n",
       "      <th>restecg</th>\n",
       "      <th>thalach</th>\n",
       "      <th>exang</th>\n",
       "      <th>oldpeak</th>\n",
       "      <th>slope</th>\n",
       "      <th>ca</th>\n",
       "      <th>thal</th>\n",
       "      <th>target</th>\n",
       "    </tr>\n",
       "  </thead>\n",
       "  <tbody>\n",
       "    <tr>\n",
       "      <td>0</td>\n",
       "      <td>63</td>\n",
       "      <td>0</td>\n",
       "      <td>0</td>\n",
       "      <td>108</td>\n",
       "      <td>269</td>\n",
       "      <td>0</td>\n",
       "      <td>1</td>\n",
       "      <td>169</td>\n",
       "      <td>1</td>\n",
       "      <td>1.8</td>\n",
       "      <td>1</td>\n",
       "      <td>2</td>\n",
       "      <td>2</td>\n",
       "      <td>0</td>\n",
       "    </tr>\n",
       "    <tr>\n",
       "      <td>1</td>\n",
       "      <td>58</td>\n",
       "      <td>0</td>\n",
       "      <td>3</td>\n",
       "      <td>150</td>\n",
       "      <td>283</td>\n",
       "      <td>1</td>\n",
       "      <td>0</td>\n",
       "      <td>162</td>\n",
       "      <td>0</td>\n",
       "      <td>1.0</td>\n",
       "      <td>2</td>\n",
       "      <td>0</td>\n",
       "      <td>2</td>\n",
       "      <td>1</td>\n",
       "    </tr>\n",
       "    <tr>\n",
       "      <td>2</td>\n",
       "      <td>65</td>\n",
       "      <td>1</td>\n",
       "      <td>0</td>\n",
       "      <td>110</td>\n",
       "      <td>248</td>\n",
       "      <td>0</td>\n",
       "      <td>0</td>\n",
       "      <td>158</td>\n",
       "      <td>0</td>\n",
       "      <td>0.6</td>\n",
       "      <td>2</td>\n",
       "      <td>2</td>\n",
       "      <td>1</td>\n",
       "      <td>0</td>\n",
       "    </tr>\n",
       "    <tr>\n",
       "      <td>3</td>\n",
       "      <td>55</td>\n",
       "      <td>1</td>\n",
       "      <td>1</td>\n",
       "      <td>130</td>\n",
       "      <td>262</td>\n",
       "      <td>0</td>\n",
       "      <td>1</td>\n",
       "      <td>155</td>\n",
       "      <td>0</td>\n",
       "      <td>0.0</td>\n",
       "      <td>2</td>\n",
       "      <td>0</td>\n",
       "      <td>2</td>\n",
       "      <td>1</td>\n",
       "    </tr>\n",
       "    <tr>\n",
       "      <td>4</td>\n",
       "      <td>56</td>\n",
       "      <td>0</td>\n",
       "      <td>0</td>\n",
       "      <td>134</td>\n",
       "      <td>409</td>\n",
       "      <td>0</td>\n",
       "      <td>0</td>\n",
       "      <td>150</td>\n",
       "      <td>1</td>\n",
       "      <td>1.9</td>\n",
       "      <td>1</td>\n",
       "      <td>2</td>\n",
       "      <td>3</td>\n",
       "      <td>0</td>\n",
       "    </tr>\n",
       "  </tbody>\n",
       "</table>\n",
       "</div>"
      ],
      "text/plain": [
       "   age  sex  cp  trestbps  chol  fbs  restecg  thalach  exang  oldpeak  slope  \\\n",
       "0   63    0   0       108   269    0        1      169      1      1.8      1   \n",
       "1   58    0   3       150   283    1        0      162      0      1.0      2   \n",
       "2   65    1   0       110   248    0        0      158      0      0.6      2   \n",
       "3   55    1   1       130   262    0        1      155      0      0.0      2   \n",
       "4   56    0   0       134   409    0        0      150      1      1.9      1   \n",
       "\n",
       "   ca  thal  target  \n",
       "0   2     2       0  \n",
       "1   0     2       1  \n",
       "2   2     1       0  \n",
       "3   0     2       1  \n",
       "4   2     3       0  "
      ]
     },
     "execution_count": 4,
     "metadata": {},
     "output_type": "execute_result"
    }
   ],
   "source": [
    "train.head()"
   ]
  },
  {
   "cell_type": "code",
   "execution_count": 5,
   "metadata": {},
   "outputs": [
    {
     "data": {
      "text/plain": [
       "Index(['age', 'sex', 'cp', 'trestbps', 'chol', 'fbs', 'restecg', 'thalach',\n",
       "       'exang', 'oldpeak', 'slope', 'ca', 'thal', 'target'],\n",
       "      dtype='object')"
      ]
     },
     "execution_count": 5,
     "metadata": {},
     "output_type": "execute_result"
    }
   ],
   "source": [
    "train.columns"
   ]
  },
  {
   "cell_type": "code",
   "execution_count": 8,
   "metadata": {},
   "outputs": [],
   "source": [
    "unique_ages = np.unique(train['age'].values)"
   ]
  },
  {
   "cell_type": "code",
   "execution_count": 9,
   "metadata": {},
   "outputs": [
    {
     "data": {
      "text/plain": [
       "array([29, 34, 35, 37, 38, 39, 40, 41, 42, 43, 44, 45, 46, 47, 48, 49, 50,\n",
       "       51, 52, 53, 54, 55, 56, 57, 58, 59, 60, 61, 62, 63, 64, 65, 66, 67,\n",
       "       68, 69, 70, 71], dtype=int64)"
      ]
     },
     "execution_count": 9,
     "metadata": {},
     "output_type": "execute_result"
    }
   ],
   "source": [
    "unique_ages"
   ]
  },
  {
   "cell_type": "code",
   "execution_count": 13,
   "metadata": {},
   "outputs": [
    {
     "name": "stderr",
     "output_type": "stream",
     "text": [
      "C:\\Users\\Duker\\AppData\\Local\\Continuum\\anaconda3\\lib\\site-packages\\ipykernel_launcher.py:2: RuntimeWarning: divide by zero encountered in log\n",
      "  \n",
      "C:\\Users\\Duker\\AppData\\Local\\Continuum\\anaconda3\\lib\\site-packages\\ipykernel_launcher.py:2: RuntimeWarning: invalid value encountered in double_scalars\n",
      "  \n"
     ]
    }
   ],
   "source": [
    "left_ginis = []\n",
    "right_ginis = []\n",
    "left_ces = []\n",
    "right_ces = []\n",
    "left_mes = []\n",
    "right_mes = []\n",
    "\n",
    "# Get rid of edge cases\n",
    "unique_ages = unique_ages[:-1]\n",
    "\n",
    "for age in unique_ages:\n",
    "    # Split the data based on each age value to a left node and right node\n",
    "    left_node = train.loc[train['age']<=age,:]\n",
    "    right_node = train.loc[train['age']>age,:]\n",
    "    \n",
    "    # Calculate the probability of data in a class for both nodes\n",
    "    p_1_left_node = np.sum(left_node['target'].values == 1)/len(left_node['target'].values)\n",
    "    p_1_right_node = np.sum(right_node['target'].values == 1)/len(right_node['target'].values)\n",
    "    \n",
    "    # Calculate the three different indexes and record\n",
    "    left_ces.append(cal_cross_entropy(p_1_left_node))\n",
    "    right_ces.append(cal_cross_entropy(p_1_right_node))\n",
    "    left_ginis.append(cal_gini_index(p_1_left_node))\n",
    "    right_ginis.append(cal_gini_index(p_1_right_node))\n",
    "    left_mes.append(cal_misclassification_error(p_1_left_node))\n",
    "    right_mes.append(cal_misclassification_error(p_1_right_node))\n",
    "    "
   ]
  },
  {
   "cell_type": "code",
   "execution_count": 22,
   "metadata": {},
   "outputs": [
    {
     "data": {
      "image/png": "[encoded data removed]",
      "text/plain": [
       "<Figure size 432x288 with 1 Axes>"
      ]
     },
     "metadata": {
      "needs_background": "light"
     },
     "output_type": "display_data"
    }
   ],
   "source": [
    "plt.plot(unique_ages, left_ginis)\n",
    "plt.plot(unique_ages, left_ces)\n",
    "plt.plot(unique_ages, left_mes)\n",
    "plt.legend(('Gini Index', 'Cross-entropy', 'Misc Error'))\n",
    "plt.title('Left Node')\n",
    "plt.xlabel('Age')\n",
    "plt.ylabel('Indices')\n",
    "plt.show()"
   ]
  },
  {
   "cell_type": "code",
   "execution_count": 21,
   "metadata": {},
   "outputs": [
    {
     "data": {
      "image/png": "[encoded data removed]",
      "text/plain": [
       "<Figure size 432x288 with 1 Axes>"
      ]
     },
     "metadata": {
      "needs_background": "light"
     },
     "output_type": "display_data"
    }
   ],
   "source": [
    "plt.plot(unique_ages, right_ginis)\n",
    "plt.plot(unique_ages, right_ces)\n",
    "plt.plot(unique_ages, right_mes)\n",
    "plt.legend(('Gini Index', 'Cross-entropy', 'Misc Error'))\n",
    "plt.title('Right Node')\n",
    "plt.xlabel('Age')\n",
    "plt.ylabel('Indices')\n",
    "plt.show()"
   ]
  },
  {
   "cell_type": "code",
   "execution_count": 25,
   "metadata": {},
   "outputs": [
    {
     "data": {
      "image/png": "[encoded data removed]",
      "text/plain": [
       "<Figure size 432x288 with 1 Axes>"
      ]
     },
     "metadata": {
      "needs_background": "light"
     },
     "output_type": "display_data"
    }
   ],
   "source": [
    "plt.plot(unique_ages, np.array(left_ginis)+np.array(right_ginis))\n",
    "plt.plot(unique_ages, np.array(left_ces)+np.array(right_ces))\n",
    "plt.plot(unique_ages, np.array(left_mes)+np.array(right_mes))\n",
    "plt.legend(('Gini Index', 'Cross-entropy', 'Misc Error'))\n",
    "plt.title('Both')\n",
    "plt.xlabel('Age')\n",
    "plt.ylabel('Indices')\n",
    "plt.show()"
   ]
  },
  {
   "cell_type": "markdown",
   "metadata": {},
   "source": [
    "c. Discuss what you find in 1b. What age would you choose for the splitting value?"
   ]
  },
  {
   "cell_type": "code",
   "execution_count": 12,
   "metadata": {},
   "outputs": [],
   "source": [
    "# Your code goes here"
   ]
  },
  {
   "cell_type": "markdown",
   "metadata": {},
   "source": [
    "I am thinking that the sum of the Gini Index/Cross-entropy/Misclassification error of both nodes can give me some hints about which age we should split on. From the plots we can see that Misclassification Error gives us wierd results for the right node that is not consistant wtth the Cross-Entropy and Gini Index. After summing the value for the left node and right node, we can see that other than the edge cases, age 45 is probabibly the best split for the age variable.\n",
    "\n",
    "We also need to be careful that the flatness of the curves also mean that the age variable might not contain much information for us to split."
   ]
  },
  {
   "cell_type": "markdown",
   "metadata": {},
   "source": [
    "#### Question 2. (3 points)"
   ]
  },
  {
   "cell_type": "markdown",
   "metadata": {},
   "source": [
    "a. Implement a function to carry out the regression tree algorithm using the greedy approach. This implementation assumes the tree only splits twice. The function takes inputs X_train, y_train, and X_test, and return a prediction y_pred for X_test."
   ]
  },
  {
   "cell_type": "code",
   "execution_count": 13,
   "metadata": {},
   "outputs": [],
   "source": [
    "def split(X, y):\n",
    "    # A function to find the feature and value to split given the data\n",
    "    r,c = X.shape\n",
    "    min_rss = np.inf\n",
    "    left_avg = 0\n",
    "    right_avg = 0\n",
    "    left_indexes = []\n",
    "    right_indexes = []\n",
    "    \n",
    "    for i in range(c):\n",
    "        for j in range(r):\n",
    "            # Get the indexes for data in left node and right node\n",
    "            left_node_indexes = X[:,i] <= X[j,i]\n",
    "            right_node_indexes = X[:,i] > X[j,i]\n",
    "            y_left = y[left_node_indexes]\n",
    "            y_right = y[right_node_indexes]\n",
    "            \n",
    "            # Get the average value of the node for prediction\n",
    "            tmp_left_avg = np.mean(y_left)\n",
    "            tmp_right_avg = np.mean(y_right)\n",
    "            \n",
    "            # Calculate the RSS base on the the prediction\n",
    "            rss = np.sum(np.square(y_left-tmp_left_avg)) + np.sum(np.square(y_right-tmp_right_avg))\n",
    "            \n",
    "            # Update the necessary values for the split\n",
    "            if rss <= min_rss:\n",
    "                min_rss = rss\n",
    "                left_avg = tmp_left_avg\n",
    "                right_avg = tmp_right_avg\n",
    "                value = X[j,i]\n",
    "                feature = i\n",
    "                left_indexes = left_node_indexes\n",
    "                right_indexes = right_node_indexes\n",
    "            \n",
    "    return value, feature, left_avg, right_avg, left_indexes, right_indexes, min_rss\n",
    "\n",
    "def classify(feature, value):\n",
    "    if feature <= value:\n",
    "        return 'left'\n",
    "    else:\n",
    "        return 'right'\n",
    "\n",
    "def regression_tree(X_train, y_train, X_test):\n",
    "    # First split\n",
    "    first_value, first_feature, _, _, l_indexes, r_indexes, _ = split(X_train, y_train)\n",
    "    \n",
    "    # Divide the data into left and right after the first split\n",
    "    l_X_train = X_train[l_indexes,:]\n",
    "    l_y_train = y_train[l_indexes]\n",
    "    r_X_train = X_train[r_indexes,:]\n",
    "    r_y_train = y_train[r_indexes]\n",
    "    \n",
    "    # Second split\n",
    "    # Left\n",
    "    l_value, l_feature, ll_avg, lr_avg, ll_indexes, lr_indexes, _ = split(l_X_train, l_y_train)\n",
    "    # Right\n",
    "    r_value, r_feature, rl_avg, rr_avg, rl_indexes, rl_indexes, _ = split(r_X_train, r_y_train)\n",
    "\n",
    "    # Interate the test set and make prediction based on the the tree you build\n",
    "    y_pred = []\n",
    "    for i in range(X_test.shape[0]):\n",
    "        if classify(X_test[i,first_feature], first_value) == 'left':\n",
    "            if classify(X_test[i,l_feature], l_value) == 'left':\n",
    "                pred = ll_avg\n",
    "            else:\n",
    "                pred = lr_avg\n",
    "        else:\n",
    "            if classify(X_test[i,r_feature], r_value) == 'left':\n",
    "                pred = rl_avg\n",
    "            else:\n",
    "                pred = rr_avg\n",
    "        y_pred.append(pred)\n",
    "    return y_pred"
   ]
  },
  {
   "cell_type": "markdown",
   "metadata": {},
   "source": [
    "b. Use the function you implemented in 2a to predict on the synthetic data below."
   ]
  },
  {
   "cell_type": "code",
   "execution_count": 35,
   "metadata": {},
   "outputs": [],
   "source": [
    "from sklearn.datasets import make_regression\n",
    "from sklearn.model_selection import train_test_split\n",
    "# make a linearly separable dataset\n",
    "X, y = make_regression(n_samples=1000,\n",
    "                       n_features=3)\n",
    "X_train, X_test, y_train, y_test = train_test_split(X, y, test_size=0.33, random_state=42)\n"
   ]
  },
  {
   "cell_type": "code",
   "execution_count": 36,
   "metadata": {},
   "outputs": [],
   "source": [
    "# Your code goes here"
   ]
  },
  {
   "cell_type": "code",
   "execution_count": 37,
   "metadata": {},
   "outputs": [
    {
     "name": "stderr",
     "output_type": "stream",
     "text": [
      "C:\\Users\\Duker\\AppData\\Local\\Continuum\\anaconda3\\lib\\site-packages\\numpy\\core\\fromnumeric.py:3118: RuntimeWarning: Mean of empty slice.\n",
      "  out=out, **kwargs)\n",
      "C:\\Users\\Duker\\AppData\\Local\\Continuum\\anaconda3\\lib\\site-packages\\numpy\\core\\_methods.py:85: RuntimeWarning: invalid value encountered in double_scalars\n",
      "  ret = ret.dtype.type(ret / rcount)\n"
     ]
    }
   ],
   "source": [
    "y_pred = regression_tree(X_train, y_train, X_test)"
   ]
  },
  {
   "cell_type": "code",
   "execution_count": 40,
   "metadata": {},
   "outputs": [
    {
     "data": {
      "text/plain": [
       "array([-137.43319362,  -35.95875331,   52.76580518,  141.60872796])"
      ]
     },
     "execution_count": 40,
     "metadata": {},
     "output_type": "execute_result"
    }
   ],
   "source": [
    "np.unique(y_pred)"
   ]
  },
  {
   "cell_type": "code",
   "execution_count": 39,
   "metadata": {},
   "outputs": [
    {
     "data": {
      "text/plain": [
       "2803.033996683301"
      ]
     },
     "execution_count": 39,
     "metadata": {},
     "output_type": "execute_result"
    }
   ],
   "source": [
    "np.mean(np.square((y_pred - y_test)))"
   ]
  },
  {
   "cell_type": "markdown",
   "metadata": {},
   "source": [
    "c. Do you think this implementation of the regression tree is a good model for this dataset? Explain."
   ]
  },
  {
   "cell_type": "code",
   "execution_count": 19,
   "metadata": {},
   "outputs": [],
   "source": [
    "# Your discussion goes here"
   ]
  },
  {
   "cell_type": "code",
   "execution_count": 20,
   "metadata": {},
   "outputs": [],
   "source": [
    "import numpy as np\n",
    "from sklearn.linear_model import LinearRegression\n",
    "\n",
    "reg = LinearRegression().fit(X_train, y_train)\n",
    "y_pred_reg = reg.predict(X_test)"
   ]
  },
  {
   "cell_type": "code",
   "execution_count": 21,
   "metadata": {},
   "outputs": [
    {
     "data": {
      "text/plain": [
       "9.478342315772453e-28"
      ]
     },
     "execution_count": 21,
     "metadata": {},
     "output_type": "execute_result"
    }
   ],
   "source": [
    "np.mean(np.square((y_pred_reg - y_test)))"
   ]
  },
  {
   "cell_type": "markdown",
   "metadata": {},
   "source": [
    "This regression tree is not be a good model for the dataset. As we can see that this dataset is a perfect linear line in a 4-dimensional space. The regression tree made a step function that poorly fit this linear relationship."
   ]
  },
  {
   "cell_type": "markdown",
   "metadata": {},
   "source": [
    "#### Question 3. (3 points)\n",
    "\n",
    "a. Use the scikit-learn package to run Bagging and Random Forest on the heart-disease dataset and predict on its test set. Use cross-validation to find the best parameters for these algorithms."
   ]
  },
  {
   "cell_type": "code",
   "execution_count": 27,
   "metadata": {},
   "outputs": [],
   "source": [
    "# Your code goes here\n",
    "from sklearn.ensemble import BaggingClassifier\n",
    "from sklearn.ensemble import RandomForestClassifier\n",
    "from sklearn.model_selection import cross_val_score\n",
    "from sklearn import metrics"
   ]
  },
  {
   "cell_type": "code",
   "execution_count": 28,
   "metadata": {},
   "outputs": [],
   "source": [
    "test = pd.read_csv('test.csv', index_col=0)"
   ]
  },
  {
   "cell_type": "code",
   "execution_count": 31,
   "metadata": {},
   "outputs": [
    {
     "data": {
      "text/html": [
       "<div>\n",
       "<style scoped>\n",
       "    .dataframe tbody tr th:only-of-type {\n",
       "        vertical-align: middle;\n",
       "    }\n",
       "\n",
       "    .dataframe tbody tr th {\n",
       "        vertical-align: top;\n",
       "    }\n",
       "\n",
       "    .dataframe thead th {\n",
       "        text-align: right;\n",
       "    }\n",
       "</style>\n",
       "<table border=\"1\" class=\"dataframe\">\n",
       "  <thead>\n",
       "    <tr style=\"text-align: right;\">\n",
       "      <th></th>\n",
       "      <th>age</th>\n",
       "      <th>sex</th>\n",
       "      <th>cp</th>\n",
       "      <th>trestbps</th>\n",
       "      <th>chol</th>\n",
       "      <th>fbs</th>\n",
       "      <th>restecg</th>\n",
       "      <th>thalach</th>\n",
       "      <th>exang</th>\n",
       "      <th>oldpeak</th>\n",
       "      <th>slope</th>\n",
       "      <th>ca</th>\n",
       "      <th>thal</th>\n",
       "      <th>target</th>\n",
       "    </tr>\n",
       "  </thead>\n",
       "  <tbody>\n",
       "    <tr>\n",
       "      <td>227</td>\n",
       "      <td>49</td>\n",
       "      <td>1</td>\n",
       "      <td>2</td>\n",
       "      <td>118</td>\n",
       "      <td>149</td>\n",
       "      <td>0</td>\n",
       "      <td>0</td>\n",
       "      <td>126</td>\n",
       "      <td>0</td>\n",
       "      <td>0.8</td>\n",
       "      <td>2</td>\n",
       "      <td>3</td>\n",
       "      <td>2</td>\n",
       "      <td>0</td>\n",
       "    </tr>\n",
       "    <tr>\n",
       "      <td>228</td>\n",
       "      <td>51</td>\n",
       "      <td>0</td>\n",
       "      <td>0</td>\n",
       "      <td>130</td>\n",
       "      <td>305</td>\n",
       "      <td>0</td>\n",
       "      <td>1</td>\n",
       "      <td>142</td>\n",
       "      <td>1</td>\n",
       "      <td>1.2</td>\n",
       "      <td>1</td>\n",
       "      <td>0</td>\n",
       "      <td>3</td>\n",
       "      <td>0</td>\n",
       "    </tr>\n",
       "    <tr>\n",
       "      <td>229</td>\n",
       "      <td>42</td>\n",
       "      <td>0</td>\n",
       "      <td>2</td>\n",
       "      <td>120</td>\n",
       "      <td>209</td>\n",
       "      <td>0</td>\n",
       "      <td>1</td>\n",
       "      <td>173</td>\n",
       "      <td>0</td>\n",
       "      <td>0.0</td>\n",
       "      <td>1</td>\n",
       "      <td>0</td>\n",
       "      <td>2</td>\n",
       "      <td>1</td>\n",
       "    </tr>\n",
       "    <tr>\n",
       "      <td>230</td>\n",
       "      <td>61</td>\n",
       "      <td>0</td>\n",
       "      <td>0</td>\n",
       "      <td>130</td>\n",
       "      <td>330</td>\n",
       "      <td>0</td>\n",
       "      <td>0</td>\n",
       "      <td>169</td>\n",
       "      <td>0</td>\n",
       "      <td>0.0</td>\n",
       "      <td>2</td>\n",
       "      <td>0</td>\n",
       "      <td>2</td>\n",
       "      <td>0</td>\n",
       "    </tr>\n",
       "    <tr>\n",
       "      <td>231</td>\n",
       "      <td>56</td>\n",
       "      <td>0</td>\n",
       "      <td>1</td>\n",
       "      <td>140</td>\n",
       "      <td>294</td>\n",
       "      <td>0</td>\n",
       "      <td>0</td>\n",
       "      <td>153</td>\n",
       "      <td>0</td>\n",
       "      <td>1.3</td>\n",
       "      <td>1</td>\n",
       "      <td>0</td>\n",
       "      <td>2</td>\n",
       "      <td>1</td>\n",
       "    </tr>\n",
       "  </tbody>\n",
       "</table>\n",
       "</div>"
      ],
      "text/plain": [
       "     age  sex  cp  trestbps  chol  fbs  restecg  thalach  exang  oldpeak  \\\n",
       "227   49    1   2       118   149    0        0      126      0      0.8   \n",
       "228   51    0   0       130   305    0        1      142      1      1.2   \n",
       "229   42    0   2       120   209    0        1      173      0      0.0   \n",
       "230   61    0   0       130   330    0        0      169      0      0.0   \n",
       "231   56    0   1       140   294    0        0      153      0      1.3   \n",
       "\n",
       "     slope  ca  thal  target  \n",
       "227      2   3     2       0  \n",
       "228      1   0     3       0  \n",
       "229      1   0     2       1  \n",
       "230      2   0     2       0  \n",
       "231      1   0     2       1  "
      ]
     },
     "execution_count": 31,
     "metadata": {},
     "output_type": "execute_result"
    }
   ],
   "source": [
    "test.head()"
   ]
  },
  {
   "cell_type": "code",
   "execution_count": 25,
   "metadata": {},
   "outputs": [],
   "source": [
    "X_train = train.drop(['target'], axis=1)\n",
    "y_train = train['target']\n",
    "X_test = test.drop(['target'], axis=1)\n",
    "y_test = test['target']"
   ]
  },
  {
   "cell_type": "code",
   "execution_count": 26,
   "metadata": {},
   "outputs": [],
   "source": [
    "params = {'n_estimators': [50,100,200,300,400]}\n",
    "\n",
    "bagging_scores = []\n",
    "for param in params['n_estimators']:\n",
    "    clf = BaggingClassifier(n_estimators = param, random_state = 0)\n",
    "    score = np.mean(cross_val_score(clf, X_train, y_train, scoring = 'roc_auc', cv = 10))\n",
    "    bagging_scores.append(score)"
   ]
  },
  {
   "cell_type": "code",
   "execution_count": 27,
   "metadata": {},
   "outputs": [
    {
     "data": {
      "text/plain": [
       "[0.8707501147842057,\n",
       " 0.8814250459136822,\n",
       " 0.8746441689623508,\n",
       " 0.8770862029384757,\n",
       " 0.871952479338843]"
      ]
     },
     "execution_count": 27,
     "metadata": {},
     "output_type": "execute_result"
    }
   ],
   "source": [
    "bagging_scores"
   ]
  },
  {
   "cell_type": "markdown",
   "metadata": {},
   "source": [
    "For Bagging, using 100 trees give the best AUC."
   ]
  },
  {
   "cell_type": "code",
   "execution_count": 28,
   "metadata": {},
   "outputs": [],
   "source": [
    "rf_scores = []\n",
    "for param in params['n_estimators']:\n",
    "    clf = RandomForestClassifier(n_estimators=param, random_state=0)\n",
    "    score = np.mean(cross_val_score(clf, X_train, y_train, scoring = 'roc_auc', cv = 10))\n",
    "    rf_scores.append(score)"
   ]
  },
  {
   "cell_type": "code",
   "execution_count": 29,
   "metadata": {},
   "outputs": [
    {
     "data": {
      "text/plain": [
       "[0.8924500688705234,\n",
       " 0.9016184573002753,\n",
       " 0.9020316804407713,\n",
       " 0.9048898071625345,\n",
       " 0.9039944903581267]"
      ]
     },
     "execution_count": 29,
     "metadata": {},
     "output_type": "execute_result"
    }
   ],
   "source": [
    "rf_scores"
   ]
  },
  {
   "cell_type": "markdown",
   "metadata": {},
   "source": [
    "For Random Forest, using 300 trees give the best AUC"
   ]
  },
  {
   "cell_type": "markdown",
   "metadata": {},
   "source": [
    "b. On the same axes, plot the ROC curves for the two algorithms with the best parameters that you found in 3a. Annotate their AUC values and compare their performance. "
   ]
  },
  {
   "cell_type": "code",
   "execution_count": 30,
   "metadata": {},
   "outputs": [],
   "source": [
    "# Use 100 trees to train Bagging:\n",
    "bag = BaggingClassifier(n_estimators=100, random_state=0).fit(X_train, y_train)\n",
    "bag_y_proba = bag.predict_proba(X_test)\n",
    "\n",
    "# Using 300 trees to train Random Forest\n",
    "rf = RandomForestClassifier(n_estimators=300, random_state=0).fit(X_train, y_train)\n",
    "rf_y_proba = rf.predict_proba(X_test)"
   ]
  },
  {
   "cell_type": "code",
   "execution_count": 31,
   "metadata": {},
   "outputs": [
    {
     "data": {
      "text/plain": [
       "<matplotlib.legend.Legend at 0x21352887d88>"
      ]
     },
     "execution_count": 31,
     "metadata": {},
     "output_type": "execute_result"
    },
    {
     "data": {
      "image/png": "[encoded data removed]",
      "text/plain": [
       "<Figure size 432x288 with 1 Axes>"
      ]
     },
     "metadata": {
      "needs_background": "light"
     },
     "output_type": "display_data"
    }
   ],
   "source": [
    "# Your code goes here\n",
    "bagging_auc = np.round(metrics.roc_auc_score(y_test, bag_y_proba[:,1]), 2)\n",
    "\n",
    "fpr, tpr, thr = metrics.roc_curve(y_test, bag_y_proba[:,1])\n",
    "plt.plot(fpr, tpr, 'ro-', lw=1)\n",
    "\n",
    "rf_auc = np.round(metrics.roc_auc_score(y_test, rf_y_proba[:,1]), 2)\n",
    "fpr, tpr, thr = metrics.roc_curve(y_test, rf_y_proba[:,1])\n",
    "plt.plot(fpr, tpr, 'bo-', lw=1)\n",
    "\n",
    "plt.plot([0, 1], [0, 1], color='navy', lw=1, linestyle='--')\n",
    "plt.ylabel('Sklearn ROC')\n",
    "\n",
    "plt.legend(['Bagging AUC={}'.format(str(bagging_auc)), 'Random Forest AUC={}'.format(str(rf_auc))])"
   ]
  },
  {
   "cell_type": "markdown",
   "metadata": {},
   "source": [
    "c. Explain your results in 3b. Why might the results vary across algorithms?"
   ]
  },
  {
   "cell_type": "code",
   "execution_count": 32,
   "metadata": {},
   "outputs": [],
   "source": [
    "# Your discussion goes here"
   ]
  },
  {
   "cell_type": "markdown",
   "metadata": {},
   "source": [
    "Random Forest takes subset of the features every time a tree is build. That way the Random Forest algorithm is able to create much more variability of trees that capture the importance of each feature better, while bagging uses the entire feature space every time a tree is build, some dominant features might cause the tree to split every time on that feature, making bagging less robust to Rondom Forest."
   ]
  },
  {
   "cell_type": "code",
   "execution_count": null,
   "metadata": {},
   "outputs": [],
   "source": []
  }
 ],
 "metadata": {
  "kernelspec": {
   "display_name": "Python 3",
   "language": "python",
   "name": "python3"
  },
  "language_info": {
   "codemirror_mode": {
    "name": "ipython",
    "version": 3
   },
   "file_extension": ".py",
   "mimetype": "text/x-python",
   "name": "python",
   "nbconvert_exporter": "python",
   "pygments_lexer": "ipython3",
   "version": "3.7.4"
  }
 },
 "nbformat": 4,
 "nbformat_minor": 2
}
