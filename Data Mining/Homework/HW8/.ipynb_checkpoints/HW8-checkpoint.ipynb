{
 "cells": [
  {
   "cell_type": "markdown",
   "metadata": {},
   "source": [
    "# CS530 HW8"
   ]
  },
  {
   "cell_type": "markdown",
   "metadata": {},
   "source": [
    "#### Question 1. (4 points)\n",
    "\n",
    "a. For classification trees, implement three functions to calculate the (1) cross-entropy, (2) Gini index, and (3) misclassification error. Assume binary classification (labels are 0’s and 1’s). The functions takes p_1, the probability of a record belong to class k=1, as input."
   ]
  },
  {
   "cell_type": "code",
   "execution_count": 1,
   "metadata": {},
   "outputs": [],
   "source": [
    "import numpy as np\n",
    "import pandas as pd\n",
    "from sklearn.preprocessing import StandardScaler \n",
    "from sklearn.model_selection import cross_val_score\n",
    "from sklearn import metrics\n",
    "from sklearn.tree import DecisionTreeRegressor as dtr\n",
    "import matplotlib.pyplot as plt\n",
    "plt.style.use('seaborn')\n",
    "%matplotlib inline"
   ]
  },
  {
   "cell_type": "code",
   "execution_count": 2,
   "metadata": {},
   "outputs": [],
   "source": [
    "def cal_cross_entropy(p_1):\n",
    "    cross_entropy = -np.sum(p_1*np.log(p_1))\n",
    "    return cross_entropy\n",
    "\n",
    "def cal_gini_index(p_1):\n",
    "    gini_index = np.sum(p_1*(1-p_1))\n",
    "    return gini_index\n",
    "\n",
    "def cal_misclassification_error(p_1):\n",
    "    mc_error = 1 - p_1\n",
    "    return mc_error"
   ]
  },
  {
   "cell_type": "markdown",
   "metadata": {},
   "source": [
    "b. Apply the three functions you implemented in 1a on the training test (train.csv) of the heart-disease dataset. Choose the 'age' variable as the root node. Use each value in the 'age' variable as the splitting value. Plot the cross entropy, Gini index, and misclassification error over age on the two child nodes after splitting."
   ]
  },
  {
   "cell_type": "code",
   "execution_count": 3,
   "metadata": {},
   "outputs": [],
   "source": [
    "# Your code goes here\n",
    "train = pd.read_csv(\"train.csv\", index_col = 0)\n",
    "age = train['age'].values\n",
    "\n",
    "xtrain1 = train.drop('target', axis = 1)\n",
    "ytrain1 = train['target']\n",
    "\n",
    "test = pd.read_csv(\"test.csv\", index_col = 0)\n",
    "xtest1 = test.drop('target', axis =1)\n",
    "ytest1 = test['target']\n",
    "\n",
    "def weighted_avg(g, left, right):\n",
    "    avg = g[0]*(len(left)/(len(left) + len(right))) + g[1]*(len(right)/(len(right) + len(left)))\n",
    "    return avg\n",
    "\n",
    "def ugly_boi(data):\n",
    "    gini_ind, entropy, mce = list(), list(), list()  \n",
    "    for i in data['age'].values:\n",
    "        fill1 = data['age'] < i\n",
    "        left = data[fill1].dropna()\n",
    "        count1 = list(left['target'].value_counts())\n",
    "        if len(count1) == 2:\n",
    "            p1_1 = count1[0]/(count1[0] + count1[1])\n",
    "        else:\n",
    "            pass\n",
    "\n",
    "        fill2 = data['age'] >= i\n",
    "        right = data[fill2].dropna()\n",
    "        count2 = list(right['target'].value_counts())\n",
    "        if len(count2) == 2:\n",
    "            p1_2 = count2[0]/(count2[0] + count2[1])\n",
    "        else: \n",
    "            pass\n",
    "        \n",
    "        g = [cal_gini_index(p1_1), cal_gini_index(p1_2)]\n",
    "        gini = weighted_avg(g, left, right)\n",
    "        gini_ind.append(gini)\n",
    "        \n",
    "        mce2 = [cal_misclassification_error(p1_1), cal_misclassification_error(p1_2)]\n",
    "        m = weighted_avg(mce2, left, right)\n",
    "        mce.append(m)\n",
    "        \n",
    "        entro = [cal_cross_entropy(p1_1), cal_cross_entropy(p1_2)]\n",
    "        e = weighted_avg(entro, left, right)\n",
    "        entropy.append(e)\n",
    "    return gini_ind, mce, entropy"
   ]
  },
  {
   "cell_type": "code",
   "execution_count": null,
   "metadata": {},
   "outputs": [],
   "source": []
  },
  {
   "cell_type": "code",
   "execution_count": 11,
   "metadata": {},
   "outputs": [],
   "source": [
    "gini_ind, mce, entropy = ugly_boi(train)"
   ]
  },
  {
   "cell_type": "code",
   "execution_count": 5,
   "metadata": {
    "scrolled": true
   },
   "outputs": [
    {
     "data": {
      "image/png": "[encoded data removed]",
      "text/plain": [
       "<Figure size 432x288 with 1 Axes>"
      ]
     },
     "metadata": {
      "needs_background": "light"
     },
     "output_type": "display_data"
    }
   ],
   "source": [
    "plt.scatter(age, mce, c = 'orange', label = 'Misclassification Error')\n",
    "plt.scatter(age, gini_ind, c = 'indigo', label = 'Gini Index')\n",
    "plt.scatter(age, entropy, c = 'darkgreen', label = 'Cross Entropy')\n",
    "plt.xlabel(\"Age\", fontsize = 15)\n",
    "plt.ylabel(\"Impurity Index\", fontsize = 15)\n",
    "plt.xticks(fontsize = 12)\n",
    "plt.yticks(fontsize = 12)\n",
    "plt.legend(fontsize = 11)\n",
    "plt.title(\"Age vs. Impurity\", fontsize = 15)\n",
    "plt.show()"
   ]
  },
  {
   "cell_type": "markdown",
   "metadata": {},
   "source": [
    "c. Discuss what you find in 1b. What age would you choose for the splitting value?"
   ]
  },
  {
   "cell_type": "code",
   "execution_count": 6,
   "metadata": {},
   "outputs": [
    {
     "name": "stdout",
     "output_type": "stream",
     "text": [
      "The best age to choose for the splitting value is 55\n"
     ]
    }
   ],
   "source": [
    "best_age = age[np.argmin(gini_ind)]\n",
    "print(\"The best age to choose for the splitting value is\", best_age)"
   ]
  },
  {
   "cell_type": "code",
   "execution_count": 7,
   "metadata": {},
   "outputs": [],
   "source": [
    "# From the results in 1b, we can see that the Cross Entropy cost function varies similarly to the Gini Index, as expected.\n",
    "# The best age to choose is in the 50's because they all result in low impurity index values, for example, we see a\n",
    "# low Gini Index value, low Cross Entropy value, and low misclassification error value.  "
   ]
  },
  {
   "cell_type": "markdown",
   "metadata": {},
   "source": [
    "#### Question 2. (3 points)"
   ]
  },
  {
   "cell_type": "markdown",
   "metadata": {},
   "source": [
    "a. Implement a function to carry out the regression tree algorithm using the greedy approach. This implementation assumes the tree only splits twice. The function takes inputs X_train, y_train, and X_test, and return a prediction y_pred for X_test."
   ]
  },
  {
   "cell_type": "code",
   "execution_count": 8,
   "metadata": {},
   "outputs": [],
   "source": [
    "# This function returns the best initial splitting value for each step.\n",
    "def best_split(mock): \n",
    "    col = [0,1,2]\n",
    "    ind = []\n",
    "    mins = []\n",
    "    for i in col:\n",
    "        total_rss = []\n",
    "        for i in mock.iloc[:,0].values:\n",
    "            fill1 = mock.iloc[:,0] < i\n",
    "            left = mock[fill1]\n",
    "            left_ytrain = left['y']\n",
    "            left_ybar = np.mean(left_ytrain)\n",
    "            \n",
    "            fill2 = mock.iloc[:,0] >= i\n",
    "            right = mock[fill2]\n",
    "            right_ytrain = right['y']\n",
    "            right_ybar = np.mean(right_ytrain)\n",
    "            \n",
    "            for j in left_ytrain:\n",
    "                all_errors = []\n",
    "                error_left = (j - left_ybar)**2\n",
    "                all_errors.append(error_left)\n",
    "            for j in right_ytrain:\n",
    "                error_right = (j - right_ybar)**2\n",
    "                all_errors.append(error_right)\n",
    "            rss = np.sum(all_errors)\n",
    "            total_rss.append(rss)\n",
    "            \n",
    "        mini = min(total_rss)\n",
    "        mins.append(mini)\n",
    "        \n",
    "        ind.append(np.argmin(total_rss))\n",
    "        s = np.argsort(mins)\n",
    "        best_col = s[0]\n",
    "        best_ind = ind[s[0]]\n",
    "    return best_col, best_ind"
   ]
  },
  {
   "cell_type": "code",
   "execution_count": 9,
   "metadata": {},
   "outputs": [],
   "source": [
    "def regression_tree(xtrain, ytrain, xtest):\n",
    "    Xtrain = pd.DataFrame({'x1': xtrain[:,0], 'x2': xtrain[:,1], 'x3': xtrain[:,2], 'y': ytrain})\n",
    "    Xtest = pd.DataFrame({'x1': xtest[:,0], 'x2': xtest[:,1], 'x3': xtest[:,2]})\n",
    "    \n",
    "    best_col, best_ind= best_split(Xtrain)\n",
    "    \n",
    "    left = Xtrain[Xtrain.iloc[:,best_col] < Xtrain.iloc[:,best_col][best_ind]]\n",
    "\n",
    "    right = Xtrain[Xtrain.iloc[:,best_col] >= Xtrain.iloc[:,best_col][best_ind]]\n",
    "    ypred1 = np.mean(right['y'])\n",
    "\n",
    "    left_y = left['y']\n",
    "    left_x = left.drop('y', axis = 1).values\n",
    "    \n",
    "    best_col2, best_ind2 = best_split(left)\n",
    "\n",
    "    left2 = left[left.iloc[:,best_col2] < left.iloc[:,best_col2][best_ind2]]\n",
    "    ypred2 = np.mean(left2['y'])\n",
    "\n",
    "    right2 = left[left.iloc[:,best_col2] >= left.iloc[:,best_col2][best_ind2]]\n",
    "    ypred3 = np.mean(right2['y'])\n",
    "    \n",
    "    ypred = []\n",
    "    \n",
    "    for i in Xtest.iloc[:,best_col]:\n",
    "        if i >= Xtrain.iloc[:,best_col][best_ind]:\n",
    "            ypred.append(ypred1)\n",
    "    for j in Xtest.iloc[:,best_col2]:\n",
    "        if j < left.iloc[:,best_col2][best_ind2]:\n",
    "            ypred.append(ypred2)\n",
    "        elif j >= left.iloc[:,best_col2][best_ind2]:\n",
    "            ypred.append(ypred3)\n",
    "    return ypred"
   ]
  },
  {
   "cell_type": "markdown",
   "metadata": {},
   "source": [
    "b. Use the function you implemented in 2a to predict on the synthetic data below."
   ]
  },
  {
   "cell_type": "code",
   "execution_count": 14,
   "metadata": {},
   "outputs": [],
   "source": [
    "from sklearn.datasets import make_regression\n",
    "from sklearn.model_selection import train_test_split\n",
    "\n",
    "# make a linearly separable dataset\n",
    "X, y = make_regression(n_samples=1000,\n",
    "                       n_features=3)\n",
    "xtrain, xtest, ytrain, ytest = train_test_split(X, y, test_size=0.33, random_state=42)"
   ]
  },
  {
   "cell_type": "code",
   "execution_count": 22,
   "metadata": {},
   "outputs": [],
   "source": [
    "# Your code goes here\n",
    "ypred = regression_tree(xtrain, ytrain, xtest)"
   ]
  },
  {
   "cell_type": "markdown",
   "metadata": {},
   "source": [
    "c. Do you think this implementation of the regression tree is a good model for this dataset? Explain."
   ]
  },
  {
   "cell_type": "code",
   "execution_count": null,
   "metadata": {},
   "outputs": [],
   "source": [
    "# No I don't. I think multi-variable linear regression would've performed better in a strictly continuous numerical featured\n",
    "# dataset. Maybe pruning would've helped the results but I think regression tree would've been better had the dataset\n",
    "# have categorical along with numerical values. "
   ]
  },
  {
   "cell_type": "markdown",
   "metadata": {},
   "source": [
    "#### Question 3. (3 points)\n",
    "\n",
    "a. Use the scikit-learn package to run Bagging and Random Forest on the heart-disease dataset and predict on its test set. Use cross-validation to find the best parameters for these algorithms."
   ]
  },
  {
   "cell_type": "code",
   "execution_count": 46,
   "metadata": {},
   "outputs": [],
   "source": [
    "# Your code goes here\n",
    "from sklearn.svm import SVC\n",
    "from sklearn.ensemble import BaggingClassifier\n",
    "from sklearn.datasets import make_classification\n",
    "from sklearn.ensemble import RandomForestClassifier\n",
    "from sklearn.tree import DecisionTreeClassifier\n",
    "from sklearn import model_selection\n",
    "\n",
    "seed = 7\n",
    "num_trees = 10\n",
    "\n",
    "col = xtrain1.columns\n",
    "bag, randomforrest = list(), list()\n",
    "\n",
    "for i in col:\n",
    "    newxtrain = (xtrain1[i].values).reshape(-1,1)\n",
    "    kfold = model_selection.KFold(n_splits=10, random_state = seed)\n",
    "    cart = DecisionTreeClassifier()\n",
    "    model = BaggingClassifier(base_estimator=cart, n_estimators=num_trees, random_state = seed)\n",
    "    results = model_selection.cross_val_score(model, newxtrain, ytrain1, cv=kfold, error_score='raise')\n",
    "    bag.append(results.mean())\n",
    "    \n",
    "    kfold = model_selection.KFold(n_splits=10, random_state= seed)\n",
    "    model = RandomForestClassifier(n_estimators=10, max_features=1)\n",
    "    results2 = model_selection.cross_val_score(model, newxtrain, ytrain1, cv=kfold)\n",
    "    randomforrest.append(results2.mean())"
   ]
  },
  {
   "cell_type": "code",
   "execution_count": 12,
   "metadata": {},
   "outputs": [
    {
     "data": {
      "text/plain": [
       "12"
      ]
     },
     "execution_count": 12,
     "metadata": {},
     "output_type": "execute_result"
    }
   ],
   "source": [
    "np.argmax(bag)\n",
    "np.argmax(randomforrest)\n",
    "# The 13th column is the best parameter to use. :P"
   ]
  },
  {
   "cell_type": "markdown",
   "metadata": {},
   "source": [
    "b. On the same axes, plot the ROC curves for the two algorithms with the best parameters that you found in 3a. Annotate their AUC values and compare their performance. "
   ]
  },
  {
   "cell_type": "code",
   "execution_count": 44,
   "metadata": {},
   "outputs": [
    {
     "data": {
      "image/png": "[encoded data removed]",
      "text/plain": [
       "<Figure size 432x288 with 1 Axes>"
      ]
     },
     "metadata": {
      "needs_background": "light"
     },
     "output_type": "display_data"
    },
    {
     "name": "stdout",
     "output_type": "stream",
     "text": [
      "The AUC for Random Forrest is 0.9364\n",
      "The AUC for Bagging is 0.9129\n"
     ]
    }
   ],
   "source": [
    "from sklearn.metrics import roc_auc_score\n",
    "model1 = RandomForestClassifier(n_estimators=100, \n",
    "                               bootstrap = True,\n",
    "                               max_features = 'sqrt')\n",
    "model2 = BaggingClassifier(n_estimators=100, \n",
    "                               bootstrap = True\n",
    "                               )\n",
    "model1.fit(xtrain1,ytrain1)\n",
    "model2.fit(xtrain1,ytrain1)\n",
    "\n",
    "pred1 = model1.predict(xtest1)\n",
    "ylogprob1 = model1.predict_proba(xtest1)[:, 1]\n",
    "\n",
    "pred2 = model2.predict(xtest1)\n",
    "ylogprob2 = model2.predict_proba(xtest1)[:,1]\n",
    "\n",
    "roc_value1 = roc_auc_score(ytest1, pred1)\n",
    "fpr1, tpr1, thresholds1 = metrics.roc_curve(ytest1, ylogprob1)\n",
    "auc1 = metrics.auc(fpr1,tpr1)\n",
    "\n",
    "roc_value2 = roc_auc_score(ytest1, pred2)\n",
    "fpr2, tpr2, thresholds2 = metrics.roc_curve(ytest1, ylogprob2)\n",
    "auc2 = metrics.auc(fpr2,tpr2)\n",
    "\n",
    "plt.plot(fpr1, tpr1, 'r-', lw = 1, label = 'Random Forrest')\n",
    "plt.plot(fpr2, tpr2, 'g-', lw = 1, label = 'Bagging')\n",
    "plt.plot([0, 1], [0, 1], color = 'navy', lw = 1, linestyle = '--')\n",
    "plt.xlabel(\"False Positive Rate\")\n",
    "plt.ylabel(\"True Positive Rate\")\n",
    "plt.legend(fontsize = 12)\n",
    "plt.show()\n",
    "\n",
    "print(\"The AUC for Random Forrest is\",round(auc1,4))\n",
    "print(\"The AUC for Bagging is\", round(auc2,4))"
   ]
  },
  {
   "cell_type": "markdown",
   "metadata": {},
   "source": [
    "c. Explain your results in 3b. Why might the results vary across algorithms?"
   ]
  },
  {
   "cell_type": "code",
   "execution_count": null,
   "metadata": {},
   "outputs": [],
   "source": [
    "# Your discussion goes here\n",
    "\n",
    "# Random Forrest is an improvement because with RF, a tree can only be split on a random subset of the predictors.  This \n",
    "# results in more decorrelated trees that could better search potential splits in feature space. Due to this improvement,\n",
    "# we see a greater AUC value of 0.9364 for the RF method, as a higher AUC indicates greater accuracy"
   ]
  }
 ],
 "metadata": {
  "kernelspec": {
   "display_name": "Python 3",
   "language": "python",
   "name": "python3"
  },
  "language_info": {
   "codemirror_mode": {
    "name": "ipython",
    "version": 3
   },
   "file_extension": ".py",
   "mimetype": "text/x-python",
   "name": "python",
   "nbconvert_exporter": "python",
   "pygments_lexer": "ipython3",
   "version": "3.7.4"
  }
 },
 "nbformat": 4,
 "nbformat_minor": 2
}
