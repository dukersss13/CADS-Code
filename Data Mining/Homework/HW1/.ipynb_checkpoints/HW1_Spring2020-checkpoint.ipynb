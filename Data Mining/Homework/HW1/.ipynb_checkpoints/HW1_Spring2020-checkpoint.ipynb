{
 "cells": [
  {
   "cell_type": "markdown",
   "metadata": {},
   "source": [
    "## Simple Linear Regression_Ordinary Least Squares (OLS)\n"
   ]
  },
  {
   "cell_type": "markdown",
   "metadata": {},
   "source": [
    "#### Q1 (2 points)  \n",
    "In these exercises we'll be working with simple linear regression. Simple linear regression is an approach for predicting a response using only a single feature.\n",
    "\n",
    "To create our model, we must “learn” or estimate the values of the regression coefficients $\\hat{\\beta}0$ and $\\hat{\\beta}1$. Once we’ve estimated these coefficients, we can use the model to predict responses. Here we are going to use the Least Squares technique as the cost function to estimate the coefficients.\n"
   ]
  },
  {
   "cell_type": "code",
   "execution_count": 1,
   "metadata": {},
   "outputs": [],
   "source": [
    "import numpy as np \n",
    "def estimate_coef_OLS(X, y): \n",
    "    # x: np array of input with size n\n",
    "    # y: np array of response/output with size n\n",
    "    # return(B0, B1)\n",
    "    ### YOUR CODE HERE ###\n",
    "                # calculating regression coefficients(B0,B1)\n",
    "    ybar = np.mean(y)\n",
    "    xbar = np.mean(X)\n",
    "    \n",
    "    B1 = (np.sum((y - ybar)*(X - xbar)))/(np.sum((X - xbar)**2))\n",
    "    B0 = ybar - B1*xbar\n",
    "\n",
    "    return(B0, B1) "
   ]
  },
  {
   "cell_type": "markdown",
   "metadata": {},
   "source": [
    "#### Q2 (4 points)  \n",
    "Scikit-learn includes a number of dataset simulation functions, one of which is \"make_regression ()\". Importantly, we can create a dataset for regression that has both informative features and uninformative features, this makes for a good exercise in model selection."
   ]
  },
  {
   "cell_type": "code",
   "execution_count": 2,
   "metadata": {},
   "outputs": [],
   "source": [
    "import numpy as np \n",
    "from sklearn import linear_model, datasets\n",
    "n_samples = 100\n",
    "n_outliers = 5\n",
    "X, y, coef = datasets.make_regression(n_samples=n_samples, n_features=1,\n",
    "                                      n_informative=1, noise=10,\n",
    "                                      coef=True, random_state=2)\n",
    "# Add outlier data\n",
    "np.random.seed(1)\n",
    "X[:n_outliers] = 15 + 0.7 * np.random.normal(size=(n_outliers, 1))"
   ]
  },
  {
   "cell_type": "markdown",
   "metadata": {},
   "source": [
    " a) Plot the data (X and y)\n",
    " \n",
    " b) Use your code from the previous part to find the linear model for this dataset."
   ]
  },
  {
   "cell_type": "code",
   "execution_count": 4,
   "metadata": {},
   "outputs": [
    {
     "data": {
      "image/png": "[encoded data removed]",
      "text/plain": [
       "<Figure size 432x288 with 1 Axes>"
      ]
     },
     "metadata": {
      "needs_background": "light"
     },
     "output_type": "display_data"
    }
   ],
   "source": [
    "from matplotlib import pyplot as plt\n",
    "plt.style.use('fivethirtyeight')\n",
    "%matplotlib inline\n",
    "\n",
    "### YOUR CODE HERE ###\n",
    "# use scatter plot to represent the dataset\n",
    "plt.scatter(X,y)\n",
    "\n",
    "# Plot the linear regression model that you found from Q1\n",
    "\n",
    "xbar = np.mean(X)\n",
    "ybar = np.mean(y)\n",
    "\n",
    "B0,B1 = estimate_coef_OLS(X,y)\n",
    "y2 = B1*X + B0\n",
    "plt.plot(X,y2,color = 'r')\n",
    "plt.show()\n",
    "\n",
    "##The regression line is not correct because it is trying to include the 5 outliers."
   ]
  },
  {
   "cell_type": "markdown",
   "metadata": {},
   "source": [
    "c) Try to find the outliers in this dataset, \n",
    "Then remove the outliers and find a new linear model for the remained data(without outliers)"
   ]
  },
  {
   "cell_type": "code",
   "execution_count": 5,
   "metadata": {},
   "outputs": [
    {
     "name": "stdout",
     "output_type": "stream",
     "text": [
      "0 [16.13704175]\n",
      "1 [14.57177051]\n",
      "2 [14.63027977]\n",
      "3 [14.24892196]\n",
      "4 [15.60578534]\n"
     ]
    },
    {
     "data": {
      "image/png": "[encoded data removed]",
      "text/plain": [
       "<Figure size 432x288 with 1 Axes>"
      ]
     },
     "metadata": {
      "needs_background": "light"
     },
     "output_type": "display_data"
    }
   ],
   "source": [
    "dev = np.std(X) ## We can identify the outliers by checking to see which points are farther than 2 intervals of std.\n",
    "\n",
    "for index, i in enumerate(X): #This loop returns the indecies of the outliers in column vector X.\n",
    "    if abs(i-xbar) >= 2*dev:\n",
    "        print(index,i)\n",
    "\n",
    "i = 0    #Since the outliers are the first 5 points, this while loop will eliminate the 5 first data points in X & y.\n",
    "while i <=4:\n",
    "    X = np.delete(X, 0)\n",
    "    i += 1\n",
    "\n",
    "i = 0\n",
    "while i <=4:\n",
    "    y = np.delete(y, 0)\n",
    "    i += 1\n",
    "\n",
    "B0,B1= estimate_coef_OLS(X, y)\n",
    "\n",
    "y2 = B0 + B1*X\n",
    "\n",
    "plt.scatter(X,y,color='b')\n",
    "plt.plot(X,y2,color='r')\n",
    "plt.show()"
   ]
  },
  {
   "cell_type": "markdown",
   "metadata": {},
   "source": [
    "d) Use Statsmodel and Scikit-learn (OLS) and compare the result with part (c)."
   ]
  },
  {
   "cell_type": "code",
   "execution_count": 7,
   "metadata": {},
   "outputs": [
    {
     "name": "stdout",
     "output_type": "stream",
     "text": [
      "                            OLS Regression Results                            \n",
      "==============================================================================\n",
      "Dep. Variable:                      y   R-squared:                       0.977\n",
      "Model:                            OLS   Adj. R-squared:                  0.977\n",
      "Method:                 Least Squares   F-statistic:                     3978.\n",
      "Date:                Wed, 04 Nov 2020   Prob (F-statistic):           4.03e-78\n",
      "Time:                        16:56:27   Log-Likelihood:                -347.48\n",
      "No. Observations:                  95   AIC:                             699.0\n",
      "Df Residuals:                      93   BIC:                             704.1\n",
      "Df Model:                           1                                         \n",
      "Covariance Type:            nonrobust                                         \n",
      "==============================================================================\n",
      "                 coef    std err          t      P>|t|      [0.025      0.975]\n",
      "------------------------------------------------------------------------------\n",
      "const          0.2801      0.983      0.285      0.776      -1.671       2.231\n",
      "x1            59.7103      0.947     63.071      0.000      57.830      61.590\n",
      "==============================================================================\n",
      "Omnibus:                        0.888   Durbin-Watson:                   2.113\n",
      "Prob(Omnibus):                  0.642   Jarque-Bera (JB):                0.409\n",
      "Skew:                           0.008   Prob(JB):                        0.815\n",
      "Kurtosis:                       3.321   Cond. No.                         1.16\n",
      "==============================================================================\n",
      "\n",
      "Warnings:\n",
      "[1] Standard Errors assume that the covariance matrix of the errors is correctly specified.\n"
     ]
    },
    {
     "data": {
      "text/plain": [
       "0.9771550350512413"
      ]
     },
     "execution_count": 7,
     "metadata": {},
     "output_type": "execute_result"
    }
   ],
   "source": [
    "### YOUR CODE HERE ###\n",
    "\n",
    "#Using Statsmodels\n",
    "import statsmodels.api as sm\n",
    "s = sm.add_constant(X) #Adding vector X into the statsmodels function\n",
    "results = sm.OLS(y,s).fit()\n",
    "print(results.summary())\n",
    "\n",
    "#Using Scikit-learn\n",
    "import numpy as np\n",
    "import pandas as pd\n",
    "from sklearn.linear_model import LinearRegression\n",
    "\n",
    "X_df = pd.DataFrame({'X':X})\n",
    "reg = LinearRegression().fit(X_df,y)\n",
    "reg.score(X_df,y)"
   ]
  },
  {
   "cell_type": "markdown",
   "metadata": {},
   "source": [
    "#### Q3 (4 points)\n",
    "Kaggle is a competition platform for data scientists. In this class you will learn how to use the platform to practice data-science skills and \"compete\" with your classmates."
   ]
  },
  {
   "cell_type": "markdown",
   "metadata": {},
   "source": [
    "a) Reigster an account on [kaggle.com](https://www.kaggle.com) if you don't have one yet. Type in your kaggle profile name in the following block."
   ]
  },
  {
   "cell_type": "code",
   "execution_count": 8,
   "metadata": {},
   "outputs": [],
   "source": [
    "### What is your name on your Kaggle profile?\n",
    "#Duc Le"
   ]
  },
  {
   "cell_type": "markdown",
   "metadata": {},
   "source": [
    "b) Use [this link](https://www.kaggle.com/t/58bf348e221f4a698c302663cd0e8f5e) to the competition page, and click on the top right button \"Join Competition\" to join the competition. The name of the competition is \"Chapman CS530 Predicting Red Wine Quality\". Copy the rules of the competition to the following block."
   ]
  },
  {
   "cell_type": "code",
   "execution_count": 9,
   "metadata": {},
   "outputs": [],
   "source": [
    "### What is the rule of the competition?\n",
    "#1. Download the training (train.csv) and testing set (test.csv) from the Data tab. We will talk much more about training and test sets in the course. Generally speaking, for the training set you have the information (the matrix X) and the labels (the vector y). But you do not have the labels for the test set. Here you have the wine rating for the training set but not the the test set. Therefore, your task is to fit a regression model based on the training set (where you are given the quality of the wine for each entry) and then predict as accuracy as possible on the quality of wines in the testing set, where you do not have the quality of the wine.\n",
    "\n",
    "#2. This competition is designed for the \"Regression, Resampling and Regularization Module\" and it is part of the homework assignments. Submission closes on Sunday at 11:59pm.\n",
    "\n",
    "#3. You are expected to submit your solutions to Kaggle and also your code on Canvas to get full credits."
   ]
  },
  {
   "cell_type": "markdown",
   "metadata": {},
   "source": [
    "c) Download the necessary datasets, read the data into a pandas dataframe and run any necessary data preprocessing techniques to allow further analysis."
   ]
  },
  {
   "cell_type": "code",
   "execution_count": 10,
   "metadata": {},
   "outputs": [],
   "source": [
    "### YOUR CODE for c) GOES HERE\n",
    "\n",
    "train = pd.read_csv(\"train.csv\", index_col = 0, sep = ',', header = 0)"
   ]
  },
  {
   "cell_type": "markdown",
   "metadata": {},
   "source": [
    "d) Choose one variable that you think might have the biggest effects on the quality of wine. Fit a single linear regression model to that variable using Statsmodel. Plot a scatter plot of the dependent variable over the independent variable and also plot the fitted line on the same plot to see how well your model fits. Also add the R<sup>2</sup> score as the title of the plot."
   ]
  },
  {
   "cell_type": "code",
   "execution_count": 11,
   "metadata": {},
   "outputs": [
    {
     "name": "stdout",
     "output_type": "stream",
     "text": [
      "                            OLS Regression Results                            \n",
      "==============================================================================\n",
      "Dep. Variable:                quality   R-squared:                       0.943\n",
      "Model:                            OLS   Adj. R-squared:                  0.943\n",
      "Method:                 Least Squares   F-statistic:                 1.856e+04\n",
      "Date:                Wed, 04 Nov 2020   Prob (F-statistic):               0.00\n",
      "Time:                        16:56:27   Log-Likelihood:                -1332.4\n",
      "No. Observations:                1119   AIC:                             2669.\n",
      "Df Residuals:                    1117   BIC:                             2679.\n",
      "Df Model:                           1                                         \n",
      "Covariance Type:            nonrobust                                         \n",
      "==============================================================================\n",
      "                 coef    std err          t      P>|t|      [0.025      0.975]\n",
      "------------------------------------------------------------------------------\n",
      "const         -0.2477      0.051     -4.885      0.000      -0.347      -0.148\n",
      "alcohol        0.5649      0.004    136.238      0.000       0.557       0.573\n",
      "==============================================================================\n",
      "Omnibus:                      206.110   Durbin-Watson:                   2.015\n",
      "Prob(Omnibus):                  0.000   Jarque-Bera (JB):             3080.526\n",
      "Skew:                           0.365   Prob(JB):                         0.00\n",
      "Kurtosis:                      11.096   Cond. No.                         26.2\n",
      "==============================================================================\n",
      "\n",
      "Warnings:\n",
      "[1] Standard Errors assume that the covariance matrix of the errors is correctly specified.\n"
     ]
    },
    {
     "name": "stderr",
     "output_type": "stream",
     "text": [
      "C:\\Users\\Duker\\AppData\\Local\\Continuum\\anaconda3\\lib\\site-packages\\numpy\\core\\fromnumeric.py:2389: FutureWarning: Method .ptp is deprecated and will be removed in a future version. Use numpy.ptp instead.\n",
      "  return ptp(axis=axis, out=out, **kwargs)\n"
     ]
    }
   ],
   "source": [
    "### YOUR CODE for d) GOES HERE\n",
    "#I CHOOSE ALCOHOL! More alcohol = good time :) \n",
    "\n",
    "alcy = train['alcohol']\n",
    "quality = train['quality']\n",
    "s2 = sm.add_constant(alcy)\n",
    "guess = sm.OLS(quality,s2).fit()\n",
    "print(guess.summary())"
   ]
  },
  {
   "cell_type": "code",
   "execution_count": 12,
   "metadata": {
    "scrolled": true
   },
   "outputs": [
    {
     "name": "stdout",
     "output_type": "stream",
     "text": [
      "                            OLS Regression Results                            \n",
      "==============================================================================\n",
      "Dep. Variable:                      y   R-squared:                       0.238\n",
      "Model:                            OLS   Adj. R-squared:                  0.237\n",
      "Method:                 Least Squares   F-statistic:                     346.7\n",
      "Date:                Wed, 04 Nov 2020   Prob (F-statistic):           1.45e-67\n",
      "Time:                        16:56:27   Log-Likelihood:                -1190.9\n",
      "No. Observations:                1114   AIC:                             2386.\n",
      "Df Residuals:                    1112   BIC:                             2396.\n",
      "Df Model:                           1                                         \n",
      "Covariance Type:            nonrobust                                         \n",
      "==============================================================================\n",
      "                 coef    std err          t      P>|t|      [0.025      0.975]\n",
      "------------------------------------------------------------------------------\n",
      "const          1.8123      0.206      8.777      0.000       1.407       2.217\n",
      "x1             0.3670      0.020     18.620      0.000       0.328       0.406\n",
      "==============================================================================\n",
      "Omnibus:                       26.680   Durbin-Watson:                   1.960\n",
      "Prob(Omnibus):                  0.000   Jarque-Bera (JB):               49.649\n",
      "Skew:                          -0.138   Prob(JB):                     1.66e-11\n",
      "Kurtosis:                       3.997   Cond. No.                         103.\n",
      "==============================================================================\n",
      "\n",
      "Warnings:\n",
      "[1] Standard Errors assume that the covariance matrix of the errors is correctly specified.\n"
     ]
    },
    {
     "data": {
      "image/png": "[encoded data removed]",
      "text/plain": [
       "<Figure size 432x288 with 1 Axes>"
      ]
     },
     "metadata": {
      "needs_background": "light"
     },
     "output_type": "display_data"
    }
   ],
   "source": [
    "#From the statsmodel table:\n",
    "m = 0.5649 \n",
    "b = -0.2477\n",
    "\n",
    "#plt.scatter(alcy,quality, color = 'b')\n",
    "\n",
    "alcy_dev = np.std(alcy)\n",
    "qual_dev = np.std(quality)\n",
    "\n",
    "mean_alcy = np.mean(alcy)\n",
    "alcy2 = np.array([])\n",
    "\n",
    "mean_quality = np.mean(quality)\n",
    "quality2 = np.array([])\n",
    "\n",
    "for i in alcy:\n",
    "    if abs(i - mean_alcy) < 2*alcy_dev:\n",
    "        alcy2 = np.append(alcy2,i)\n",
    "        \n",
    "for i in quality:\n",
    "    if abs(i - mean_quality) < 2*qual_dev:\n",
    "        quality2 = np.append(quality2, i)        \n",
    "\n",
    "s3 = sm.add_constant(alcy2)\n",
    "guess2 = sm.OLS(quality2,s3).fit()\n",
    "print(guess2.summary())\n",
    "\n",
    "#R-Squared score of the adjusted data w/o the outliers is 0.238.\n",
    "\n",
    "m2 = 0.3670\n",
    "b2 = 1.8123\n",
    "q2 = m2*alcy2 + b2\n",
    "\n",
    "plt.scatter(alcy2,quality2)\n",
    "plt.plot(alcy2,q2,color = 'r')\n",
    "plt.title(\"R Squared score is 0.238\")\n",
    "plt.show()"
   ]
  },
  {
   "cell_type": "markdown",
   "metadata": {},
   "source": [
    "e) Make predictions on the testing set using your model created in d), create a submission and submit it to kaggle. "
   ]
  },
  {
   "cell_type": "code",
   "execution_count": 13,
   "metadata": {},
   "outputs": [],
   "source": [
    "### YOUR CODE for e) GOES HERE\n",
    "test = pd.read_csv(\"test.csv\", index_col = 0, sep = ',', header = 0)\n",
    "t_alcy = test['alcohol']\n",
    "\n",
    "#This function will predict the quality of the wine given the alcohol level.\n",
    "m2 = 0.3670\n",
    "b2 = 1.8123\n",
    "def quality_test(t,m,b):\n",
    "    q2 = m2*t + b2\n",
    "    return q2\n",
    "results = quality_test(t_alcy,m2,b2)\n",
    "test['predicted'] = results"
   ]
  },
  {
   "cell_type": "code",
   "execution_count": 14,
   "metadata": {},
   "outputs": [],
   "source": [
    "### Report the score of your first submission on Kaggle here\n",
    "#First submission score on Kaggle: 34.41873"
   ]
  },
  {
   "cell_type": "markdown",
   "metadata": {},
   "source": [
    "f) Try to fit the regression model using a different variable. Create another submission and submit it to kaggle. Discuss why that variable was better, worse, or roughly the same as the previous variable that you fit."
   ]
  },
  {
   "cell_type": "code",
   "execution_count": 15,
   "metadata": {},
   "outputs": [
    {
     "name": "stdout",
     "output_type": "stream",
     "text": [
      "                            OLS Regression Results                            \n",
      "==============================================================================\n",
      "Dep. Variable:                quality   R-squared:                       0.932\n",
      "Model:                            OLS   Adj. R-squared:                  0.932\n",
      "Method:                 Least Squares   F-statistic:                 1.534e+04\n",
      "Date:                Wed, 04 Nov 2020   Prob (F-statistic):               0.00\n",
      "Time:                        16:56:34   Log-Likelihood:                -1432.4\n",
      "No. Observations:                1119   AIC:                             2869.\n",
      "Df Residuals:                    1117   BIC:                             2879.\n",
      "Df Model:                           1                                         \n",
      "Covariance Type:            nonrobust                                         \n",
      "==============================================================================\n",
      "                 coef    std err          t      P>|t|      [0.025      0.975]\n",
      "------------------------------------------------------------------------------\n",
      "const          0.2666      0.052      5.119      0.000       0.164       0.369\n",
      "density        5.3872      0.043    123.852      0.000       5.302       5.473\n",
      "==============================================================================\n",
      "Omnibus:                      165.836   Durbin-Watson:                   1.916\n",
      "Prob(Omnibus):                  0.000   Jarque-Bera (JB):              992.317\n",
      "Skew:                           0.523   Prob(JB):                    3.32e-216\n",
      "Kurtosis:                       7.493   Cond. No.                         3.80\n",
      "==============================================================================\n",
      "\n",
      "Warnings:\n",
      "[1] Standard Errors assume that the covariance matrix of the errors is correctly specified.\n"
     ]
    }
   ],
   "source": [
    "### YOUR CODE for f) GOES HERE\n",
    "\n",
    "dens = train['density']\n",
    "quality = train['quality']\n",
    "s1 = sm.add_constant(dens)\n",
    "guess = sm.OLS(quality,s1).fit()\n",
    "print(guess.summary())\n",
    "\n",
    "\n",
    "# density vs. quality\n",
    "m = 5.3872\n",
    "b = 0.2666"
   ]
  },
  {
   "cell_type": "code",
   "execution_count": 17,
   "metadata": {},
   "outputs": [
    {
     "name": "stdout",
     "output_type": "stream",
     "text": [
      "                            OLS Regression Results                            \n",
      "==============================================================================\n",
      "Dep. Variable:                      y   R-squared:                       0.042\n",
      "Model:                            OLS   Adj. R-squared:                  0.041\n",
      "Method:                 Least Squares   F-statistic:                     48.23\n",
      "Date:                Wed, 04 Nov 2020   Prob (F-statistic):           6.45e-12\n",
      "Time:                        16:56:42   Log-Likelihood:                -1318.4\n",
      "No. Observations:                1114   AIC:                             2641.\n",
      "Df Residuals:                    1112   BIC:                             2651.\n",
      "Df Model:                           1                                         \n",
      "Covariance Type:            nonrobust                                         \n",
      "==============================================================================\n",
      "                 coef    std err          t      P>|t|      [0.025      0.975]\n",
      "------------------------------------------------------------------------------\n",
      "const         91.9691     12.432      7.398      0.000      67.577     116.362\n",
      "x1           -86.6117     12.472     -6.944      0.000    -111.083     -62.140\n",
      "==============================================================================\n",
      "Omnibus:                       12.437   Durbin-Watson:                   1.902\n",
      "Prob(Omnibus):                  0.002   Jarque-Bera (JB):               13.406\n",
      "Skew:                           0.206   Prob(JB):                      0.00123\n",
      "Kurtosis:                       3.344   Cond. No.                     1.05e+03\n",
      "==============================================================================\n",
      "\n",
      "Warnings:\n",
      "[1] Standard Errors assume that the covariance matrix of the errors is correctly specified.\n",
      "[2] The condition number is large, 1.05e+03. This might indicate that there are\n",
      "strong multicollinearity or other numerical problems.\n"
     ]
    },
    {
     "data": {
      "image/png": "[encoded data removed]",
      "text/plain": [
       "<Figure size 432x288 with 1 Axes>"
      ]
     },
     "metadata": {
      "needs_background": "light"
     },
     "output_type": "display_data"
    }
   ],
   "source": [
    "dens_dev = np.std(dens)\n",
    "qual_dev = np.std(quality)\n",
    "\n",
    "mean_dens = np.mean(dens)\n",
    "dens2 = np.array([])\n",
    "\n",
    "mean_quality = np.mean(quality)\n",
    "quality2 = np.array([])\n",
    "\n",
    "for i in dens:\n",
    "    if abs(i - mean_dens) < 2*dens_dev:\n",
    "        dens2 = np.append(dens2,i)\n",
    "        \n",
    "for i in quality:\n",
    "    if abs(i - mean_quality) < 2*qual_dev:\n",
    "        quality2 = np.append(quality2, i)        \n",
    "\n",
    "\n",
    "snew = sm.add_constant(dens2)\n",
    "guess_new = sm.OLS(quality2,snew).fit()\n",
    "print(guess_new.summary())\n",
    "\n",
    "\n",
    "#R-Squared score of the adjusted data w/o the outliers is 0.042.\n",
    "\n",
    "m3 = -86.6117\n",
    "b3 = 91.9691\n",
    "q2 = m3*dens2 + b3\n",
    "\n",
    "plt.scatter(dens2,quality2)\n",
    "plt.plot(dens2,q2,color = 'r')\n",
    "plt.title(\"R Squared score is 0.042\")\n",
    "plt.show()"
   ]
  },
  {
   "cell_type": "code",
   "execution_count": 18,
   "metadata": {},
   "outputs": [],
   "source": [
    "test_dens = test['density']\n",
    "results2 = quality_test(test_dens,m3,b3)\n",
    "test['predicted'] = results2"
   ]
  },
  {
   "cell_type": "code",
   "execution_count": 19,
   "metadata": {},
   "outputs": [],
   "source": [
    "### Report the score of your second submission on Kaggle here\n",
    "\n",
    "#Second submission score is 50.39290. :/"
   ]
  },
  {
   "cell_type": "code",
   "execution_count": 20,
   "metadata": {},
   "outputs": [],
   "source": [
    "### Discussion Goes Here\n",
    "\n",
    "# The linear regression model accomodate to the data much better once the outliers were removed. \n",
    "# The quality of the wine in my model seems to correlate more with the alcohol level than the density level."
   ]
  },
  {
   "cell_type": "code",
   "execution_count": 28,
   "metadata": {},
   "outputs": [
    {
     "data": {
      "image/png": "[encoded data removed]",
      "text/plain": [
       "<Figure size 432x288 with 1 Axes>"
      ]
     },
     "metadata": {
      "needs_background": "light"
     },
     "output_type": "display_data"
    }
   ],
   "source": [
    "train2 = pd.read_csv(\"train.csv\", index_col = 0, header = 0)\n",
    "ph = train2[\"volatile acidity\"]\n",
    "qua = train2[\"quality\"]\n",
    "plt.scatter(ph,qua)\n",
    "plt.show()"
   ]
  },
  {
   "cell_type": "code",
   "execution_count": 27,
   "metadata": {},
   "outputs": [
    {
     "name": "stdout",
     "output_type": "stream",
     "text": [
      "                            OLS Regression Results                            \n",
      "==============================================================================\n",
      "Dep. Variable:                quality   R-squared:                       0.554\n",
      "Model:                            OLS   Adj. R-squared:                  0.554\n",
      "Method:                 Least Squares   F-statistic:                     1389.\n",
      "Date:                Wed, 04 Nov 2020   Prob (F-statistic):          3.55e-198\n",
      "Time:                        16:58:38   Log-Likelihood:                -2485.5\n",
      "No. Observations:                1119   AIC:                             4975.\n",
      "Df Residuals:                    1117   BIC:                             4985.\n",
      "Df Model:                           1                                         \n",
      "Covariance Type:            nonrobust                                         \n",
      "====================================================================================\n",
      "                       coef    std err          t      P>|t|      [0.025      0.975]\n",
      "------------------------------------------------------------------------------------\n",
      "const                1.8612      0.126     14.748      0.000       1.614       2.109\n",
      "volatile acidity     7.2465      0.194     37.264      0.000       6.865       7.628\n",
      "==============================================================================\n",
      "Omnibus:                     1108.428   Durbin-Watson:                   1.907\n",
      "Prob(Omnibus):                  0.000   Jarque-Bera (JB):           156918.022\n",
      "Skew:                           4.205   Prob(JB):                         0.00\n",
      "Kurtosis:                      60.400   Cond. No.                         3.88\n",
      "==============================================================================\n",
      "\n",
      "Warnings:\n",
      "[1] Standard Errors assume that the covariance matrix of the errors is correctly specified.\n"
     ]
    },
    {
     "data": {
      "image/png": "[encoded data removed]",
      "text/plain": [
       "<Figure size 432x288 with 1 Axes>"
      ]
     },
     "metadata": {
      "needs_background": "light"
     },
     "output_type": "display_data"
    }
   ],
   "source": [
    "snew = sm.add_constant(ph)\n",
    "g6 = sm.OLS(qua,snew).fit()\n",
    "print(g6.summary())\n",
    "s6 = -1.7536\n",
    "b6 = 6.5686\n",
    "yh = s6*ph + b6\n",
    "plt.scatter(ph,qua)\n",
    "plt.plot(ph,yh, color = 'red')\n",
    "plt.show()"
   ]
  },
  {
   "cell_type": "code",
   "execution_count": 26,
   "metadata": {},
   "outputs": [],
   "source": [
    "test6 = pd.read_csv(\"test.csv\", index_col = 0)\n",
    "fa = test6['volatile acidity']\n",
    "pre = s6*fa+b6\n",
    "test6['predicted'] = pre\n",
    "#test6.to_csv(r\"C:\\Users\\Duker\\Desktop\\CS530\\Homework\\HW1\\attempt10.csv\")"
   ]
  }
 ],
 "metadata": {
  "kernelspec": {
   "display_name": "Python 3",
   "language": "python",
   "name": "python3"
  },
  "language_info": {
   "codemirror_mode": {
    "name": "ipython",
    "version": 3
   },
   "file_extension": ".py",
   "mimetype": "text/x-python",
   "name": "python",
   "nbconvert_exporter": "python",
   "pygments_lexer": "ipython3",
   "version": "3.7.4"
  }
 },
 "nbformat": 4,
 "nbformat_minor": 2
}
