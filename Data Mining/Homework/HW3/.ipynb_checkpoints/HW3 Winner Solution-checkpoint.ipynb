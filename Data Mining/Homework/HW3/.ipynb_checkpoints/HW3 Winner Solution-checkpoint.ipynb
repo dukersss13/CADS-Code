{
 "cells": [
  {
   "cell_type": "markdown",
   "metadata": {},
   "source": [
    "## Team 3:\n",
    "    Goldie\n",
    "    Matthew\n",
    "    Hanna"
   ]
  },
  {
   "cell_type": "code",
   "execution_count": 2,
   "metadata": {},
   "outputs": [],
   "source": [
    "import pandas as pd\n",
    "import numpy as np\n",
    "import sklearn.linear_model as lm\n",
    "from sklearn.linear_model import LinearRegression\n",
    "import sklearn.model_selection as ms\n",
    "import statsmodels.api as sm\n",
    "\n",
    "from scipy import stats\n",
    "\n",
    "import matplotlib.pyplot as plt\n",
    "%matplotlib inline"
   ]
  },
  {
   "cell_type": "code",
   "execution_count": 3,
   "metadata": {},
   "outputs": [],
   "source": [
    "# Import data\n",
    "train = pd.read_csv('train.csv')\n",
    "test = pd.read_csv('test.csv')"
   ]
  },
  {
   "cell_type": "code",
   "execution_count": 4,
   "metadata": {
    "scrolled": true
   },
   "outputs": [
    {
     "name": "stdout",
     "output_type": "stream",
     "text": [
      "Train: (2001, 81) \n",
      "Test: (929, 80)\n",
      "<class 'pandas.core.frame.DataFrame'>\n",
      "RangeIndex: 2001 entries, 0 to 2000\n",
      "Data columns (total 81 columns):\n",
      "Id                 2001 non-null int64\n",
      "MS SubClass        2001 non-null int64\n",
      "MS Zoning          2001 non-null object\n",
      "Lot Frontage       1669 non-null float64\n",
      "Lot Area           2001 non-null int64\n",
      "Street             2001 non-null object\n",
      "Alley              129 non-null object\n",
      "Lot Shape          2001 non-null object\n",
      "Land Contour       2001 non-null object\n",
      "Utilities          2001 non-null object\n",
      "Lot Config         2001 non-null object\n",
      "Land Slope         2001 non-null object\n",
      "Neighborhood       2001 non-null object\n",
      "Condition 1        2001 non-null object\n",
      "Condition 2        2001 non-null object\n",
      "Bldg Type          2001 non-null object\n",
      "House Style        2001 non-null object\n",
      "Overall Qual       2001 non-null int64\n",
      "Overall Cond       2001 non-null int64\n",
      "Year Built         2001 non-null int64\n",
      "Year Remod/Add     2001 non-null int64\n",
      "Roof Style         2001 non-null object\n",
      "Roof Matl          2001 non-null object\n",
      "Exterior 1st       2001 non-null object\n",
      "Exterior 2nd       2001 non-null object\n",
      "Mas Vnr Type       1985 non-null object\n",
      "Mas Vnr Area       1985 non-null float64\n",
      "Exter Qual         2001 non-null object\n",
      "Exter Cond         2001 non-null object\n",
      "Foundation         2001 non-null object\n",
      "Bsmt Qual          1948 non-null object\n",
      "Bsmt Cond          1948 non-null object\n",
      "Bsmt Exposure      1945 non-null object\n",
      "BsmtFin Type 1     1948 non-null object\n",
      "BsmtFin SF 1       2000 non-null float64\n",
      "BsmtFin Type 2     1947 non-null object\n",
      "BsmtFin SF 2       2000 non-null float64\n",
      "Bsmt Unf SF        2000 non-null float64\n",
      "Total Bsmt SF      2000 non-null float64\n",
      "Heating            2001 non-null object\n",
      "Heating QC         2001 non-null object\n",
      "Central Air        2001 non-null object\n",
      "Electrical         2000 non-null object\n",
      "1st Flr SF         2001 non-null int64\n",
      "2nd Flr SF         2001 non-null int64\n",
      "Low Qual Fin SF    2001 non-null int64\n",
      "Gr Liv Area        2001 non-null int64\n",
      "Bsmt Full Bath     2000 non-null float64\n",
      "Bsmt Half Bath     2000 non-null float64\n",
      "Full Bath          2001 non-null int64\n",
      "Half Bath          2001 non-null int64\n",
      "Bedroom AbvGr      2001 non-null int64\n",
      "Kitchen AbvGr      2001 non-null int64\n",
      "Kitchen Qual       2001 non-null object\n",
      "TotRms AbvGrd      2001 non-null int64\n",
      "Functional         2001 non-null object\n",
      "Fireplaces         2001 non-null int64\n",
      "Fireplace Qu       1065 non-null object\n",
      "Garage Type        1897 non-null object\n",
      "Garage Yr Blt      1895 non-null float64\n",
      "Garage Finish      1895 non-null object\n",
      "Garage Cars        2000 non-null float64\n",
      "Garage Area        2000 non-null float64\n",
      "Garage Qual        1895 non-null object\n",
      "Garage Cond        1895 non-null object\n",
      "Paved Drive        2001 non-null object\n",
      "Wood Deck SF       2001 non-null int64\n",
      "Open Porch SF      2001 non-null int64\n",
      "Enclosed Porch     2001 non-null int64\n",
      "3Ssn Porch         2001 non-null int64\n",
      "Screen Porch       2001 non-null int64\n",
      "Pool Area          2001 non-null int64\n",
      "Pool QC            12 non-null object\n",
      "Fence              368 non-null object\n",
      "Misc Feature       72 non-null object\n",
      "Misc Val           2001 non-null int64\n",
      "Mo Sold            2001 non-null int64\n",
      "Yr Sold            2001 non-null int64\n",
      "Sale Type          2001 non-null object\n",
      "Sale Condition     2001 non-null object\n",
      "SalePrice          2001 non-null int64\n",
      "dtypes: float64(11), int64(27), object(43)\n",
      "memory usage: 1.2+ MB\n"
     ]
    }
   ],
   "source": [
    "# Data overview\n",
    "print(\"Train:\", train.shape, \"\\nTest:\", test.shape)\n",
    "train.info()"
   ]
  },
  {
   "cell_type": "markdown",
   "metadata": {},
   "source": [
    "## Handling Numeric Variables"
   ]
  },
  {
   "cell_type": "code",
   "execution_count": 5,
   "metadata": {},
   "outputs": [],
   "source": [
    "# Get the numeric variables only\n",
    "train_num = train._get_numeric_data().drop(['SalePrice'],axis=1)"
   ]
  },
  {
   "cell_type": "code",
   "execution_count": 6,
   "metadata": {},
   "outputs": [
    {
     "name": "stderr",
     "output_type": "stream",
     "text": [
      "C:\\Users\\Duker\\AppData\\Local\\Continuum\\anaconda3\\lib\\site-packages\\ipykernel_launcher.py:3: RuntimeWarning: More than 20 figures have been opened. Figures created through the pyplot interface (`matplotlib.pyplot.figure`) are retained until explicitly closed and may consume too much memory. (To control this warning, see the rcParam `figure.max_open_warning`).\n",
      "  This is separate from the ipykernel package so we can avoid doing imports until\n"
     ]
    },
    {
     "data": {
      "image/png": "[encoded data removed]",
      "text/plain": [
       "<Figure size 216x216 with 1 Axes>"
      ]
     },
     "metadata": {
      "needs_background": "light"
     },
     "output_type": "display_data"
    },
    {
     "data": {
      "image/png": "[encoded data removed]",
      "text/plain": [
       "<Figure size 216x216 with 1 Axes>"
      ]
     },
     "metadata": {
      "needs_background": "light"
     },
     "output_type": "display_data"
    },
    {
     "data": {
      "image/png": "[encoded data removed]",
      "text/plain": [
       "<Figure size 216x216 with 1 Axes>"
      ]
     },
     "metadata": {
      "needs_background": "light"
     },
     "output_type": "display_data"
    },
    {
     "data": {
      "image/png": "[encoded data removed]",
      "text/plain": [
       "<Figure size 216x216 with 1 Axes>"
      ]
     },
     "metadata": {
      "needs_background": "light"
     },
     "output_type": "display_data"
    },
    {
     "data": {
      "image/png": "[encoded data removed]",
      "text/plain": [
       "<Figure size 216x216 with 1 Axes>"
      ]
     },
     "metadata": {
      "needs_background": "light"
     },
     "output_type": "display_data"
    },
    {
     "data": {
      "image/png": "[encoded data removed]",
      "text/plain": [
       "<Figure size 216x216 with 1 Axes>"
      ]
     },
     "metadata": {
      "needs_background": "light"
     },
     "output_type": "display_data"
    },
    {
     "data": {
      "image/png": "[encoded data removed]",
      "text/plain": [
       "<Figure size 216x216 with 1 Axes>"
      ]
     },
     "metadata": {
      "needs_background": "light"
     },
     "output_type": "display_data"
    },
    {
     "data": {
      "image/png": "[encoded data removed]",
      "text/plain": [
       "<Figure size 216x216 with 1 Axes>"
      ]
     },
     "metadata": {
      "needs_background": "light"
     },
     "output_type": "display_data"
    },
    {
     "data": {
      "image/png": "[encoded data removed]",
      "text/plain": [
       "<Figure size 216x216 with 1 Axes>"
      ]
     },
     "metadata": {
      "needs_background": "light"
     },
     "output_type": "display_data"
    },
    {
     "data": {
      "image/png": "[encoded data removed]",
      "text/plain": [
       "<Figure size 216x216 with 1 Axes>"
      ]
     },
     "metadata": {
      "needs_background": "light"
     },
     "output_type": "display_data"
    },
    {
     "data": {
      "image/png": "[encoded data removed]",
      "text/plain": [
       "<Figure size 216x216 with 1 Axes>"
      ]
     },
     "metadata": {
      "needs_background": "light"
     },
     "output_type": "display_data"
    },
    {
     "data": {
      "image/png": "[encoded data removed]",
      "text/plain": [
       "<Figure size 216x216 with 1 Axes>"
      ]
     },
     "metadata": {
      "needs_background": "light"
     },
     "output_type": "display_data"
    },
    {
     "data": {
      "image/png": "[encoded data removed]",
      "text/plain": [
       "<Figure size 216x216 with 1 Axes>"
      ]
     },
     "metadata": {
      "needs_background": "light"
     },
     "output_type": "display_data"
    },
    {
     "data": {
      "image/png": "[encoded data removed]",
      "text/plain": [
       "<Figure size 216x216 with 1 Axes>"
      ]
     },
     "metadata": {
      "needs_background": "light"
     },
     "output_type": "display_data"
    },
    {
     "data": {
      "image/png": "[encoded data removed]",
      "text/plain": [
       "<Figure size 216x216 with 1 Axes>"
      ]
     },
     "metadata": {
      "needs_background": "light"
     },
     "output_type": "display_data"
    },
    {
     "data": {
      "image/png": "[encoded data removed]",
      "text/plain": [
       "<Figure size 216x216 with 1 Axes>"
      ]
     },
     "metadata": {
      "needs_background": "light"
     },
     "output_type": "display_data"
    },
    {
     "data": {
      "image/png": "[encoded data removed]",
      "text/plain": [
       "<Figure size 216x216 with 1 Axes>"
      ]
     },
     "metadata": {
      "needs_background": "light"
     },
     "output_type": "display_data"
    },
    {
     "data": {
      "image/png": "[encoded data removed]",
      "text/plain": [
       "<Figure size 216x216 with 1 Axes>"
      ]
     },
     "metadata": {
      "needs_background": "light"
     },
     "output_type": "display_data"
    },
    {
     "data": {
      "image/png": "[encoded data removed]",
      "text/plain": [
       "<Figure size 216x216 with 1 Axes>"
      ]
     },
     "metadata": {
      "needs_background": "light"
     },
     "output_type": "display_data"
    },
    {
     "data": {
      "image/png": "[encoded data removed]",
      "text/plain": [
       "<Figure size 216x216 with 1 Axes>"
      ]
     },
     "metadata": {
      "needs_background": "light"
     },
     "output_type": "display_data"
    },
    {
     "data": {
      "image/png": "[encoded data removed]",
      "text/plain": [
       "<Figure size 216x216 with 1 Axes>"
      ]
     },
     "metadata": {
      "needs_background": "light"
     },
     "output_type": "display_data"
    },
    {
     "data": {
      "image/png": "[encoded data removed]",
      "text/plain": [
       "<Figure size 216x216 with 1 Axes>"
      ]
     },
     "metadata": {
      "needs_background": "light"
     },
     "output_type": "display_data"
    },
    {
     "data": {
      "image/png": "[encoded data removed]",
      "text/plain": [
       "<Figure size 216x216 with 1 Axes>"
      ]
     },
     "metadata": {
      "needs_background": "light"
     },
     "output_type": "display_data"
    },
    {
     "data": {
      "image/png": "[encoded data removed]",
      "text/plain": [
       "<Figure size 216x216 with 1 Axes>"
      ]
     },
     "metadata": {
      "needs_background": "light"
     },
     "output_type": "display_data"
    },
    {
     "data": {
      "image/png": "[encoded data removed]",
      "text/plain": [
       "<Figure size 216x216 with 1 Axes>"
      ]
     },
     "metadata": {
      "needs_background": "light"
     },
     "output_type": "display_data"
    },
    {
     "data": {
      "image/png": "[encoded data removed]",
      "text/plain": [
       "<Figure size 216x216 with 1 Axes>"
      ]
     },
     "metadata": {
      "needs_background": "light"
     },
     "output_type": "display_data"
    },
    {
     "data": {
      "image/png": "[encoded data removed]",
      "text/plain": [
       "<Figure size 216x216 with 1 Axes>"
      ]
     },
     "metadata": {
      "needs_background": "light"
     },
     "output_type": "display_data"
    },
    {
     "data": {
      "image/png": "[encoded data removed]",
      "text/plain": [
       "<Figure size 216x216 with 1 Axes>"
      ]
     },
     "metadata": {
      "needs_background": "light"
     },
     "output_type": "display_data"
    },
    {
     "data": {
      "image/png": "[encoded data removed]",
      "text/plain": [
       "<Figure size 216x216 with 1 Axes>"
      ]
     },
     "metadata": {
      "needs_background": "light"
     },
     "output_type": "display_data"
    },
    {
     "data": {
      "image/png": "[encoded data removed]",
      "text/plain": [
       "<Figure size 216x216 with 1 Axes>"
      ]
     },
     "metadata": {
      "needs_background": "light"
     },
     "output_type": "display_data"
    },
    {
     "data": {
      "image/png": "[encoded data removed]",
      "text/plain": [
       "<Figure size 216x216 with 1 Axes>"
      ]
     },
     "metadata": {
      "needs_background": "light"
     },
     "output_type": "display_data"
    },
    {
     "data": {
      "image/png": "[encoded data removed]",
      "text/plain": [
       "<Figure size 216x216 with 1 Axes>"
      ]
     },
     "metadata": {
      "needs_background": "light"
     },
     "output_type": "display_data"
    },
    {
     "data": {
      "image/png": "[encoded data removed]",
      "text/plain": [
       "<Figure size 216x216 with 1 Axes>"
      ]
     },
     "metadata": {
      "needs_background": "light"
     },
     "output_type": "display_data"
    },
    {
     "data": {
      "image/png": "[encoded data removed]",
      "text/plain": [
       "<Figure size 216x216 with 1 Axes>"
      ]
     },
     "metadata": {
      "needs_background": "light"
     },
     "output_type": "display_data"
    },
    {
     "data": {
      "image/png": "[encoded data removed]",
      "text/plain": [
       "<Figure size 216x216 with 1 Axes>"
      ]
     },
     "metadata": {
      "needs_background": "light"
     },
     "output_type": "display_data"
    },
    {
     "data": {
      "image/png": "[encoded data removed]",
      "text/plain": [
       "<Figure size 216x216 with 1 Axes>"
      ]
     },
     "metadata": {
      "needs_background": "light"
     },
     "output_type": "display_data"
    }
   ],
   "source": [
    "# Plot the numeric variables:\n",
    "for col in train_num.drop(['Id'], axis=1).columns:\n",
    "    plt.figure(figsize=(3,3))\n",
    "    plt.plot(train_num[col],'.')\n",
    "    plt.title(col)\n",
    "plt.show()"
   ]
  },
  {
   "cell_type": "code",
   "execution_count": 8,
   "metadata": {},
   "outputs": [
    {
     "data": {
      "text/plain": [
       "Id                   0\n",
       "MS SubClass          0\n",
       "Lot Frontage       332\n",
       "Lot Area             0\n",
       "Overall Qual         0\n",
       "Overall Cond         0\n",
       "Year Built           0\n",
       "Year Remod/Add       0\n",
       "Mas Vnr Area        16\n",
       "BsmtFin SF 1         1\n",
       "BsmtFin SF 2         1\n",
       "Bsmt Unf SF          1\n",
       "Total Bsmt SF        1\n",
       "1st Flr SF           0\n",
       "2nd Flr SF           0\n",
       "Low Qual Fin SF      0\n",
       "Gr Liv Area          0\n",
       "Bsmt Full Bath       1\n",
       "Bsmt Half Bath       1\n",
       "Full Bath            0\n",
       "Half Bath            0\n",
       "Bedroom AbvGr        0\n",
       "Kitchen AbvGr        0\n",
       "TotRms AbvGrd        0\n",
       "Fireplaces           0\n",
       "Garage Yr Blt      106\n",
       "Garage Cars          1\n",
       "Garage Area          1\n",
       "Wood Deck SF         0\n",
       "Open Porch SF        0\n",
       "Enclosed Porch       0\n",
       "3Ssn Porch           0\n",
       "Screen Porch         0\n",
       "Pool Area            0\n",
       "Misc Val             0\n",
       "Mo Sold              0\n",
       "Yr Sold              0\n",
       "dtype: int64"
      ]
     },
     "execution_count": 8,
     "metadata": {},
     "output_type": "execute_result"
    }
   ],
   "source": [
    "train_num.isnull().sum()"
   ]
  },
  {
   "cell_type": "code",
   "execution_count": 9,
   "metadata": {},
   "outputs": [],
   "source": [
    "# Drop the variables that have more than 100 missing values\n",
    "train_num_2 = train_num.drop(['Lot Frontage', 'Garage Yr Blt'],axis=1)\n",
    "test_num = test[train_num_2.columns]"
   ]
  },
  {
   "cell_type": "code",
   "execution_count": 10,
   "metadata": {},
   "outputs": [
    {
     "name": "stdout",
     "output_type": "stream",
     "text": [
      "(2001, 35) (929, 35)\n"
     ]
    }
   ],
   "source": [
    "print(train_num_2.shape, test_num.shape)"
   ]
  },
  {
   "cell_type": "code",
   "execution_count": 11,
   "metadata": {},
   "outputs": [],
   "source": [
    "# Concatenate the train and test data\n",
    "data  = pd.concat([train_num_2,test_num],axis=0)"
   ]
  },
  {
   "cell_type": "code",
   "execution_count": 12,
   "metadata": {},
   "outputs": [
    {
     "data": {
      "text/plain": [
       "(2930, 35)"
      ]
     },
     "execution_count": 12,
     "metadata": {},
     "output_type": "execute_result"
    }
   ],
   "source": [
    "data.shape"
   ]
  },
  {
   "cell_type": "code",
   "execution_count": 13,
   "metadata": {},
   "outputs": [],
   "source": [
    "# Impute the NAs with median\n",
    "data_2 = data.fillna(data.median())"
   ]
  },
  {
   "cell_type": "code",
   "execution_count": 14,
   "metadata": {},
   "outputs": [],
   "source": [
    "# Separate the train and test data\n",
    "num_train = data_2.iloc[0:len(train),]\n",
    "num_test = data_2.iloc[len(train):,]"
   ]
  },
  {
   "cell_type": "markdown",
   "metadata": {},
   "source": [
    "## Handling outliers"
   ]
  },
  {
   "cell_type": "code",
   "execution_count": 15,
   "metadata": {},
   "outputs": [
    {
     "name": "stderr",
     "output_type": "stream",
     "text": [
      "C:\\Users\\Hanna\\Anaconda3\\lib\\site-packages\\matplotlib\\pyplot.py:537: RuntimeWarning: More than 20 figures have been opened. Figures created through the pyplot interface (`matplotlib.pyplot.figure`) are retained until explicitly closed and may consume too much memory. (To control this warning, see the rcParam `figure.max_open_warning`).\n",
      "  max_open_warning, RuntimeWarning)\n"
     ]
    },
    {
     "data": {
      "text/plain": [
       "<function matplotlib.pyplot.show(*args, **kw)>"
      ]
     },
     "execution_count": 15,
     "metadata": {},
     "output_type": "execute_result"
    },
    {
     "data": {
      "image/png": "[encoded data removed]",
      "text/plain": [
       "<Figure size 216x216 with 1 Axes>"
      ]
     },
     "metadata": {},
     "output_type": "display_data"
    },
    {
     "data": {
      "image/png": "[encoded data removed]",
      "text/plain": [
       "<Figure size 216x216 with 1 Axes>"
      ]
     },
     "metadata": {},
     "output_type": "display_data"
    },
    {
     "data": {
      "image/png": "[encoded data removed]",
      "text/plain": [
       "<Figure size 216x216 with 1 Axes>"
      ]
     },
     "metadata": {},
     "output_type": "display_data"
    },
    {
     "data": {
      "image/png": "[encoded data removed]",
      "text/plain": [
       "<Figure size 216x216 with 1 Axes>"
      ]
     },
     "metadata": {},
     "output_type": "display_data"
    },
    {
     "data": {
      "image/png": "[encoded data removed]",
      "text/plain": [
       "<Figure size 216x216 with 1 Axes>"
      ]
     },
     "metadata": {},
     "output_type": "display_data"
    },
    {
     "data": {
      "image/png": "[encoded data removed]",
      "text/plain": [
       "<Figure size 216x216 with 1 Axes>"
      ]
     },
     "metadata": {},
     "output_type": "display_data"
    },
    {
     "data": {
      "image/png": "[encoded data removed]",
      "text/plain": [
       "<Figure size 216x216 with 1 Axes>"
      ]
     },
     "metadata": {},
     "output_type": "display_data"
    },
    {
     "data": {
      "image/png": "[encoded data removed]",
      "text/plain": [
       "<Figure size 216x216 with 1 Axes>"
      ]
     },
     "metadata": {},
     "output_type": "display_data"
    },
    {
     "data": {
      "image/png": "[encoded data removed]",
      "text/plain": [
       "<Figure size 216x216 with 1 Axes>"
      ]
     },
     "metadata": {},
     "output_type": "display_data"
    },
    {
     "data": {
      "image/png": "[encoded data removed]",
      "text/plain": [
       "<Figure size 216x216 with 1 Axes>"
      ]
     },
     "metadata": {},
     "output_type": "display_data"
    },
    {
     "data": {
      "image/png": "[encoded data removed]",
      "text/plain": [
       "<Figure size 216x216 with 1 Axes>"
      ]
     },
     "metadata": {},
     "output_type": "display_data"
    },
    {
     "data": {
      "image/png": "[encoded data removed]",
      "text/plain": [
       "<Figure size 216x216 with 1 Axes>"
      ]
     },
     "metadata": {},
     "output_type": "display_data"
    },
    {
     "data": {
      "image/png": "[encoded data removed]",
      "text/plain": [
       "<Figure size 216x216 with 1 Axes>"
      ]
     },
     "metadata": {},
     "output_type": "display_data"
    },
    {
     "data": {
      "image/png": "[encoded data removed]",
      "text/plain": [
       "<Figure size 216x216 with 1 Axes>"
      ]
     },
     "metadata": {},
     "output_type": "display_data"
    },
    {
     "data": {
      "image/png": "[encoded data removed]",
      "text/plain": [
       "<Figure size 216x216 with 1 Axes>"
      ]
     },
     "metadata": {},
     "output_type": "display_data"
    },
    {
     "data": {
      "image/png": "[encoded data removed]",
      "text/plain": [
       "<Figure size 216x216 with 1 Axes>"
      ]
     },
     "metadata": {},
     "output_type": "display_data"
    },
    {
     "data": {
      "image/png": "[encoded data removed]",
      "text/plain": [
       "<Figure size 216x216 with 1 Axes>"
      ]
     },
     "metadata": {},
     "output_type": "display_data"
    },
    {
     "data": {
      "image/png": "[encoded data removed]",
      "text/plain": [
       "<Figure size 216x216 with 1 Axes>"
      ]
     },
     "metadata": {},
     "output_type": "display_data"
    },
    {
     "data": {
      "image/png": "[encoded data removed]",
      "text/plain": [
       "<Figure size 216x216 with 1 Axes>"
      ]
     },
     "metadata": {},
     "output_type": "display_data"
    },
    {
     "data": {
      "image/png": "[encoded data removed]",
      "text/plain": [
       "<Figure size 216x216 with 1 Axes>"
      ]
     },
     "metadata": {},
     "output_type": "display_data"
    },
    {
     "data": {
      "image/png": "[encoded data removed]",
      "text/plain": [
       "<Figure size 216x216 with 1 Axes>"
      ]
     },
     "metadata": {},
     "output_type": "display_data"
    },
    {
     "data": {
      "image/png": "[encoded data removed]",
      "text/plain": [
       "<Figure size 216x216 with 1 Axes>"
      ]
     },
     "metadata": {},
     "output_type": "display_data"
    },
    {
     "data": {
      "image/png": "[encoded data removed]",
      "text/plain": [
       "<Figure size 216x216 with 1 Axes>"
      ]
     },
     "metadata": {},
     "output_type": "display_data"
    },
    {
     "data": {
      "image/png": "[encoded data removed]",
      "text/plain": [
       "<Figure size 216x216 with 1 Axes>"
      ]
     },
     "metadata": {},
     "output_type": "display_data"
    },
    {
     "data": {
      "image/png": "[encoded data removed]",
      "text/plain": [
       "<Figure size 216x216 with 1 Axes>"
      ]
     },
     "metadata": {},
     "output_type": "display_data"
    },
    {
     "data": {
      "image/png": "[encoded data removed]",
      "text/plain": [
       "<Figure size 216x216 with 1 Axes>"
      ]
     },
     "metadata": {},
     "output_type": "display_data"
    },
    {
     "data": {
      "image/png": "[encoded data removed]",
      "text/plain": [
       "<Figure size 216x216 with 1 Axes>"
      ]
     },
     "metadata": {},
     "output_type": "display_data"
    },
    {
     "data": {
      "image/png": "[encoded data removed]",
      "text/plain": [
       "<Figure size 216x216 with 1 Axes>"
      ]
     },
     "metadata": {},
     "output_type": "display_data"
    },
    {
     "data": {
      "image/png": "[encoded data removed]",
      "text/plain": [
       "<Figure size 216x216 with 1 Axes>"
      ]
     },
     "metadata": {},
     "output_type": "display_data"
    },
    {
     "data": {
      "image/png": "[encoded data removed]",
      "text/plain": [
       "<Figure size 216x216 with 1 Axes>"
      ]
     },
     "metadata": {},
     "output_type": "display_data"
    },
    {
     "data": {
      "image/png": "[encoded data removed]",
      "text/plain": [
       "<Figure size 216x216 with 1 Axes>"
      ]
     },
     "metadata": {},
     "output_type": "display_data"
    },
    {
     "data": {
      "image/png": "[encoded data removed]",
      "text/plain": [
       "<Figure size 216x216 with 1 Axes>"
      ]
     },
     "metadata": {},
     "output_type": "display_data"
    },
    {
     "data": {
      "image/png": "[encoded data removed]",
      "text/plain": [
       "<Figure size 216x216 with 1 Axes>"
      ]
     },
     "metadata": {},
     "output_type": "display_data"
    },
    {
     "data": {
      "image/png": "[encoded data removed]",
      "text/plain": [
       "<Figure size 216x216 with 1 Axes>"
      ]
     },
     "metadata": {},
     "output_type": "display_data"
    },
    {
     "data": {
      "image/png": "[encoded data removed]",
      "text/plain": [
       "<Figure size 216x216 with 1 Axes>"
      ]
     },
     "metadata": {},
     "output_type": "display_data"
    }
   ],
   "source": [
    "# Plot the numeric variables \n",
    "for col in num_train.columns:\n",
    "    plt.figure(figsize=(3,3))\n",
    "    plt.boxplot(num_train[col]) \n",
    "    plt.title(col)\n",
    "plt.show()\n",
    "\n",
    "# There are outliers in the data"
   ]
  },
  {
   "cell_type": "code",
   "execution_count": 16,
   "metadata": {},
   "outputs": [
    {
     "data": {
      "text/html": [
       "<div>\n",
       "<style scoped>\n",
       "    .dataframe tbody tr th:only-of-type {\n",
       "        vertical-align: middle;\n",
       "    }\n",
       "\n",
       "    .dataframe tbody tr th {\n",
       "        vertical-align: top;\n",
       "    }\n",
       "\n",
       "    .dataframe thead th {\n",
       "        text-align: right;\n",
       "    }\n",
       "</style>\n",
       "<table border=\"1\" class=\"dataframe\">\n",
       "  <thead>\n",
       "    <tr style=\"text-align: right;\">\n",
       "      <th></th>\n",
       "      <th>MS SubClass</th>\n",
       "      <th>Lot Area</th>\n",
       "      <th>Overall Qual</th>\n",
       "      <th>Overall Cond</th>\n",
       "      <th>Year Built</th>\n",
       "      <th>Year Remod/Add</th>\n",
       "      <th>Mas Vnr Area</th>\n",
       "      <th>BsmtFin SF 1</th>\n",
       "      <th>BsmtFin SF 2</th>\n",
       "      <th>Bsmt Unf SF</th>\n",
       "      <th>...</th>\n",
       "      <th>Garage Area</th>\n",
       "      <th>Wood Deck SF</th>\n",
       "      <th>Open Porch SF</th>\n",
       "      <th>Enclosed Porch</th>\n",
       "      <th>3Ssn Porch</th>\n",
       "      <th>Screen Porch</th>\n",
       "      <th>Pool Area</th>\n",
       "      <th>Misc Val</th>\n",
       "      <th>Mo Sold</th>\n",
       "      <th>Yr Sold</th>\n",
       "    </tr>\n",
       "  </thead>\n",
       "  <tbody>\n",
       "    <tr>\n",
       "      <th>amin</th>\n",
       "      <td>20</td>\n",
       "      <td>1470</td>\n",
       "      <td>1</td>\n",
       "      <td>1</td>\n",
       "      <td>1872</td>\n",
       "      <td>1950</td>\n",
       "      <td>0.0</td>\n",
       "      <td>0.0</td>\n",
       "      <td>0.0</td>\n",
       "      <td>0.0</td>\n",
       "      <td>...</td>\n",
       "      <td>0.0</td>\n",
       "      <td>0</td>\n",
       "      <td>0</td>\n",
       "      <td>0</td>\n",
       "      <td>0</td>\n",
       "      <td>0</td>\n",
       "      <td>0</td>\n",
       "      <td>0</td>\n",
       "      <td>1</td>\n",
       "      <td>2006</td>\n",
       "    </tr>\n",
       "    <tr>\n",
       "      <th>amax</th>\n",
       "      <td>190</td>\n",
       "      <td>164660</td>\n",
       "      <td>10</td>\n",
       "      <td>9</td>\n",
       "      <td>2010</td>\n",
       "      <td>2010</td>\n",
       "      <td>1378.0</td>\n",
       "      <td>5644.0</td>\n",
       "      <td>1474.0</td>\n",
       "      <td>2336.0</td>\n",
       "      <td>...</td>\n",
       "      <td>1488.0</td>\n",
       "      <td>1424</td>\n",
       "      <td>742</td>\n",
       "      <td>552</td>\n",
       "      <td>508</td>\n",
       "      <td>576</td>\n",
       "      <td>800</td>\n",
       "      <td>17000</td>\n",
       "      <td>12</td>\n",
       "      <td>2010</td>\n",
       "    </tr>\n",
       "  </tbody>\n",
       "</table>\n",
       "<p>2 rows × 34 columns</p>\n",
       "</div>"
      ],
      "text/plain": [
       "      MS SubClass  Lot Area  Overall Qual  Overall Cond  Year Built  \\\n",
       "amin           20      1470             1             1        1872   \n",
       "amax          190    164660            10             9        2010   \n",
       "\n",
       "      Year Remod/Add  Mas Vnr Area  BsmtFin SF 1  BsmtFin SF 2  Bsmt Unf SF  \\\n",
       "amin            1950           0.0           0.0           0.0          0.0   \n",
       "amax            2010        1378.0        5644.0        1474.0       2336.0   \n",
       "\n",
       "       ...     Garage Area  Wood Deck SF  Open Porch SF  Enclosed Porch  \\\n",
       "amin   ...             0.0             0              0               0   \n",
       "amax   ...          1488.0          1424            742             552   \n",
       "\n",
       "      3Ssn Porch  Screen Porch  Pool Area  Misc Val  Mo Sold  Yr Sold  \n",
       "amin           0             0          0         0        1     2006  \n",
       "amax         508           576        800     17000       12     2010  \n",
       "\n",
       "[2 rows x 34 columns]"
      ]
     },
     "execution_count": 16,
     "metadata": {},
     "output_type": "execute_result"
    }
   ],
   "source": [
    "# Check the minimum and maximum of each collumn\n",
    "num_train.drop(['Id'],axis=1).agg([np.min, np.max])"
   ]
  },
  {
   "cell_type": "code",
   "execution_count": 17,
   "metadata": {},
   "outputs": [],
   "source": [
    "# Remove outliers\n",
    "# Some varialbes do not have outliers in terms of what they represent, so we do not need to remove their statistical outliers\n",
    "cols = set(num_train.columns) - set(['Id','Overall Qual', 'Overall Cond','Year Built', 'Year Remod/Add','Mo Sold'])\n",
    "col = [x for x in cols]\n",
    "num_train_clean = num_train[(np.abs(stats.zscore(num_train[col])) < 3).all(axis=1)]"
   ]
  },
  {
   "cell_type": "code",
   "execution_count": 18,
   "metadata": {},
   "outputs": [
    {
     "data": {
      "text/plain": [
       "(1436, 35)"
      ]
     },
     "execution_count": 18,
     "metadata": {},
     "output_type": "execute_result"
    }
   ],
   "source": [
    "num_train_clean.shape"
   ]
  },
  {
   "cell_type": "code",
   "execution_count": 19,
   "metadata": {},
   "outputs": [
    {
     "data": {
      "text/plain": [
       "(1436,)"
      ]
     },
     "execution_count": 19,
     "metadata": {},
     "output_type": "execute_result"
    }
   ],
   "source": [
    "train['SalePrice'][num_train_clean.index].shape"
   ]
  },
  {
   "cell_type": "markdown",
   "metadata": {},
   "source": [
    "## Handling multi-collinarity"
   ]
  },
  {
   "cell_type": "code",
   "execution_count": 20,
   "metadata": {},
   "outputs": [
    {
     "data": {
      "text/plain": [
       "Text(0.5,1,'Correlation Matrix')"
      ]
     },
     "execution_count": 20,
     "metadata": {},
     "output_type": "execute_result"
    },
    {
     "data": {
      "image/png": "[encoded data removed]",
      "text/plain": [
       "<Figure size 720x576 with 2 Axes>"
      ]
     },
     "metadata": {},
     "output_type": "display_data"
    }
   ],
   "source": [
    "# Plot the correlation matrix of the numeric variables \n",
    "\n",
    "import seaborn as sns\n",
    "\n",
    "f, ax = plt.subplots(figsize=(10, 8))\n",
    "corr = num_train_clean.drop(['Id'],axis=1).corr()\n",
    "sns.heatmap(corr, mask=np.zeros_like(corr, dtype=np.bool), cmap=sns.diverging_palette(220, 10, as_cmap=True),\n",
    "            square=True, ax=ax)\n",
    "ax.set_title('Correlation Matrix')\n",
    "\n",
    "# The correlation matrix shows that some variables are correlated to each other"
   ]
  },
  {
   "cell_type": "code",
   "execution_count": 21,
   "metadata": {},
   "outputs": [
    {
     "name": "stderr",
     "output_type": "stream",
     "text": [
      "C:\\Users\\Hanna\\Anaconda3\\lib\\site-packages\\numpy\\lib\\function_base.py:3183: RuntimeWarning: invalid value encountered in true_divide\n",
      "  c /= stddev[:, None]\n",
      "C:\\Users\\Hanna\\Anaconda3\\lib\\site-packages\\numpy\\lib\\function_base.py:3184: RuntimeWarning: invalid value encountered in true_divide\n",
      "  c /= stddev[None, :]\n"
     ]
    },
    {
     "data": {
      "text/plain": [
       "[['Enclosed Porch', -0.2],\n",
       " ['Overall Cond', -0.15],\n",
       " ['BsmtFin SF 2', -0.08],\n",
       " ['Low Qual Fin SF', -0.05],\n",
       " ['Yr Sold', -0.05],\n",
       " ['Misc Val', -0.04],\n",
       " ['3Ssn Porch', -0.0],\n",
       " ['MS SubClass', 0.01],\n",
       " ['Screen Porch', 0.05],\n",
       " ['Mo Sold', 0.05],\n",
       " ['Bsmt Unf SF', 0.21],\n",
       " ['Bsmt Full Bath', 0.26],\n",
       " ['Bedroom AbvGr', 0.26],\n",
       " ['Half Bath', 0.3],\n",
       " ['2nd Flr SF', 0.32],\n",
       " ['Lot Area', 0.35],\n",
       " ['Wood Deck SF', 0.36],\n",
       " ['Open Porch SF', 0.37],\n",
       " ['BsmtFin SF 1', 0.38],\n",
       " ['Fireplaces', 0.45],\n",
       " ['Mas Vnr Area', 0.47],\n",
       " ['Year Remod/Add', 0.57],\n",
       " ['1st Flr SF', 0.61],\n",
       " ['TotRms AbvGrd', 0.61],\n",
       " ['Year Built', 0.63],\n",
       " ['Total Bsmt SF', 0.64],\n",
       " ['Full Bath', 0.64],\n",
       " ['Garage Area', 0.68],\n",
       " ['Garage Cars', 0.7],\n",
       " ['Gr Liv Area', 0.77],\n",
       " ['Overall Qual', 0.82],\n",
       " ['Bsmt Half Bath', nan],\n",
       " ['Kitchen AbvGr', nan],\n",
       " ['Pool Area', nan]]"
      ]
     },
     "execution_count": 21,
     "metadata": {},
     "output_type": "execute_result"
    }
   ],
   "source": [
    "# Check the corrleation between each numeric variable and 'SalePrice' \n",
    "correlation = []\n",
    "\n",
    "for col in num_train_clean.drop(['Id'],axis=1).columns:\n",
    "    correlation.append([col, round(np.corrcoef(num_train_clean[col], train['SalePrice'][num_train_clean.index])[0,1],2)])\n",
    "sorted(correlation, key=lambda x: x[1])"
   ]
  },
  {
   "cell_type": "code",
   "execution_count": 22,
   "metadata": {},
   "outputs": [],
   "source": [
    "def calculate_vif(r_squared):\n",
    "    if r_squared >= 0.99:# to avoid devision by 0\n",
    "        vif = \"NA\"\n",
    "    else:\n",
    "        vif = 1/(1-r_squared)\n",
    "    return vif"
   ]
  },
  {
   "cell_type": "code",
   "execution_count": 23,
   "metadata": {},
   "outputs": [],
   "source": [
    "def generate_vif_dataframe(processed_train):\n",
    "    r2 = []\n",
    "    vif = []\n",
    "    v_name = []\n",
    "    \n",
    "    for i in range(processed_train.shape[1]): \n",
    "        X = processed_train.drop(processed_train.columns[i], axis=1)\n",
    "        y = processed_train.iloc[:,i]\n",
    "        results = LinearRegression().fit(X,y)\n",
    "        r2_i = results.score(X,y) # calculate r_squared\n",
    "        r2.append(r2_i)\n",
    "        vif.append(calculate_vif(r2_i)) # calculate VIF\n",
    "        v_name.append(processed_train.columns[i])\n",
    "        \n",
    "    vif_dataframe = pd.DataFrame(list(zip(v_name, vif)), columns =['Variable Name', 'VIF']) \n",
    "    return vif_dataframe"
   ]
  },
  {
   "cell_type": "code",
   "execution_count": 24,
   "metadata": {},
   "outputs": [
    {
     "data": {
      "text/html": [
       "<div>\n",
       "<style scoped>\n",
       "    .dataframe tbody tr th:only-of-type {\n",
       "        vertical-align: middle;\n",
       "    }\n",
       "\n",
       "    .dataframe tbody tr th {\n",
       "        vertical-align: top;\n",
       "    }\n",
       "\n",
       "    .dataframe thead th {\n",
       "        text-align: right;\n",
       "    }\n",
       "</style>\n",
       "<table border=\"1\" class=\"dataframe\">\n",
       "  <thead>\n",
       "    <tr style=\"text-align: right;\">\n",
       "      <th></th>\n",
       "      <th>Variable Name</th>\n",
       "      <th>VIF</th>\n",
       "    </tr>\n",
       "  </thead>\n",
       "  <tbody>\n",
       "    <tr>\n",
       "      <th>0</th>\n",
       "      <td>Id</td>\n",
       "      <td>1.023</td>\n",
       "    </tr>\n",
       "    <tr>\n",
       "      <th>1</th>\n",
       "      <td>MS SubClass</td>\n",
       "      <td>1.95531</td>\n",
       "    </tr>\n",
       "    <tr>\n",
       "      <th>2</th>\n",
       "      <td>Lot Area</td>\n",
       "      <td>1.8054</td>\n",
       "    </tr>\n",
       "    <tr>\n",
       "      <th>3</th>\n",
       "      <td>Overall Qual</td>\n",
       "      <td>3.28659</td>\n",
       "    </tr>\n",
       "    <tr>\n",
       "      <th>4</th>\n",
       "      <td>Overall Cond</td>\n",
       "      <td>1.60703</td>\n",
       "    </tr>\n",
       "    <tr>\n",
       "      <th>5</th>\n",
       "      <td>Year Built</td>\n",
       "      <td>4.68104</td>\n",
       "    </tr>\n",
       "    <tr>\n",
       "      <th>6</th>\n",
       "      <td>Year Remod/Add</td>\n",
       "      <td>2.63546</td>\n",
       "    </tr>\n",
       "    <tr>\n",
       "      <th>7</th>\n",
       "      <td>Mas Vnr Area</td>\n",
       "      <td>1.37904</td>\n",
       "    </tr>\n",
       "    <tr>\n",
       "      <th>8</th>\n",
       "      <td>BsmtFin SF 1</td>\n",
       "      <td>NA</td>\n",
       "    </tr>\n",
       "    <tr>\n",
       "      <th>9</th>\n",
       "      <td>BsmtFin SF 2</td>\n",
       "      <td>NA</td>\n",
       "    </tr>\n",
       "    <tr>\n",
       "      <th>10</th>\n",
       "      <td>Bsmt Unf SF</td>\n",
       "      <td>NA</td>\n",
       "    </tr>\n",
       "    <tr>\n",
       "      <th>11</th>\n",
       "      <td>Total Bsmt SF</td>\n",
       "      <td>NA</td>\n",
       "    </tr>\n",
       "    <tr>\n",
       "      <th>12</th>\n",
       "      <td>1st Flr SF</td>\n",
       "      <td>NA</td>\n",
       "    </tr>\n",
       "    <tr>\n",
       "      <th>13</th>\n",
       "      <td>2nd Flr SF</td>\n",
       "      <td>NA</td>\n",
       "    </tr>\n",
       "    <tr>\n",
       "      <th>14</th>\n",
       "      <td>Low Qual Fin SF</td>\n",
       "      <td>NA</td>\n",
       "    </tr>\n",
       "    <tr>\n",
       "      <th>15</th>\n",
       "      <td>Gr Liv Area</td>\n",
       "      <td>NA</td>\n",
       "    </tr>\n",
       "    <tr>\n",
       "      <th>16</th>\n",
       "      <td>Bsmt Full Bath</td>\n",
       "      <td>2.12054</td>\n",
       "    </tr>\n",
       "    <tr>\n",
       "      <th>17</th>\n",
       "      <td>Bsmt Half Bath</td>\n",
       "      <td>NA</td>\n",
       "    </tr>\n",
       "    <tr>\n",
       "      <th>18</th>\n",
       "      <td>Full Bath</td>\n",
       "      <td>3.17318</td>\n",
       "    </tr>\n",
       "    <tr>\n",
       "      <th>19</th>\n",
       "      <td>Half Bath</td>\n",
       "      <td>2.61246</td>\n",
       "    </tr>\n",
       "    <tr>\n",
       "      <th>20</th>\n",
       "      <td>Bedroom AbvGr</td>\n",
       "      <td>2.46755</td>\n",
       "    </tr>\n",
       "    <tr>\n",
       "      <th>21</th>\n",
       "      <td>Kitchen AbvGr</td>\n",
       "      <td>NA</td>\n",
       "    </tr>\n",
       "    <tr>\n",
       "      <th>22</th>\n",
       "      <td>TotRms AbvGrd</td>\n",
       "      <td>4.27196</td>\n",
       "    </tr>\n",
       "    <tr>\n",
       "      <th>23</th>\n",
       "      <td>Fireplaces</td>\n",
       "      <td>1.49309</td>\n",
       "    </tr>\n",
       "    <tr>\n",
       "      <th>24</th>\n",
       "      <td>Garage Cars</td>\n",
       "      <td>6.0066</td>\n",
       "    </tr>\n",
       "    <tr>\n",
       "      <th>25</th>\n",
       "      <td>Garage Area</td>\n",
       "      <td>5.40149</td>\n",
       "    </tr>\n",
       "    <tr>\n",
       "      <th>26</th>\n",
       "      <td>Wood Deck SF</td>\n",
       "      <td>1.2165</td>\n",
       "    </tr>\n",
       "    <tr>\n",
       "      <th>27</th>\n",
       "      <td>Open Porch SF</td>\n",
       "      <td>1.27324</td>\n",
       "    </tr>\n",
       "    <tr>\n",
       "      <th>28</th>\n",
       "      <td>Enclosed Porch</td>\n",
       "      <td>1.26865</td>\n",
       "    </tr>\n",
       "    <tr>\n",
       "      <th>29</th>\n",
       "      <td>3Ssn Porch</td>\n",
       "      <td>1.0125</td>\n",
       "    </tr>\n",
       "    <tr>\n",
       "      <th>30</th>\n",
       "      <td>Screen Porch</td>\n",
       "      <td>1.06211</td>\n",
       "    </tr>\n",
       "    <tr>\n",
       "      <th>31</th>\n",
       "      <td>Pool Area</td>\n",
       "      <td>NA</td>\n",
       "    </tr>\n",
       "    <tr>\n",
       "      <th>32</th>\n",
       "      <td>Misc Val</td>\n",
       "      <td>1.05316</td>\n",
       "    </tr>\n",
       "    <tr>\n",
       "      <th>33</th>\n",
       "      <td>Mo Sold</td>\n",
       "      <td>1.05564</td>\n",
       "    </tr>\n",
       "    <tr>\n",
       "      <th>34</th>\n",
       "      <td>Yr Sold</td>\n",
       "      <td>1.05586</td>\n",
       "    </tr>\n",
       "  </tbody>\n",
       "</table>\n",
       "</div>"
      ],
      "text/plain": [
       "      Variable Name      VIF\n",
       "0                Id    1.023\n",
       "1       MS SubClass  1.95531\n",
       "2          Lot Area   1.8054\n",
       "3      Overall Qual  3.28659\n",
       "4      Overall Cond  1.60703\n",
       "5        Year Built  4.68104\n",
       "6    Year Remod/Add  2.63546\n",
       "7      Mas Vnr Area  1.37904\n",
       "8      BsmtFin SF 1       NA\n",
       "9      BsmtFin SF 2       NA\n",
       "10      Bsmt Unf SF       NA\n",
       "11    Total Bsmt SF       NA\n",
       "12       1st Flr SF       NA\n",
       "13       2nd Flr SF       NA\n",
       "14  Low Qual Fin SF       NA\n",
       "15      Gr Liv Area       NA\n",
       "16   Bsmt Full Bath  2.12054\n",
       "17   Bsmt Half Bath       NA\n",
       "18        Full Bath  3.17318\n",
       "19        Half Bath  2.61246\n",
       "20    Bedroom AbvGr  2.46755\n",
       "21    Kitchen AbvGr       NA\n",
       "22    TotRms AbvGrd  4.27196\n",
       "23       Fireplaces  1.49309\n",
       "24      Garage Cars   6.0066\n",
       "25      Garage Area  5.40149\n",
       "26     Wood Deck SF   1.2165\n",
       "27    Open Porch SF  1.27324\n",
       "28   Enclosed Porch  1.26865\n",
       "29       3Ssn Porch   1.0125\n",
       "30     Screen Porch  1.06211\n",
       "31        Pool Area       NA\n",
       "32         Misc Val  1.05316\n",
       "33          Mo Sold  1.05564\n",
       "34          Yr Sold  1.05586"
      ]
     },
     "execution_count": 24,
     "metadata": {},
     "output_type": "execute_result"
    }
   ],
   "source": [
    "generate_vif_dataframe(num_train_clean)"
   ]
  },
  {
   "cell_type": "code",
   "execution_count": 25,
   "metadata": {},
   "outputs": [
    {
     "data": {
      "text/html": [
       "<div>\n",
       "<style scoped>\n",
       "    .dataframe tbody tr th:only-of-type {\n",
       "        vertical-align: middle;\n",
       "    }\n",
       "\n",
       "    .dataframe tbody tr th {\n",
       "        vertical-align: top;\n",
       "    }\n",
       "\n",
       "    .dataframe thead th {\n",
       "        text-align: right;\n",
       "    }\n",
       "</style>\n",
       "<table border=\"1\" class=\"dataframe\">\n",
       "  <thead>\n",
       "    <tr style=\"text-align: right;\">\n",
       "      <th></th>\n",
       "      <th>Variable Name</th>\n",
       "      <th>VIF</th>\n",
       "    </tr>\n",
       "  </thead>\n",
       "  <tbody>\n",
       "    <tr>\n",
       "      <th>0</th>\n",
       "      <td>MS SubClass</td>\n",
       "      <td>1.9518</td>\n",
       "    </tr>\n",
       "    <tr>\n",
       "      <th>1</th>\n",
       "      <td>Lot Area</td>\n",
       "      <td>1.803</td>\n",
       "    </tr>\n",
       "    <tr>\n",
       "      <th>2</th>\n",
       "      <td>Overall Qual</td>\n",
       "      <td>3.27997</td>\n",
       "    </tr>\n",
       "    <tr>\n",
       "      <th>3</th>\n",
       "      <td>Overall Cond</td>\n",
       "      <td>1.60131</td>\n",
       "    </tr>\n",
       "    <tr>\n",
       "      <th>4</th>\n",
       "      <td>Year Built</td>\n",
       "      <td>4.6559</td>\n",
       "    </tr>\n",
       "    <tr>\n",
       "      <th>5</th>\n",
       "      <td>Year Remod/Add</td>\n",
       "      <td>2.62964</td>\n",
       "    </tr>\n",
       "    <tr>\n",
       "      <th>6</th>\n",
       "      <td>Mas Vnr Area</td>\n",
       "      <td>1.37896</td>\n",
       "    </tr>\n",
       "    <tr>\n",
       "      <th>7</th>\n",
       "      <td>BsmtFin SF 2</td>\n",
       "      <td>1.07759</td>\n",
       "    </tr>\n",
       "    <tr>\n",
       "      <th>8</th>\n",
       "      <td>Bsmt Unf SF</td>\n",
       "      <td>2.51959</td>\n",
       "    </tr>\n",
       "    <tr>\n",
       "      <th>9</th>\n",
       "      <td>Total Bsmt SF</td>\n",
       "      <td>5.54111</td>\n",
       "    </tr>\n",
       "    <tr>\n",
       "      <th>10</th>\n",
       "      <td>1st Flr SF</td>\n",
       "      <td>NA</td>\n",
       "    </tr>\n",
       "    <tr>\n",
       "      <th>11</th>\n",
       "      <td>2nd Flr SF</td>\n",
       "      <td>NA</td>\n",
       "    </tr>\n",
       "    <tr>\n",
       "      <th>12</th>\n",
       "      <td>Low Qual Fin SF</td>\n",
       "      <td>NA</td>\n",
       "    </tr>\n",
       "    <tr>\n",
       "      <th>13</th>\n",
       "      <td>Gr Liv Area</td>\n",
       "      <td>NA</td>\n",
       "    </tr>\n",
       "    <tr>\n",
       "      <th>14</th>\n",
       "      <td>Bsmt Full Bath</td>\n",
       "      <td>2.11775</td>\n",
       "    </tr>\n",
       "    <tr>\n",
       "      <th>15</th>\n",
       "      <td>Bsmt Half Bath</td>\n",
       "      <td>NA</td>\n",
       "    </tr>\n",
       "    <tr>\n",
       "      <th>16</th>\n",
       "      <td>Full Bath</td>\n",
       "      <td>3.17242</td>\n",
       "    </tr>\n",
       "    <tr>\n",
       "      <th>17</th>\n",
       "      <td>Half Bath</td>\n",
       "      <td>2.61127</td>\n",
       "    </tr>\n",
       "    <tr>\n",
       "      <th>18</th>\n",
       "      <td>Bedroom AbvGr</td>\n",
       "      <td>2.46501</td>\n",
       "    </tr>\n",
       "    <tr>\n",
       "      <th>19</th>\n",
       "      <td>Kitchen AbvGr</td>\n",
       "      <td>NA</td>\n",
       "    </tr>\n",
       "    <tr>\n",
       "      <th>20</th>\n",
       "      <td>TotRms AbvGrd</td>\n",
       "      <td>4.26997</td>\n",
       "    </tr>\n",
       "    <tr>\n",
       "      <th>21</th>\n",
       "      <td>Fireplaces</td>\n",
       "      <td>1.49077</td>\n",
       "    </tr>\n",
       "    <tr>\n",
       "      <th>22</th>\n",
       "      <td>Garage Cars</td>\n",
       "      <td>5.99285</td>\n",
       "    </tr>\n",
       "    <tr>\n",
       "      <th>23</th>\n",
       "      <td>Garage Area</td>\n",
       "      <td>5.39185</td>\n",
       "    </tr>\n",
       "    <tr>\n",
       "      <th>24</th>\n",
       "      <td>Wood Deck SF</td>\n",
       "      <td>1.21628</td>\n",
       "    </tr>\n",
       "    <tr>\n",
       "      <th>25</th>\n",
       "      <td>Open Porch SF</td>\n",
       "      <td>1.27303</td>\n",
       "    </tr>\n",
       "    <tr>\n",
       "      <th>26</th>\n",
       "      <td>Enclosed Porch</td>\n",
       "      <td>1.2671</td>\n",
       "    </tr>\n",
       "    <tr>\n",
       "      <th>27</th>\n",
       "      <td>3Ssn Porch</td>\n",
       "      <td>1.01093</td>\n",
       "    </tr>\n",
       "    <tr>\n",
       "      <th>28</th>\n",
       "      <td>Screen Porch</td>\n",
       "      <td>1.06151</td>\n",
       "    </tr>\n",
       "    <tr>\n",
       "      <th>29</th>\n",
       "      <td>Pool Area</td>\n",
       "      <td>NA</td>\n",
       "    </tr>\n",
       "    <tr>\n",
       "      <th>30</th>\n",
       "      <td>Misc Val</td>\n",
       "      <td>1.05171</td>\n",
       "    </tr>\n",
       "    <tr>\n",
       "      <th>31</th>\n",
       "      <td>Mo Sold</td>\n",
       "      <td>1.05543</td>\n",
       "    </tr>\n",
       "    <tr>\n",
       "      <th>32</th>\n",
       "      <td>Yr Sold</td>\n",
       "      <td>1.0547</td>\n",
       "    </tr>\n",
       "  </tbody>\n",
       "</table>\n",
       "</div>"
      ],
      "text/plain": [
       "      Variable Name      VIF\n",
       "0       MS SubClass   1.9518\n",
       "1          Lot Area    1.803\n",
       "2      Overall Qual  3.27997\n",
       "3      Overall Cond  1.60131\n",
       "4        Year Built   4.6559\n",
       "5    Year Remod/Add  2.62964\n",
       "6      Mas Vnr Area  1.37896\n",
       "7      BsmtFin SF 2  1.07759\n",
       "8       Bsmt Unf SF  2.51959\n",
       "9     Total Bsmt SF  5.54111\n",
       "10       1st Flr SF       NA\n",
       "11       2nd Flr SF       NA\n",
       "12  Low Qual Fin SF       NA\n",
       "13      Gr Liv Area       NA\n",
       "14   Bsmt Full Bath  2.11775\n",
       "15   Bsmt Half Bath       NA\n",
       "16        Full Bath  3.17242\n",
       "17        Half Bath  2.61127\n",
       "18    Bedroom AbvGr  2.46501\n",
       "19    Kitchen AbvGr       NA\n",
       "20    TotRms AbvGrd  4.26997\n",
       "21       Fireplaces  1.49077\n",
       "22      Garage Cars  5.99285\n",
       "23      Garage Area  5.39185\n",
       "24     Wood Deck SF  1.21628\n",
       "25    Open Porch SF  1.27303\n",
       "26   Enclosed Porch   1.2671\n",
       "27       3Ssn Porch  1.01093\n",
       "28     Screen Porch  1.06151\n",
       "29        Pool Area       NA\n",
       "30         Misc Val  1.05171\n",
       "31          Mo Sold  1.05543\n",
       "32          Yr Sold   1.0547"
      ]
     },
     "execution_count": 25,
     "metadata": {},
     "output_type": "execute_result"
    }
   ],
   "source": [
    "# Drop the variables with \"NA\" values, which means super high multi-correlation\n",
    "generate_vif_dataframe(num_train_clean.drop(['Id','BsmtFin SF 1'], axis=1))"
   ]
  },
  {
   "cell_type": "code",
   "execution_count": 26,
   "metadata": {},
   "outputs": [
    {
     "data": {
      "text/html": [
       "<div>\n",
       "<style scoped>\n",
       "    .dataframe tbody tr th:only-of-type {\n",
       "        vertical-align: middle;\n",
       "    }\n",
       "\n",
       "    .dataframe tbody tr th {\n",
       "        vertical-align: top;\n",
       "    }\n",
       "\n",
       "    .dataframe thead th {\n",
       "        text-align: right;\n",
       "    }\n",
       "</style>\n",
       "<table border=\"1\" class=\"dataframe\">\n",
       "  <thead>\n",
       "    <tr style=\"text-align: right;\">\n",
       "      <th></th>\n",
       "      <th>Variable Name</th>\n",
       "      <th>VIF</th>\n",
       "    </tr>\n",
       "  </thead>\n",
       "  <tbody>\n",
       "    <tr>\n",
       "      <th>0</th>\n",
       "      <td>MS SubClass</td>\n",
       "      <td>1.9518</td>\n",
       "    </tr>\n",
       "    <tr>\n",
       "      <th>1</th>\n",
       "      <td>Lot Area</td>\n",
       "      <td>1.803</td>\n",
       "    </tr>\n",
       "    <tr>\n",
       "      <th>2</th>\n",
       "      <td>Overall Qual</td>\n",
       "      <td>3.27997</td>\n",
       "    </tr>\n",
       "    <tr>\n",
       "      <th>3</th>\n",
       "      <td>Overall Cond</td>\n",
       "      <td>1.60131</td>\n",
       "    </tr>\n",
       "    <tr>\n",
       "      <th>4</th>\n",
       "      <td>Year Built</td>\n",
       "      <td>4.6559</td>\n",
       "    </tr>\n",
       "    <tr>\n",
       "      <th>5</th>\n",
       "      <td>Year Remod/Add</td>\n",
       "      <td>2.62964</td>\n",
       "    </tr>\n",
       "    <tr>\n",
       "      <th>6</th>\n",
       "      <td>Mas Vnr Area</td>\n",
       "      <td>1.37896</td>\n",
       "    </tr>\n",
       "    <tr>\n",
       "      <th>7</th>\n",
       "      <td>BsmtFin SF 2</td>\n",
       "      <td>1.07759</td>\n",
       "    </tr>\n",
       "    <tr>\n",
       "      <th>8</th>\n",
       "      <td>Bsmt Unf SF</td>\n",
       "      <td>2.51959</td>\n",
       "    </tr>\n",
       "    <tr>\n",
       "      <th>9</th>\n",
       "      <td>Total Bsmt SF</td>\n",
       "      <td>5.54111</td>\n",
       "    </tr>\n",
       "    <tr>\n",
       "      <th>10</th>\n",
       "      <td>2nd Flr SF</td>\n",
       "      <td>8.29924</td>\n",
       "    </tr>\n",
       "    <tr>\n",
       "      <th>11</th>\n",
       "      <td>Low Qual Fin SF</td>\n",
       "      <td>1.05329</td>\n",
       "    </tr>\n",
       "    <tr>\n",
       "      <th>12</th>\n",
       "      <td>Gr Liv Area</td>\n",
       "      <td>11.3023</td>\n",
       "    </tr>\n",
       "    <tr>\n",
       "      <th>13</th>\n",
       "      <td>Bsmt Full Bath</td>\n",
       "      <td>2.11775</td>\n",
       "    </tr>\n",
       "    <tr>\n",
       "      <th>14</th>\n",
       "      <td>Bsmt Half Bath</td>\n",
       "      <td>NA</td>\n",
       "    </tr>\n",
       "    <tr>\n",
       "      <th>15</th>\n",
       "      <td>Full Bath</td>\n",
       "      <td>3.17242</td>\n",
       "    </tr>\n",
       "    <tr>\n",
       "      <th>16</th>\n",
       "      <td>Half Bath</td>\n",
       "      <td>2.61127</td>\n",
       "    </tr>\n",
       "    <tr>\n",
       "      <th>17</th>\n",
       "      <td>Bedroom AbvGr</td>\n",
       "      <td>2.46501</td>\n",
       "    </tr>\n",
       "    <tr>\n",
       "      <th>18</th>\n",
       "      <td>Kitchen AbvGr</td>\n",
       "      <td>NA</td>\n",
       "    </tr>\n",
       "    <tr>\n",
       "      <th>19</th>\n",
       "      <td>TotRms AbvGrd</td>\n",
       "      <td>4.26997</td>\n",
       "    </tr>\n",
       "    <tr>\n",
       "      <th>20</th>\n",
       "      <td>Fireplaces</td>\n",
       "      <td>1.49077</td>\n",
       "    </tr>\n",
       "    <tr>\n",
       "      <th>21</th>\n",
       "      <td>Garage Cars</td>\n",
       "      <td>5.99285</td>\n",
       "    </tr>\n",
       "    <tr>\n",
       "      <th>22</th>\n",
       "      <td>Garage Area</td>\n",
       "      <td>5.39185</td>\n",
       "    </tr>\n",
       "    <tr>\n",
       "      <th>23</th>\n",
       "      <td>Wood Deck SF</td>\n",
       "      <td>1.21628</td>\n",
       "    </tr>\n",
       "    <tr>\n",
       "      <th>24</th>\n",
       "      <td>Open Porch SF</td>\n",
       "      <td>1.27303</td>\n",
       "    </tr>\n",
       "    <tr>\n",
       "      <th>25</th>\n",
       "      <td>Enclosed Porch</td>\n",
       "      <td>1.2671</td>\n",
       "    </tr>\n",
       "    <tr>\n",
       "      <th>26</th>\n",
       "      <td>3Ssn Porch</td>\n",
       "      <td>1.01093</td>\n",
       "    </tr>\n",
       "    <tr>\n",
       "      <th>27</th>\n",
       "      <td>Screen Porch</td>\n",
       "      <td>1.06151</td>\n",
       "    </tr>\n",
       "    <tr>\n",
       "      <th>28</th>\n",
       "      <td>Pool Area</td>\n",
       "      <td>NA</td>\n",
       "    </tr>\n",
       "    <tr>\n",
       "      <th>29</th>\n",
       "      <td>Misc Val</td>\n",
       "      <td>1.05171</td>\n",
       "    </tr>\n",
       "    <tr>\n",
       "      <th>30</th>\n",
       "      <td>Mo Sold</td>\n",
       "      <td>1.05543</td>\n",
       "    </tr>\n",
       "    <tr>\n",
       "      <th>31</th>\n",
       "      <td>Yr Sold</td>\n",
       "      <td>1.0547</td>\n",
       "    </tr>\n",
       "  </tbody>\n",
       "</table>\n",
       "</div>"
      ],
      "text/plain": [
       "      Variable Name      VIF\n",
       "0       MS SubClass   1.9518\n",
       "1          Lot Area    1.803\n",
       "2      Overall Qual  3.27997\n",
       "3      Overall Cond  1.60131\n",
       "4        Year Built   4.6559\n",
       "5    Year Remod/Add  2.62964\n",
       "6      Mas Vnr Area  1.37896\n",
       "7      BsmtFin SF 2  1.07759\n",
       "8       Bsmt Unf SF  2.51959\n",
       "9     Total Bsmt SF  5.54111\n",
       "10       2nd Flr SF  8.29924\n",
       "11  Low Qual Fin SF  1.05329\n",
       "12      Gr Liv Area  11.3023\n",
       "13   Bsmt Full Bath  2.11775\n",
       "14   Bsmt Half Bath       NA\n",
       "15        Full Bath  3.17242\n",
       "16        Half Bath  2.61127\n",
       "17    Bedroom AbvGr  2.46501\n",
       "18    Kitchen AbvGr       NA\n",
       "19    TotRms AbvGrd  4.26997\n",
       "20       Fireplaces  1.49077\n",
       "21      Garage Cars  5.99285\n",
       "22      Garage Area  5.39185\n",
       "23     Wood Deck SF  1.21628\n",
       "24    Open Porch SF  1.27303\n",
       "25   Enclosed Porch   1.2671\n",
       "26       3Ssn Porch  1.01093\n",
       "27     Screen Porch  1.06151\n",
       "28        Pool Area       NA\n",
       "29         Misc Val  1.05171\n",
       "30          Mo Sold  1.05543\n",
       "31          Yr Sold   1.0547"
      ]
     },
     "execution_count": 26,
     "metadata": {},
     "output_type": "execute_result"
    }
   ],
   "source": [
    "# Drop the variables with \"NA\" values, which means super high multi-correlation\n",
    "generate_vif_dataframe(num_train_clean.drop(['Id','BsmtFin SF 1','1st Flr SF'], axis=1))"
   ]
  },
  {
   "cell_type": "code",
   "execution_count": 27,
   "metadata": {},
   "outputs": [
    {
     "data": {
      "text/html": [
       "<div>\n",
       "<style scoped>\n",
       "    .dataframe tbody tr th:only-of-type {\n",
       "        vertical-align: middle;\n",
       "    }\n",
       "\n",
       "    .dataframe tbody tr th {\n",
       "        vertical-align: top;\n",
       "    }\n",
       "\n",
       "    .dataframe thead th {\n",
       "        text-align: right;\n",
       "    }\n",
       "</style>\n",
       "<table border=\"1\" class=\"dataframe\">\n",
       "  <thead>\n",
       "    <tr style=\"text-align: right;\">\n",
       "      <th></th>\n",
       "      <th>Variable Name</th>\n",
       "      <th>VIF</th>\n",
       "    </tr>\n",
       "  </thead>\n",
       "  <tbody>\n",
       "    <tr>\n",
       "      <th>0</th>\n",
       "      <td>MS SubClass</td>\n",
       "      <td>1.9518</td>\n",
       "    </tr>\n",
       "    <tr>\n",
       "      <th>1</th>\n",
       "      <td>Lot Area</td>\n",
       "      <td>1.803</td>\n",
       "    </tr>\n",
       "    <tr>\n",
       "      <th>2</th>\n",
       "      <td>Overall Qual</td>\n",
       "      <td>3.27997</td>\n",
       "    </tr>\n",
       "    <tr>\n",
       "      <th>3</th>\n",
       "      <td>Overall Cond</td>\n",
       "      <td>1.60131</td>\n",
       "    </tr>\n",
       "    <tr>\n",
       "      <th>4</th>\n",
       "      <td>Year Built</td>\n",
       "      <td>4.6559</td>\n",
       "    </tr>\n",
       "    <tr>\n",
       "      <th>5</th>\n",
       "      <td>Year Remod/Add</td>\n",
       "      <td>2.62964</td>\n",
       "    </tr>\n",
       "    <tr>\n",
       "      <th>6</th>\n",
       "      <td>Mas Vnr Area</td>\n",
       "      <td>1.37896</td>\n",
       "    </tr>\n",
       "    <tr>\n",
       "      <th>7</th>\n",
       "      <td>BsmtFin SF 2</td>\n",
       "      <td>1.07759</td>\n",
       "    </tr>\n",
       "    <tr>\n",
       "      <th>8</th>\n",
       "      <td>Bsmt Unf SF</td>\n",
       "      <td>2.51959</td>\n",
       "    </tr>\n",
       "    <tr>\n",
       "      <th>9</th>\n",
       "      <td>Total Bsmt SF</td>\n",
       "      <td>5.54111</td>\n",
       "    </tr>\n",
       "    <tr>\n",
       "      <th>10</th>\n",
       "      <td>2nd Flr SF</td>\n",
       "      <td>8.29924</td>\n",
       "    </tr>\n",
       "    <tr>\n",
       "      <th>11</th>\n",
       "      <td>Low Qual Fin SF</td>\n",
       "      <td>1.05329</td>\n",
       "    </tr>\n",
       "    <tr>\n",
       "      <th>12</th>\n",
       "      <td>Gr Liv Area</td>\n",
       "      <td>11.3023</td>\n",
       "    </tr>\n",
       "    <tr>\n",
       "      <th>13</th>\n",
       "      <td>Bsmt Full Bath</td>\n",
       "      <td>2.11775</td>\n",
       "    </tr>\n",
       "    <tr>\n",
       "      <th>14</th>\n",
       "      <td>Full Bath</td>\n",
       "      <td>3.17242</td>\n",
       "    </tr>\n",
       "    <tr>\n",
       "      <th>15</th>\n",
       "      <td>Half Bath</td>\n",
       "      <td>2.61127</td>\n",
       "    </tr>\n",
       "    <tr>\n",
       "      <th>16</th>\n",
       "      <td>Bedroom AbvGr</td>\n",
       "      <td>2.46501</td>\n",
       "    </tr>\n",
       "    <tr>\n",
       "      <th>17</th>\n",
       "      <td>Kitchen AbvGr</td>\n",
       "      <td>NA</td>\n",
       "    </tr>\n",
       "    <tr>\n",
       "      <th>18</th>\n",
       "      <td>TotRms AbvGrd</td>\n",
       "      <td>4.26997</td>\n",
       "    </tr>\n",
       "    <tr>\n",
       "      <th>19</th>\n",
       "      <td>Fireplaces</td>\n",
       "      <td>1.49077</td>\n",
       "    </tr>\n",
       "    <tr>\n",
       "      <th>20</th>\n",
       "      <td>Garage Cars</td>\n",
       "      <td>5.99285</td>\n",
       "    </tr>\n",
       "    <tr>\n",
       "      <th>21</th>\n",
       "      <td>Garage Area</td>\n",
       "      <td>5.39185</td>\n",
       "    </tr>\n",
       "    <tr>\n",
       "      <th>22</th>\n",
       "      <td>Wood Deck SF</td>\n",
       "      <td>1.21628</td>\n",
       "    </tr>\n",
       "    <tr>\n",
       "      <th>23</th>\n",
       "      <td>Open Porch SF</td>\n",
       "      <td>1.27303</td>\n",
       "    </tr>\n",
       "    <tr>\n",
       "      <th>24</th>\n",
       "      <td>Enclosed Porch</td>\n",
       "      <td>1.2671</td>\n",
       "    </tr>\n",
       "    <tr>\n",
       "      <th>25</th>\n",
       "      <td>3Ssn Porch</td>\n",
       "      <td>1.01093</td>\n",
       "    </tr>\n",
       "    <tr>\n",
       "      <th>26</th>\n",
       "      <td>Screen Porch</td>\n",
       "      <td>1.06151</td>\n",
       "    </tr>\n",
       "    <tr>\n",
       "      <th>27</th>\n",
       "      <td>Pool Area</td>\n",
       "      <td>NA</td>\n",
       "    </tr>\n",
       "    <tr>\n",
       "      <th>28</th>\n",
       "      <td>Misc Val</td>\n",
       "      <td>1.05171</td>\n",
       "    </tr>\n",
       "    <tr>\n",
       "      <th>29</th>\n",
       "      <td>Mo Sold</td>\n",
       "      <td>1.05543</td>\n",
       "    </tr>\n",
       "    <tr>\n",
       "      <th>30</th>\n",
       "      <td>Yr Sold</td>\n",
       "      <td>1.0547</td>\n",
       "    </tr>\n",
       "  </tbody>\n",
       "</table>\n",
       "</div>"
      ],
      "text/plain": [
       "      Variable Name      VIF\n",
       "0       MS SubClass   1.9518\n",
       "1          Lot Area    1.803\n",
       "2      Overall Qual  3.27997\n",
       "3      Overall Cond  1.60131\n",
       "4        Year Built   4.6559\n",
       "5    Year Remod/Add  2.62964\n",
       "6      Mas Vnr Area  1.37896\n",
       "7      BsmtFin SF 2  1.07759\n",
       "8       Bsmt Unf SF  2.51959\n",
       "9     Total Bsmt SF  5.54111\n",
       "10       2nd Flr SF  8.29924\n",
       "11  Low Qual Fin SF  1.05329\n",
       "12      Gr Liv Area  11.3023\n",
       "13   Bsmt Full Bath  2.11775\n",
       "14        Full Bath  3.17242\n",
       "15        Half Bath  2.61127\n",
       "16    Bedroom AbvGr  2.46501\n",
       "17    Kitchen AbvGr       NA\n",
       "18    TotRms AbvGrd  4.26997\n",
       "19       Fireplaces  1.49077\n",
       "20      Garage Cars  5.99285\n",
       "21      Garage Area  5.39185\n",
       "22     Wood Deck SF  1.21628\n",
       "23    Open Porch SF  1.27303\n",
       "24   Enclosed Porch   1.2671\n",
       "25       3Ssn Porch  1.01093\n",
       "26     Screen Porch  1.06151\n",
       "27        Pool Area       NA\n",
       "28         Misc Val  1.05171\n",
       "29          Mo Sold  1.05543\n",
       "30          Yr Sold   1.0547"
      ]
     },
     "execution_count": 27,
     "metadata": {},
     "output_type": "execute_result"
    }
   ],
   "source": [
    "# Drop the variables with \"NA\" values, which means super high multi-correlation\n",
    "generate_vif_dataframe(num_train_clean.drop(['Id','BsmtFin SF 1','1st Flr SF','Bsmt Half Bath'], axis=1))"
   ]
  },
  {
   "cell_type": "code",
   "execution_count": 28,
   "metadata": {},
   "outputs": [
    {
     "data": {
      "text/html": [
       "<div>\n",
       "<style scoped>\n",
       "    .dataframe tbody tr th:only-of-type {\n",
       "        vertical-align: middle;\n",
       "    }\n",
       "\n",
       "    .dataframe tbody tr th {\n",
       "        vertical-align: top;\n",
       "    }\n",
       "\n",
       "    .dataframe thead th {\n",
       "        text-align: right;\n",
       "    }\n",
       "</style>\n",
       "<table border=\"1\" class=\"dataframe\">\n",
       "  <thead>\n",
       "    <tr style=\"text-align: right;\">\n",
       "      <th></th>\n",
       "      <th>Variable Name</th>\n",
       "      <th>VIF</th>\n",
       "    </tr>\n",
       "  </thead>\n",
       "  <tbody>\n",
       "    <tr>\n",
       "      <th>0</th>\n",
       "      <td>MS SubClass</td>\n",
       "      <td>1.9518</td>\n",
       "    </tr>\n",
       "    <tr>\n",
       "      <th>1</th>\n",
       "      <td>Lot Area</td>\n",
       "      <td>1.803</td>\n",
       "    </tr>\n",
       "    <tr>\n",
       "      <th>2</th>\n",
       "      <td>Overall Qual</td>\n",
       "      <td>3.27997</td>\n",
       "    </tr>\n",
       "    <tr>\n",
       "      <th>3</th>\n",
       "      <td>Overall Cond</td>\n",
       "      <td>1.60131</td>\n",
       "    </tr>\n",
       "    <tr>\n",
       "      <th>4</th>\n",
       "      <td>Year Built</td>\n",
       "      <td>4.6559</td>\n",
       "    </tr>\n",
       "    <tr>\n",
       "      <th>5</th>\n",
       "      <td>Year Remod/Add</td>\n",
       "      <td>2.62964</td>\n",
       "    </tr>\n",
       "    <tr>\n",
       "      <th>6</th>\n",
       "      <td>Mas Vnr Area</td>\n",
       "      <td>1.37896</td>\n",
       "    </tr>\n",
       "    <tr>\n",
       "      <th>7</th>\n",
       "      <td>BsmtFin SF 2</td>\n",
       "      <td>1.07759</td>\n",
       "    </tr>\n",
       "    <tr>\n",
       "      <th>8</th>\n",
       "      <td>Bsmt Unf SF</td>\n",
       "      <td>2.51959</td>\n",
       "    </tr>\n",
       "    <tr>\n",
       "      <th>9</th>\n",
       "      <td>Total Bsmt SF</td>\n",
       "      <td>5.54111</td>\n",
       "    </tr>\n",
       "    <tr>\n",
       "      <th>10</th>\n",
       "      <td>2nd Flr SF</td>\n",
       "      <td>8.29924</td>\n",
       "    </tr>\n",
       "    <tr>\n",
       "      <th>11</th>\n",
       "      <td>Low Qual Fin SF</td>\n",
       "      <td>1.05329</td>\n",
       "    </tr>\n",
       "    <tr>\n",
       "      <th>12</th>\n",
       "      <td>Gr Liv Area</td>\n",
       "      <td>11.3023</td>\n",
       "    </tr>\n",
       "    <tr>\n",
       "      <th>13</th>\n",
       "      <td>Bsmt Full Bath</td>\n",
       "      <td>2.11775</td>\n",
       "    </tr>\n",
       "    <tr>\n",
       "      <th>14</th>\n",
       "      <td>Full Bath</td>\n",
       "      <td>3.17242</td>\n",
       "    </tr>\n",
       "    <tr>\n",
       "      <th>15</th>\n",
       "      <td>Half Bath</td>\n",
       "      <td>2.61127</td>\n",
       "    </tr>\n",
       "    <tr>\n",
       "      <th>16</th>\n",
       "      <td>Bedroom AbvGr</td>\n",
       "      <td>2.46501</td>\n",
       "    </tr>\n",
       "    <tr>\n",
       "      <th>17</th>\n",
       "      <td>TotRms AbvGrd</td>\n",
       "      <td>4.26997</td>\n",
       "    </tr>\n",
       "    <tr>\n",
       "      <th>18</th>\n",
       "      <td>Fireplaces</td>\n",
       "      <td>1.49077</td>\n",
       "    </tr>\n",
       "    <tr>\n",
       "      <th>19</th>\n",
       "      <td>Garage Cars</td>\n",
       "      <td>5.99285</td>\n",
       "    </tr>\n",
       "    <tr>\n",
       "      <th>20</th>\n",
       "      <td>Garage Area</td>\n",
       "      <td>5.39185</td>\n",
       "    </tr>\n",
       "    <tr>\n",
       "      <th>21</th>\n",
       "      <td>Wood Deck SF</td>\n",
       "      <td>1.21628</td>\n",
       "    </tr>\n",
       "    <tr>\n",
       "      <th>22</th>\n",
       "      <td>Open Porch SF</td>\n",
       "      <td>1.27303</td>\n",
       "    </tr>\n",
       "    <tr>\n",
       "      <th>23</th>\n",
       "      <td>Enclosed Porch</td>\n",
       "      <td>1.2671</td>\n",
       "    </tr>\n",
       "    <tr>\n",
       "      <th>24</th>\n",
       "      <td>3Ssn Porch</td>\n",
       "      <td>1.01093</td>\n",
       "    </tr>\n",
       "    <tr>\n",
       "      <th>25</th>\n",
       "      <td>Screen Porch</td>\n",
       "      <td>1.06151</td>\n",
       "    </tr>\n",
       "    <tr>\n",
       "      <th>26</th>\n",
       "      <td>Pool Area</td>\n",
       "      <td>NA</td>\n",
       "    </tr>\n",
       "    <tr>\n",
       "      <th>27</th>\n",
       "      <td>Misc Val</td>\n",
       "      <td>1.05171</td>\n",
       "    </tr>\n",
       "    <tr>\n",
       "      <th>28</th>\n",
       "      <td>Mo Sold</td>\n",
       "      <td>1.05543</td>\n",
       "    </tr>\n",
       "    <tr>\n",
       "      <th>29</th>\n",
       "      <td>Yr Sold</td>\n",
       "      <td>1.0547</td>\n",
       "    </tr>\n",
       "  </tbody>\n",
       "</table>\n",
       "</div>"
      ],
      "text/plain": [
       "      Variable Name      VIF\n",
       "0       MS SubClass   1.9518\n",
       "1          Lot Area    1.803\n",
       "2      Overall Qual  3.27997\n",
       "3      Overall Cond  1.60131\n",
       "4        Year Built   4.6559\n",
       "5    Year Remod/Add  2.62964\n",
       "6      Mas Vnr Area  1.37896\n",
       "7      BsmtFin SF 2  1.07759\n",
       "8       Bsmt Unf SF  2.51959\n",
       "9     Total Bsmt SF  5.54111\n",
       "10       2nd Flr SF  8.29924\n",
       "11  Low Qual Fin SF  1.05329\n",
       "12      Gr Liv Area  11.3023\n",
       "13   Bsmt Full Bath  2.11775\n",
       "14        Full Bath  3.17242\n",
       "15        Half Bath  2.61127\n",
       "16    Bedroom AbvGr  2.46501\n",
       "17    TotRms AbvGrd  4.26997\n",
       "18       Fireplaces  1.49077\n",
       "19      Garage Cars  5.99285\n",
       "20      Garage Area  5.39185\n",
       "21     Wood Deck SF  1.21628\n",
       "22    Open Porch SF  1.27303\n",
       "23   Enclosed Porch   1.2671\n",
       "24       3Ssn Porch  1.01093\n",
       "25     Screen Porch  1.06151\n",
       "26        Pool Area       NA\n",
       "27         Misc Val  1.05171\n",
       "28          Mo Sold  1.05543\n",
       "29          Yr Sold   1.0547"
      ]
     },
     "execution_count": 28,
     "metadata": {},
     "output_type": "execute_result"
    }
   ],
   "source": [
    "# Drop the variables with \"NA\" values, which means super high multi-correlation\n",
    "generate_vif_dataframe(num_train_clean.drop(['Id','BsmtFin SF 1','1st Flr SF','Bsmt Half Bath','Kitchen AbvGr'], axis=1))"
   ]
  },
  {
   "cell_type": "code",
   "execution_count": 29,
   "metadata": {},
   "outputs": [
    {
     "data": {
      "text/html": [
       "<div>\n",
       "<style scoped>\n",
       "    .dataframe tbody tr th:only-of-type {\n",
       "        vertical-align: middle;\n",
       "    }\n",
       "\n",
       "    .dataframe tbody tr th {\n",
       "        vertical-align: top;\n",
       "    }\n",
       "\n",
       "    .dataframe thead th {\n",
       "        text-align: right;\n",
       "    }\n",
       "</style>\n",
       "<table border=\"1\" class=\"dataframe\">\n",
       "  <thead>\n",
       "    <tr style=\"text-align: right;\">\n",
       "      <th></th>\n",
       "      <th>Variable Name</th>\n",
       "      <th>VIF</th>\n",
       "    </tr>\n",
       "  </thead>\n",
       "  <tbody>\n",
       "    <tr>\n",
       "      <th>0</th>\n",
       "      <td>MS SubClass</td>\n",
       "      <td>1.951804</td>\n",
       "    </tr>\n",
       "    <tr>\n",
       "      <th>1</th>\n",
       "      <td>Lot Area</td>\n",
       "      <td>1.802998</td>\n",
       "    </tr>\n",
       "    <tr>\n",
       "      <th>2</th>\n",
       "      <td>Overall Qual</td>\n",
       "      <td>3.279967</td>\n",
       "    </tr>\n",
       "    <tr>\n",
       "      <th>3</th>\n",
       "      <td>Overall Cond</td>\n",
       "      <td>1.601308</td>\n",
       "    </tr>\n",
       "    <tr>\n",
       "      <th>4</th>\n",
       "      <td>Year Built</td>\n",
       "      <td>4.655895</td>\n",
       "    </tr>\n",
       "    <tr>\n",
       "      <th>5</th>\n",
       "      <td>Year Remod/Add</td>\n",
       "      <td>2.629644</td>\n",
       "    </tr>\n",
       "    <tr>\n",
       "      <th>6</th>\n",
       "      <td>Mas Vnr Area</td>\n",
       "      <td>1.378964</td>\n",
       "    </tr>\n",
       "    <tr>\n",
       "      <th>7</th>\n",
       "      <td>BsmtFin SF 2</td>\n",
       "      <td>1.077590</td>\n",
       "    </tr>\n",
       "    <tr>\n",
       "      <th>8</th>\n",
       "      <td>Bsmt Unf SF</td>\n",
       "      <td>2.519594</td>\n",
       "    </tr>\n",
       "    <tr>\n",
       "      <th>9</th>\n",
       "      <td>Total Bsmt SF</td>\n",
       "      <td>5.541114</td>\n",
       "    </tr>\n",
       "    <tr>\n",
       "      <th>10</th>\n",
       "      <td>2nd Flr SF</td>\n",
       "      <td>8.299241</td>\n",
       "    </tr>\n",
       "    <tr>\n",
       "      <th>11</th>\n",
       "      <td>Low Qual Fin SF</td>\n",
       "      <td>1.053291</td>\n",
       "    </tr>\n",
       "    <tr>\n",
       "      <th>12</th>\n",
       "      <td>Gr Liv Area</td>\n",
       "      <td>11.302340</td>\n",
       "    </tr>\n",
       "    <tr>\n",
       "      <th>13</th>\n",
       "      <td>Bsmt Full Bath</td>\n",
       "      <td>2.117753</td>\n",
       "    </tr>\n",
       "    <tr>\n",
       "      <th>14</th>\n",
       "      <td>Full Bath</td>\n",
       "      <td>3.172416</td>\n",
       "    </tr>\n",
       "    <tr>\n",
       "      <th>15</th>\n",
       "      <td>Half Bath</td>\n",
       "      <td>2.611275</td>\n",
       "    </tr>\n",
       "    <tr>\n",
       "      <th>16</th>\n",
       "      <td>Bedroom AbvGr</td>\n",
       "      <td>2.465011</td>\n",
       "    </tr>\n",
       "    <tr>\n",
       "      <th>17</th>\n",
       "      <td>TotRms AbvGrd</td>\n",
       "      <td>4.269975</td>\n",
       "    </tr>\n",
       "    <tr>\n",
       "      <th>18</th>\n",
       "      <td>Fireplaces</td>\n",
       "      <td>1.490767</td>\n",
       "    </tr>\n",
       "    <tr>\n",
       "      <th>19</th>\n",
       "      <td>Garage Cars</td>\n",
       "      <td>5.992847</td>\n",
       "    </tr>\n",
       "    <tr>\n",
       "      <th>20</th>\n",
       "      <td>Garage Area</td>\n",
       "      <td>5.391853</td>\n",
       "    </tr>\n",
       "    <tr>\n",
       "      <th>21</th>\n",
       "      <td>Wood Deck SF</td>\n",
       "      <td>1.216283</td>\n",
       "    </tr>\n",
       "    <tr>\n",
       "      <th>22</th>\n",
       "      <td>Open Porch SF</td>\n",
       "      <td>1.273031</td>\n",
       "    </tr>\n",
       "    <tr>\n",
       "      <th>23</th>\n",
       "      <td>Enclosed Porch</td>\n",
       "      <td>1.267097</td>\n",
       "    </tr>\n",
       "    <tr>\n",
       "      <th>24</th>\n",
       "      <td>3Ssn Porch</td>\n",
       "      <td>1.010931</td>\n",
       "    </tr>\n",
       "    <tr>\n",
       "      <th>25</th>\n",
       "      <td>Screen Porch</td>\n",
       "      <td>1.061512</td>\n",
       "    </tr>\n",
       "    <tr>\n",
       "      <th>26</th>\n",
       "      <td>Misc Val</td>\n",
       "      <td>1.051713</td>\n",
       "    </tr>\n",
       "    <tr>\n",
       "      <th>27</th>\n",
       "      <td>Mo Sold</td>\n",
       "      <td>1.055429</td>\n",
       "    </tr>\n",
       "    <tr>\n",
       "      <th>28</th>\n",
       "      <td>Yr Sold</td>\n",
       "      <td>1.054701</td>\n",
       "    </tr>\n",
       "  </tbody>\n",
       "</table>\n",
       "</div>"
      ],
      "text/plain": [
       "      Variable Name        VIF\n",
       "0       MS SubClass   1.951804\n",
       "1          Lot Area   1.802998\n",
       "2      Overall Qual   3.279967\n",
       "3      Overall Cond   1.601308\n",
       "4        Year Built   4.655895\n",
       "5    Year Remod/Add   2.629644\n",
       "6      Mas Vnr Area   1.378964\n",
       "7      BsmtFin SF 2   1.077590\n",
       "8       Bsmt Unf SF   2.519594\n",
       "9     Total Bsmt SF   5.541114\n",
       "10       2nd Flr SF   8.299241\n",
       "11  Low Qual Fin SF   1.053291\n",
       "12      Gr Liv Area  11.302340\n",
       "13   Bsmt Full Bath   2.117753\n",
       "14        Full Bath   3.172416\n",
       "15        Half Bath   2.611275\n",
       "16    Bedroom AbvGr   2.465011\n",
       "17    TotRms AbvGrd   4.269975\n",
       "18       Fireplaces   1.490767\n",
       "19      Garage Cars   5.992847\n",
       "20      Garage Area   5.391853\n",
       "21     Wood Deck SF   1.216283\n",
       "22    Open Porch SF   1.273031\n",
       "23   Enclosed Porch   1.267097\n",
       "24       3Ssn Porch   1.010931\n",
       "25     Screen Porch   1.061512\n",
       "26         Misc Val   1.051713\n",
       "27          Mo Sold   1.055429\n",
       "28          Yr Sold   1.054701"
      ]
     },
     "execution_count": 29,
     "metadata": {},
     "output_type": "execute_result"
    }
   ],
   "source": [
    "# Drop the variables with \"NA\" values, which means super high multi-correlation\n",
    "generate_vif_dataframe(num_train_clean.drop(['Id','BsmtFin SF 1','1st Flr SF','Bsmt Half Bath','Kitchen AbvGr',\n",
    "                                            'Pool Area'], axis=1))"
   ]
  },
  {
   "cell_type": "code",
   "execution_count": 30,
   "metadata": {},
   "outputs": [
    {
     "data": {
      "text/html": [
       "<div>\n",
       "<style scoped>\n",
       "    .dataframe tbody tr th:only-of-type {\n",
       "        vertical-align: middle;\n",
       "    }\n",
       "\n",
       "    .dataframe tbody tr th {\n",
       "        vertical-align: top;\n",
       "    }\n",
       "\n",
       "    .dataframe thead th {\n",
       "        text-align: right;\n",
       "    }\n",
       "</style>\n",
       "<table border=\"1\" class=\"dataframe\">\n",
       "  <thead>\n",
       "    <tr style=\"text-align: right;\">\n",
       "      <th></th>\n",
       "      <th>Variable Name</th>\n",
       "      <th>VIF</th>\n",
       "    </tr>\n",
       "  </thead>\n",
       "  <tbody>\n",
       "    <tr>\n",
       "      <th>0</th>\n",
       "      <td>MS SubClass</td>\n",
       "      <td>1.890487</td>\n",
       "    </tr>\n",
       "    <tr>\n",
       "      <th>1</th>\n",
       "      <td>Lot Area</td>\n",
       "      <td>1.791067</td>\n",
       "    </tr>\n",
       "    <tr>\n",
       "      <th>2</th>\n",
       "      <td>Overall Qual</td>\n",
       "      <td>3.276931</td>\n",
       "    </tr>\n",
       "    <tr>\n",
       "      <th>3</th>\n",
       "      <td>Overall Cond</td>\n",
       "      <td>1.596462</td>\n",
       "    </tr>\n",
       "    <tr>\n",
       "      <th>4</th>\n",
       "      <td>Year Built</td>\n",
       "      <td>4.654383</td>\n",
       "    </tr>\n",
       "    <tr>\n",
       "      <th>5</th>\n",
       "      <td>Year Remod/Add</td>\n",
       "      <td>2.619773</td>\n",
       "    </tr>\n",
       "    <tr>\n",
       "      <th>6</th>\n",
       "      <td>Mas Vnr Area</td>\n",
       "      <td>1.361425</td>\n",
       "    </tr>\n",
       "    <tr>\n",
       "      <th>7</th>\n",
       "      <td>BsmtFin SF 2</td>\n",
       "      <td>1.075630</td>\n",
       "    </tr>\n",
       "    <tr>\n",
       "      <th>8</th>\n",
       "      <td>Bsmt Unf SF</td>\n",
       "      <td>2.511285</td>\n",
       "    </tr>\n",
       "    <tr>\n",
       "      <th>9</th>\n",
       "      <td>Total Bsmt SF</td>\n",
       "      <td>3.470285</td>\n",
       "    </tr>\n",
       "    <tr>\n",
       "      <th>10</th>\n",
       "      <td>Low Qual Fin SF</td>\n",
       "      <td>1.053289</td>\n",
       "    </tr>\n",
       "    <tr>\n",
       "      <th>11</th>\n",
       "      <td>Gr Liv Area</td>\n",
       "      <td>7.016467</td>\n",
       "    </tr>\n",
       "    <tr>\n",
       "      <th>12</th>\n",
       "      <td>Bsmt Full Bath</td>\n",
       "      <td>2.111662</td>\n",
       "    </tr>\n",
       "    <tr>\n",
       "      <th>13</th>\n",
       "      <td>Full Bath</td>\n",
       "      <td>3.113030</td>\n",
       "    </tr>\n",
       "    <tr>\n",
       "      <th>14</th>\n",
       "      <td>Half Bath</td>\n",
       "      <td>2.174656</td>\n",
       "    </tr>\n",
       "    <tr>\n",
       "      <th>15</th>\n",
       "      <td>Bedroom AbvGr</td>\n",
       "      <td>2.412628</td>\n",
       "    </tr>\n",
       "    <tr>\n",
       "      <th>16</th>\n",
       "      <td>TotRms AbvGrd</td>\n",
       "      <td>4.266606</td>\n",
       "    </tr>\n",
       "    <tr>\n",
       "      <th>17</th>\n",
       "      <td>Fireplaces</td>\n",
       "      <td>1.463232</td>\n",
       "    </tr>\n",
       "    <tr>\n",
       "      <th>18</th>\n",
       "      <td>Garage Cars</td>\n",
       "      <td>5.992843</td>\n",
       "    </tr>\n",
       "    <tr>\n",
       "      <th>19</th>\n",
       "      <td>Garage Area</td>\n",
       "      <td>5.387837</td>\n",
       "    </tr>\n",
       "    <tr>\n",
       "      <th>20</th>\n",
       "      <td>Wood Deck SF</td>\n",
       "      <td>1.208437</td>\n",
       "    </tr>\n",
       "    <tr>\n",
       "      <th>21</th>\n",
       "      <td>Open Porch SF</td>\n",
       "      <td>1.272855</td>\n",
       "    </tr>\n",
       "    <tr>\n",
       "      <th>22</th>\n",
       "      <td>Enclosed Porch</td>\n",
       "      <td>1.256089</td>\n",
       "    </tr>\n",
       "    <tr>\n",
       "      <th>23</th>\n",
       "      <td>3Ssn Porch</td>\n",
       "      <td>1.010930</td>\n",
       "    </tr>\n",
       "    <tr>\n",
       "      <th>24</th>\n",
       "      <td>Screen Porch</td>\n",
       "      <td>1.060996</td>\n",
       "    </tr>\n",
       "    <tr>\n",
       "      <th>25</th>\n",
       "      <td>Misc Val</td>\n",
       "      <td>1.037786</td>\n",
       "    </tr>\n",
       "    <tr>\n",
       "      <th>26</th>\n",
       "      <td>Mo Sold</td>\n",
       "      <td>1.052846</td>\n",
       "    </tr>\n",
       "    <tr>\n",
       "      <th>27</th>\n",
       "      <td>Yr Sold</td>\n",
       "      <td>1.053334</td>\n",
       "    </tr>\n",
       "  </tbody>\n",
       "</table>\n",
       "</div>"
      ],
      "text/plain": [
       "      Variable Name       VIF\n",
       "0       MS SubClass  1.890487\n",
       "1          Lot Area  1.791067\n",
       "2      Overall Qual  3.276931\n",
       "3      Overall Cond  1.596462\n",
       "4        Year Built  4.654383\n",
       "5    Year Remod/Add  2.619773\n",
       "6      Mas Vnr Area  1.361425\n",
       "7      BsmtFin SF 2  1.075630\n",
       "8       Bsmt Unf SF  2.511285\n",
       "9     Total Bsmt SF  3.470285\n",
       "10  Low Qual Fin SF  1.053289\n",
       "11      Gr Liv Area  7.016467\n",
       "12   Bsmt Full Bath  2.111662\n",
       "13        Full Bath  3.113030\n",
       "14        Half Bath  2.174656\n",
       "15    Bedroom AbvGr  2.412628\n",
       "16    TotRms AbvGrd  4.266606\n",
       "17       Fireplaces  1.463232\n",
       "18      Garage Cars  5.992843\n",
       "19      Garage Area  5.387837\n",
       "20     Wood Deck SF  1.208437\n",
       "21    Open Porch SF  1.272855\n",
       "22   Enclosed Porch  1.256089\n",
       "23       3Ssn Porch  1.010930\n",
       "24     Screen Porch  1.060996\n",
       "25         Misc Val  1.037786\n",
       "26          Mo Sold  1.052846\n",
       "27          Yr Sold  1.053334"
      ]
     },
     "execution_count": 30,
     "metadata": {},
     "output_type": "execute_result"
    }
   ],
   "source": [
    "# Drop the variables with high VIF\n",
    "\n",
    "generate_vif_dataframe(num_train_clean.drop(['Id','BsmtFin SF 1','1st Flr SF','Bsmt Half Bath','Kitchen AbvGr',\n",
    "                                            'Pool Area','2nd Flr SF'], axis=1))"
   ]
  },
  {
   "cell_type": "code",
   "execution_count": 31,
   "metadata": {},
   "outputs": [
    {
     "data": {
      "text/html": [
       "<div>\n",
       "<style scoped>\n",
       "    .dataframe tbody tr th:only-of-type {\n",
       "        vertical-align: middle;\n",
       "    }\n",
       "\n",
       "    .dataframe tbody tr th {\n",
       "        vertical-align: top;\n",
       "    }\n",
       "\n",
       "    .dataframe thead th {\n",
       "        text-align: right;\n",
       "    }\n",
       "</style>\n",
       "<table border=\"1\" class=\"dataframe\">\n",
       "  <thead>\n",
       "    <tr style=\"text-align: right;\">\n",
       "      <th></th>\n",
       "      <th>Variable Name</th>\n",
       "      <th>VIF</th>\n",
       "    </tr>\n",
       "  </thead>\n",
       "  <tbody>\n",
       "    <tr>\n",
       "      <th>0</th>\n",
       "      <td>MS SubClass</td>\n",
       "      <td>1.884024</td>\n",
       "    </tr>\n",
       "    <tr>\n",
       "      <th>1</th>\n",
       "      <td>Lot Area</td>\n",
       "      <td>1.789441</td>\n",
       "    </tr>\n",
       "    <tr>\n",
       "      <th>2</th>\n",
       "      <td>Overall Qual</td>\n",
       "      <td>3.257213</td>\n",
       "    </tr>\n",
       "    <tr>\n",
       "      <th>3</th>\n",
       "      <td>Overall Cond</td>\n",
       "      <td>1.596290</td>\n",
       "    </tr>\n",
       "    <tr>\n",
       "      <th>4</th>\n",
       "      <td>Year Built</td>\n",
       "      <td>4.628034</td>\n",
       "    </tr>\n",
       "    <tr>\n",
       "      <th>5</th>\n",
       "      <td>Year Remod/Add</td>\n",
       "      <td>2.618990</td>\n",
       "    </tr>\n",
       "    <tr>\n",
       "      <th>6</th>\n",
       "      <td>Mas Vnr Area</td>\n",
       "      <td>1.359412</td>\n",
       "    </tr>\n",
       "    <tr>\n",
       "      <th>7</th>\n",
       "      <td>BsmtFin SF 2</td>\n",
       "      <td>1.074755</td>\n",
       "    </tr>\n",
       "    <tr>\n",
       "      <th>8</th>\n",
       "      <td>Bsmt Unf SF</td>\n",
       "      <td>2.505780</td>\n",
       "    </tr>\n",
       "    <tr>\n",
       "      <th>9</th>\n",
       "      <td>Total Bsmt SF</td>\n",
       "      <td>3.463409</td>\n",
       "    </tr>\n",
       "    <tr>\n",
       "      <th>10</th>\n",
       "      <td>Low Qual Fin SF</td>\n",
       "      <td>1.053224</td>\n",
       "    </tr>\n",
       "    <tr>\n",
       "      <th>11</th>\n",
       "      <td>Gr Liv Area</td>\n",
       "      <td>7.005901</td>\n",
       "    </tr>\n",
       "    <tr>\n",
       "      <th>12</th>\n",
       "      <td>Bsmt Full Bath</td>\n",
       "      <td>2.110488</td>\n",
       "    </tr>\n",
       "    <tr>\n",
       "      <th>13</th>\n",
       "      <td>Full Bath</td>\n",
       "      <td>3.035112</td>\n",
       "    </tr>\n",
       "    <tr>\n",
       "      <th>14</th>\n",
       "      <td>Half Bath</td>\n",
       "      <td>2.169695</td>\n",
       "    </tr>\n",
       "    <tr>\n",
       "      <th>15</th>\n",
       "      <td>Bedroom AbvGr</td>\n",
       "      <td>2.403777</td>\n",
       "    </tr>\n",
       "    <tr>\n",
       "      <th>16</th>\n",
       "      <td>TotRms AbvGrd</td>\n",
       "      <td>4.234379</td>\n",
       "    </tr>\n",
       "    <tr>\n",
       "      <th>17</th>\n",
       "      <td>Fireplaces</td>\n",
       "      <td>1.449893</td>\n",
       "    </tr>\n",
       "    <tr>\n",
       "      <th>18</th>\n",
       "      <td>Garage Area</td>\n",
       "      <td>2.011883</td>\n",
       "    </tr>\n",
       "    <tr>\n",
       "      <th>19</th>\n",
       "      <td>Wood Deck SF</td>\n",
       "      <td>1.207971</td>\n",
       "    </tr>\n",
       "    <tr>\n",
       "      <th>20</th>\n",
       "      <td>Open Porch SF</td>\n",
       "      <td>1.262362</td>\n",
       "    </tr>\n",
       "    <tr>\n",
       "      <th>21</th>\n",
       "      <td>Enclosed Porch</td>\n",
       "      <td>1.256088</td>\n",
       "    </tr>\n",
       "    <tr>\n",
       "      <th>22</th>\n",
       "      <td>3Ssn Porch</td>\n",
       "      <td>1.010370</td>\n",
       "    </tr>\n",
       "    <tr>\n",
       "      <th>23</th>\n",
       "      <td>Screen Porch</td>\n",
       "      <td>1.060764</td>\n",
       "    </tr>\n",
       "    <tr>\n",
       "      <th>24</th>\n",
       "      <td>Misc Val</td>\n",
       "      <td>1.037690</td>\n",
       "    </tr>\n",
       "    <tr>\n",
       "      <th>25</th>\n",
       "      <td>Mo Sold</td>\n",
       "      <td>1.052555</td>\n",
       "    </tr>\n",
       "    <tr>\n",
       "      <th>26</th>\n",
       "      <td>Yr Sold</td>\n",
       "      <td>1.052195</td>\n",
       "    </tr>\n",
       "  </tbody>\n",
       "</table>\n",
       "</div>"
      ],
      "text/plain": [
       "      Variable Name       VIF\n",
       "0       MS SubClass  1.884024\n",
       "1          Lot Area  1.789441\n",
       "2      Overall Qual  3.257213\n",
       "3      Overall Cond  1.596290\n",
       "4        Year Built  4.628034\n",
       "5    Year Remod/Add  2.618990\n",
       "6      Mas Vnr Area  1.359412\n",
       "7      BsmtFin SF 2  1.074755\n",
       "8       Bsmt Unf SF  2.505780\n",
       "9     Total Bsmt SF  3.463409\n",
       "10  Low Qual Fin SF  1.053224\n",
       "11      Gr Liv Area  7.005901\n",
       "12   Bsmt Full Bath  2.110488\n",
       "13        Full Bath  3.035112\n",
       "14        Half Bath  2.169695\n",
       "15    Bedroom AbvGr  2.403777\n",
       "16    TotRms AbvGrd  4.234379\n",
       "17       Fireplaces  1.449893\n",
       "18      Garage Area  2.011883\n",
       "19     Wood Deck SF  1.207971\n",
       "20    Open Porch SF  1.262362\n",
       "21   Enclosed Porch  1.256088\n",
       "22       3Ssn Porch  1.010370\n",
       "23     Screen Porch  1.060764\n",
       "24         Misc Val  1.037690\n",
       "25          Mo Sold  1.052555\n",
       "26          Yr Sold  1.052195"
      ]
     },
     "execution_count": 31,
     "metadata": {},
     "output_type": "execute_result"
    }
   ],
   "source": [
    "# Drop the variables with high VIF\n",
    "generate_vif_dataframe(num_train_clean.drop(['Id','BsmtFin SF 1','1st Flr SF','Bsmt Half Bath','Kitchen AbvGr',\n",
    "                                            'Pool Area','2nd Flr SF','Garage Cars'], axis=1))"
   ]
  },
  {
   "cell_type": "code",
   "execution_count": 32,
   "metadata": {},
   "outputs": [],
   "source": [
    "# Since \"Gr Liv Area\" has a very storng correlation with SalePrice, we will keep it in the model\n",
    "# Applying CPA on these variables to make the predictors independent and then concatenate with the categorical variables\n",
    "# The resulting RMSE and R2 are very similar to those from the model with these original variables\n",
    "# So we will use the original variables to keep the model relatively simple\n",
    "X_num = num_train_clean.drop(['Id','BsmtFin SF 1','1st Flr SF','Bsmt Half Bath','Kitchen AbvGr',\n",
    "                                            'Pool Area','2nd Flr SF','Garage Cars'], axis=1)"
   ]
  },
  {
   "cell_type": "code",
   "execution_count": 33,
   "metadata": {},
   "outputs": [],
   "source": [
    "### Add a new variable\n",
    "# Since 'Overall Qual' has the strongest correlation with SalePrice, and 'Overall Qual' is an ordinal variable\n",
    "# The true distance in terms of SalePrice between each level of 'Overall Qual' may be different\n",
    "# Therefore, we add the square of this variable in the model\n",
    "X_num['Overall_Qual_2'] = [x**2 for x in X_num['Overall Qual']]"
   ]
  },
  {
   "cell_type": "markdown",
   "metadata": {},
   "source": [
    "## Handling Categorical Variables:"
   ]
  },
  {
   "cell_type": "code",
   "execution_count": 34,
   "metadata": {},
   "outputs": [],
   "source": [
    "# Concatenate the train and test data\n",
    "df  = pd.concat([train.drop(['SalePrice'],axis=1),test],axis=0)"
   ]
  },
  {
   "cell_type": "code",
   "execution_count": 35,
   "metadata": {},
   "outputs": [],
   "source": [
    "# Get Categorical data:\n",
    "num = df._get_numeric_data().columns\n",
    "cat = list(set(df.columns) - set(num))\n",
    "df_cat = df[cat]"
   ]
  },
  {
   "cell_type": "code",
   "execution_count": 36,
   "metadata": {},
   "outputs": [
    {
     "data": {
      "text/plain": [
       "Bsmt Cond           80\n",
       "Sale Condition       0\n",
       "Bldg Type            0\n",
       "Functional           0\n",
       "Exterior 2nd         0\n",
       "Roof Matl            0\n",
       "Sale Type            0\n",
       "Exter Cond           0\n",
       "Bsmt Exposure       83\n",
       "Utilities            0\n",
       "Garage Qual        159\n",
       "BsmtFin Type 2      81\n",
       "Street               0\n",
       "Lot Shape            0\n",
       "Condition 2          0\n",
       "Land Slope           0\n",
       "Condition 1          0\n",
       "Neighborhood         0\n",
       "Exter Qual           0\n",
       "Bsmt Qual           80\n",
       "Land Contour         0\n",
       "House Style          0\n",
       "Exterior 1st         0\n",
       "Garage Finish      159\n",
       "Garage Cond        159\n",
       "Heating QC           0\n",
       "Fireplace Qu      1422\n",
       "MS Zoning            0\n",
       "Kitchen Qual         0\n",
       "Pool QC           2917\n",
       "Alley             2732\n",
       "BsmtFin Type 1      80\n",
       "Foundation           0\n",
       "Central Air          0\n",
       "Lot Config           0\n",
       "Electrical           1\n",
       "Roof Style           0\n",
       "Paved Drive          0\n",
       "Heating              0\n",
       "Fence             2358\n",
       "Misc Feature      2824\n",
       "Mas Vnr Type        23\n",
       "Garage Type        157\n",
       "dtype: int64"
      ]
     },
     "execution_count": 36,
     "metadata": {},
     "output_type": "execute_result"
    }
   ],
   "source": [
    "df_cat.isnull().sum()"
   ]
  },
  {
   "cell_type": "code",
   "execution_count": 37,
   "metadata": {},
   "outputs": [
    {
     "name": "stdout",
     "output_type": "stream",
     "text": [
      "Columns dropped: {'Garage Finish', 'Garage Cond', 'Garage Qual', 'Fireplace Qu', 'Pool QC', 'Alley', 'Fence', 'Misc Feature', 'Garage Type'}\n"
     ]
    }
   ],
   "source": [
    "# Drop the columns that have more than 5% missing values\n",
    "df_cat1 = df_cat.dropna(thresh=0.95*df.shape[0], axis=1)\n",
    "\n",
    "print(\"Columns dropped:\", set(df_cat.columns)-set(df_cat1.columns))"
   ]
  },
  {
   "cell_type": "code",
   "execution_count": 38,
   "metadata": {},
   "outputs": [
    {
     "name": "stdout",
     "output_type": "stream",
     "text": [
      "Columns dropped: {'Bsmt Cond', 'Sale Condition', 'Utilities', 'Bldg Type', 'Land Contour', 'Functional', 'Central Air', 'BsmtFin Type 2', 'Street', 'Roof Matl', 'Electrical', 'Condition 2', 'Paved Drive', 'Heating', 'Land Slope', 'Condition 1', 'Sale Type', 'Exter Cond'}\n"
     ]
    }
   ],
   "source": [
    "# Drop the columns that don't have much variation (more than 80% of the observations have the same value)\n",
    "flag = []\n",
    "for col in df_cat1.columns:\n",
    "    top_freq = df_cat1[col].value_counts().iloc[0]\n",
    "    flag.append(top_freq>=len(df_cat1)*0.80)\n",
    "df_cat2 = df_cat1.drop(df_cat1.columns[flag], axis=1) \n",
    "\n",
    "print(\"Columns dropped:\", set(df_cat1.columns) - set(df_cat2.columns))"
   ]
  },
  {
   "cell_type": "code",
   "execution_count": 39,
   "metadata": {},
   "outputs": [
    {
     "data": {
      "text/plain": [
       "Index(['Exterior 2nd', 'Bsmt Exposure', 'Lot Shape', 'Neighborhood',\n",
       "       'Exter Qual', 'Bsmt Qual', 'House Style', 'Exterior 1st', 'Heating QC',\n",
       "       'MS Zoning', 'Kitchen Qual', 'BsmtFin Type 1', 'Foundation',\n",
       "       'Lot Config', 'Roof Style', 'Mas Vnr Type'],\n",
       "      dtype='object')"
      ]
     },
     "execution_count": 39,
     "metadata": {},
     "output_type": "execute_result"
    }
   ],
   "source": [
    "df_cat2.columns"
   ]
  },
  {
   "cell_type": "code",
   "execution_count": 40,
   "metadata": {},
   "outputs": [],
   "source": [
    "# Based on commen sense, drop the following columns to reduce demensionality:\n",
    "df_cat3 = df_cat2.drop(['Neighborhood','Exterior 2nd','Lot Shape','BsmtFin Type 1','Bsmt Exposure',\n",
    "                             'BsmtFin Type 1'], axis=1)"
   ]
  },
  {
   "cell_type": "code",
   "execution_count": 41,
   "metadata": {},
   "outputs": [
    {
     "data": {
      "text/plain": [
       "Exter Qual       0\n",
       "Bsmt Qual       80\n",
       "House Style      0\n",
       "Exterior 1st     0\n",
       "Heating QC       0\n",
       "MS Zoning        0\n",
       "Kitchen Qual     0\n",
       "Foundation       0\n",
       "Lot Config       0\n",
       "Roof Style       0\n",
       "Mas Vnr Type    23\n",
       "dtype: int64"
      ]
     },
     "execution_count": 41,
     "metadata": {},
     "output_type": "execute_result"
    }
   ],
   "source": [
    "# Check for missing values\n",
    "df_cat3.isnull().sum()"
   ]
  },
  {
   "cell_type": "code",
   "execution_count": 42,
   "metadata": {},
   "outputs": [
    {
     "data": {
      "text/plain": [
       "0"
      ]
     },
     "execution_count": 42,
     "metadata": {},
     "output_type": "execute_result"
    }
   ],
   "source": [
    "# Impute missing values with mode:\n",
    "df_cat_clean = df_cat3.fillna(df_cat3.mode().iloc[0])\n",
    "\n",
    "df_cat_clean.isnull().values.sum()"
   ]
  },
  {
   "cell_type": "markdown",
   "metadata": {},
   "source": [
    "### Regroup levels in categorical variables"
   ]
  },
  {
   "cell_type": "markdown",
   "metadata": {},
   "source": [
    "#### Since some levels in a categorical variable have too few observations, I would combine them to the closest level based on what they represent or the average Sale Price in that level. This also helps with reducing demensionality"
   ]
  },
  {
   "cell_type": "code",
   "execution_count": 43,
   "metadata": {},
   "outputs": [],
   "source": [
    "# Add the SalePrice variable to the categorical variables\n",
    "df_cat4 = pd.concat([df_cat_clean,train['SalePrice'][df_cat_clean.index]], axis=1)"
   ]
  },
  {
   "cell_type": "code",
   "execution_count": 44,
   "metadata": {},
   "outputs": [
    {
     "data": {
      "text/plain": [
       "Ex    1495\n",
       "TA     864\n",
       "Gd     476\n",
       "Fa      92\n",
       "Po       3\n",
       "Name: Heating QC, dtype: int64"
      ]
     },
     "execution_count": 44,
     "metadata": {},
     "output_type": "execute_result"
    }
   ],
   "source": [
    "# Number of observations in each level\n",
    "df_cat4['Heating QC'].value_counts()"
   ]
  },
  {
   "cell_type": "code",
   "execution_count": 45,
   "metadata": {},
   "outputs": [
    {
     "data": {
      "text/html": [
       "<div>\n",
       "<style scoped>\n",
       "    .dataframe tbody tr th:only-of-type {\n",
       "        vertical-align: middle;\n",
       "    }\n",
       "\n",
       "    .dataframe tbody tr th {\n",
       "        vertical-align: top;\n",
       "    }\n",
       "\n",
       "    .dataframe thead th {\n",
       "        text-align: right;\n",
       "    }\n",
       "</style>\n",
       "<table border=\"1\" class=\"dataframe\">\n",
       "  <thead>\n",
       "    <tr style=\"text-align: right;\">\n",
       "      <th></th>\n",
       "      <th>mean</th>\n",
       "    </tr>\n",
       "    <tr>\n",
       "      <th>Heating QC</th>\n",
       "      <th></th>\n",
       "    </tr>\n",
       "  </thead>\n",
       "  <tbody>\n",
       "    <tr>\n",
       "      <th>Ex</th>\n",
       "      <td>208030.0</td>\n",
       "    </tr>\n",
       "    <tr>\n",
       "      <th>Fa</th>\n",
       "      <td>146897.0</td>\n",
       "    </tr>\n",
       "    <tr>\n",
       "      <th>Gd</th>\n",
       "      <td>166143.0</td>\n",
       "    </tr>\n",
       "    <tr>\n",
       "      <th>Po</th>\n",
       "      <td>193100.0</td>\n",
       "    </tr>\n",
       "    <tr>\n",
       "      <th>TA</th>\n",
       "      <td>157009.0</td>\n",
       "    </tr>\n",
       "  </tbody>\n",
       "</table>\n",
       "</div>"
      ],
      "text/plain": [
       "                mean\n",
       "Heating QC          \n",
       "Ex          208030.0\n",
       "Fa          146897.0\n",
       "Gd          166143.0\n",
       "Po          193100.0\n",
       "TA          157009.0"
      ]
     },
     "execution_count": 45,
     "metadata": {},
     "output_type": "execute_result"
    }
   ],
   "source": [
    "# Average SalePrice in each level\n",
    "round(df_cat4.groupby('Heating QC')['SalePrice'].agg([np.mean]))"
   ]
  },
  {
   "cell_type": "code",
   "execution_count": 46,
   "metadata": {},
   "outputs": [],
   "source": [
    "# Combine some levels\n",
    "df_cat4['Heating QC_combined']=['TA' if X in ['TA'] \n",
    "                                else 'Gd' if X in ['Gd'] \n",
    "                                else 'Ex' if X in ['Ex'] \n",
    "                                else 'Fa_grp' for X in df_cat4['Heating QC']]"
   ]
  },
  {
   "cell_type": "code",
   "execution_count": 47,
   "metadata": {},
   "outputs": [
    {
     "data": {
      "text/plain": [
       "TA    1363\n",
       "Gd    1219\n",
       "Ex     258\n",
       "Fa      88\n",
       "Po       2\n",
       "Name: Bsmt Qual, dtype: int64"
      ]
     },
     "execution_count": 47,
     "metadata": {},
     "output_type": "execute_result"
    }
   ],
   "source": [
    "# Number of observations in each level\n",
    "df_cat4['Bsmt Qual'].value_counts()"
   ]
  },
  {
   "cell_type": "code",
   "execution_count": 48,
   "metadata": {},
   "outputs": [
    {
     "data": {
      "text/html": [
       "<div>\n",
       "<style scoped>\n",
       "    .dataframe tbody tr th:only-of-type {\n",
       "        vertical-align: middle;\n",
       "    }\n",
       "\n",
       "    .dataframe tbody tr th {\n",
       "        vertical-align: top;\n",
       "    }\n",
       "\n",
       "    .dataframe thead th {\n",
       "        text-align: right;\n",
       "    }\n",
       "</style>\n",
       "<table border=\"1\" class=\"dataframe\">\n",
       "  <thead>\n",
       "    <tr style=\"text-align: right;\">\n",
       "      <th></th>\n",
       "      <th>mean</th>\n",
       "    </tr>\n",
       "    <tr>\n",
       "      <th>Bsmt Qual</th>\n",
       "      <th></th>\n",
       "    </tr>\n",
       "  </thead>\n",
       "  <tbody>\n",
       "    <tr>\n",
       "      <th>Ex</th>\n",
       "      <td>296512.0</td>\n",
       "    </tr>\n",
       "    <tr>\n",
       "      <th>Fa</th>\n",
       "      <td>134053.0</td>\n",
       "    </tr>\n",
       "    <tr>\n",
       "      <th>Gd</th>\n",
       "      <td>197740.0</td>\n",
       "    </tr>\n",
       "    <tr>\n",
       "      <th>Po</th>\n",
       "      <td>132950.0</td>\n",
       "    </tr>\n",
       "    <tr>\n",
       "      <th>TA</th>\n",
       "      <td>154242.0</td>\n",
       "    </tr>\n",
       "  </tbody>\n",
       "</table>\n",
       "</div>"
      ],
      "text/plain": [
       "               mean\n",
       "Bsmt Qual          \n",
       "Ex         296512.0\n",
       "Fa         134053.0\n",
       "Gd         197740.0\n",
       "Po         132950.0\n",
       "TA         154242.0"
      ]
     },
     "execution_count": 48,
     "metadata": {},
     "output_type": "execute_result"
    }
   ],
   "source": [
    "# Average SalePrice in each level\n",
    "round(df_cat4.groupby('Bsmt Qual')['SalePrice'].agg([np.mean]))"
   ]
  },
  {
   "cell_type": "code",
   "execution_count": 49,
   "metadata": {},
   "outputs": [],
   "source": [
    "# Combine some levels\n",
    "df_cat4['Bsmt Qual_combined']=['TA' if X in ['TA'] \n",
    "                                else 'Gd' if X in ['Gd'] \n",
    "                                else 'Ex' if X in ['Ex'] \n",
    "                                else 'Fa_grp' for X in df_cat4['Bsmt Qual']]"
   ]
  },
  {
   "cell_type": "code",
   "execution_count": 50,
   "metadata": {},
   "outputs": [
    {
     "data": {
      "text/plain": [
       "RL         2273\n",
       "RM          462\n",
       "FV          139\n",
       "RH           27\n",
       "C (all)      25\n",
       "I (all)       2\n",
       "A (agr)       2\n",
       "Name: MS Zoning, dtype: int64"
      ]
     },
     "execution_count": 50,
     "metadata": {},
     "output_type": "execute_result"
    }
   ],
   "source": [
    "# Number of observations in each level\n",
    "df_cat4['MS Zoning'].value_counts()"
   ]
  },
  {
   "cell_type": "code",
   "execution_count": 51,
   "metadata": {},
   "outputs": [
    {
     "data": {
      "text/html": [
       "<div>\n",
       "<style scoped>\n",
       "    .dataframe tbody tr th:only-of-type {\n",
       "        vertical-align: middle;\n",
       "    }\n",
       "\n",
       "    .dataframe tbody tr th {\n",
       "        vertical-align: top;\n",
       "    }\n",
       "\n",
       "    .dataframe thead th {\n",
       "        text-align: right;\n",
       "    }\n",
       "</style>\n",
       "<table border=\"1\" class=\"dataframe\">\n",
       "  <thead>\n",
       "    <tr style=\"text-align: right;\">\n",
       "      <th></th>\n",
       "      <th>mean</th>\n",
       "    </tr>\n",
       "    <tr>\n",
       "      <th>MS Zoning</th>\n",
       "      <th></th>\n",
       "    </tr>\n",
       "  </thead>\n",
       "  <tbody>\n",
       "    <tr>\n",
       "      <th>A (agr)</th>\n",
       "      <td>153550.0</td>\n",
       "    </tr>\n",
       "    <tr>\n",
       "      <th>C (all)</th>\n",
       "      <td>128193.0</td>\n",
       "    </tr>\n",
       "    <tr>\n",
       "      <th>FV</th>\n",
       "      <td>206544.0</td>\n",
       "    </tr>\n",
       "    <tr>\n",
       "      <th>I (all)</th>\n",
       "      <td>116312.0</td>\n",
       "    </tr>\n",
       "    <tr>\n",
       "      <th>RH</th>\n",
       "      <td>144166.0</td>\n",
       "    </tr>\n",
       "    <tr>\n",
       "      <th>RL</th>\n",
       "      <td>191422.0</td>\n",
       "    </tr>\n",
       "    <tr>\n",
       "      <th>RM</th>\n",
       "      <td>148028.0</td>\n",
       "    </tr>\n",
       "  </tbody>\n",
       "</table>\n",
       "</div>"
      ],
      "text/plain": [
       "               mean\n",
       "MS Zoning          \n",
       "A (agr)    153550.0\n",
       "C (all)    128193.0\n",
       "FV         206544.0\n",
       "I (all)    116312.0\n",
       "RH         144166.0\n",
       "RL         191422.0\n",
       "RM         148028.0"
      ]
     },
     "execution_count": 51,
     "metadata": {},
     "output_type": "execute_result"
    }
   ],
   "source": [
    "# Average SalePrice in each level\n",
    "round(df_cat4.groupby('MS Zoning')['SalePrice'].agg([np.mean]))"
   ]
  },
  {
   "cell_type": "code",
   "execution_count": 52,
   "metadata": {},
   "outputs": [],
   "source": [
    "# Combine some levels\n",
    "df_cat4['MS Zoning_combined']=['RL' if X in ['RL'] \n",
    "                               else 'RM' if X in ['RM'] \n",
    "                               else 'FV' if X in ['FV']\n",
    "                               else 'RH' if X in ['RH']\n",
    "                               else 'CIA_grp' for X in df_cat4['MS Zoning']]"
   ]
  },
  {
   "cell_type": "code",
   "execution_count": 53,
   "metadata": {},
   "outputs": [
    {
     "data": {
      "text/plain": [
       "TA    1494\n",
       "Gd    1160\n",
       "Ex     205\n",
       "Fa      70\n",
       "Po       1\n",
       "Name: Kitchen Qual, dtype: int64"
      ]
     },
     "execution_count": 53,
     "metadata": {},
     "output_type": "execute_result"
    }
   ],
   "source": [
    "# Number of observations in each level\n",
    "df_cat4['Kitchen Qual'].value_counts()"
   ]
  },
  {
   "cell_type": "code",
   "execution_count": 54,
   "metadata": {},
   "outputs": [
    {
     "data": {
      "text/html": [
       "<div>\n",
       "<style scoped>\n",
       "    .dataframe tbody tr th:only-of-type {\n",
       "        vertical-align: middle;\n",
       "    }\n",
       "\n",
       "    .dataframe tbody tr th {\n",
       "        vertical-align: top;\n",
       "    }\n",
       "\n",
       "    .dataframe thead th {\n",
       "        text-align: right;\n",
       "    }\n",
       "</style>\n",
       "<table border=\"1\" class=\"dataframe\">\n",
       "  <thead>\n",
       "    <tr style=\"text-align: right;\">\n",
       "      <th></th>\n",
       "      <th>mean</th>\n",
       "    </tr>\n",
       "    <tr>\n",
       "      <th>Kitchen Qual</th>\n",
       "      <th></th>\n",
       "    </tr>\n",
       "  </thead>\n",
       "  <tbody>\n",
       "    <tr>\n",
       "      <th>Ex</th>\n",
       "      <td>292174.0</td>\n",
       "    </tr>\n",
       "    <tr>\n",
       "      <th>Fa</th>\n",
       "      <td>131332.0</td>\n",
       "    </tr>\n",
       "    <tr>\n",
       "      <th>Gd</th>\n",
       "      <td>204936.0</td>\n",
       "    </tr>\n",
       "    <tr>\n",
       "      <th>Po</th>\n",
       "      <td>107500.0</td>\n",
       "    </tr>\n",
       "    <tr>\n",
       "      <th>TA</th>\n",
       "      <td>155901.0</td>\n",
       "    </tr>\n",
       "  </tbody>\n",
       "</table>\n",
       "</div>"
      ],
      "text/plain": [
       "                  mean\n",
       "Kitchen Qual          \n",
       "Ex            292174.0\n",
       "Fa            131332.0\n",
       "Gd            204936.0\n",
       "Po            107500.0\n",
       "TA            155901.0"
      ]
     },
     "execution_count": 54,
     "metadata": {},
     "output_type": "execute_result"
    }
   ],
   "source": [
    "# Average SalePrice in each level\n",
    "round(df_cat4.groupby('Kitchen Qual')['SalePrice'].agg([np.mean]))"
   ]
  },
  {
   "cell_type": "code",
   "execution_count": 55,
   "metadata": {},
   "outputs": [],
   "source": [
    "# Combine some levels\n",
    "df_cat4['Kitchen Qual_combined']=['TA' if X in ['TA'] \n",
    "                                else 'Gd' if X in ['Gd'] \n",
    "                                else 'Ex' if X in ['Ex'] \n",
    "                                else 'Fa_grp' for X in df_cat4['Kitchen Qual']]"
   ]
  },
  {
   "cell_type": "code",
   "execution_count": 56,
   "metadata": {},
   "outputs": [
    {
     "data": {
      "text/plain": [
       "1Story    1481\n",
       "2Story     873\n",
       "1.5Fin     314\n",
       "SLvl       128\n",
       "SFoyer      83\n",
       "2.5Unf      24\n",
       "1.5Unf      19\n",
       "2.5Fin       8\n",
       "Name: House Style, dtype: int64"
      ]
     },
     "execution_count": 56,
     "metadata": {},
     "output_type": "execute_result"
    }
   ],
   "source": [
    "# Number of observations in each level\n",
    "df_cat4['House Style'].value_counts()"
   ]
  },
  {
   "cell_type": "code",
   "execution_count": 57,
   "metadata": {},
   "outputs": [
    {
     "data": {
      "text/html": [
       "<div>\n",
       "<style scoped>\n",
       "    .dataframe tbody tr th:only-of-type {\n",
       "        vertical-align: middle;\n",
       "    }\n",
       "\n",
       "    .dataframe tbody tr th {\n",
       "        vertical-align: top;\n",
       "    }\n",
       "\n",
       "    .dataframe thead th {\n",
       "        text-align: right;\n",
       "    }\n",
       "</style>\n",
       "<table border=\"1\" class=\"dataframe\">\n",
       "  <thead>\n",
       "    <tr style=\"text-align: right;\">\n",
       "      <th></th>\n",
       "      <th>mean</th>\n",
       "    </tr>\n",
       "    <tr>\n",
       "      <th>House Style</th>\n",
       "      <th></th>\n",
       "    </tr>\n",
       "  </thead>\n",
       "  <tbody>\n",
       "    <tr>\n",
       "      <th>1.5Fin</th>\n",
       "      <td>153739.0</td>\n",
       "    </tr>\n",
       "    <tr>\n",
       "      <th>1.5Unf</th>\n",
       "      <td>158737.0</td>\n",
       "    </tr>\n",
       "    <tr>\n",
       "      <th>1Story</th>\n",
       "      <td>181597.0</td>\n",
       "    </tr>\n",
       "    <tr>\n",
       "      <th>2.5Fin</th>\n",
       "      <td>173625.0</td>\n",
       "    </tr>\n",
       "    <tr>\n",
       "      <th>2.5Unf</th>\n",
       "      <td>183950.0</td>\n",
       "    </tr>\n",
       "    <tr>\n",
       "      <th>2Story</th>\n",
       "      <td>204328.0</td>\n",
       "    </tr>\n",
       "    <tr>\n",
       "      <th>SFoyer</th>\n",
       "      <td>153796.0</td>\n",
       "    </tr>\n",
       "    <tr>\n",
       "      <th>SLvl</th>\n",
       "      <td>176999.0</td>\n",
       "    </tr>\n",
       "  </tbody>\n",
       "</table>\n",
       "</div>"
      ],
      "text/plain": [
       "                 mean\n",
       "House Style          \n",
       "1.5Fin       153739.0\n",
       "1.5Unf       158737.0\n",
       "1Story       181597.0\n",
       "2.5Fin       173625.0\n",
       "2.5Unf       183950.0\n",
       "2Story       204328.0\n",
       "SFoyer       153796.0\n",
       "SLvl         176999.0"
      ]
     },
     "execution_count": 57,
     "metadata": {},
     "output_type": "execute_result"
    }
   ],
   "source": [
    "# Average SalePrice in each level\n",
    "round(df_cat4.groupby('House Style')['SalePrice'].agg([np.mean]))"
   ]
  },
  {
   "cell_type": "code",
   "execution_count": 58,
   "metadata": {},
   "outputs": [],
   "source": [
    "# Combine some levels\n",
    "df_cat4['House Style_combined']=['2Story' if X in ['2Story'] \n",
    "                                else 'SLvl_grp' if X in ['SLvl','2.5Fin','2.5Unf','1Story'] \n",
    "                                else 'SFoyer_grp' for X in df_cat4['House Style']]"
   ]
  },
  {
   "cell_type": "code",
   "execution_count": 59,
   "metadata": {},
   "outputs": [
    {
     "data": {
      "text/plain": [
       "None       1775\n",
       "BrkFace     880\n",
       "Stone       249\n",
       "BrkCmn       25\n",
       "CBlock        1\n",
       "Name: Mas Vnr Type, dtype: int64"
      ]
     },
     "execution_count": 59,
     "metadata": {},
     "output_type": "execute_result"
    }
   ],
   "source": [
    "# Number of observations in each level\n",
    "df_cat4['Mas Vnr Type'].value_counts()"
   ]
  },
  {
   "cell_type": "code",
   "execution_count": 60,
   "metadata": {},
   "outputs": [
    {
     "data": {
      "text/html": [
       "<div>\n",
       "<style scoped>\n",
       "    .dataframe tbody tr th:only-of-type {\n",
       "        vertical-align: middle;\n",
       "    }\n",
       "\n",
       "    .dataframe tbody tr th {\n",
       "        vertical-align: top;\n",
       "    }\n",
       "\n",
       "    .dataframe thead th {\n",
       "        text-align: right;\n",
       "    }\n",
       "</style>\n",
       "<table border=\"1\" class=\"dataframe\">\n",
       "  <thead>\n",
       "    <tr style=\"text-align: right;\">\n",
       "      <th></th>\n",
       "      <th>mean</th>\n",
       "    </tr>\n",
       "    <tr>\n",
       "      <th>Mas Vnr Type</th>\n",
       "      <th></th>\n",
       "    </tr>\n",
       "  </thead>\n",
       "  <tbody>\n",
       "    <tr>\n",
       "      <th>BrkCmn</th>\n",
       "      <td>160199.0</td>\n",
       "    </tr>\n",
       "    <tr>\n",
       "      <th>BrkFace</th>\n",
       "      <td>207581.0</td>\n",
       "    </tr>\n",
       "    <tr>\n",
       "      <th>CBlock</th>\n",
       "      <td>80000.0</td>\n",
       "    </tr>\n",
       "    <tr>\n",
       "      <th>None</th>\n",
       "      <td>165696.0</td>\n",
       "    </tr>\n",
       "    <tr>\n",
       "      <th>Stone</th>\n",
       "      <td>236835.0</td>\n",
       "    </tr>\n",
       "  </tbody>\n",
       "</table>\n",
       "</div>"
      ],
      "text/plain": [
       "                  mean\n",
       "Mas Vnr Type          \n",
       "BrkCmn        160199.0\n",
       "BrkFace       207581.0\n",
       "CBlock         80000.0\n",
       "None          165696.0\n",
       "Stone         236835.0"
      ]
     },
     "execution_count": 60,
     "metadata": {},
     "output_type": "execute_result"
    }
   ],
   "source": [
    "# Average SalePrice in each level\n",
    "round(df_cat4.groupby('Mas Vnr Type')['SalePrice'].agg([np.mean]))"
   ]
  },
  {
   "cell_type": "code",
   "execution_count": 61,
   "metadata": {},
   "outputs": [],
   "source": [
    "# Combine some levels\n",
    "df_cat4['Mas Vnr Type_combined']=['Stone' if X in ['Stone'] \n",
    "                                else 'BrkFace' if X in ['BrkFace'] \n",
    "                                else 'None_grp' for X in df_cat4['Mas Vnr Type']]"
   ]
  },
  {
   "cell_type": "code",
   "execution_count": 62,
   "metadata": {},
   "outputs": [
    {
     "data": {
      "text/plain": [
       "Inside     2140\n",
       "Corner      511\n",
       "CulDSac     180\n",
       "FR2          85\n",
       "FR3          14\n",
       "Name: Lot Config, dtype: int64"
      ]
     },
     "execution_count": 62,
     "metadata": {},
     "output_type": "execute_result"
    }
   ],
   "source": [
    "# Number of observations in each level\n",
    "df_cat4['Lot Config'].value_counts()"
   ]
  },
  {
   "cell_type": "code",
   "execution_count": 63,
   "metadata": {},
   "outputs": [
    {
     "data": {
      "text/html": [
       "<div>\n",
       "<style scoped>\n",
       "    .dataframe tbody tr th:only-of-type {\n",
       "        vertical-align: middle;\n",
       "    }\n",
       "\n",
       "    .dataframe tbody tr th {\n",
       "        vertical-align: top;\n",
       "    }\n",
       "\n",
       "    .dataframe thead th {\n",
       "        text-align: right;\n",
       "    }\n",
       "</style>\n",
       "<table border=\"1\" class=\"dataframe\">\n",
       "  <thead>\n",
       "    <tr style=\"text-align: right;\">\n",
       "      <th></th>\n",
       "      <th>mean</th>\n",
       "    </tr>\n",
       "    <tr>\n",
       "      <th>Lot Config</th>\n",
       "      <th></th>\n",
       "    </tr>\n",
       "  </thead>\n",
       "  <tbody>\n",
       "    <tr>\n",
       "      <th>Corner</th>\n",
       "      <td>182926.0</td>\n",
       "    </tr>\n",
       "    <tr>\n",
       "      <th>CulDSac</th>\n",
       "      <td>221478.0</td>\n",
       "    </tr>\n",
       "    <tr>\n",
       "      <th>FR2</th>\n",
       "      <td>181283.0</td>\n",
       "    </tr>\n",
       "    <tr>\n",
       "      <th>FR3</th>\n",
       "      <td>205077.0</td>\n",
       "    </tr>\n",
       "    <tr>\n",
       "      <th>Inside</th>\n",
       "      <td>181410.0</td>\n",
       "    </tr>\n",
       "  </tbody>\n",
       "</table>\n",
       "</div>"
      ],
      "text/plain": [
       "                mean\n",
       "Lot Config          \n",
       "Corner      182926.0\n",
       "CulDSac     221478.0\n",
       "FR2         181283.0\n",
       "FR3         205077.0\n",
       "Inside      181410.0"
      ]
     },
     "execution_count": 63,
     "metadata": {},
     "output_type": "execute_result"
    }
   ],
   "source": [
    "# Average SalePrice in each level\n",
    "round(df_cat4.groupby('Lot Config')['SalePrice'].agg([np.mean]))"
   ]
  },
  {
   "cell_type": "code",
   "execution_count": 64,
   "metadata": {},
   "outputs": [],
   "source": [
    "# Combine some levels\n",
    "df_cat4['Lot Config_combined']=['CulDSac' if X in ['CulDSac'] \n",
    "                                else 'Corner_grp' if X in ['Corner', 'FR3','Inside'] \n",
    "                                else 'FR2_grp' for X in df_cat4['Lot Config']]"
   ]
  },
  {
   "cell_type": "code",
   "execution_count": 65,
   "metadata": {},
   "outputs": [
    {
     "data": {
      "text/plain": [
       "Gable      2321\n",
       "Hip         551\n",
       "Gambrel      22\n",
       "Flat         20\n",
       "Mansard      11\n",
       "Shed          5\n",
       "Name: Roof Style, dtype: int64"
      ]
     },
     "execution_count": 65,
     "metadata": {},
     "output_type": "execute_result"
    }
   ],
   "source": [
    "# Number of observations in each level\n",
    "df_cat4['Roof Style'].value_counts()"
   ]
  },
  {
   "cell_type": "code",
   "execution_count": 66,
   "metadata": {},
   "outputs": [
    {
     "data": {
      "text/html": [
       "<div>\n",
       "<style scoped>\n",
       "    .dataframe tbody tr th:only-of-type {\n",
       "        vertical-align: middle;\n",
       "    }\n",
       "\n",
       "    .dataframe tbody tr th {\n",
       "        vertical-align: top;\n",
       "    }\n",
       "\n",
       "    .dataframe thead th {\n",
       "        text-align: right;\n",
       "    }\n",
       "</style>\n",
       "<table border=\"1\" class=\"dataframe\">\n",
       "  <thead>\n",
       "    <tr style=\"text-align: right;\">\n",
       "      <th></th>\n",
       "      <th>mean</th>\n",
       "    </tr>\n",
       "    <tr>\n",
       "      <th>Roof Style</th>\n",
       "      <th></th>\n",
       "    </tr>\n",
       "  </thead>\n",
       "  <tbody>\n",
       "    <tr>\n",
       "      <th>Flat</th>\n",
       "      <td>175363.0</td>\n",
       "    </tr>\n",
       "    <tr>\n",
       "      <th>Gable</th>\n",
       "      <td>176476.0</td>\n",
       "    </tr>\n",
       "    <tr>\n",
       "      <th>Gambrel</th>\n",
       "      <td>162990.0</td>\n",
       "    </tr>\n",
       "    <tr>\n",
       "      <th>Hip</th>\n",
       "      <td>218755.0</td>\n",
       "    </tr>\n",
       "    <tr>\n",
       "      <th>Mansard</th>\n",
       "      <td>162134.0</td>\n",
       "    </tr>\n",
       "    <tr>\n",
       "      <th>Shed</th>\n",
       "      <td>165200.0</td>\n",
       "    </tr>\n",
       "  </tbody>\n",
       "</table>\n",
       "</div>"
      ],
      "text/plain": [
       "                mean\n",
       "Roof Style          \n",
       "Flat        175363.0\n",
       "Gable       176476.0\n",
       "Gambrel     162990.0\n",
       "Hip         218755.0\n",
       "Mansard     162134.0\n",
       "Shed        165200.0"
      ]
     },
     "execution_count": 66,
     "metadata": {},
     "output_type": "execute_result"
    }
   ],
   "source": [
    "# Average SalePrice in each level\n",
    "round(df_cat4.groupby('Roof Style')['SalePrice'].agg([np.mean]))"
   ]
  },
  {
   "cell_type": "code",
   "execution_count": 67,
   "metadata": {},
   "outputs": [],
   "source": [
    "# Combine some levels\n",
    "df_cat4['Roof_style_combined']=['Hip_grp' if X in ['Hip'] \n",
    "                                else 'Flat_grp' if X in ['Flat', 'Shed','Mansard','Gable'] \n",
    "                                else 'Gambrel_grp' for X in df_cat4['Roof Style']]"
   ]
  },
  {
   "cell_type": "code",
   "execution_count": 68,
   "metadata": {},
   "outputs": [
    {
     "data": {
      "text/plain": [
       "PConc     1310\n",
       "CBlock    1244\n",
       "BrkTil     311\n",
       "Slab        49\n",
       "Stone       11\n",
       "Wood         5\n",
       "Name: Foundation, dtype: int64"
      ]
     },
     "execution_count": 68,
     "metadata": {},
     "output_type": "execute_result"
    }
   ],
   "source": [
    "# Number of observations in each level\n",
    "df_cat4['Foundation'].value_counts()"
   ]
  },
  {
   "cell_type": "code",
   "execution_count": 69,
   "metadata": {},
   "outputs": [
    {
     "data": {
      "text/html": [
       "<div>\n",
       "<style scoped>\n",
       "    .dataframe tbody tr th:only-of-type {\n",
       "        vertical-align: middle;\n",
       "    }\n",
       "\n",
       "    .dataframe tbody tr th {\n",
       "        vertical-align: top;\n",
       "    }\n",
       "\n",
       "    .dataframe thead th {\n",
       "        text-align: right;\n",
       "    }\n",
       "</style>\n",
       "<table border=\"1\" class=\"dataframe\">\n",
       "  <thead>\n",
       "    <tr style=\"text-align: right;\">\n",
       "      <th></th>\n",
       "      <th>mean</th>\n",
       "    </tr>\n",
       "    <tr>\n",
       "      <th>Foundation</th>\n",
       "      <th></th>\n",
       "    </tr>\n",
       "  </thead>\n",
       "  <tbody>\n",
       "    <tr>\n",
       "      <th>BrkTil</th>\n",
       "      <td>149116.0</td>\n",
       "    </tr>\n",
       "    <tr>\n",
       "      <th>CBlock</th>\n",
       "      <td>160847.0</td>\n",
       "    </tr>\n",
       "    <tr>\n",
       "      <th>PConc</th>\n",
       "      <td>216741.0</td>\n",
       "    </tr>\n",
       "    <tr>\n",
       "      <th>Slab</th>\n",
       "      <td>127450.0</td>\n",
       "    </tr>\n",
       "    <tr>\n",
       "      <th>Stone</th>\n",
       "      <td>176907.0</td>\n",
       "    </tr>\n",
       "    <tr>\n",
       "      <th>Wood</th>\n",
       "      <td>249593.0</td>\n",
       "    </tr>\n",
       "  </tbody>\n",
       "</table>\n",
       "</div>"
      ],
      "text/plain": [
       "                mean\n",
       "Foundation          \n",
       "BrkTil      149116.0\n",
       "CBlock      160847.0\n",
       "PConc       216741.0\n",
       "Slab        127450.0\n",
       "Stone       176907.0\n",
       "Wood        249593.0"
      ]
     },
     "execution_count": 69,
     "metadata": {},
     "output_type": "execute_result"
    }
   ],
   "source": [
    "# Average SalePrice in each level\n",
    "round(df_cat4.groupby('Foundation')['SalePrice'].agg([np.mean]))"
   ]
  },
  {
   "cell_type": "code",
   "execution_count": 70,
   "metadata": {},
   "outputs": [],
   "source": [
    "# Combine some levels\n",
    "df_cat4['Foundation_combined']=['Wood_grp' if X in ['Stone','Wood','CBlock'] \n",
    "                                else 'PConc_grp' if X in ['PConc']\n",
    "                                else 'Slab_grp' for X in df_cat4['Foundation']]"
   ]
  },
  {
   "cell_type": "code",
   "execution_count": 71,
   "metadata": {},
   "outputs": [
    {
     "data": {
      "text/plain": [
       "VinylSd    1026\n",
       "MetalSd     450\n",
       "HdBoard     442\n",
       "Wd Sdng     420\n",
       "Plywood     221\n",
       "CemntBd     126\n",
       "BrkFace      88\n",
       "WdShing      56\n",
       "AsbShng      44\n",
       "Stucco       43\n",
       "BrkComm       6\n",
       "CBlock        2\n",
       "Stone         2\n",
       "AsphShn       2\n",
       "PreCast       1\n",
       "ImStucc       1\n",
       "Name: Exterior 1st, dtype: int64"
      ]
     },
     "execution_count": 71,
     "metadata": {},
     "output_type": "execute_result"
    }
   ],
   "source": [
    "# Number of observations in each level\n",
    "df_cat4['Exterior 1st'].value_counts()"
   ]
  },
  {
   "cell_type": "code",
   "execution_count": 72,
   "metadata": {},
   "outputs": [
    {
     "data": {
      "text/html": [
       "<div>\n",
       "<style scoped>\n",
       "    .dataframe tbody tr th:only-of-type {\n",
       "        vertical-align: middle;\n",
       "    }\n",
       "\n",
       "    .dataframe tbody tr th {\n",
       "        vertical-align: top;\n",
       "    }\n",
       "\n",
       "    .dataframe thead th {\n",
       "        text-align: right;\n",
       "    }\n",
       "</style>\n",
       "<table border=\"1\" class=\"dataframe\">\n",
       "  <thead>\n",
       "    <tr style=\"text-align: right;\">\n",
       "      <th></th>\n",
       "      <th>mean</th>\n",
       "    </tr>\n",
       "    <tr>\n",
       "      <th>Exterior 1st</th>\n",
       "      <th></th>\n",
       "    </tr>\n",
       "  </thead>\n",
       "  <tbody>\n",
       "    <tr>\n",
       "      <th>AsbShng</th>\n",
       "      <td>129689.0</td>\n",
       "    </tr>\n",
       "    <tr>\n",
       "      <th>AsphShn</th>\n",
       "      <td>172888.0</td>\n",
       "    </tr>\n",
       "    <tr>\n",
       "      <th>BrkComm</th>\n",
       "      <td>137500.0</td>\n",
       "    </tr>\n",
       "    <tr>\n",
       "      <th>BrkFace</th>\n",
       "      <td>182967.0</td>\n",
       "    </tr>\n",
       "    <tr>\n",
       "      <th>CBlock</th>\n",
       "      <td>202000.0</td>\n",
       "    </tr>\n",
       "    <tr>\n",
       "      <th>CemntBd</th>\n",
       "      <td>237657.0</td>\n",
       "    </tr>\n",
       "    <tr>\n",
       "      <th>HdBoard</th>\n",
       "      <td>170835.0</td>\n",
       "    </tr>\n",
       "    <tr>\n",
       "      <th>ImStucc</th>\n",
       "      <td>262000.0</td>\n",
       "    </tr>\n",
       "    <tr>\n",
       "      <th>MetalSd</th>\n",
       "      <td>168814.0</td>\n",
       "    </tr>\n",
       "    <tr>\n",
       "      <th>Plywood</th>\n",
       "      <td>172160.0</td>\n",
       "    </tr>\n",
       "    <tr>\n",
       "      <th>PreCast</th>\n",
       "      <td>260000.0</td>\n",
       "    </tr>\n",
       "    <tr>\n",
       "      <th>Stone</th>\n",
       "      <td>258500.0</td>\n",
       "    </tr>\n",
       "    <tr>\n",
       "      <th>Stucco</th>\n",
       "      <td>151360.0</td>\n",
       "    </tr>\n",
       "    <tr>\n",
       "      <th>VinylSd</th>\n",
       "      <td>208450.0</td>\n",
       "    </tr>\n",
       "    <tr>\n",
       "      <th>Wd Sdng</th>\n",
       "      <td>156926.0</td>\n",
       "    </tr>\n",
       "    <tr>\n",
       "      <th>WdShing</th>\n",
       "      <td>172549.0</td>\n",
       "    </tr>\n",
       "  </tbody>\n",
       "</table>\n",
       "</div>"
      ],
      "text/plain": [
       "                  mean\n",
       "Exterior 1st          \n",
       "AsbShng       129689.0\n",
       "AsphShn       172888.0\n",
       "BrkComm       137500.0\n",
       "BrkFace       182967.0\n",
       "CBlock        202000.0\n",
       "CemntBd       237657.0\n",
       "HdBoard       170835.0\n",
       "ImStucc       262000.0\n",
       "MetalSd       168814.0\n",
       "Plywood       172160.0\n",
       "PreCast       260000.0\n",
       "Stone         258500.0\n",
       "Stucco        151360.0\n",
       "VinylSd       208450.0\n",
       "Wd Sdng       156926.0\n",
       "WdShing       172549.0"
      ]
     },
     "execution_count": 72,
     "metadata": {},
     "output_type": "execute_result"
    }
   ],
   "source": [
    "# Average SalePrice in each level\n",
    "round(df_cat4.groupby('Exterior 1st')['SalePrice'].agg([np.mean]))"
   ]
  },
  {
   "cell_type": "code",
   "execution_count": 73,
   "metadata": {},
   "outputs": [],
   "source": [
    "# Combine some levels\n",
    "df_cat4['Exterior 1st_combined']=['Stone_grp' if X in ['ImStucc','PreCast','CemntBd','Stone'] \n",
    "                                else 'BrkFace_grp' if X in ['BrkFace', 'Plywood','HdBoard','WdShing','MetalSd'] \n",
    "                                else 'Stucco_grp' if X in ['Stucco', 'Wd Sdng','BrkComm']\n",
    "                                else 'VinylSd_grp' if X in ['VinylSd']\n",
    "                                else 'AsbShng_grp' for X in df_cat4['Exterior 1st']]"
   ]
  },
  {
   "cell_type": "code",
   "execution_count": 74,
   "metadata": {},
   "outputs": [],
   "source": [
    "# Drop the original variables and the SalePrice\n",
    "df_cat4.drop(['Heating QC','Bsmt Qual','MS Zoning','Kitchen Qual','House Style','Mas Vnr Type',\n",
    "             'Lot Config','Roof Style','Foundation', 'Exterior 1st','SalePrice'],axis=1,inplace=True)"
   ]
  },
  {
   "cell_type": "code",
   "execution_count": 75,
   "metadata": {},
   "outputs": [
    {
     "data": {
      "text/plain": [
       "(2930, 41)"
      ]
     },
     "execution_count": 75,
     "metadata": {},
     "output_type": "execute_result"
    }
   ],
   "source": [
    "# convert categorical variables into dummies\n",
    "df_dm = pd.get_dummies(df_cat4, columns=df_cat4.columns)\n",
    "\n",
    "df_dm.shape"
   ]
  },
  {
   "cell_type": "code",
   "execution_count": 76,
   "metadata": {},
   "outputs": [
    {
     "name": "stdout",
     "output_type": "stream",
     "text": [
      "(2001, 41) (929, 41)\n"
     ]
    }
   ],
   "source": [
    "# Separate the train and test data\n",
    "train_dm = df_dm.iloc[0:2001,]\n",
    "test_dm = df_dm.iloc[2001:,]\n",
    "\n",
    "print(train_dm.shape, test_dm.shape)"
   ]
  },
  {
   "cell_type": "code",
   "execution_count": 77,
   "metadata": {},
   "outputs": [
    {
     "data": {
      "text/plain": [
       "(1436, 41)"
      ]
     },
     "execution_count": 77,
     "metadata": {},
     "output_type": "execute_result"
    }
   ],
   "source": [
    "# Categorical variables for modeling:\n",
    "cat_train = train_dm.loc[num_train_clean.index,:]\n",
    "cat_train.shape"
   ]
  },
  {
   "cell_type": "code",
   "execution_count": 78,
   "metadata": {},
   "outputs": [],
   "source": [
    "# Concatenate numeric variables and categorical variables for modeling\n",
    "df = pd.concat([X_num.drop(['Low Qual Fin SF','3Ssn Porch'], axis=1),cat_train],axis=1)"
   ]
  },
  {
   "cell_type": "markdown",
   "metadata": {},
   "source": [
    "## Fitting models"
   ]
  },
  {
   "cell_type": "code",
   "execution_count": 79,
   "metadata": {},
   "outputs": [],
   "source": [
    "X = df.values\n",
    "y = train['SalePrice'][num_train_clean.index].values"
   ]
  },
  {
   "cell_type": "code",
   "execution_count": 80,
   "metadata": {},
   "outputs": [],
   "source": [
    "def calculate_rmse(y, y_pred):\n",
    "    # Good practice to check if y and y_pred have the same leng\n",
    "    assert len(y) == len(y_pred) \n",
    "    return np.sqrt(np.sum(np.square(y_pred - y))/len(y))"
   ]
  },
  {
   "cell_type": "code",
   "execution_count": 81,
   "metadata": {},
   "outputs": [
    {
     "name": "stdout",
     "output_type": "stream",
     "text": [
      "19629.219340779902\n"
     ]
    },
    {
     "data": {
      "text/html": [
       "<table class=\"simpletable\">\n",
       "<caption>OLS Regression Results</caption>\n",
       "<tr>\n",
       "  <th>Dep. Variable:</th>            <td>y</td>        <th>  R-squared:         </th> <td>   0.922</td> \n",
       "</tr>\n",
       "<tr>\n",
       "  <th>Model:</th>                   <td>OLS</td>       <th>  Adj. R-squared:    </th> <td>   0.919</td> \n",
       "</tr>\n",
       "<tr>\n",
       "  <th>Method:</th>             <td>Least Squares</td>  <th>  F-statistic:       </th> <td>   290.6</td> \n",
       "</tr>\n",
       "<tr>\n",
       "  <th>Date:</th>             <td>Sun, 23 Feb 2020</td> <th>  Prob (F-statistic):</th>  <td>  0.00</td>  \n",
       "</tr>\n",
       "<tr>\n",
       "  <th>Time:</th>                 <td>12:59:44</td>     <th>  Log-Likelihood:    </th> <td> -16232.</td> \n",
       "</tr>\n",
       "<tr>\n",
       "  <th>No. Observations:</th>      <td>  1436</td>      <th>  AIC:               </th> <td>3.258e+04</td>\n",
       "</tr>\n",
       "<tr>\n",
       "  <th>Df Residuals:</th>          <td>  1379</td>      <th>  BIC:               </th> <td>3.288e+04</td>\n",
       "</tr>\n",
       "<tr>\n",
       "  <th>Df Model:</th>              <td>    56</td>      <th>                     </th>     <td> </td>    \n",
       "</tr>\n",
       "<tr>\n",
       "  <th>Covariance Type:</th>      <td>nonrobust</td>    <th>                     </th>     <td> </td>    \n",
       "</tr>\n",
       "</table>\n",
       "<table class=\"simpletable\">\n",
       "<tr>\n",
       "    <td></td>       <th>coef</th>     <th>std err</th>      <th>t</th>      <th>P>|t|</th>  <th>[0.025</th>    <th>0.975]</th>  \n",
       "</tr>\n",
       "<tr>\n",
       "  <th>const</th> <td> 5.742e+05</td> <td> 2.07e+05</td> <td>    2.780</td> <td> 0.006</td> <td> 1.69e+05</td> <td> 9.79e+05</td>\n",
       "</tr>\n",
       "<tr>\n",
       "  <th>x1</th>    <td>  -81.8041</td> <td>   21.355</td> <td>   -3.831</td> <td> 0.000</td> <td> -123.696</td> <td>  -39.912</td>\n",
       "</tr>\n",
       "<tr>\n",
       "  <th>x2</th>    <td>    1.1184</td> <td>    0.200</td> <td>    5.579</td> <td> 0.000</td> <td>    0.725</td> <td>    1.512</td>\n",
       "</tr>\n",
       "<tr>\n",
       "  <th>x3</th>    <td>-1.973e+04</td> <td> 3306.761</td> <td>   -5.967</td> <td> 0.000</td> <td>-2.62e+04</td> <td>-1.32e+04</td>\n",
       "</tr>\n",
       "<tr>\n",
       "  <th>x4</th>    <td> 6974.2746</td> <td>  694.281</td> <td>   10.045</td> <td> 0.000</td> <td> 5612.314</td> <td> 8336.236</td>\n",
       "</tr>\n",
       "<tr>\n",
       "  <th>x5</th>    <td>  328.8517</td> <td>   53.420</td> <td>    6.156</td> <td> 0.000</td> <td>  224.059</td> <td>  433.644</td>\n",
       "</tr>\n",
       "<tr>\n",
       "  <th>x6</th>    <td>   38.3683</td> <td>   45.574</td> <td>    0.842</td> <td> 0.400</td> <td>  -51.034</td> <td>  127.771</td>\n",
       "</tr>\n",
       "<tr>\n",
       "  <th>x7</th>    <td>   19.5255</td> <td>    6.720</td> <td>    2.906</td> <td> 0.004</td> <td>    6.343</td> <td>   32.708</td>\n",
       "</tr>\n",
       "<tr>\n",
       "  <th>x8</th>    <td>  -14.2198</td> <td>    7.022</td> <td>   -2.025</td> <td> 0.043</td> <td>  -27.995</td> <td>   -0.444</td>\n",
       "</tr>\n",
       "<tr>\n",
       "  <th>x9</th>    <td>  -16.2958</td> <td>    2.022</td> <td>   -8.060</td> <td> 0.000</td> <td>  -20.262</td> <td>  -12.329</td>\n",
       "</tr>\n",
       "<tr>\n",
       "  <th>x10</th>   <td>   32.7500</td> <td>    2.924</td> <td>   11.200</td> <td> 0.000</td> <td>   27.014</td> <td>   38.486</td>\n",
       "</tr>\n",
       "<tr>\n",
       "  <th>x11</th>   <td>   55.7396</td> <td>    3.438</td> <td>   16.214</td> <td> 0.000</td> <td>   48.996</td> <td>   62.483</td>\n",
       "</tr>\n",
       "<tr>\n",
       "  <th>x12</th>   <td> 3033.2390</td> <td> 1572.014</td> <td>    1.930</td> <td> 0.054</td> <td>  -50.559</td> <td> 6117.037</td>\n",
       "</tr>\n",
       "<tr>\n",
       "  <th>x13</th>   <td> 1335.5310</td> <td> 1848.632</td> <td>    0.722</td> <td> 0.470</td> <td>-2290.904</td> <td> 4961.966</td>\n",
       "</tr>\n",
       "<tr>\n",
       "  <th>x14</th>   <td> 2427.6461</td> <td> 1803.157</td> <td>    1.346</td> <td> 0.178</td> <td>-1109.582</td> <td> 5964.874</td>\n",
       "</tr>\n",
       "<tr>\n",
       "  <th>x15</th>   <td>-6283.2269</td> <td> 1199.149</td> <td>   -5.240</td> <td> 0.000</td> <td>-8635.580</td> <td>-3930.873</td>\n",
       "</tr>\n",
       "<tr>\n",
       "  <th>x16</th>   <td> 1509.9743</td> <td>  801.882</td> <td>    1.883</td> <td> 0.060</td> <td>  -63.065</td> <td> 3083.014</td>\n",
       "</tr>\n",
       "<tr>\n",
       "  <th>x17</th>   <td> 4760.8184</td> <td> 1113.541</td> <td>    4.275</td> <td> 0.000</td> <td> 2576.401</td> <td> 6945.236</td>\n",
       "</tr>\n",
       "<tr>\n",
       "  <th>x18</th>   <td>   23.4417</td> <td>    3.890</td> <td>    6.025</td> <td> 0.000</td> <td>   15.810</td> <td>   31.074</td>\n",
       "</tr>\n",
       "<tr>\n",
       "  <th>x19</th>   <td>   10.3529</td> <td>    5.564</td> <td>    1.861</td> <td> 0.063</td> <td>   -0.562</td> <td>   21.267</td>\n",
       "</tr>\n",
       "<tr>\n",
       "  <th>x20</th>   <td>    2.7107</td> <td>   11.073</td> <td>    0.245</td> <td> 0.807</td> <td>  -19.011</td> <td>   24.432</td>\n",
       "</tr>\n",
       "<tr>\n",
       "  <th>x21</th>   <td>   44.9025</td> <td>   14.272</td> <td>    3.146</td> <td> 0.002</td> <td>   16.906</td> <td>   72.899</td>\n",
       "</tr>\n",
       "<tr>\n",
       "  <th>x22</th>   <td>   27.9081</td> <td>   17.305</td> <td>    1.613</td> <td> 0.107</td> <td>   -6.039</td> <td>   61.855</td>\n",
       "</tr>\n",
       "<tr>\n",
       "  <th>x23</th>   <td>    3.3163</td> <td>    5.660</td> <td>    0.586</td> <td> 0.558</td> <td>   -7.786</td> <td>   14.419</td>\n",
       "</tr>\n",
       "<tr>\n",
       "  <th>x24</th>   <td>  290.9247</td> <td>  204.006</td> <td>    1.426</td> <td> 0.154</td> <td> -109.271</td> <td>  691.121</td>\n",
       "</tr>\n",
       "<tr>\n",
       "  <th>x25</th>   <td>-1506.5187</td> <td>  414.885</td> <td>   -3.631</td> <td> 0.000</td> <td>-2320.393</td> <td> -692.644</td>\n",
       "</tr>\n",
       "<tr>\n",
       "  <th>x26</th>   <td> 2493.9464</td> <td>  273.112</td> <td>    9.132</td> <td> 0.000</td> <td> 1958.187</td> <td> 3029.705</td>\n",
       "</tr>\n",
       "<tr>\n",
       "  <th>x27</th>   <td> 1.522e+05</td> <td> 5.18e+04</td> <td>    2.935</td> <td> 0.003</td> <td> 5.05e+04</td> <td> 2.54e+05</td>\n",
       "</tr>\n",
       "<tr>\n",
       "  <th>x28</th>   <td> 1.363e+05</td> <td> 5.18e+04</td> <td>    2.630</td> <td> 0.009</td> <td> 3.46e+04</td> <td> 2.38e+05</td>\n",
       "</tr>\n",
       "<tr>\n",
       "  <th>x29</th>   <td> 1.443e+05</td> <td> 5.16e+04</td> <td>    2.794</td> <td> 0.005</td> <td>  4.3e+04</td> <td> 2.46e+05</td>\n",
       "</tr>\n",
       "<tr>\n",
       "  <th>x30</th>   <td> 1.414e+05</td> <td> 5.16e+04</td> <td>    2.739</td> <td> 0.006</td> <td> 4.01e+04</td> <td> 2.43e+05</td>\n",
       "</tr>\n",
       "<tr>\n",
       "  <th>x31</th>   <td> 1.471e+05</td> <td> 5.17e+04</td> <td>    2.847</td> <td> 0.004</td> <td> 4.57e+04</td> <td> 2.48e+05</td>\n",
       "</tr>\n",
       "<tr>\n",
       "  <th>x32</th>   <td> 1.404e+05</td> <td> 5.17e+04</td> <td>    2.714</td> <td> 0.007</td> <td> 3.89e+04</td> <td> 2.42e+05</td>\n",
       "</tr>\n",
       "<tr>\n",
       "  <th>x33</th>   <td>  1.45e+05</td> <td> 5.16e+04</td> <td>    2.809</td> <td> 0.005</td> <td> 4.37e+04</td> <td> 2.46e+05</td>\n",
       "</tr>\n",
       "<tr>\n",
       "  <th>x34</th>   <td> 1.417e+05</td> <td> 5.16e+04</td> <td>    2.744</td> <td> 0.006</td> <td> 4.04e+04</td> <td> 2.43e+05</td>\n",
       "</tr>\n",
       "<tr>\n",
       "  <th>x35</th>   <td> 1.596e+05</td> <td> 5.18e+04</td> <td>    3.082</td> <td> 0.002</td> <td>  5.8e+04</td> <td> 2.61e+05</td>\n",
       "</tr>\n",
       "<tr>\n",
       "  <th>x36</th>   <td> 1.359e+05</td> <td> 5.15e+04</td> <td>    2.639</td> <td> 0.008</td> <td> 3.49e+04</td> <td> 2.37e+05</td>\n",
       "</tr>\n",
       "<tr>\n",
       "  <th>x37</th>   <td> 1.399e+05</td> <td> 5.18e+04</td> <td>    2.702</td> <td> 0.007</td> <td> 3.83e+04</td> <td> 2.41e+05</td>\n",
       "</tr>\n",
       "<tr>\n",
       "  <th>x38</th>   <td> 1.387e+05</td> <td> 5.16e+04</td> <td>    2.687</td> <td> 0.007</td> <td> 3.75e+04</td> <td>  2.4e+05</td>\n",
       "</tr>\n",
       "<tr>\n",
       "  <th>x39</th>   <td> 9.235e+04</td> <td> 4.18e+04</td> <td>    2.211</td> <td> 0.027</td> <td> 1.04e+04</td> <td> 1.74e+05</td>\n",
       "</tr>\n",
       "<tr>\n",
       "  <th>x40</th>   <td> 1.261e+05</td> <td> 4.15e+04</td> <td>    3.041</td> <td> 0.002</td> <td> 4.47e+04</td> <td> 2.07e+05</td>\n",
       "</tr>\n",
       "<tr>\n",
       "  <th>x41</th>   <td> 1.179e+05</td> <td> 4.17e+04</td> <td>    2.825</td> <td> 0.005</td> <td>  3.6e+04</td> <td>    2e+05</td>\n",
       "</tr>\n",
       "<tr>\n",
       "  <th>x42</th>   <td> 1.221e+05</td> <td> 4.13e+04</td> <td>    2.956</td> <td> 0.003</td> <td> 4.11e+04</td> <td> 2.03e+05</td>\n",
       "</tr>\n",
       "<tr>\n",
       "  <th>x43</th>   <td> 1.157e+05</td> <td> 4.13e+04</td> <td>    2.802</td> <td> 0.005</td> <td> 3.47e+04</td> <td> 1.97e+05</td>\n",
       "</tr>\n",
       "<tr>\n",
       "  <th>x44</th>   <td> 1.593e+05</td> <td> 5.18e+04</td> <td>    3.076</td> <td> 0.002</td> <td> 5.77e+04</td> <td> 2.61e+05</td>\n",
       "</tr>\n",
       "<tr>\n",
       "  <th>x45</th>   <td>  1.37e+05</td> <td> 5.16e+04</td> <td>    2.658</td> <td> 0.008</td> <td> 3.59e+04</td> <td> 2.38e+05</td>\n",
       "</tr>\n",
       "<tr>\n",
       "  <th>x46</th>   <td> 1.387e+05</td> <td> 5.17e+04</td> <td>    2.684</td> <td> 0.007</td> <td> 3.73e+04</td> <td>  2.4e+05</td>\n",
       "</tr>\n",
       "<tr>\n",
       "  <th>x47</th>   <td> 1.391e+05</td> <td> 5.17e+04</td> <td>    2.692</td> <td> 0.007</td> <td> 3.77e+04</td> <td>  2.4e+05</td>\n",
       "</tr>\n",
       "<tr>\n",
       "  <th>x48</th>   <td> 1.913e+05</td> <td> 6.88e+04</td> <td>    2.779</td> <td> 0.006</td> <td> 5.63e+04</td> <td> 3.26e+05</td>\n",
       "</tr>\n",
       "<tr>\n",
       "  <th>x49</th>   <td> 1.914e+05</td> <td> 6.88e+04</td> <td>    2.782</td> <td> 0.005</td> <td> 5.64e+04</td> <td> 3.26e+05</td>\n",
       "</tr>\n",
       "<tr>\n",
       "  <th>x50</th>   <td> 1.914e+05</td> <td> 6.89e+04</td> <td>    2.778</td> <td> 0.006</td> <td> 5.62e+04</td> <td> 3.27e+05</td>\n",
       "</tr>\n",
       "<tr>\n",
       "  <th>x51</th>   <td> 1.894e+05</td> <td> 6.88e+04</td> <td>    2.752</td> <td> 0.006</td> <td> 5.44e+04</td> <td> 3.24e+05</td>\n",
       "</tr>\n",
       "<tr>\n",
       "  <th>x52</th>   <td> 1.917e+05</td> <td> 6.88e+04</td> <td>    2.786</td> <td> 0.005</td> <td> 5.67e+04</td> <td> 3.27e+05</td>\n",
       "</tr>\n",
       "<tr>\n",
       "  <th>x53</th>   <td> 1.931e+05</td> <td> 6.89e+04</td> <td>    2.801</td> <td> 0.005</td> <td> 5.79e+04</td> <td> 3.28e+05</td>\n",
       "</tr>\n",
       "<tr>\n",
       "  <th>x54</th>   <td> 1.925e+05</td> <td> 6.88e+04</td> <td>    2.798</td> <td> 0.005</td> <td> 5.76e+04</td> <td> 3.28e+05</td>\n",
       "</tr>\n",
       "<tr>\n",
       "  <th>x55</th>   <td> 1.956e+05</td> <td> 6.89e+04</td> <td>    2.840</td> <td> 0.005</td> <td> 6.05e+04</td> <td> 3.31e+05</td>\n",
       "</tr>\n",
       "<tr>\n",
       "  <th>x56</th>   <td> 1.861e+05</td> <td> 6.89e+04</td> <td>    2.699</td> <td> 0.007</td> <td> 5.08e+04</td> <td> 3.21e+05</td>\n",
       "</tr>\n",
       "<tr>\n",
       "  <th>x57</th>   <td> 1.905e+05</td> <td>  6.9e+04</td> <td>    2.762</td> <td> 0.006</td> <td> 5.52e+04</td> <td> 3.26e+05</td>\n",
       "</tr>\n",
       "<tr>\n",
       "  <th>x58</th>   <td> 1.931e+05</td> <td> 6.89e+04</td> <td>    2.803</td> <td> 0.005</td> <td>  5.8e+04</td> <td> 3.28e+05</td>\n",
       "</tr>\n",
       "<tr>\n",
       "  <th>x59</th>   <td> 1.906e+05</td> <td> 6.89e+04</td> <td>    2.767</td> <td> 0.006</td> <td> 5.55e+04</td> <td> 3.26e+05</td>\n",
       "</tr>\n",
       "<tr>\n",
       "  <th>x60</th>   <td> 1.955e+05</td> <td> 6.89e+04</td> <td>    2.837</td> <td> 0.005</td> <td> 6.03e+04</td> <td> 3.31e+05</td>\n",
       "</tr>\n",
       "<tr>\n",
       "  <th>x61</th>   <td> 1.906e+05</td> <td> 6.88e+04</td> <td>    2.771</td> <td> 0.006</td> <td> 5.57e+04</td> <td> 3.26e+05</td>\n",
       "</tr>\n",
       "<tr>\n",
       "  <th>x62</th>   <td> 1.881e+05</td> <td> 6.89e+04</td> <td>    2.731</td> <td> 0.006</td> <td>  5.3e+04</td> <td> 3.23e+05</td>\n",
       "</tr>\n",
       "<tr>\n",
       "  <th>x63</th>   <td> 1.167e+05</td> <td> 4.13e+04</td> <td>    2.823</td> <td> 0.005</td> <td> 3.56e+04</td> <td> 1.98e+05</td>\n",
       "</tr>\n",
       "<tr>\n",
       "  <th>x64</th>   <td> 1.125e+05</td> <td> 4.14e+04</td> <td>    2.719</td> <td> 0.007</td> <td> 3.13e+04</td> <td> 1.94e+05</td>\n",
       "</tr>\n",
       "<tr>\n",
       "  <th>x65</th>   <td>   1.2e+05</td> <td> 4.14e+04</td> <td>    2.896</td> <td> 0.004</td> <td> 3.87e+04</td> <td> 2.01e+05</td>\n",
       "</tr>\n",
       "<tr>\n",
       "  <th>x66</th>   <td> 1.125e+05</td> <td> 4.13e+04</td> <td>    2.726</td> <td> 0.006</td> <td> 3.15e+04</td> <td> 1.94e+05</td>\n",
       "</tr>\n",
       "<tr>\n",
       "  <th>x67</th>   <td> 1.124e+05</td> <td> 4.14e+04</td> <td>    2.717</td> <td> 0.007</td> <td> 3.12e+04</td> <td> 1.94e+05</td>\n",
       "</tr>\n",
       "</table>\n",
       "<table class=\"simpletable\">\n",
       "<tr>\n",
       "  <th>Omnibus:</th>       <td>309.958</td> <th>  Durbin-Watson:     </th> <td>   2.033</td>\n",
       "</tr>\n",
       "<tr>\n",
       "  <th>Prob(Omnibus):</th> <td> 0.000</td>  <th>  Jarque-Bera (JB):  </th> <td>3456.162</td>\n",
       "</tr>\n",
       "<tr>\n",
       "  <th>Skew:</th>          <td> 0.669</td>  <th>  Prob(JB):          </th> <td>    0.00</td>\n",
       "</tr>\n",
       "<tr>\n",
       "  <th>Kurtosis:</th>      <td>10.482</td>  <th>  Cond. No.          </th> <td>1.06e+16</td>\n",
       "</tr>\n",
       "</table><br/><br/>Warnings:<br/>[1] Standard Errors assume that the covariance matrix of the errors is correctly specified.<br/>[2] The smallest eigenvalue is 1.48e-21. This might indicate that there are<br/>strong multicollinearity problems or that the design matrix is singular."
      ],
      "text/plain": [
       "<class 'statsmodels.iolib.summary.Summary'>\n",
       "\"\"\"\n",
       "                            OLS Regression Results                            \n",
       "==============================================================================\n",
       "Dep. Variable:                      y   R-squared:                       0.922\n",
       "Model:                            OLS   Adj. R-squared:                  0.919\n",
       "Method:                 Least Squares   F-statistic:                     290.6\n",
       "Date:                Sun, 23 Feb 2020   Prob (F-statistic):               0.00\n",
       "Time:                        12:59:44   Log-Likelihood:                -16232.\n",
       "No. Observations:                1436   AIC:                         3.258e+04\n",
       "Df Residuals:                    1379   BIC:                         3.288e+04\n",
       "Df Model:                          56                                         \n",
       "Covariance Type:            nonrobust                                         \n",
       "==============================================================================\n",
       "                 coef    std err          t      P>|t|      [0.025      0.975]\n",
       "------------------------------------------------------------------------------\n",
       "const       5.742e+05   2.07e+05      2.780      0.006    1.69e+05    9.79e+05\n",
       "x1           -81.8041     21.355     -3.831      0.000    -123.696     -39.912\n",
       "x2             1.1184      0.200      5.579      0.000       0.725       1.512\n",
       "x3         -1.973e+04   3306.761     -5.967      0.000   -2.62e+04   -1.32e+04\n",
       "x4          6974.2746    694.281     10.045      0.000    5612.314    8336.236\n",
       "x5           328.8517     53.420      6.156      0.000     224.059     433.644\n",
       "x6            38.3683     45.574      0.842      0.400     -51.034     127.771\n",
       "x7            19.5255      6.720      2.906      0.004       6.343      32.708\n",
       "x8           -14.2198      7.022     -2.025      0.043     -27.995      -0.444\n",
       "x9           -16.2958      2.022     -8.060      0.000     -20.262     -12.329\n",
       "x10           32.7500      2.924     11.200      0.000      27.014      38.486\n",
       "x11           55.7396      3.438     16.214      0.000      48.996      62.483\n",
       "x12         3033.2390   1572.014      1.930      0.054     -50.559    6117.037\n",
       "x13         1335.5310   1848.632      0.722      0.470   -2290.904    4961.966\n",
       "x14         2427.6461   1803.157      1.346      0.178   -1109.582    5964.874\n",
       "x15        -6283.2269   1199.149     -5.240      0.000   -8635.580   -3930.873\n",
       "x16         1509.9743    801.882      1.883      0.060     -63.065    3083.014\n",
       "x17         4760.8184   1113.541      4.275      0.000    2576.401    6945.236\n",
       "x18           23.4417      3.890      6.025      0.000      15.810      31.074\n",
       "x19           10.3529      5.564      1.861      0.063      -0.562      21.267\n",
       "x20            2.7107     11.073      0.245      0.807     -19.011      24.432\n",
       "x21           44.9025     14.272      3.146      0.002      16.906      72.899\n",
       "x22           27.9081     17.305      1.613      0.107      -6.039      61.855\n",
       "x23            3.3163      5.660      0.586      0.558      -7.786      14.419\n",
       "x24          290.9247    204.006      1.426      0.154    -109.271     691.121\n",
       "x25        -1506.5187    414.885     -3.631      0.000   -2320.393    -692.644\n",
       "x26         2493.9464    273.112      9.132      0.000    1958.187    3029.705\n",
       "x27         1.522e+05   5.18e+04      2.935      0.003    5.05e+04    2.54e+05\n",
       "x28         1.363e+05   5.18e+04      2.630      0.009    3.46e+04    2.38e+05\n",
       "x29         1.443e+05   5.16e+04      2.794      0.005     4.3e+04    2.46e+05\n",
       "x30         1.414e+05   5.16e+04      2.739      0.006    4.01e+04    2.43e+05\n",
       "x31         1.471e+05   5.17e+04      2.847      0.004    4.57e+04    2.48e+05\n",
       "x32         1.404e+05   5.17e+04      2.714      0.007    3.89e+04    2.42e+05\n",
       "x33          1.45e+05   5.16e+04      2.809      0.005    4.37e+04    2.46e+05\n",
       "x34         1.417e+05   5.16e+04      2.744      0.006    4.04e+04    2.43e+05\n",
       "x35         1.596e+05   5.18e+04      3.082      0.002     5.8e+04    2.61e+05\n",
       "x36         1.359e+05   5.15e+04      2.639      0.008    3.49e+04    2.37e+05\n",
       "x37         1.399e+05   5.18e+04      2.702      0.007    3.83e+04    2.41e+05\n",
       "x38         1.387e+05   5.16e+04      2.687      0.007    3.75e+04     2.4e+05\n",
       "x39         9.235e+04   4.18e+04      2.211      0.027    1.04e+04    1.74e+05\n",
       "x40         1.261e+05   4.15e+04      3.041      0.002    4.47e+04    2.07e+05\n",
       "x41         1.179e+05   4.17e+04      2.825      0.005     3.6e+04       2e+05\n",
       "x42         1.221e+05   4.13e+04      2.956      0.003    4.11e+04    2.03e+05\n",
       "x43         1.157e+05   4.13e+04      2.802      0.005    3.47e+04    1.97e+05\n",
       "x44         1.593e+05   5.18e+04      3.076      0.002    5.77e+04    2.61e+05\n",
       "x45          1.37e+05   5.16e+04      2.658      0.008    3.59e+04    2.38e+05\n",
       "x46         1.387e+05   5.17e+04      2.684      0.007    3.73e+04     2.4e+05\n",
       "x47         1.391e+05   5.17e+04      2.692      0.007    3.77e+04     2.4e+05\n",
       "x48         1.913e+05   6.88e+04      2.779      0.006    5.63e+04    3.26e+05\n",
       "x49         1.914e+05   6.88e+04      2.782      0.005    5.64e+04    3.26e+05\n",
       "x50         1.914e+05   6.89e+04      2.778      0.006    5.62e+04    3.27e+05\n",
       "x51         1.894e+05   6.88e+04      2.752      0.006    5.44e+04    3.24e+05\n",
       "x52         1.917e+05   6.88e+04      2.786      0.005    5.67e+04    3.27e+05\n",
       "x53         1.931e+05   6.89e+04      2.801      0.005    5.79e+04    3.28e+05\n",
       "x54         1.925e+05   6.88e+04      2.798      0.005    5.76e+04    3.28e+05\n",
       "x55         1.956e+05   6.89e+04      2.840      0.005    6.05e+04    3.31e+05\n",
       "x56         1.861e+05   6.89e+04      2.699      0.007    5.08e+04    3.21e+05\n",
       "x57         1.905e+05    6.9e+04      2.762      0.006    5.52e+04    3.26e+05\n",
       "x58         1.931e+05   6.89e+04      2.803      0.005     5.8e+04    3.28e+05\n",
       "x59         1.906e+05   6.89e+04      2.767      0.006    5.55e+04    3.26e+05\n",
       "x60         1.955e+05   6.89e+04      2.837      0.005    6.03e+04    3.31e+05\n",
       "x61         1.906e+05   6.88e+04      2.771      0.006    5.57e+04    3.26e+05\n",
       "x62         1.881e+05   6.89e+04      2.731      0.006     5.3e+04    3.23e+05\n",
       "x63         1.167e+05   4.13e+04      2.823      0.005    3.56e+04    1.98e+05\n",
       "x64         1.125e+05   4.14e+04      2.719      0.007    3.13e+04    1.94e+05\n",
       "x65           1.2e+05   4.14e+04      2.896      0.004    3.87e+04    2.01e+05\n",
       "x66         1.125e+05   4.13e+04      2.726      0.006    3.15e+04    1.94e+05\n",
       "x67         1.124e+05   4.14e+04      2.717      0.007    3.12e+04    1.94e+05\n",
       "==============================================================================\n",
       "Omnibus:                      309.958   Durbin-Watson:                   2.033\n",
       "Prob(Omnibus):                  0.000   Jarque-Bera (JB):             3456.162\n",
       "Skew:                           0.669   Prob(JB):                         0.00\n",
       "Kurtosis:                      10.482   Cond. No.                     1.06e+16\n",
       "==============================================================================\n",
       "\n",
       "Warnings:\n",
       "[1] Standard Errors assume that the covariance matrix of the errors is correctly specified.\n",
       "[2] The smallest eigenvalue is 1.48e-21. This might indicate that there are\n",
       "strong multicollinearity problems or that the design matrix is singular.\n",
       "\"\"\""
      ]
     },
     "execution_count": 81,
     "metadata": {},
     "output_type": "execute_result"
    }
   ],
   "source": [
    "# Subset selection:\n",
    "# Backward subset selection: use all clean variables in the model\n",
    "# Run the model on all training data and check the significance of the variables\n",
    "constant_added = sm.add_constant(X)\n",
    "results = sm.OLS(y, constant_added).fit()\n",
    "y_pred = results.predict(sm.add_constant(X))\n",
    "print(calculate_rmse(y, y_pred))\n",
    "results.summary()"
   ]
  },
  {
   "cell_type": "code",
   "execution_count": 82,
   "metadata": {},
   "outputs": [],
   "source": [
    "# Drop insignificant variables one at a time\n",
    "# Resun the model and drop the variable with the highest P value\n",
    "# The following variables turned out to be insignificant:\n",
    "\n",
    "X = df.drop(['Misc Val','Year Remod/Add','Screen Porch','Enclosed Porch','Open Porch SF','Wood Deck SF'],axis=1).values"
   ]
  },
  {
   "cell_type": "code",
   "execution_count": 83,
   "metadata": {},
   "outputs": [
    {
     "name": "stdout",
     "output_type": "stream",
     "text": [
      "[19835.92439986395, 21190.24190613764, 19871.131322274778, 23379.415605345137, 18450.675465327873] 20545.477739789876\n"
     ]
    }
   ],
   "source": [
    "import numpy as np\n",
    "from sklearn.model_selection import KFold\n",
    "\n",
    "kf = KFold(n_splits=5)\n",
    "rmses = []\n",
    "for train_kf, test_kf in kf.split(X):\n",
    "    constant_added = sm.add_constant(X[train_kf,:])\n",
    "    results = sm.OLS(y[train_kf], constant_added).fit()\n",
    "    y_pred = results.predict(sm.add_constant(X[test_kf,:]))\n",
    "    rmses.append(calculate_rmse(y[test_kf], y_pred))\n",
    "print(rmses, np.mean(rmses))"
   ]
  },
  {
   "cell_type": "code",
   "execution_count": 84,
   "metadata": {},
   "outputs": [],
   "source": [
    "# Ridge \n",
    "# use k-fold validation on each value of alpha to determine the mean R^2.\n",
    "import sklearn.linear_model as lm\n",
    "from sklearn.model_selection import KFold\n",
    "\n",
    "\n",
    "kf = KFold(n_splits=5)\n",
    "ridge_scores = []\n",
    "alphas=np.logspace(-3,3,20)\n",
    "\n",
    "for alpha in alphas:\n",
    "    this_alpha_scores = []\n",
    "    for train_rg, validate_rg in kf.split(X):\n",
    "        ridge = lm.Ridge(alpha=alpha)\n",
    "        scores = ridge.fit(X[train_rg], y[train_rg]).score(X[validate_rg], y[validate_rg])\n",
    "    \n",
    "        this_alpha_scores.append(scores)\n",
    "    ridge_scores.append(this_alpha_scores)\n",
    "    \n",
    "ridge_scores = np.vstack(ridge_scores)"
   ]
  },
  {
   "cell_type": "code",
   "execution_count": 85,
   "metadata": {},
   "outputs": [
    {
     "name": "stdout",
     "output_type": "stream",
     "text": [
      "[2.97635144]\n"
     ]
    }
   ],
   "source": [
    "ridge_best_alpha = alphas[ridge_scores.mean(1) == ridge_scores.mean(1).max()]\n",
    "print(ridge_best_alpha)"
   ]
  },
  {
   "cell_type": "code",
   "execution_count": 86,
   "metadata": {},
   "outputs": [],
   "source": [
    "ridge = lm.Ridge(alpha=ridge_best_alpha)\n",
    "reg_ridge = ridge.fit(X, y)"
   ]
  },
  {
   "cell_type": "code",
   "execution_count": 87,
   "metadata": {},
   "outputs": [
    {
     "name": "stdout",
     "output_type": "stream",
     "text": [
      "RMSE from Ridge: 19752.0\n"
     ]
    }
   ],
   "source": [
    "y_rg = reg_ridge.predict(X)\n",
    "print('RMSE from Ridge:',round(calculate_rmse(y, y_rg)))"
   ]
  },
  {
   "cell_type": "code",
   "execution_count": 88,
   "metadata": {},
   "outputs": [
    {
     "name": "stderr",
     "output_type": "stream",
     "text": [
      "C:\\Users\\Hanna\\Anaconda3\\lib\\site-packages\\sklearn\\linear_model\\coordinate_descent.py:492: ConvergenceWarning: Objective did not converge. You might want to increase the number of iterations. Fitting data with very small alpha may cause precision problems.\n",
      "  ConvergenceWarning)\n",
      "C:\\Users\\Hanna\\Anaconda3\\lib\\site-packages\\sklearn\\linear_model\\coordinate_descent.py:492: ConvergenceWarning: Objective did not converge. You might want to increase the number of iterations. Fitting data with very small alpha may cause precision problems.\n",
      "  ConvergenceWarning)\n",
      "C:\\Users\\Hanna\\Anaconda3\\lib\\site-packages\\sklearn\\linear_model\\coordinate_descent.py:492: ConvergenceWarning: Objective did not converge. You might want to increase the number of iterations. Fitting data with very small alpha may cause precision problems.\n",
      "  ConvergenceWarning)\n",
      "C:\\Users\\Hanna\\Anaconda3\\lib\\site-packages\\sklearn\\linear_model\\coordinate_descent.py:492: ConvergenceWarning: Objective did not converge. You might want to increase the number of iterations. Fitting data with very small alpha may cause precision problems.\n",
      "  ConvergenceWarning)\n",
      "C:\\Users\\Hanna\\Anaconda3\\lib\\site-packages\\sklearn\\linear_model\\coordinate_descent.py:492: ConvergenceWarning: Objective did not converge. You might want to increase the number of iterations. Fitting data with very small alpha may cause precision problems.\n",
      "  ConvergenceWarning)\n",
      "C:\\Users\\Hanna\\Anaconda3\\lib\\site-packages\\sklearn\\linear_model\\coordinate_descent.py:492: ConvergenceWarning: Objective did not converge. You might want to increase the number of iterations. Fitting data with very small alpha may cause precision problems.\n",
      "  ConvergenceWarning)\n",
      "C:\\Users\\Hanna\\Anaconda3\\lib\\site-packages\\sklearn\\linear_model\\coordinate_descent.py:492: ConvergenceWarning: Objective did not converge. You might want to increase the number of iterations. Fitting data with very small alpha may cause precision problems.\n",
      "  ConvergenceWarning)\n",
      "C:\\Users\\Hanna\\Anaconda3\\lib\\site-packages\\sklearn\\linear_model\\coordinate_descent.py:492: ConvergenceWarning: Objective did not converge. You might want to increase the number of iterations. Fitting data with very small alpha may cause precision problems.\n",
      "  ConvergenceWarning)\n",
      "C:\\Users\\Hanna\\Anaconda3\\lib\\site-packages\\sklearn\\linear_model\\coordinate_descent.py:492: ConvergenceWarning: Objective did not converge. You might want to increase the number of iterations. Fitting data with very small alpha may cause precision problems.\n",
      "  ConvergenceWarning)\n",
      "C:\\Users\\Hanna\\Anaconda3\\lib\\site-packages\\sklearn\\linear_model\\coordinate_descent.py:492: ConvergenceWarning: Objective did not converge. You might want to increase the number of iterations. Fitting data with very small alpha may cause precision problems.\n",
      "  ConvergenceWarning)\n",
      "C:\\Users\\Hanna\\Anaconda3\\lib\\site-packages\\sklearn\\linear_model\\coordinate_descent.py:492: ConvergenceWarning: Objective did not converge. You might want to increase the number of iterations. Fitting data with very small alpha may cause precision problems.\n",
      "  ConvergenceWarning)\n",
      "C:\\Users\\Hanna\\Anaconda3\\lib\\site-packages\\sklearn\\linear_model\\coordinate_descent.py:492: ConvergenceWarning: Objective did not converge. You might want to increase the number of iterations. Fitting data with very small alpha may cause precision problems.\n",
      "  ConvergenceWarning)\n",
      "C:\\Users\\Hanna\\Anaconda3\\lib\\site-packages\\sklearn\\linear_model\\coordinate_descent.py:492: ConvergenceWarning: Objective did not converge. You might want to increase the number of iterations. Fitting data with very small alpha may cause precision problems.\n",
      "  ConvergenceWarning)\n",
      "C:\\Users\\Hanna\\Anaconda3\\lib\\site-packages\\sklearn\\linear_model\\coordinate_descent.py:492: ConvergenceWarning: Objective did not converge. You might want to increase the number of iterations. Fitting data with very small alpha may cause precision problems.\n",
      "  ConvergenceWarning)\n",
      "C:\\Users\\Hanna\\Anaconda3\\lib\\site-packages\\sklearn\\linear_model\\coordinate_descent.py:492: ConvergenceWarning: Objective did not converge. You might want to increase the number of iterations. Fitting data with very small alpha may cause precision problems.\n",
      "  ConvergenceWarning)\n",
      "C:\\Users\\Hanna\\Anaconda3\\lib\\site-packages\\sklearn\\linear_model\\coordinate_descent.py:492: ConvergenceWarning: Objective did not converge. You might want to increase the number of iterations. Fitting data with very small alpha may cause precision problems.\n",
      "  ConvergenceWarning)\n",
      "C:\\Users\\Hanna\\Anaconda3\\lib\\site-packages\\sklearn\\linear_model\\coordinate_descent.py:492: ConvergenceWarning: Objective did not converge. You might want to increase the number of iterations. Fitting data with very small alpha may cause precision problems.\n",
      "  ConvergenceWarning)\n",
      "C:\\Users\\Hanna\\Anaconda3\\lib\\site-packages\\sklearn\\linear_model\\coordinate_descent.py:492: ConvergenceWarning: Objective did not converge. You might want to increase the number of iterations. Fitting data with very small alpha may cause precision problems.\n",
      "  ConvergenceWarning)\n",
      "C:\\Users\\Hanna\\Anaconda3\\lib\\site-packages\\sklearn\\linear_model\\coordinate_descent.py:492: ConvergenceWarning: Objective did not converge. You might want to increase the number of iterations. Fitting data with very small alpha may cause precision problems.\n",
      "  ConvergenceWarning)\n",
      "C:\\Users\\Hanna\\Anaconda3\\lib\\site-packages\\sklearn\\linear_model\\coordinate_descent.py:492: ConvergenceWarning: Objective did not converge. You might want to increase the number of iterations. Fitting data with very small alpha may cause precision problems.\n",
      "  ConvergenceWarning)\n",
      "C:\\Users\\Hanna\\Anaconda3\\lib\\site-packages\\sklearn\\linear_model\\coordinate_descent.py:492: ConvergenceWarning: Objective did not converge. You might want to increase the number of iterations. Fitting data with very small alpha may cause precision problems.\n",
      "  ConvergenceWarning)\n",
      "C:\\Users\\Hanna\\Anaconda3\\lib\\site-packages\\sklearn\\linear_model\\coordinate_descent.py:492: ConvergenceWarning: Objective did not converge. You might want to increase the number of iterations. Fitting data with very small alpha may cause precision problems.\n",
      "  ConvergenceWarning)\n",
      "C:\\Users\\Hanna\\Anaconda3\\lib\\site-packages\\sklearn\\linear_model\\coordinate_descent.py:492: ConvergenceWarning: Objective did not converge. You might want to increase the number of iterations. Fitting data with very small alpha may cause precision problems.\n",
      "  ConvergenceWarning)\n",
      "C:\\Users\\Hanna\\Anaconda3\\lib\\site-packages\\sklearn\\linear_model\\coordinate_descent.py:492: ConvergenceWarning: Objective did not converge. You might want to increase the number of iterations. Fitting data with very small alpha may cause precision problems.\n",
      "  ConvergenceWarning)\n",
      "C:\\Users\\Hanna\\Anaconda3\\lib\\site-packages\\sklearn\\linear_model\\coordinate_descent.py:492: ConvergenceWarning: Objective did not converge. You might want to increase the number of iterations. Fitting data with very small alpha may cause precision problems.\n",
      "  ConvergenceWarning)\n",
      "C:\\Users\\Hanna\\Anaconda3\\lib\\site-packages\\sklearn\\linear_model\\coordinate_descent.py:492: ConvergenceWarning: Objective did not converge. You might want to increase the number of iterations. Fitting data with very small alpha may cause precision problems.\n",
      "  ConvergenceWarning)\n",
      "C:\\Users\\Hanna\\Anaconda3\\lib\\site-packages\\sklearn\\linear_model\\coordinate_descent.py:492: ConvergenceWarning: Objective did not converge. You might want to increase the number of iterations. Fitting data with very small alpha may cause precision problems.\n",
      "  ConvergenceWarning)\n",
      "C:\\Users\\Hanna\\Anaconda3\\lib\\site-packages\\sklearn\\linear_model\\coordinate_descent.py:492: ConvergenceWarning: Objective did not converge. You might want to increase the number of iterations. Fitting data with very small alpha may cause precision problems.\n",
      "  ConvergenceWarning)\n",
      "C:\\Users\\Hanna\\Anaconda3\\lib\\site-packages\\sklearn\\linear_model\\coordinate_descent.py:492: ConvergenceWarning: Objective did not converge. You might want to increase the number of iterations. Fitting data with very small alpha may cause precision problems.\n",
      "  ConvergenceWarning)\n",
      "C:\\Users\\Hanna\\Anaconda3\\lib\\site-packages\\sklearn\\linear_model\\coordinate_descent.py:492: ConvergenceWarning: Objective did not converge. You might want to increase the number of iterations. Fitting data with very small alpha may cause precision problems.\n",
      "  ConvergenceWarning)\n",
      "C:\\Users\\Hanna\\Anaconda3\\lib\\site-packages\\sklearn\\linear_model\\coordinate_descent.py:492: ConvergenceWarning: Objective did not converge. You might want to increase the number of iterations. Fitting data with very small alpha may cause precision problems.\n",
      "  ConvergenceWarning)\n",
      "C:\\Users\\Hanna\\Anaconda3\\lib\\site-packages\\sklearn\\linear_model\\coordinate_descent.py:492: ConvergenceWarning: Objective did not converge. You might want to increase the number of iterations. Fitting data with very small alpha may cause precision problems.\n",
      "  ConvergenceWarning)\n",
      "C:\\Users\\Hanna\\Anaconda3\\lib\\site-packages\\sklearn\\linear_model\\coordinate_descent.py:492: ConvergenceWarning: Objective did not converge. You might want to increase the number of iterations. Fitting data with very small alpha may cause precision problems.\n",
      "  ConvergenceWarning)\n",
      "C:\\Users\\Hanna\\Anaconda3\\lib\\site-packages\\sklearn\\linear_model\\coordinate_descent.py:492: ConvergenceWarning: Objective did not converge. You might want to increase the number of iterations. Fitting data with very small alpha may cause precision problems.\n",
      "  ConvergenceWarning)\n",
      "C:\\Users\\Hanna\\Anaconda3\\lib\\site-packages\\sklearn\\linear_model\\coordinate_descent.py:492: ConvergenceWarning: Objective did not converge. You might want to increase the number of iterations. Fitting data with very small alpha may cause precision problems.\n",
      "  ConvergenceWarning)\n",
      "C:\\Users\\Hanna\\Anaconda3\\lib\\site-packages\\sklearn\\linear_model\\coordinate_descent.py:492: ConvergenceWarning: Objective did not converge. You might want to increase the number of iterations. Fitting data with very small alpha may cause precision problems.\n",
      "  ConvergenceWarning)\n",
      "C:\\Users\\Hanna\\Anaconda3\\lib\\site-packages\\sklearn\\linear_model\\coordinate_descent.py:492: ConvergenceWarning: Objective did not converge. You might want to increase the number of iterations. Fitting data with very small alpha may cause precision problems.\n",
      "  ConvergenceWarning)\n",
      "C:\\Users\\Hanna\\Anaconda3\\lib\\site-packages\\sklearn\\linear_model\\coordinate_descent.py:492: ConvergenceWarning: Objective did not converge. You might want to increase the number of iterations. Fitting data with very small alpha may cause precision problems.\n",
      "  ConvergenceWarning)\n",
      "C:\\Users\\Hanna\\Anaconda3\\lib\\site-packages\\sklearn\\linear_model\\coordinate_descent.py:492: ConvergenceWarning: Objective did not converge. You might want to increase the number of iterations. Fitting data with very small alpha may cause precision problems.\n",
      "  ConvergenceWarning)\n",
      "C:\\Users\\Hanna\\Anaconda3\\lib\\site-packages\\sklearn\\linear_model\\coordinate_descent.py:492: ConvergenceWarning: Objective did not converge. You might want to increase the number of iterations. Fitting data with very small alpha may cause precision problems.\n",
      "  ConvergenceWarning)\n",
      "C:\\Users\\Hanna\\Anaconda3\\lib\\site-packages\\sklearn\\linear_model\\coordinate_descent.py:492: ConvergenceWarning: Objective did not converge. You might want to increase the number of iterations. Fitting data with very small alpha may cause precision problems.\n",
      "  ConvergenceWarning)\n",
      "C:\\Users\\Hanna\\Anaconda3\\lib\\site-packages\\sklearn\\linear_model\\coordinate_descent.py:492: ConvergenceWarning: Objective did not converge. You might want to increase the number of iterations. Fitting data with very small alpha may cause precision problems.\n",
      "  ConvergenceWarning)\n",
      "C:\\Users\\Hanna\\Anaconda3\\lib\\site-packages\\sklearn\\linear_model\\coordinate_descent.py:492: ConvergenceWarning: Objective did not converge. You might want to increase the number of iterations. Fitting data with very small alpha may cause precision problems.\n",
      "  ConvergenceWarning)\n",
      "C:\\Users\\Hanna\\Anaconda3\\lib\\site-packages\\sklearn\\linear_model\\coordinate_descent.py:492: ConvergenceWarning: Objective did not converge. You might want to increase the number of iterations. Fitting data with very small alpha may cause precision problems.\n",
      "  ConvergenceWarning)\n",
      "C:\\Users\\Hanna\\Anaconda3\\lib\\site-packages\\sklearn\\linear_model\\coordinate_descent.py:492: ConvergenceWarning: Objective did not converge. You might want to increase the number of iterations. Fitting data with very small alpha may cause precision problems.\n",
      "  ConvergenceWarning)\n",
      "C:\\Users\\Hanna\\Anaconda3\\lib\\site-packages\\sklearn\\linear_model\\coordinate_descent.py:492: ConvergenceWarning: Objective did not converge. You might want to increase the number of iterations. Fitting data with very small alpha may cause precision problems.\n",
      "  ConvergenceWarning)\n",
      "C:\\Users\\Hanna\\Anaconda3\\lib\\site-packages\\sklearn\\linear_model\\coordinate_descent.py:492: ConvergenceWarning: Objective did not converge. You might want to increase the number of iterations. Fitting data with very small alpha may cause precision problems.\n",
      "  ConvergenceWarning)\n",
      "C:\\Users\\Hanna\\Anaconda3\\lib\\site-packages\\sklearn\\linear_model\\coordinate_descent.py:492: ConvergenceWarning: Objective did not converge. You might want to increase the number of iterations. Fitting data with very small alpha may cause precision problems.\n",
      "  ConvergenceWarning)\n",
      "C:\\Users\\Hanna\\Anaconda3\\lib\\site-packages\\sklearn\\linear_model\\coordinate_descent.py:492: ConvergenceWarning: Objective did not converge. You might want to increase the number of iterations. Fitting data with very small alpha may cause precision problems.\n",
      "  ConvergenceWarning)\n",
      "C:\\Users\\Hanna\\Anaconda3\\lib\\site-packages\\sklearn\\linear_model\\coordinate_descent.py:492: ConvergenceWarning: Objective did not converge. You might want to increase the number of iterations. Fitting data with very small alpha may cause precision problems.\n",
      "  ConvergenceWarning)\n",
      "C:\\Users\\Hanna\\Anaconda3\\lib\\site-packages\\sklearn\\linear_model\\coordinate_descent.py:492: ConvergenceWarning: Objective did not converge. You might want to increase the number of iterations. Fitting data with very small alpha may cause precision problems.\n",
      "  ConvergenceWarning)\n",
      "C:\\Users\\Hanna\\Anaconda3\\lib\\site-packages\\sklearn\\linear_model\\coordinate_descent.py:492: ConvergenceWarning: Objective did not converge. You might want to increase the number of iterations. Fitting data with very small alpha may cause precision problems.\n",
      "  ConvergenceWarning)\n",
      "C:\\Users\\Hanna\\Anaconda3\\lib\\site-packages\\sklearn\\linear_model\\coordinate_descent.py:492: ConvergenceWarning: Objective did not converge. You might want to increase the number of iterations. Fitting data with very small alpha may cause precision problems.\n",
      "  ConvergenceWarning)\n",
      "C:\\Users\\Hanna\\Anaconda3\\lib\\site-packages\\sklearn\\linear_model\\coordinate_descent.py:492: ConvergenceWarning: Objective did not converge. You might want to increase the number of iterations. Fitting data with very small alpha may cause precision problems.\n",
      "  ConvergenceWarning)\n",
      "C:\\Users\\Hanna\\Anaconda3\\lib\\site-packages\\sklearn\\linear_model\\coordinate_descent.py:492: ConvergenceWarning: Objective did not converge. You might want to increase the number of iterations. Fitting data with very small alpha may cause precision problems.\n",
      "  ConvergenceWarning)\n",
      "C:\\Users\\Hanna\\Anaconda3\\lib\\site-packages\\sklearn\\linear_model\\coordinate_descent.py:492: ConvergenceWarning: Objective did not converge. You might want to increase the number of iterations. Fitting data with very small alpha may cause precision problems.\n",
      "  ConvergenceWarning)\n",
      "C:\\Users\\Hanna\\Anaconda3\\lib\\site-packages\\sklearn\\linear_model\\coordinate_descent.py:492: ConvergenceWarning: Objective did not converge. You might want to increase the number of iterations. Fitting data with very small alpha may cause precision problems.\n",
      "  ConvergenceWarning)\n",
      "C:\\Users\\Hanna\\Anaconda3\\lib\\site-packages\\sklearn\\linear_model\\coordinate_descent.py:492: ConvergenceWarning: Objective did not converge. You might want to increase the number of iterations. Fitting data with very small alpha may cause precision problems.\n",
      "  ConvergenceWarning)\n"
     ]
    }
   ],
   "source": [
    "# Lasso\n",
    "# use k-fold validation on each value of alpha to determine the mean R^2.\n",
    "lasso_scores = []\n",
    "\n",
    "for alpha in alphas:\n",
    "    this_alpha_scores = []\n",
    "    for train_ls, validate_ls in kf.split(X):\n",
    "        # initialize a ridge object below with the current alpha\n",
    "        lasso = lm.Lasso(alpha=alpha)\n",
    "        # fit the ridge object on the training set and score on the validation set \n",
    "        scores = lasso.fit(X[train_ls], y[train_ls]).score(X[validate_ls], y[validate_ls]) \n",
    "    \n",
    "        this_alpha_scores.append(scores)\n",
    "    lasso_scores.append(this_alpha_scores)\n",
    "    \n",
    "lasso_scores = np.vstack(lasso_scores)"
   ]
  },
  {
   "cell_type": "code",
   "execution_count": 89,
   "metadata": {},
   "outputs": [],
   "source": [
    "# Best alpha\n",
    "lasso_bestalpha = alphas[lasso_scores.mean(1) == lasso_scores.mean(1).max()] "
   ]
  },
  {
   "cell_type": "code",
   "execution_count": 90,
   "metadata": {},
   "outputs": [
    {
     "data": {
      "text/plain": [
       "array([12.74274986])"
      ]
     },
     "execution_count": 90,
     "metadata": {},
     "output_type": "execute_result"
    }
   ],
   "source": [
    "lasso_bestalpha"
   ]
  },
  {
   "cell_type": "code",
   "execution_count": 91,
   "metadata": {},
   "outputs": [
    {
     "name": "stdout",
     "output_type": "stream",
     "text": [
      "RMSE from LASSO: 19741.0\n"
     ]
    },
    {
     "name": "stderr",
     "output_type": "stream",
     "text": [
      "C:\\Users\\Hanna\\Anaconda3\\lib\\site-packages\\sklearn\\linear_model\\coordinate_descent.py:492: ConvergenceWarning: Objective did not converge. You might want to increase the number of iterations. Fitting data with very small alpha may cause precision problems.\n",
      "  ConvergenceWarning)\n"
     ]
    }
   ],
   "source": [
    "lasso = lm.Lasso(alpha=ridge_best_alpha)\n",
    "reg_lasso = lasso.fit(X, y)\n",
    "y_ls = reg_lasso.predict(X)\n",
    "print('RMSE from LASSO:', round(calculate_rmse(y, y_ls)))"
   ]
  },
  {
   "cell_type": "code",
   "execution_count": 92,
   "metadata": {},
   "outputs": [],
   "source": [
    "alphas = np.logspace(-1, 4, 20)  # elastic net takes a long time to fit, so we'll only test 3 values\n",
    "enet_scores = []\n",
    "\n",
    "for alpha in alphas:\n",
    "    this_alpha_scores = []\n",
    "    for train_en, validate_en in kf.split(X):\n",
    "        \n",
    "        # initialize an enet object below with the current alpha\n",
    "        enet = lm.ElasticNet(alpha=alpha)\n",
    "        # fit the enet object on the training set and score on the validation set \n",
    "        scores = enet.fit(X[train_en], y[train_en]).score(X[validate_en], y[validate_en])  \n",
    "    \n",
    "        this_alpha_scores.append(scores)\n",
    "    enet_scores.append(this_alpha_scores)\n",
    "    \n",
    "enet_scores = np.vstack(enet_scores)"
   ]
  },
  {
   "cell_type": "code",
   "execution_count": 93,
   "metadata": {},
   "outputs": [],
   "source": [
    "enet_bestalpha = alphas[enet_scores.mean(1) == enet_scores.mean(1).max()] "
   ]
  },
  {
   "cell_type": "code",
   "execution_count": 94,
   "metadata": {},
   "outputs": [
    {
     "data": {
      "text/plain": [
       "array([0.1])"
      ]
     },
     "execution_count": 94,
     "metadata": {},
     "output_type": "execute_result"
    }
   ],
   "source": [
    "enet_bestalpha"
   ]
  },
  {
   "cell_type": "code",
   "execution_count": 95,
   "metadata": {},
   "outputs": [
    {
     "name": "stdout",
     "output_type": "stream",
     "text": [
      "RMSE from ElasticNet: 23128.0\n"
     ]
    }
   ],
   "source": [
    "enet = lm.ElasticNet(alpha=ridge_best_alpha, l1_ratio=0.5)\n",
    "reg_enet = enet.fit(X, y)\n",
    "y_en = reg_enet.predict(X)\n",
    "print('RMSE from ElasticNet:',round(calculate_rmse(y, y_en)))"
   ]
  },
  {
   "cell_type": "markdown",
   "metadata": {},
   "source": [
    "## Prediction:"
   ]
  },
  {
   "cell_type": "code",
   "execution_count": 96,
   "metadata": {},
   "outputs": [
    {
     "name": "stderr",
     "output_type": "stream",
     "text": [
      "C:\\Users\\Hanna\\Anaconda3\\lib\\site-packages\\ipykernel_launcher.py:2: SettingWithCopyWarning: \n",
      "A value is trying to be set on a copy of a slice from a DataFrame.\n",
      "Try using .loc[row_indexer,col_indexer] = value instead\n",
      "\n",
      "See the caveats in the documentation: http://pandas.pydata.org/pandas-docs/stable/indexing.html#indexing-view-versus-copy\n",
      "  \n"
     ]
    }
   ],
   "source": [
    "# Predictors from the test data\n",
    "num_test['Overall_Qual_2'] = [x**2 for x in num_test['Overall Qual']]\n",
    "X_all = pd.concat([num_test[X_num.columns], test_dm],axis=1)\n",
    "X_test = X_all.drop(['3Ssn Porch', 'Low Qual Fin SF','Misc Val','Year Remod/Add',\n",
    "                    'Screen Porch','Enclosed Porch','Open Porch SF','Wood Deck SF'],axis=1).values"
   ]
  },
  {
   "cell_type": "code",
   "execution_count": 97,
   "metadata": {},
   "outputs": [],
   "source": [
    "# Predicts\n",
    "# Since Lasso gives the smalllest RMSE, we will use the Lasso model to predict on the test data\n",
    "pred_lasso = reg_lasso.predict(X_test)"
   ]
  },
  {
   "cell_type": "code",
   "execution_count": 98,
   "metadata": {},
   "outputs": [],
   "source": [
    "test['SalePrice'] = pred_lasso\n",
    "submission = test[['Id','SalePrice']]\n",
    "submission.to_csv('team3_submission_final.csv', header=True, index=False)"
   ]
  },
  {
   "cell_type": "markdown",
   "metadata": {},
   "source": [
    "## Thank you!"
   ]
  }
 ],
 "metadata": {
  "kernelspec": {
   "display_name": "Python 3",
   "language": "python",
   "name": "python3"
  },
  "language_info": {
   "codemirror_mode": {
    "name": "ipython",
    "version": 3
   },
   "file_extension": ".py",
   "mimetype": "text/x-python",
   "name": "python",
   "nbconvert_exporter": "python",
   "pygments_lexer": "ipython3",
   "version": "3.7.4"
  }
 },
 "nbformat": 4,
 "nbformat_minor": 2
}
