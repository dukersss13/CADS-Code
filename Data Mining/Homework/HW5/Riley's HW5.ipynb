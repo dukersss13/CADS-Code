{
 "cells": [
  {
   "cell_type": "markdown",
   "metadata": {},
   "source": [
    "# CS530 Data Mining Homework 5"
   ]
  },
  {
   "cell_type": "code",
   "execution_count": 2,
   "metadata": {},
   "outputs": [],
   "source": [
    "import numpy as np\n",
    "from sklearn.decomposition import PCA\n",
    "import matplotlib.pyplot as plt\n",
    "import matplotlib.image as mpimg\n",
    "import pandas as pd\n",
    "%matplotlib inline\n",
    "plt.style.use('fivethirtyeight')"
   ]
  },
  {
   "cell_type": "markdown",
   "metadata": {},
   "source": [
    "#### Question 1"
   ]
  },
  {
   "cell_type": "markdown",
   "metadata": {},
   "source": [
    "a. Read in the dataset ‘zip.train’ using the pandas ‘read_csv’ function. Read the [documentation](https://pandas.pydata.org/pandas-docs/stable/reference/api/pandas.read_csv.html) of the function to find the right parameters to properly read in this dataset. You might want to open the dataset in a text editor to inspect its structure."
   ]
  },
  {
   "cell_type": "code",
   "execution_count": 3,
   "metadata": {},
   "outputs": [
    {
     "data": {
      "text/html": [
       "<div>\n",
       "<style scoped>\n",
       "    .dataframe tbody tr th:only-of-type {\n",
       "        vertical-align: middle;\n",
       "    }\n",
       "\n",
       "    .dataframe tbody tr th {\n",
       "        vertical-align: top;\n",
       "    }\n",
       "\n",
       "    .dataframe thead th {\n",
       "        text-align: right;\n",
       "    }\n",
       "</style>\n",
       "<table border=\"1\" class=\"dataframe\">\n",
       "  <thead>\n",
       "    <tr style=\"text-align: right;\">\n",
       "      <th></th>\n",
       "      <th>1</th>\n",
       "      <th>2</th>\n",
       "      <th>3</th>\n",
       "      <th>4</th>\n",
       "      <th>5</th>\n",
       "      <th>6</th>\n",
       "      <th>7</th>\n",
       "      <th>8</th>\n",
       "      <th>9</th>\n",
       "      <th>10</th>\n",
       "      <th>...</th>\n",
       "      <th>247</th>\n",
       "      <th>248</th>\n",
       "      <th>249</th>\n",
       "      <th>250</th>\n",
       "      <th>251</th>\n",
       "      <th>252</th>\n",
       "      <th>253</th>\n",
       "      <th>254</th>\n",
       "      <th>255</th>\n",
       "      <th>256</th>\n",
       "    </tr>\n",
       "    <tr>\n",
       "      <th>0</th>\n",
       "      <th></th>\n",
       "      <th></th>\n",
       "      <th></th>\n",
       "      <th></th>\n",
       "      <th></th>\n",
       "      <th></th>\n",
       "      <th></th>\n",
       "      <th></th>\n",
       "      <th></th>\n",
       "      <th></th>\n",
       "      <th></th>\n",
       "      <th></th>\n",
       "      <th></th>\n",
       "      <th></th>\n",
       "      <th></th>\n",
       "      <th></th>\n",
       "      <th></th>\n",
       "      <th></th>\n",
       "      <th></th>\n",
       "      <th></th>\n",
       "      <th></th>\n",
       "    </tr>\n",
       "  </thead>\n",
       "  <tbody>\n",
       "    <tr>\n",
       "      <td>6.0</td>\n",
       "      <td>-1.0</td>\n",
       "      <td>-1.0</td>\n",
       "      <td>-1.0</td>\n",
       "      <td>-1.000</td>\n",
       "      <td>-1.000</td>\n",
       "      <td>-1.000</td>\n",
       "      <td>-1.000</td>\n",
       "      <td>-0.631</td>\n",
       "      <td>0.862</td>\n",
       "      <td>-0.167</td>\n",
       "      <td>...</td>\n",
       "      <td>0.304</td>\n",
       "      <td>0.823</td>\n",
       "      <td>1.000</td>\n",
       "      <td>0.482</td>\n",
       "      <td>-0.474</td>\n",
       "      <td>-0.991</td>\n",
       "      <td>-1.000</td>\n",
       "      <td>-1.000</td>\n",
       "      <td>-1.000</td>\n",
       "      <td>-1.0</td>\n",
       "    </tr>\n",
       "    <tr>\n",
       "      <td>5.0</td>\n",
       "      <td>-1.0</td>\n",
       "      <td>-1.0</td>\n",
       "      <td>-1.0</td>\n",
       "      <td>-0.813</td>\n",
       "      <td>-0.671</td>\n",
       "      <td>-0.809</td>\n",
       "      <td>-0.887</td>\n",
       "      <td>-0.671</td>\n",
       "      <td>-0.853</td>\n",
       "      <td>-1.000</td>\n",
       "      <td>...</td>\n",
       "      <td>-0.671</td>\n",
       "      <td>-0.671</td>\n",
       "      <td>-0.033</td>\n",
       "      <td>0.761</td>\n",
       "      <td>0.762</td>\n",
       "      <td>0.126</td>\n",
       "      <td>-0.095</td>\n",
       "      <td>-0.671</td>\n",
       "      <td>-0.828</td>\n",
       "      <td>-1.0</td>\n",
       "    </tr>\n",
       "    <tr>\n",
       "      <td>4.0</td>\n",
       "      <td>-1.0</td>\n",
       "      <td>-1.0</td>\n",
       "      <td>-1.0</td>\n",
       "      <td>-1.000</td>\n",
       "      <td>-1.000</td>\n",
       "      <td>-1.000</td>\n",
       "      <td>-1.000</td>\n",
       "      <td>-1.000</td>\n",
       "      <td>-1.000</td>\n",
       "      <td>-0.996</td>\n",
       "      <td>...</td>\n",
       "      <td>-1.000</td>\n",
       "      <td>-1.000</td>\n",
       "      <td>-1.000</td>\n",
       "      <td>-0.109</td>\n",
       "      <td>1.000</td>\n",
       "      <td>-0.179</td>\n",
       "      <td>-1.000</td>\n",
       "      <td>-1.000</td>\n",
       "      <td>-1.000</td>\n",
       "      <td>-1.0</td>\n",
       "    </tr>\n",
       "    <tr>\n",
       "      <td>7.0</td>\n",
       "      <td>-1.0</td>\n",
       "      <td>-1.0</td>\n",
       "      <td>-1.0</td>\n",
       "      <td>-1.000</td>\n",
       "      <td>-1.000</td>\n",
       "      <td>-0.273</td>\n",
       "      <td>0.684</td>\n",
       "      <td>0.960</td>\n",
       "      <td>0.450</td>\n",
       "      <td>-0.067</td>\n",
       "      <td>...</td>\n",
       "      <td>-0.318</td>\n",
       "      <td>1.000</td>\n",
       "      <td>0.536</td>\n",
       "      <td>-0.987</td>\n",
       "      <td>-1.000</td>\n",
       "      <td>-1.000</td>\n",
       "      <td>-1.000</td>\n",
       "      <td>-1.000</td>\n",
       "      <td>-1.000</td>\n",
       "      <td>-1.0</td>\n",
       "    </tr>\n",
       "    <tr>\n",
       "      <td>3.0</td>\n",
       "      <td>-1.0</td>\n",
       "      <td>-1.0</td>\n",
       "      <td>-1.0</td>\n",
       "      <td>-1.000</td>\n",
       "      <td>-1.000</td>\n",
       "      <td>-0.928</td>\n",
       "      <td>-0.204</td>\n",
       "      <td>0.751</td>\n",
       "      <td>0.466</td>\n",
       "      <td>0.234</td>\n",
       "      <td>...</td>\n",
       "      <td>0.466</td>\n",
       "      <td>0.639</td>\n",
       "      <td>1.000</td>\n",
       "      <td>1.000</td>\n",
       "      <td>0.791</td>\n",
       "      <td>0.439</td>\n",
       "      <td>-0.199</td>\n",
       "      <td>-0.883</td>\n",
       "      <td>-1.000</td>\n",
       "      <td>-1.0</td>\n",
       "    </tr>\n",
       "  </tbody>\n",
       "</table>\n",
       "<p>5 rows × 256 columns</p>\n",
       "</div>"
      ],
      "text/plain": [
       "     1    2    3      4      5      6      7      8      9      10   ...  \\\n",
       "0                                                                    ...   \n",
       "6.0 -1.0 -1.0 -1.0 -1.000 -1.000 -1.000 -1.000 -0.631  0.862 -0.167  ...   \n",
       "5.0 -1.0 -1.0 -1.0 -0.813 -0.671 -0.809 -0.887 -0.671 -0.853 -1.000  ...   \n",
       "4.0 -1.0 -1.0 -1.0 -1.000 -1.000 -1.000 -1.000 -1.000 -1.000 -0.996  ...   \n",
       "7.0 -1.0 -1.0 -1.0 -1.000 -1.000 -0.273  0.684  0.960  0.450 -0.067  ...   \n",
       "3.0 -1.0 -1.0 -1.0 -1.000 -1.000 -0.928 -0.204  0.751  0.466  0.234  ...   \n",
       "\n",
       "       247    248    249    250    251    252    253    254    255  256  \n",
       "0                                                                        \n",
       "6.0  0.304  0.823  1.000  0.482 -0.474 -0.991 -1.000 -1.000 -1.000 -1.0  \n",
       "5.0 -0.671 -0.671 -0.033  0.761  0.762  0.126 -0.095 -0.671 -0.828 -1.0  \n",
       "4.0 -1.000 -1.000 -1.000 -0.109  1.000 -0.179 -1.000 -1.000 -1.000 -1.0  \n",
       "7.0 -0.318  1.000  0.536 -0.987 -1.000 -1.000 -1.000 -1.000 -1.000 -1.0  \n",
       "3.0  0.466  0.639  1.000  1.000  0.791  0.439 -0.199 -0.883 -1.000 -1.0  \n",
       "\n",
       "[5 rows x 256 columns]"
      ]
     },
     "execution_count": 3,
     "metadata": {},
     "output_type": "execute_result"
    }
   ],
   "source": [
    "# Your code goes here\n",
    "data = pd.read_csv('zip.train', sep= ' ', index_col = 0, header = None)\n",
    "newdata = data.iloc[:,:-1]\n",
    "newdata.head()"
   ]
  },
  {
   "cell_type": "markdown",
   "metadata": {},
   "source": [
    "b. This dataset contains handwritten digits from 0 to 9. The first column contains the label (0-9) of each record. Each digit has 256 columns, each representing a pixel in a 16x16 image. Choose one row, use the ‘reshape’ function in numpy to reshape the row vector to 16x16, and use matplotlib to visualize the image."
   ]
  },
  {
   "cell_type": "code",
   "execution_count": 4,
   "metadata": {},
   "outputs": [
    {
     "data": {
      "image/png": "[encoded data removed]",
      "text/plain": [
       "<Figure size 432x288 with 1 Axes>"
      ]
     },
     "metadata": {
      "needs_background": "light"
     },
     "output_type": "display_data"
    }
   ],
   "source": [
    "# Your code goes here\n",
    "r = newdata.iloc[2].values\n",
    "row = r.reshape(16,16)\n",
    "img = plt.imshow(row)"
   ]
  },
  {
   "cell_type": "markdown",
   "metadata": {},
   "source": [
    "c. Select a subset of the dataset with one digit of your choice. Perform PCA on the subset and show the percentage of variance you keep with 2 principle components. (You might want to check the [documentation](https://scikit-learn.org/stable/modules/generated/sklearn.decomposition.PCA.html#sklearn.decomposition.PCA.transform) to see how to properly fit and transform the dataset using scikit-learn.)"
   ]
  },
  {
   "cell_type": "code",
   "execution_count": 5,
   "metadata": {},
   "outputs": [
    {
     "name": "stdout",
     "output_type": "stream",
     "text": [
      "     1    2    3    4    5      6      7      8      9      10   ...    247  \\\n",
      "0                                                                ...          \n",
      "6.0 -1.0 -1.0 -1.0 -1.0 -1.0 -1.000 -1.000 -0.631  0.862 -0.167  ...  0.304   \n",
      "6.0 -1.0 -1.0 -1.0 -1.0 -1.0 -0.397  0.983 -0.535 -1.000 -1.000  ...  0.803   \n",
      "6.0 -1.0 -1.0 -1.0 -1.0 -1.0 -1.000 -1.000 -1.000 -0.270  0.973  ... -0.041   \n",
      "6.0 -1.0 -1.0 -1.0 -1.0 -1.0 -1.000 -1.000 -0.701  0.708 -0.722  ... -0.479   \n",
      "6.0 -1.0 -1.0 -1.0 -1.0 -1.0 -1.000 -1.000 -1.000  0.023  0.782  ... -0.727   \n",
      "..   ...  ...  ...  ...  ...    ...    ...    ...    ...    ...  ...    ...   \n",
      "6.0 -1.0 -1.0 -1.0 -1.0 -1.0 -1.000 -1.000 -1.000 -0.290  0.972  ...  1.000   \n",
      "6.0 -1.0 -1.0 -1.0 -1.0 -1.0 -1.000 -1.000 -0.599  0.309  1.000  ...  0.428   \n",
      "6.0 -1.0 -1.0 -1.0 -1.0 -1.0 -1.000 -0.981 -0.572  0.687  0.592  ...  0.993   \n",
      "6.0 -1.0 -1.0 -1.0 -1.0 -1.0 -1.000 -0.921 -0.249  0.460  0.826  ... -0.894   \n",
      "6.0 -1.0 -1.0 -1.0 -1.0 -1.0 -1.000 -1.000 -1.000 -0.885  0.420  ... -0.970   \n",
      "\n",
      "       248    249    250    251    252    253    254  255  256  \n",
      "0                                                               \n",
      "6.0  0.823  1.000  0.482 -0.474 -0.991 -1.000 -1.000 -1.0 -1.0  \n",
      "6.0  0.015 -0.862 -0.871 -0.437 -1.000 -1.000 -1.000 -1.0 -1.0  \n",
      "6.0  0.628  0.573 -0.184 -0.891 -1.000 -1.000 -1.000 -1.0 -1.0  \n",
      "6.0  0.883 -0.249 -1.000 -1.000 -1.000 -1.000 -1.000 -1.0 -1.0  \n",
      "6.0  0.610  1.000  0.472 -0.864 -1.000 -1.000 -1.000 -1.0 -1.0  \n",
      "..     ...    ...    ...    ...    ...    ...    ...  ...  ...  \n",
      "6.0  0.573  0.529  0.133 -0.652 -1.000 -1.000 -1.000 -1.0 -1.0  \n",
      "6.0  0.897  1.000  1.000  0.940  0.233 -0.474 -0.941 -1.0 -1.0  \n",
      "6.0  0.269 -0.505 -0.962 -1.000 -1.000 -1.000 -1.000 -1.0 -1.0  \n",
      "6.0  0.138  0.996  0.676 -0.381 -1.000 -1.000 -1.000 -1.0 -1.0  \n",
      "6.0 -0.084  0.692  1.000  0.991  0.144 -0.870 -1.000 -1.0 -1.0  \n",
      "\n",
      "[664 rows x 256 columns]\n",
      "[[ 3.2827552   3.40997355]\n",
      " [ 1.84586359 -3.10637277]\n",
      " [-4.36149492 -0.48515911]\n",
      " ...\n",
      " [ 8.72716842  1.08819747]\n",
      " [-0.66926814 -0.33430835]\n",
      " [-5.16067722 -0.59624889]]\n",
      "[0.221432   0.12161615]\n"
     ]
    }
   ],
   "source": [
    "# Your code goes here\n",
    "from sklearn.decomposition import PCA\n",
    "r = newdata.loc[6.0]\n",
    "print(r)\n",
    "pca = PCA(n_components=2)\n",
    "#pca.fit(r)\n",
    "#PCA(n_components=2)\n",
    "star = pca.fit_transform(r)\n",
    "print(star)\n",
    "#percentage of var\n",
    "print(pca.explained_variance_ratio_)"
   ]
  },
  {
   "cell_type": "code",
   "execution_count": 6,
   "metadata": {},
   "outputs": [],
   "source": [
    "pc_df = pd.DataFrame(data = star, columns = ['Principal Component 1', 'Principal Component 2'])"
   ]
  },
  {
   "cell_type": "markdown",
   "metadata": {},
   "source": [
    "d. Plot a scatter plot of the data with the first two principal components. Find 25 records as is shown in the figure below (the red circles approximately constitute a 5x5 grid). Reshape them into images and plot them accordingly (as 5x5 [subplots](https://matplotlib.org/3.1.3/api/_as_gen/matplotlib.pyplot.subplot.html)).\n",
    "\n",
    "![plot]('plot.png')"
   ]
  },
  {
   "cell_type": "code",
   "execution_count": 46,
   "metadata": {
    "scrolled": true
   },
   "outputs": [],
   "source": [
    "from scipy.spatial import distance\n",
    "\n",
    "# fig = plt.figure(figsize = (7,7))\n",
    "# ax = fig.add_subplot(111)\n",
    "\n",
    "#creating arbitrary 5x5 matrix\n",
    "myboy1 = np.linspace(-5,8,5)\n",
    "rangito = np.linspace(-4,4,5)\n",
    "rows = []\n",
    "for i in myboy1:\n",
    "    for j in rangito:\n",
    "        row = [i,j]\n",
    "        rows.append(row)\n",
    "x_val = np.delete(rows, 1, 1)\n",
    "y_val = np.delete(rows, 0, 1)\n",
    "rows_df = pd.DataFrame(data = rows, columns = ['X-value', 'Y-value'])\n",
    "\n",
    "#reorganizing arrays to display values\n",
    "pc_points = pc_df.values\n",
    "rows_points = rows_df.values\n",
    "    \n",
    "#getting euclidean dist and minimum indices\n",
    "mins = []\n",
    "dis_of_mins = []\n",
    "for arb in (rows_points):\n",
    "    dis = np.array([])\n",
    "    for pt in (pc_points):\n",
    "        distances = distance.euclidean(pt,arb)\n",
    "        dis = np.append(dis,distances)\n",
    "    min = np.argmin(dis)\n",
    "    mins.append(min)\n",
    "    dis_mins = dis[min]\n",
    "    dis_of_mins.append(dis_mins)\n",
    "\n",
    "\n",
    "#organizing into dataframe\n",
    "minpoints = []\n",
    "for i in mins:\n",
    "    minpoints.append(pc_points[i])\n",
    "    \n",
    "dic = {'Mins':mins,'Distances':dis_of_mins}\n",
    "ind_and_dis = pd.DataFrame(data = dic, columns = ['Mins', 'Distances'])\n",
    "#ind_and_dis.head()\n",
    "\n",
    "# #plotting\n",
    "# ax.scatter(pc_df['Principal Component 1'], pc_df['Principal Component 2'], s=80, c = 'black', marker=(5, 1))\n",
    "# ax.scatter(x_val,y_val, s=80, c = 'blue', marker=(5, 1))\n",
    "# minx, miny = np.array(minpoints).T\n",
    "# ax.scatter(minx, miny, s=80, c = 'red', marker=(5, 1))\n",
    "# #print(minpoints)\n",
    "# ax.set_xlim(-10,15)\n",
    "# ax.set_ylim(-8,8)"
   ]
  },
  {
   "cell_type": "code",
   "execution_count": null,
   "metadata": {},
   "outputs": [],
   "source": []
  },
  {
   "cell_type": "code",
   "execution_count": 63,
   "metadata": {},
   "outputs": [
    {
     "data": {
      "text/plain": [
       "array([[-1., -1., -1., ..., -1., -1., -1.],\n",
       "       [-1., -1., -1., ..., -1., -1., -1.],\n",
       "       [-1., -1., -1., ..., -1., -1., -1.],\n",
       "       ...,\n",
       "       [-1., -1., -1., ..., -1., -1., -1.],\n",
       "       [-1., -1., -1., ..., -1., -1., -1.],\n",
       "       [-1., -1., -1., ..., -1., -1., -1.]])"
      ]
     },
     "execution_count": 63,
     "metadata": {},
     "output_type": "execute_result"
    }
   ],
   "source": [
    "array = r.values\n",
    "#array.shape\n",
    "digits = array[dic['Mins'],:]\n",
    "digits"
   ]
  },
  {
   "cell_type": "code",
   "execution_count": 9,
   "metadata": {},
   "outputs": [],
   "source": [
    "digits_reshape = digits.reshape([25,16,16])"
   ]
  },
  {
   "cell_type": "code",
   "execution_count": 10,
   "metadata": {
    "scrolled": false
   },
   "outputs": [
    {
     "name": "stderr",
     "output_type": "stream",
     "text": [
      "C:\\Users\\Duker\\AppData\\Local\\Continuum\\anaconda3\\lib\\site-packages\\ipykernel_launcher.py:6: MatplotlibDeprecationWarning: Adding an axes using the same arguments as a previous axes currently reuses the earlier instance.  In a future version, a new instance will always be created and returned.  Meanwhile, this warning can be suppressed, and the future behavior ensured, by passing a unique label to each axes instance.\n",
      "  \n"
     ]
    },
    {
     "data": {
      "image/png": "[encoded data removed]",
      "text/plain": [
       "<Figure size 432x288 with 25 Axes>"
      ]
     },
     "metadata": {
      "needs_background": "light"
     },
     "output_type": "display_data"
    }
   ],
   "source": [
    "grid = plt.GridSpec(5,5, wspace=0, hspace = 0)\n",
    "plt.subplot(grid[0,0])\n",
    "\n",
    "for i in range(5):\n",
    "    for j in range(5):\n",
    "        plt.subplot(grid[i,j])\n",
    "        indexes = 5*i + j\n",
    "        my_plot = plt.imshow(digits_reshape[indexes,:,:])"
   ]
  },
  {
   "cell_type": "markdown",
   "metadata": {},
   "source": [
    "e. Discuss what you see in the 5x5 image plot. What do you think are the features that the two principle components are capturing?"
   ]
  },
  {
   "cell_type": "code",
   "execution_count": 11,
   "metadata": {},
   "outputs": [],
   "source": [
    "#There are obvious trends visible in the 5x5 image plot above.  For one, the x-axis stretch of the imaged number \n",
    "#increases as one moves their eyes from the top to the bottom. Secondly, the thickness of the imaged number \n",
    "#increases as well, as one moves their eyes from the top to the bottom.  #Thirdly, one can see a slight increase\n",
    "#in the \"curliness\" (and slight rotation) of the imaged number as one moves their eyes horizontally.  \n",
    "#Therefore, one can conclude that the features the two principle components are capturing include x-axis stretch, \n",
    "#thickness, and curliness."
   ]
  }
 ],
 "metadata": {
  "kernelspec": {
   "display_name": "Python 3",
   "language": "python",
   "name": "python3"
  },
  "language_info": {
   "codemirror_mode": {
    "name": "ipython",
    "version": 3
   },
   "file_extension": ".py",
   "mimetype": "text/x-python",
   "name": "python",
   "nbconvert_exporter": "python",
   "pygments_lexer": "ipython3",
   "version": "3.7.4"
  }
 },
 "nbformat": 4,
 "nbformat_minor": 2
}
