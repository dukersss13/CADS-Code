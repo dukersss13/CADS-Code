{
 "cells": [
  {
   "cell_type": "markdown",
   "metadata": {},
   "source": [
    "# Homework 2 Part 1"
   ]
  },
  {
   "cell_type": "markdown",
   "metadata": {},
   "source": [
    "#### Q1 Multiple Linear Regression (4 points)\n",
    "a. Read in train.csv, remove all outliers and missing values (you can refer back to the solution of of HW1 posted on Canvas)."
   ]
  },
  {
   "cell_type": "code",
   "execution_count": 1,
   "metadata": {},
   "outputs": [],
   "source": [
    "## Your code goes here\n",
    "\n",
    "import pandas as pd\n",
    "import numpy as np\n",
    "from matplotlib import pyplot as plt\n",
    "from scipy import stats\n",
    "%matplotlib inline\n",
    "\n",
    "train = pd.read_csv(\"train.csv\", index_col = 0, sep = ',')\n",
    "train = train.dropna()\n",
    "train = train[(abs(stats.zscore(train)) < 3).all(axis=1)]\n",
    "\n",
    "x = train['citric acid']\n",
    "y = train['quality']"
   ]
  },
  {
   "cell_type": "markdown",
   "metadata": {},
   "source": [
    "b. Fit a single linear regression model on variable 'citric acid' using the Statsmodels package, print the summary of the regression model."
   ]
  },
  {
   "cell_type": "code",
   "execution_count": 34,
   "metadata": {},
   "outputs": [
    {
     "name": "stdout",
     "output_type": "stream",
     "text": [
      "                            OLS Regression Results                            \n",
      "==============================================================================\n",
      "Dep. Variable:                quality   R-squared:                       0.050\n",
      "Model:                            OLS   Adj. R-squared:                  0.049\n",
      "Method:                 Least Squares   F-statistic:                     56.01\n",
      "Date:                Wed, 12 Feb 2020   Prob (F-statistic):           1.50e-13\n",
      "Time:                        20:36:29   Log-Likelihood:                -1269.8\n",
      "No. Observations:                1075   AIC:                             2544.\n",
      "Df Residuals:                    1073   BIC:                             2553.\n",
      "Df Model:                           1                                         \n",
      "Covariance Type:            nonrobust                                         \n",
      "===============================================================================\n",
      "                  coef    std err          t      P>|t|      [0.025      0.975]\n",
      "-------------------------------------------------------------------------------\n",
      "const           5.3853      0.041    130.797      0.000       5.305       5.466\n",
      "citric acid     0.9395      0.126      7.484      0.000       0.693       1.186\n",
      "==============================================================================\n",
      "Omnibus:                        8.594   Durbin-Watson:                   1.915\n",
      "Prob(Omnibus):                  0.014   Jarque-Bera (JB):                8.529\n",
      "Skew:                           0.208   Prob(JB):                       0.0141\n",
      "Kurtosis:                       3.130   Cond. No.                         5.60\n",
      "==============================================================================\n",
      "\n",
      "Warnings:\n",
      "[1] Standard Errors assume that the covariance matrix of the errors is correctly specified.\n"
     ]
    }
   ],
   "source": [
    "## Your code goes here\n",
    "import statsmodels.api as sm\n",
    "\n",
    "coeff = sm.add_constant(x)\n",
    "results = sm.OLS(y,coeff).fit()\n",
    "print(results.summary())"
   ]
  },
  {
   "cell_type": "markdown",
   "metadata": {},
   "source": [
    "c. Fit a single linear regression model on variable 'sulphates' using the Statsmodels package, print the summary of the regression model."
   ]
  },
  {
   "cell_type": "code",
   "execution_count": 36,
   "metadata": {},
   "outputs": [
    {
     "name": "stdout",
     "output_type": "stream",
     "text": [
      "                            OLS Regression Results                            \n",
      "==============================================================================\n",
      "Dep. Variable:                quality   R-squared:                       0.095\n",
      "Model:                            OLS   Adj. R-squared:                  0.094\n",
      "Method:                 Least Squares   F-statistic:                     112.0\n",
      "Date:                Wed, 12 Feb 2020   Prob (F-statistic):           5.72e-25\n",
      "Time:                        20:37:50   Log-Likelihood:                -1243.7\n",
      "No. Observations:                1075   AIC:                             2491.\n",
      "Df Residuals:                    1073   BIC:                             2501.\n",
      "Df Model:                           1                                         \n",
      "Covariance Type:            nonrobust                                         \n",
      "==============================================================================\n",
      "                 coef    std err          t      P>|t|      [0.025      0.975]\n",
      "------------------------------------------------------------------------------\n",
      "const          4.5311      0.107     42.371      0.000       4.321       4.741\n",
      "sulphates      1.7004      0.161     10.584      0.000       1.385       2.016\n",
      "==============================================================================\n",
      "Omnibus:                        8.699   Durbin-Watson:                   1.948\n",
      "Prob(Omnibus):                  0.013   Jarque-Bera (JB):               10.622\n",
      "Skew:                           0.113   Prob(JB):                      0.00494\n",
      "Kurtosis:                       3.432   Cond. No.                         9.77\n",
      "==============================================================================\n",
      "\n",
      "Warnings:\n",
      "[1] Standard Errors assume that the covariance matrix of the errors is correctly specified.\n"
     ]
    }
   ],
   "source": [
    "## Your code goes here\n",
    "\n",
    "sul = train['sulphates']\n",
    "coeff2 = sm.add_constant(sul)\n",
    "results2 = sm.OLS(y,coeff2).fit()\n",
    "print(results2.summary())"
   ]
  },
  {
   "cell_type": "markdown",
   "metadata": {},
   "source": [
    "d. Fit a multiple linear regression model on 'citric acid' and 'sulphates' together using the Statsmodels package, print the summary of the regression model."
   ]
  },
  {
   "cell_type": "code",
   "execution_count": 40,
   "metadata": {},
   "outputs": [
    {
     "name": "stdout",
     "output_type": "stream",
     "text": [
      "                            OLS Regression Results                            \n",
      "==============================================================================\n",
      "Dep. Variable:                quality   R-squared:                       0.116\n",
      "Model:                            OLS   Adj. R-squared:                  0.114\n",
      "Method:                 Least Squares   F-statistic:                     70.07\n",
      "Date:                Wed, 12 Feb 2020   Prob (F-statistic):           2.51e-29\n",
      "Time:                        20:45:30   Log-Likelihood:                -1231.1\n",
      "No. Observations:                1075   AIC:                             2468.\n",
      "Df Residuals:                    1072   BIC:                             2483.\n",
      "Df Model:                           2                                         \n",
      "Covariance Type:            nonrobust                                         \n",
      "===============================================================================\n",
      "                  coef    std err          t      P>|t|      [0.025      0.975]\n",
      "-------------------------------------------------------------------------------\n",
      "const           4.5079      0.106     42.593      0.000       4.300       4.716\n",
      "citric acid     0.6360      0.126      5.055      0.000       0.389       0.883\n",
      "sulphates       1.4756      0.165      8.945      0.000       1.152       1.799\n",
      "==============================================================================\n",
      "Omnibus:                        5.181   Durbin-Watson:                   1.954\n",
      "Prob(Omnibus):                  0.075   Jarque-Bera (JB):                5.480\n",
      "Skew:                           0.108   Prob(JB):                       0.0646\n",
      "Kurtosis:                       3.275   Cond. No.                         10.3\n",
      "==============================================================================\n",
      "\n",
      "Warnings:\n",
      "[1] Standard Errors assume that the covariance matrix of the errors is correctly specified.\n"
     ]
    }
   ],
   "source": [
    "## Your code goes here\n",
    "x2 = train[['citric acid','sulphates']]\n",
    "x2 = sm.add_constant(x2)\n",
    "results3 = sm.OLS(y,x2).fit()\n",
    "print(results3.summary())"
   ]
  },
  {
   "cell_type": "markdown",
   "metadata": {},
   "source": [
    "e. Compare the goodness of fit of the three models you have from b, c, and d. Which one do you think is a better fit for the data you have? Explain your answer using the R<sup>2</sup>, adj-R<sup>2</sup>, AIC, and BIC, if necessarry."
   ]
  },
  {
   "cell_type": "code",
   "execution_count": 11,
   "metadata": {},
   "outputs": [],
   "source": [
    "## Your discussion goes here\n",
    "\n",
    "# Model from part d is obviously the best fit. It has the highest R^2 & adj R^2 scores and its AIC and BIC scores\n",
    "# are also lower. Adj R^2 did not penalize the extra explanatory variable. "
   ]
  }
 ],
 "metadata": {
  "kernelspec": {
   "display_name": "Python 3",
   "language": "python",
   "name": "python3"
  },
  "language_info": {
   "codemirror_mode": {
    "name": "ipython",
    "version": 3
   },
   "file_extension": ".py",
   "mimetype": "text/x-python",
   "name": "python",
   "nbconvert_exporter": "python",
   "pygments_lexer": "ipython3",
   "version": "3.7.4"
  }
 },
 "nbformat": 4,
 "nbformat_minor": 2
}
