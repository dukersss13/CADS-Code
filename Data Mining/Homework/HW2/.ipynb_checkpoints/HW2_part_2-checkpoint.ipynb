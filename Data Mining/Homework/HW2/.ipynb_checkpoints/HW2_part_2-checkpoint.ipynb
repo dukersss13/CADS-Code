{
 "cells": [
  {
   "cell_type": "markdown",
   "metadata": {},
   "source": [
    "# Homework 2 Part 2"
   ]
  },
  {
   "cell_type": "code",
   "execution_count": 1,
   "metadata": {},
   "outputs": [],
   "source": [
    "import pandas as pd\n",
    "import numpy as np\n",
    "import matplotlib.pyplot as plt\n",
    "from scipy import stats\n",
    "import statsmodels.api as sm\n",
    "%matplotlib inline"
   ]
  },
  {
   "cell_type": "markdown",
   "metadata": {},
   "source": [
    "#### Q1 (2 points)"
   ]
  },
  {
   "cell_type": "markdown",
   "metadata": {},
   "source": [
    "a. Implement a function that takes in the *train.csv* dataset and returns a cleaned dataset without outliers and NAs."
   ]
  },
  {
   "cell_type": "code",
   "execution_count": 2,
   "metadata": {},
   "outputs": [],
   "source": [
    "train = pd.read_csv('train.csv')\n",
    "\n",
    "def process(train):\n",
    "    ## Your code goes here\n",
    "    \n",
    "    train = train.dropna() # Let's just get rid of the NAs.\n",
    "# Calculate the mean and standard deviation\n",
    "    mu = np.mean(train['fixed acidity'])\n",
    "    std = np.std(train['fixed acidity'])\n",
    "# Normalize the data\n",
    "    normalized_data = (train['fixed acidity'] - mu)/std\n",
    "# Find the data index that is 3 standard deviation away from the distribution\n",
    "    indexes = normalized_data < 3\n",
    "    train_cleaned = train.loc[indexes, :]\n",
    "    return train_cleaned"
   ]
  },
  {
   "cell_type": "markdown",
   "metadata": {},
   "source": [
    "b. Implement a function that takes in the R<sup>2</sup> of a regression and return the VIF value. "
   ]
  },
  {
   "cell_type": "code",
   "execution_count": 3,
   "metadata": {},
   "outputs": [],
   "source": [
    "def calculate_vif(r_squared):\n",
    "    ## Your code goes here\n",
    "    vif = 1/(1 - r_squared)\n",
    "    return vif"
   ]
  },
  {
   "cell_type": "markdown",
   "metadata": {},
   "source": [
    "c. Implement a function that takes in preprocessed data and returns a dataframe that contains the VIF for each variable. The dataframe should contain two columns: variable names and their VIFs."
   ]
  },
  {
   "cell_type": "code",
   "execution_count": 4,
   "metadata": {},
   "outputs": [],
   "source": [
    "processed_train = process(train) # Getting the cleaned data\n",
    "\n",
    "def generate_vif_dataframe(processed_train):\n",
    "    ## Your code goes here\n",
    "    vif_scores = []\n",
    "    var = []\n",
    "    \n",
    "    new_data = processed_train.drop(['quality'], axis = 1)\n",
    "    \n",
    "    for i in new_data.columns:\n",
    "        \n",
    "        var = [i]\n",
    "        x = new_data.drop(i,axis=1).values\n",
    "        y = new_data[i].values\n",
    "        \n",
    "        #calculate regression\n",
    "        s = sm.add_constant(x)\n",
    "        results = sm.OLS(y,s).fit()\n",
    "        r2 = results.rsquared\n",
    "        \n",
    "        vif = round(calculate_vif(r2),3)\n",
    "        var.append(vif)\n",
    "        vif_scores.append(var)\n",
    "        \n",
    "        vif_dataframe = pd.DataFrame(vif_scores, columns = ['Variable', 'VIF'])   \n",
    "    \n",
    "    return vif_dataframe"
   ]
  },
  {
   "cell_type": "markdown",
   "metadata": {},
   "source": [
    "d. Use the functions that you developed from Q1 and generate a VIF dataframe for all the variables in the wine dataset. Discuss the VIF values you find and the effect of multicollinearity on regression models."
   ]
  },
  {
   "cell_type": "code",
   "execution_count": 6,
   "metadata": {},
   "outputs": [
    {
     "data": {
      "text/html": [
       "<div>\n",
       "<style scoped>\n",
       "    .dataframe tbody tr th:only-of-type {\n",
       "        vertical-align: middle;\n",
       "    }\n",
       "\n",
       "    .dataframe tbody tr th {\n",
       "        vertical-align: top;\n",
       "    }\n",
       "\n",
       "    .dataframe thead th {\n",
       "        text-align: right;\n",
       "    }\n",
       "</style>\n",
       "<table border=\"1\" class=\"dataframe\">\n",
       "  <thead>\n",
       "    <tr style=\"text-align: right;\">\n",
       "      <th></th>\n",
       "      <th>Variable</th>\n",
       "      <th>VIF</th>\n",
       "    </tr>\n",
       "  </thead>\n",
       "  <tbody>\n",
       "    <tr>\n",
       "      <td>0</td>\n",
       "      <td>Id</td>\n",
       "      <td>1.015</td>\n",
       "    </tr>\n",
       "    <tr>\n",
       "      <td>1</td>\n",
       "      <td>fixed acidity</td>\n",
       "      <td>7.723</td>\n",
       "    </tr>\n",
       "    <tr>\n",
       "      <td>2</td>\n",
       "      <td>volatile acidity</td>\n",
       "      <td>1.783</td>\n",
       "    </tr>\n",
       "    <tr>\n",
       "      <td>3</td>\n",
       "      <td>citric acid</td>\n",
       "      <td>3.160</td>\n",
       "    </tr>\n",
       "    <tr>\n",
       "      <td>4</td>\n",
       "      <td>residual sugar</td>\n",
       "      <td>1.703</td>\n",
       "    </tr>\n",
       "    <tr>\n",
       "      <td>5</td>\n",
       "      <td>chlorides</td>\n",
       "      <td>1.516</td>\n",
       "    </tr>\n",
       "    <tr>\n",
       "      <td>6</td>\n",
       "      <td>free sulfur dioxide</td>\n",
       "      <td>1.973</td>\n",
       "    </tr>\n",
       "    <tr>\n",
       "      <td>7</td>\n",
       "      <td>total sulfur dioxide</td>\n",
       "      <td>2.183</td>\n",
       "    </tr>\n",
       "    <tr>\n",
       "      <td>8</td>\n",
       "      <td>density</td>\n",
       "      <td>6.154</td>\n",
       "    </tr>\n",
       "    <tr>\n",
       "      <td>9</td>\n",
       "      <td>pH</td>\n",
       "      <td>3.389</td>\n",
       "    </tr>\n",
       "    <tr>\n",
       "      <td>10</td>\n",
       "      <td>sulphates</td>\n",
       "      <td>1.417</td>\n",
       "    </tr>\n",
       "    <tr>\n",
       "      <td>11</td>\n",
       "      <td>alcohol</td>\n",
       "      <td>3.033</td>\n",
       "    </tr>\n",
       "  </tbody>\n",
       "</table>\n",
       "</div>"
      ],
      "text/plain": [
       "                Variable    VIF\n",
       "0                     Id  1.015\n",
       "1          fixed acidity  7.723\n",
       "2       volatile acidity  1.783\n",
       "3            citric acid  3.160\n",
       "4         residual sugar  1.703\n",
       "5              chlorides  1.516\n",
       "6    free sulfur dioxide  1.973\n",
       "7   total sulfur dioxide  2.183\n",
       "8                density  6.154\n",
       "9                     pH  3.389\n",
       "10             sulphates  1.417\n",
       "11               alcohol  3.033"
      ]
     },
     "execution_count": 6,
     "metadata": {},
     "output_type": "execute_result"
    }
   ],
   "source": [
    "## Your code goes here\n",
    "vif = generate_vif_dataframe(processed_train)\n",
    "vif"
   ]
  },
  {
   "cell_type": "code",
   "execution_count": 6,
   "metadata": {},
   "outputs": [],
   "source": [
    "## Your discussion goes here\n",
    "\n",
    "# According to my results, 'fixed acidity' is the largest VIF, which implies any changes to this variable could result\n",
    "# in a larger variance in the outputs compared to the other explanatory variables."
   ]
  },
  {
   "cell_type": "markdown",
   "metadata": {},
   "source": [
    "#### Q2 (4 points)"
   ]
  },
  {
   "cell_type": "markdown",
   "metadata": {},
   "source": [
    "a. Use the VIF dataframe you generated from Q1 and choose a subset of variables that does not have high multicollinearity."
   ]
  },
  {
   "cell_type": "code",
   "execution_count": 9,
   "metadata": {},
   "outputs": [],
   "source": [
    "## Your code goes here\n",
    "\n",
    "subset = processed_train.drop(['fixed acidity'],axis = 1).drop(['density'],axis=1).drop(['Id'],axis = 1)"
   ]
  },
  {
   "cell_type": "markdown",
   "metadata": {},
   "source": [
    "b. Fit a multiple linear regression model and print a summary of the regression result."
   ]
  },
  {
   "cell_type": "code",
   "execution_count": 10,
   "metadata": {},
   "outputs": [],
   "source": [
    "## Your code goes here\n",
    "x = subset.drop('quality',axis = 1).values\n",
    "y = subset['quality'].values\n",
    "\n",
    "s = sm.add_constant(x)\n",
    "prediction = sm.OLS(y,s).fit()\n",
    "coeff = prediction.params\n",
    "\n",
    "#print(prediction.summary())"
   ]
  },
  {
   "cell_type": "code",
   "execution_count": 11,
   "metadata": {},
   "outputs": [],
   "source": [
    "# Code to append stuff to an empty data frame using the indices\n",
    "newtrain = subset[:0]\n",
    "ind = np.array([0,23,45,56,68,69,81,98,99])\n",
    "\n",
    "for i in ind:\n",
    "    row = subset.iloc[i]\n",
    "    newtrain = newtrain.append(row)"
   ]
  },
  {
   "cell_type": "code",
   "execution_count": 12,
   "metadata": {},
   "outputs": [
    {
     "data": {
      "text/html": [
       "<div>\n",
       "<style scoped>\n",
       "    .dataframe tbody tr th:only-of-type {\n",
       "        vertical-align: middle;\n",
       "    }\n",
       "\n",
       "    .dataframe tbody tr th {\n",
       "        vertical-align: top;\n",
       "    }\n",
       "\n",
       "    .dataframe thead th {\n",
       "        text-align: right;\n",
       "    }\n",
       "</style>\n",
       "<table border=\"1\" class=\"dataframe\">\n",
       "  <thead>\n",
       "    <tr style=\"text-align: right;\">\n",
       "      <th></th>\n",
       "      <th>volatile acidity</th>\n",
       "      <th>citric acid</th>\n",
       "      <th>residual sugar</th>\n",
       "      <th>chlorides</th>\n",
       "      <th>free sulfur dioxide</th>\n",
       "      <th>total sulfur dioxide</th>\n",
       "      <th>pH</th>\n",
       "      <th>sulphates</th>\n",
       "      <th>alcohol</th>\n",
       "      <th>quality</th>\n",
       "    </tr>\n",
       "  </thead>\n",
       "  <tbody>\n",
       "    <tr>\n",
       "      <td>0</td>\n",
       "      <td>0.370</td>\n",
       "      <td>0.76</td>\n",
       "      <td>4.20</td>\n",
       "      <td>0.066</td>\n",
       "      <td>7.0</td>\n",
       "      <td>38.0</td>\n",
       "      <td>3.22</td>\n",
       "      <td>0.60</td>\n",
       "      <td>13.0</td>\n",
       "      <td>7.0</td>\n",
       "    </tr>\n",
       "    <tr>\n",
       "      <td>23</td>\n",
       "      <td>0.575</td>\n",
       "      <td>0.61</td>\n",
       "      <td>2.60</td>\n",
       "      <td>0.076</td>\n",
       "      <td>11.0</td>\n",
       "      <td>24.0</td>\n",
       "      <td>3.16</td>\n",
       "      <td>0.69</td>\n",
       "      <td>9.0</td>\n",
       "      <td>5.0</td>\n",
       "    </tr>\n",
       "    <tr>\n",
       "      <td>45</td>\n",
       "      <td>0.820</td>\n",
       "      <td>0.05</td>\n",
       "      <td>2.40</td>\n",
       "      <td>0.081</td>\n",
       "      <td>26.0</td>\n",
       "      <td>96.0</td>\n",
       "      <td>3.36</td>\n",
       "      <td>0.53</td>\n",
       "      <td>10.0</td>\n",
       "      <td>5.0</td>\n",
       "    </tr>\n",
       "    <tr>\n",
       "      <td>56</td>\n",
       "      <td>0.490</td>\n",
       "      <td>0.51</td>\n",
       "      <td>2.00</td>\n",
       "      <td>0.422</td>\n",
       "      <td>16.0</td>\n",
       "      <td>62.0</td>\n",
       "      <td>3.03</td>\n",
       "      <td>1.17</td>\n",
       "      <td>9.0</td>\n",
       "      <td>5.0</td>\n",
       "    </tr>\n",
       "    <tr>\n",
       "      <td>69</td>\n",
       "      <td>0.370</td>\n",
       "      <td>0.41</td>\n",
       "      <td>2.30</td>\n",
       "      <td>0.088</td>\n",
       "      <td>6.0</td>\n",
       "      <td>16.0</td>\n",
       "      <td>3.09</td>\n",
       "      <td>0.80</td>\n",
       "      <td>9.3</td>\n",
       "      <td>5.0</td>\n",
       "    </tr>\n",
       "    <tr>\n",
       "      <td>70</td>\n",
       "      <td>0.600</td>\n",
       "      <td>0.50</td>\n",
       "      <td>2.30</td>\n",
       "      <td>0.079</td>\n",
       "      <td>28.0</td>\n",
       "      <td>71.0</td>\n",
       "      <td>3.50</td>\n",
       "      <td>0.57</td>\n",
       "      <td>9.7</td>\n",
       "      <td>5.0</td>\n",
       "    </tr>\n",
       "    <tr>\n",
       "      <td>82</td>\n",
       "      <td>0.735</td>\n",
       "      <td>0.05</td>\n",
       "      <td>2.00</td>\n",
       "      <td>0.081</td>\n",
       "      <td>13.0</td>\n",
       "      <td>54.0</td>\n",
       "      <td>3.39</td>\n",
       "      <td>0.57</td>\n",
       "      <td>9.8</td>\n",
       "      <td>5.0</td>\n",
       "    </tr>\n",
       "    <tr>\n",
       "      <td>99</td>\n",
       "      <td>0.490</td>\n",
       "      <td>0.49</td>\n",
       "      <td>2.20</td>\n",
       "      <td>0.083</td>\n",
       "      <td>5.0</td>\n",
       "      <td>15.0</td>\n",
       "      <td>3.19</td>\n",
       "      <td>0.43</td>\n",
       "      <td>9.2</td>\n",
       "      <td>5.0</td>\n",
       "    </tr>\n",
       "    <tr>\n",
       "      <td>100</td>\n",
       "      <td>0.700</td>\n",
       "      <td>0.08</td>\n",
       "      <td>3.75</td>\n",
       "      <td>0.067</td>\n",
       "      <td>8.0</td>\n",
       "      <td>16.0</td>\n",
       "      <td>3.43</td>\n",
       "      <td>0.52</td>\n",
       "      <td>12.6</td>\n",
       "      <td>5.0</td>\n",
       "    </tr>\n",
       "  </tbody>\n",
       "</table>\n",
       "</div>"
      ],
      "text/plain": [
       "     volatile acidity  citric acid  residual sugar  chlorides  \\\n",
       "0               0.370         0.76            4.20      0.066   \n",
       "23              0.575         0.61            2.60      0.076   \n",
       "45              0.820         0.05            2.40      0.081   \n",
       "56              0.490         0.51            2.00      0.422   \n",
       "69              0.370         0.41            2.30      0.088   \n",
       "70              0.600         0.50            2.30      0.079   \n",
       "82              0.735         0.05            2.00      0.081   \n",
       "99              0.490         0.49            2.20      0.083   \n",
       "100             0.700         0.08            3.75      0.067   \n",
       "\n",
       "     free sulfur dioxide  total sulfur dioxide    pH  sulphates  alcohol  \\\n",
       "0                    7.0                  38.0  3.22       0.60     13.0   \n",
       "23                  11.0                  24.0  3.16       0.69      9.0   \n",
       "45                  26.0                  96.0  3.36       0.53     10.0   \n",
       "56                  16.0                  62.0  3.03       1.17      9.0   \n",
       "69                   6.0                  16.0  3.09       0.80      9.3   \n",
       "70                  28.0                  71.0  3.50       0.57      9.7   \n",
       "82                  13.0                  54.0  3.39       0.57      9.8   \n",
       "99                   5.0                  15.0  3.19       0.43      9.2   \n",
       "100                  8.0                  16.0  3.43       0.52     12.6   \n",
       "\n",
       "     quality  \n",
       "0        7.0  \n",
       "23       5.0  \n",
       "45       5.0  \n",
       "56       5.0  \n",
       "69       5.0  \n",
       "70       5.0  \n",
       "82       5.0  \n",
       "99       5.0  \n",
       "100      5.0  "
      ]
     },
     "execution_count": 12,
     "metadata": {},
     "output_type": "execute_result"
    }
   ],
   "source": [
    "newtrain"
   ]
  },
  {
   "cell_type": "markdown",
   "metadata": {},
   "source": [
    "c. Use 5-fold cross validation to validate the mean squared error (MSE) of a multiple linear regression model fit to the subset of data. (HINT: You will need to implement a function to calculate the MSE. See this link for more details: https://en.wikipedia.org/wiki/Mean_squared_error)."
   ]
  },
  {
   "cell_type": "code",
   "execution_count": 49,
   "metadata": {},
   "outputs": [],
   "source": [
    "## Your code goes here\n",
    "\n",
    "# kfold function will split the data \"x\" into \"k\" equal-sized data sets\n",
    "def kfold(x,k):\n",
    "    i = 0 \n",
    "    while i < k:\n",
    "        xtrain = np.split(x,k)\n",
    "        return xtrain\n",
    "        i += 1\n",
    "\n",
    "# Linreg function performs a multi-linear regression thru the x data sets & return the coefficients\n",
    "def linreg(x,y,x2):\n",
    "    s = sm.add_constant(x)\n",
    "    r = sm.OLS(y,s).fit()\n",
    "    x2 = sm.add_constant(x2)\n",
    "    ypred = r.predict(x2)\n",
    "    return ypred\n",
    "\n",
    "# Using all the data except for the last set as my training set\n",
    "\n",
    "# Calculating the parameters for y estimations\n",
    "# Order of parameters: constant, sugar, chlorides, free sulfur dioxide\n",
    "\n",
    "# MSE = (1/n) * sum[(yi - yhat)^2]\n",
    "\n",
    "def mse(yi,yhat):\n",
    "    n = len(yi)\n",
    "    mse_score =  np.sum(np.square(yi - yhat))/n\n",
    "    return mse_score\n",
    "\n",
    "# Calculating the MSE between the actual quality given & the estimated quality from multi-linear regression"
   ]
  },
  {
   "cell_type": "code",
   "execution_count": 50,
   "metadata": {},
   "outputs": [],
   "source": [
    "x1,x2,x3,x4,x5 = kfold(x,5)\n",
    "y1,y2,y3,y4,y5 = kfold(y,5)\n",
    "\n",
    "# xtrain1 = pd.concat([x2,x3,x4,x5])\n",
    "# xtest1 = x1\n",
    "# ytrain1 = pd.concat([y2,y3,y4,y5])\n",
    "# ytest1 = y1\n",
    "\n",
    "# xtrain2 = pd.concat([x1,x3,x4,x5])\n",
    "# xtest2 = x2\n",
    "# ytrain2 = pd.concat([y1,y3,y4,y5])\n",
    "# ytest2 = y2\n",
    "\n",
    "# xtrain3 = pd.concat([x1,x2,x4,x5])\n",
    "# xtest3 = x3\n",
    "# ytrain3 = pd.concat([y1,y2,y4,y5])\n",
    "# ytest3 = y3\n",
    "\n",
    "# xtrain4 = pd.concat([x1,x2,x3,x5])\n",
    "# xtest4 = x4\n",
    "# ytrain4 = pd.concat([y1,y2,y3,y5])\n",
    "# ytest4 = y4\n",
    "\n",
    "# xtrain5 = pd.concat([x1,x2,x3,x4])\n",
    "# xtest5 = x5\n",
    "# ytrain5 = pd.concat([y1,y2,y3,y4])\n",
    "# ytest5 = y5"
   ]
  },
  {
   "cell_type": "code",
   "execution_count": 51,
   "metadata": {},
   "outputs": [],
   "source": [
    "def main(xtrain,ytrain,xtest):\n",
    "    pred = linreg(xtrain,ytrain,xtest)\n",
    "    mse_val = mse(pred,ytrain)\n",
    "    return mse_val\n",
    "\n",
    "def avg_mse(mse1,mse2,mse3,mse4,mse5):\n",
    "    final_mse = round((mse1 + mse2 + mse3 + mse4 + mse5)/5,4)\n",
    "    print(\"The average MSE is\",final_mse)"
   ]
  },
  {
   "cell_type": "code",
   "execution_count": 41,
   "metadata": {},
   "outputs": [
    {
     "name": "stdout",
     "output_type": "stream",
     "text": [
      "The average MSE is 0.3926\n"
     ]
    }
   ],
   "source": [
    "mse1 = main(x1,y1)\n",
    "mse2 = main(x2,y2)\n",
    "mse3 = main(x3,y3)\n",
    "mse4 = main(x4,y4)\n",
    "mse5 = main(x5,y5)\n",
    "avg_mse(mse1,mse2,mse3,mse4,mse5)"
   ]
  },
  {
   "cell_type": "code",
   "execution_count": 47,
   "metadata": {},
   "outputs": [
    {
     "data": {
      "text/plain": [
       "0.4209184549978386"
      ]
     },
     "execution_count": 47,
     "metadata": {},
     "output_type": "execute_result"
    }
   ],
   "source": [
    "# Use this code!\n",
    "import numpy as np\n",
    "from sklearn.model_selection import KFold\n",
    "\n",
    "kf = KFold(n_splits=5)\n",
    "mses = []\n",
    "\n",
    "for train, test in kf.split(x):\n",
    "    constant_added = sm.add_constant(x[train,:])\n",
    "    results = sm.OLS(y[train], constant_added).fit()\n",
    "    y_pred = results.predict(sm.add_constant(x[test,:]))\n",
    "    mses.append(mse(y[test], y_pred))\n",
    "np.mean(mses)"
   ]
  },
  {
   "cell_type": "markdown",
   "metadata": {},
   "source": [
    "d. Make a prediction on the test set using the model you fit in 2b and submit to Kaggle."
   ]
  },
  {
   "cell_type": "code",
   "execution_count": 56,
   "metadata": {},
   "outputs": [],
   "source": [
    "## Your code goes here\n",
    "\n",
    "test = pd.read_csv('test.csv', index_col = 0)\n",
    "\n",
    "x2test = test[['volatile acidity','chlorides','sulphates']]\n",
    "\n",
    "x2train = processed_train[['volatile acidity','chlorides','sulphates']]\n",
    "quality = processed_train['quality']\n",
    "\n",
    "pred = linreg(x2train,quality,x2test)\n",
    "\n",
    "test['predicted'] = pred\n",
    "#test.to_csv(r\"C:\\Users\\Duker\\Desktop\\CS530\\Homework\\HW2\\attempt5.csv\")"
   ]
  },
  {
   "cell_type": "markdown",
   "metadata": {},
   "source": [
    "e. Compare the Kaggle score and the cross-validation result. Is the cross-validation result a good representation of the prediction accuracy on the test data?"
   ]
  },
  {
   "cell_type": "code",
   "execution_count": 15,
   "metadata": {},
   "outputs": [],
   "source": [
    "# Cross validation result from test data set:\n",
    "# First Kaggle score is 0.6429\n",
    "# First MSE score is 0.6185"
   ]
  },
  {
   "cell_type": "code",
   "execution_count": 16,
   "metadata": {},
   "outputs": [],
   "source": [
    "## Your discussion here\n",
    "\n",
    "# My MSE score on the training data set is relatively close to the Kaggle score so I think the cross-validation result\n",
    "# is a good representation of the accuracy. "
   ]
  },
  {
   "cell_type": "markdown",
   "metadata": {},
   "source": [
    "f. Discuss the difference between goodness of fit on the training set, on the validation set, and on the test set."
   ]
  },
  {
   "cell_type": "code",
   "execution_count": 17,
   "metadata": {},
   "outputs": [],
   "source": [
    "## Your discussion here\n",
    "\n",
    "# According to the MSE's from each set, the test set seems to fit a lot better than the training & c-v set.\n",
    "# This is simply could be because the test data contains much less data points compared to the other 2.\n",
    "# However, with the cross-validation method & selecting necessary variables with low VIF scores, I was able to avoid the \n",
    "# issues of under-fitting & over-fitting."
   ]
  }
 ],
 "metadata": {
  "kernelspec": {
   "display_name": "Python 3",
   "language": "python",
   "name": "python3"
  },
  "language_info": {
   "codemirror_mode": {
    "name": "ipython",
    "version": 3
   },
   "file_extension": ".py",
   "mimetype": "text/x-python",
   "name": "python",
   "nbconvert_exporter": "python",
   "pygments_lexer": "ipython3",
   "version": "3.7.4"
  }
 },
 "nbformat": 4,
 "nbformat_minor": 2
}
