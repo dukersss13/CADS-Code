{
 "cells": [
  {
   "cell_type": "markdown",
   "metadata": {},
   "source": [
    "## CS530 Data Mining Homework 4 part 1\n",
    "\n",
    "#### Question 1 (3 points): The Iris Dataset \n",
    "\n",
    "Load the Iris dataset using “datasets.load_iris()” from the Scikit-learn library. You can find the documentation of this dataset on Scikit-learn. Then Write a function that takes in two inputs:\n",
    "1.\tThe data part of the Iris set without the labels\n",
    "2.\tk, the number of clusters\n",
    "The function should implement the k-means algorithm as learned in class. Hence, the output of the function should be a list of cluster labels for each record of the Iris dataset, from 1 to k. \n"
   ]
  },
  {
   "cell_type": "code",
   "execution_count": 2,
   "metadata": {},
   "outputs": [
    {
     "name": "stdout",
     "output_type": "stream",
     "text": [
      "8.48528137423857\n",
      "9.055385138137417\n"
     ]
    }
   ],
   "source": [
    "from sklearn.datasets import load_iris\n",
    "from scipy.spatial import distance\n",
    "import numpy as np\n",
    "\n",
    "iris = load_iris()\n",
    "X = iris.data\n",
    "    \n",
    "def get_centroid(X,k):\n",
    "    c1,c2,c3 = np.split(X,k)\n",
    "    j = 0\n",
    "    # Calculate the centroids for all 3 splits\n",
    "    \n",
    "    cent_a = np.array([np.mean(c1[:,j]), np.mean(c1[:,j+1]), np.mean(c1[:,j+2]), np.mean(c1[:,j+3])])\n",
    "    cent_b = np.array([np.mean(c2[:,j]), np.mean(c2[:,j+1]), np.mean(c2[:,j+2]), np.mean(c2[:,j+3])])\n",
    "    cent_c = np.array([np.mean(c3[:,j]), np.mean(c3[:,j+1]), np.mean(c3[:,j+2]), np.mean(c3[:,j+3])])\n",
    "    \n",
    "    return cent_a, cent_b, cent_c\n",
    "\n",
    "def dist(x,y):\n",
    "    d = distance.euclidean(x,y)\n",
    "    return d\n",
    "\n",
    "xnew = np.array([(19,19),(30,15),(25,25),(16,15),(19,12),(28,20)])\n",
    "#dist(xnew[2],xnew[4])\n",
    "c = dist(xnew[0],xnew[2])    \n",
    "d = dist(xnew[0],xnew[5])\n",
    "print(c)\n",
    "print(d)"
   ]
  },
  {
   "cell_type": "code",
   "execution_count": 3,
   "metadata": {},
   "outputs": [],
   "source": [
    "# Reassigning each point in X to new clusters.\n",
    "def assign(X,centroid):\n",
    "    new_cluster1 = [] \n",
    "    new_cluster2 = []\n",
    "    new_cluster3 = []\n",
    "    \n",
    "# Iterating thru each array in X & re-sorting those arrays to new clusters \n",
    "# according to their distances from each centroid.\n",
    "\n",
    "    for i in X:\n",
    "        if dist(i,centroid[0]) < dist(i,centroid[1]) and dist(i,centroid[0]) < dist(i,centroid[2]):\n",
    "            new_cluster1.append(i)\n",
    "        elif dist(i,centroid[1]) < dist(i,centroid[0]) and dist(i,centroid[1]) < dist(i,centroid[2]):\n",
    "            new_cluster2.append(i)\n",
    "        else:\n",
    "            new_cluster3.append(i)\n",
    "            \n",
    "# vstack 'stacks' the arrays instead of compiling them into a giant list.            \n",
    "    n1 = np.vstack(new_cluster1)\n",
    "    n2 = np.vstack(new_cluster2)\n",
    "    n3 = np.vstack(new_cluster3)\n",
    "    \n",
    "# n1, n2, n3 are our new clusters.\n",
    "    return n1, n2, n3"
   ]
  },
  {
   "cell_type": "code",
   "execution_count": 4,
   "metadata": {},
   "outputs": [],
   "source": [
    "# This k_means function will return new split clusters.\n",
    "def k_means(X, k=3):\n",
    "    # You code goes here.\n",
    "    centroids = get_centroid(X,k)\n",
    "    n1,n2,n3 = assign(X,centroids)\n",
    "    return n1,n2,n3"
   ]
  },
  {
   "cell_type": "code",
   "execution_count": 5,
   "metadata": {},
   "outputs": [
    {
     "data": {
      "text/plain": [
       "(array([5.006, 3.428, 1.462, 0.246]),\n",
       " array([5.936, 2.77 , 4.26 , 1.326]),\n",
       " array([6.588, 2.974, 5.552, 2.026]))"
      ]
     },
     "execution_count": 5,
     "metadata": {},
     "output_type": "execute_result"
    }
   ],
   "source": [
    "# a,b,c are the 3 new clusters\n",
    "a,b,c = k_means(X, k = 3)\n",
    "centroids = get_centroid(X,3)\n",
    "centroids"
   ]
  }
 ],
 "metadata": {
  "kernelspec": {
   "display_name": "Python 3",
   "language": "python",
   "name": "python3"
  },
  "language_info": {
   "codemirror_mode": {
    "name": "ipython",
    "version": 3
   },
   "file_extension": ".py",
   "mimetype": "text/x-python",
   "name": "python",
   "nbconvert_exporter": "python",
   "pygments_lexer": "ipython3",
   "version": "3.7.4"
  }
 },
 "nbformat": 4,
 "nbformat_minor": 2
}
