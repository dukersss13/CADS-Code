{
 "cells": [
  {
   "cell_type": "markdown",
   "metadata": {},
   "source": [
    "# CS530 Homework 7 Part 2"
   ]
  },
  {
   "cell_type": "markdown",
   "metadata": {},
   "source": [
    "Queston 1 (1 points) \n",
    "\n",
    "a. Fit a KNN classifier on the Heart Disease dataset from Homework 6 (data is also included in the folder here) using the Scikit-learn package, plot your ROC curve on the testing set and compute the AUC. \n"
   ]
  },
  {
   "cell_type": "code",
   "execution_count": 1,
   "metadata": {},
   "outputs": [],
   "source": [
    "import numpy as np\n",
    "import pandas as pd\n",
    "import matplotlib.pyplot as plt\n",
    "from sklearn.neighbors import KNeighborsClassifier as knc\n",
    "from sklearn.preprocessing import StandardScaler \n",
    "from sklearn import metrics\n",
    "from sklearn.model_selection import train_test_split\n",
    "from scipy.spatial import distance\n",
    "from heapq import nsmallest\n",
    "from scipy.stats import mode\n",
    "%matplotlib inline"
   ]
  },
  {
   "cell_type": "code",
   "execution_count": 2,
   "metadata": {},
   "outputs": [],
   "source": [
    "# Gives the best k to choose \n",
    "def best_k(xtrain,ytrain,xtest,ytest):\n",
    "    krange = range(1,25) # 24 possible k's\n",
    "    scores = []\n",
    "    for k in krange:\n",
    "        knn = knc(n_neighbors = k)\n",
    "        knn.fit(xtrain,ytrain)\n",
    "        ypred = knn.predict(xtest)\n",
    "        scores.append(metrics.accuracy_score(ytest,ypred))\n",
    "    i = np.argmax(scores)\n",
    "    return krange[i]"
   ]
  },
  {
   "cell_type": "code",
   "execution_count": 3,
   "metadata": {},
   "outputs": [
    {
     "name": "stdout",
     "output_type": "stream",
     "text": [
      "The AUC is 0.8274\n"
     ]
    },
    {
     "data": {
      "image/png": "[encoded data removed]",
      "text/plain": [
       "<Figure size 432x288 with 1 Axes>"
      ]
     },
     "metadata": {
      "needs_background": "light"
     },
     "output_type": "display_data"
    }
   ],
   "source": [
    "# Your code goes here\n",
    "train = pd.read_csv('train.csv', index_col =0)\n",
    "xtrain = train.drop(['target'], axis = 1)\n",
    "ytrain = train['target']\n",
    "test = pd.read_csv('test.csv', index_col = 0)\n",
    "xtest = test.drop(['target'], axis = 1)\n",
    "ytest = test['target']\n",
    "\n",
    "#KNN\n",
    "def knn(xtrain,ytrain,xtest,k):\n",
    "    scaler = StandardScaler()\n",
    "    scaler.fit(xtrain)\n",
    "    scaler.fit(xtest)\n",
    "    xtrain = scaler.transform(xtrain)\n",
    "    xtest = scaler.transform(xtest)\n",
    "    \n",
    "    knn_class_tr = knc(n_neighbors = k).fit(xtrain, ytrain)\n",
    "    y_pred = knn_class_tr.predict(xtest)\n",
    "    return y_pred\n",
    "    \n",
    "\n",
    "y_pred = knn(xtrain,ytrain,xtest,11)\n",
    "fpr, tpr, threshold = metrics.roc_curve(ytest, y_pred)\n",
    "auc = metrics.auc(fpr, tpr)\n",
    "print(\"The AUC is\",round(auc,4))\n",
    "plt.plot(fpr, tpr, 'b-', lw = 2, label = 'data, auc = ' + str(auc))\n",
    "plt.plot([0, 1], [0, 1], 'k--', lw = 2)\n",
    "plt.xlabel(\"False Positive Rate\")\n",
    "plt.ylabel(\"True Positive Rate\")\n",
    "plt.show()"
   ]
  },
  {
   "cell_type": "markdown",
   "metadata": {},
   "source": [
    "b. Compare your result with HW6. Does KNN do better on the classification? Explain\n"
   ]
  },
  {
   "cell_type": "code",
   "execution_count": 4,
   "metadata": {},
   "outputs": [],
   "source": [
    "# KNN does worse on classification in this case. Its AUC is 83% compared to Logistic Regression's, which was 93%.\n",
    "# In my speculation, KNN is worse for classification b/c it suffers from the curse of dimensionality.\n",
    "# The more dimensions the data set contains, it more difficult for the algorithm to determine the correlation/relationship\n",
    "# between the points & their labels. \n",
    "# Logistic Regression performed better b/c it was able to apply multi-variable Logistic Regression \n",
    "# to determine the labels. "
   ]
  },
  {
   "cell_type": "markdown",
   "metadata": {},
   "source": [
    "Question 2 (2 points) Implement from scratch the function MyKNN() that classifies the matrix X_test (samples × features) using the KNN algorithm we learned in class. The inputs for the function should be the training set X_train, the labels y_train, the parameter k, and the matrix X_test. The output for the function should be y_test, your prediction for the label of X_test. Test your function on the Iris dataset and compare it to the KNN classifier (use the default parameters other than n_neighbors) of scikit-learn for that dataset (as in Question 1).\n"
   ]
  },
  {
   "cell_type": "code",
   "execution_count": 5,
   "metadata": {},
   "outputs": [],
   "source": [
    "from sklearn import datasets\n",
    "iris = datasets.load_iris()\n",
    "x = iris.data\n",
    "y = iris.target"
   ]
  },
  {
   "cell_type": "code",
   "execution_count": 6,
   "metadata": {},
   "outputs": [],
   "source": [
    "# Calculate Euclidean distance\n",
    "def dist(x,y):\n",
    "    d = distance.euclidean(x,y)\n",
    "    return d"
   ]
  },
  {
   "cell_type": "code",
   "execution_count": 7,
   "metadata": {},
   "outputs": [],
   "source": [
    "iris_xtrain, iris_xtest, iris_ytrain, iris_ytest = train_test_split(x, y, test_size = 0.5)"
   ]
  },
  {
   "cell_type": "code",
   "execution_count": 8,
   "metadata": {},
   "outputs": [
    {
     "data": {
      "text/plain": [
       "5"
      ]
     },
     "execution_count": 8,
     "metadata": {},
     "output_type": "execute_result"
    }
   ],
   "source": [
    "k = best_k(iris_xtrain, iris_ytrain,iris_xtest, iris_ytest)\n",
    "k"
   ]
  },
  {
   "cell_type": "code",
   "execution_count": 9,
   "metadata": {},
   "outputs": [],
   "source": [
    "# The function 'get_labels' function will take in lists of all the distances + k smallest distances + training labels\n",
    "# It will iterate thru the list of 'smallest distances', finding the indices of those values in the 'distances' list\n",
    "# and match those indices to the corresponding labels in 'training labels'.\n",
    "# Once the possible labels are put in a list, it returns the mode of that list as a predicted value.\n",
    "\n",
    "def get_labels(distances, smallest_distances, ytrain):\n",
    "    label = []\n",
    "    for i in smallest_distances:\n",
    "        ind = distances.index(i)  # Returns the indices of those distances\n",
    "        p = ytrain[ind]  # Match those points to their labels from the training set\n",
    "        label.append(p)\n",
    "    most_freq = mode(label) # Identify the mode of each list \n",
    "    return most_freq[0]\n",
    "\n",
    "# This function uses the x-training + testing set, y training set & desired 'k' nearest samples as its parameters.\n",
    "# It calculates the distances b/w pts in x training & testing set, takes the 'k' smallest distances and uses get_labels\n",
    "# to get the predicted labels.\n",
    "\n",
    "def myKNN(xtrain,xtest,ytrain, k):\n",
    "    ypred = np.array([])\n",
    "    for i in xtest:\n",
    "        distances = []\n",
    "        for j in xtrain:\n",
    "            d = dist(i,j)\n",
    "            distances.append(d)\n",
    "            smallest = nsmallest(k, distances) \n",
    "        y = get_labels(distances, smallest, ytrain)\n",
    "        ypred = np.append(ypred, y)\n",
    "    return ypred"
   ]
  },
  {
   "cell_type": "code",
   "execution_count": 10,
   "metadata": {},
   "outputs": [
    {
     "name": "stdout",
     "output_type": "stream",
     "text": [
      "The accuracy is 0.9733\n"
     ]
    }
   ],
   "source": [
    "myKNN_ypred = myKNN(iris_xtrain, iris_xtest, iris_ytrain, k)\n",
    "print(\"The accuracy is\", round(metrics.accuracy_score(iris_ytest, myKNN_ypred),4))"
   ]
  },
  {
   "cell_type": "code",
   "execution_count": 11,
   "metadata": {},
   "outputs": [
    {
     "name": "stdout",
     "output_type": "stream",
     "text": [
      "The accuracy between myKNN & native KNN functions is 0.92\n"
     ]
    }
   ],
   "source": [
    "KNN_ypred = knn(iris_xtrain, iris_ytrain, iris_xtest, k)\n",
    "print(\"The accuracy between myKNN & native KNN functions is\", round(metrics.accuracy_score(iris_ytest,KNN_ypred),4))"
   ]
  },
  {
   "cell_type": "markdown",
   "metadata": {},
   "source": [
    "Question 3 (3 points) \n",
    "\n",
    "a. Create two 2-dimensional Gaussian (normal) distribution with mean (1,0) and (-1,0), and the identity matric as their covariance matrices. Create labels for the data of the two distribution, apply train-test-split, and use KNN to make a prediction on the test set. (Hint: Use the [numpy.random.multivariate_normal](https://docs.scipy.org/doc/numpy-1.15.1/reference/generated/numpy.random.multivariate_normal.html) to create normal distribution dataset) "
   ]
  },
  {
   "cell_type": "code",
   "execution_count": 15,
   "metadata": {},
   "outputs": [],
   "source": [
    "# Your code goes here\n",
    "mean1 = np.array([1,0])\n",
    "cov = np.array([(1, 0), (0, 1)])  # diagonal covariance\n",
    "mean2 = np.array([-1,0])\n",
    "\n",
    "def random_data(mean1,mean2,cov,n):\n",
    "    x1 = np.random.multivariate_normal(mean1, cov, n).T # First data set X's\n",
    "    x2 = np.random.multivariate_normal(mean2, cov, n).T # Second data set X's\n",
    "    \n",
    "    x = np.append(x1,x2)\n",
    "        \n",
    "    # Making labels \n",
    "    y1 = [0]\n",
    "    y2 =[1]\n",
    "\n",
    "    label1 = y1*n \n",
    "    label2 = y2*n\n",
    "    labels = label1 + label2 # Concatenating the labels\n",
    "    \n",
    "    len1 = int(len(x))\n",
    "    len2 = int(len(labels))\n",
    "    g = int(len1/len2)\n",
    "    \n",
    "    X = x.reshape(len2,g)\n",
    "    \n",
    "    xtrain, xtest, ytrain, ytest = train_test_split(X, labels, test_size = 0.5)\n",
    "    \n",
    "    k = best_k(xtrain,ytrain,xtest,ytest)\n",
    "    ypred = knn(xtrain,ytrain,xtest,k)\n",
    "    acc = round(metrics.accuracy_score(ypred,ytest),4)\n",
    "    return acc"
   ]
  },
  {
   "cell_type": "code",
   "execution_count": 17,
   "metadata": {},
   "outputs": [
    {
     "name": "stdout",
     "output_type": "stream",
     "text": [
      "The accuracy is 0.692\n"
     ]
    }
   ],
   "source": [
    "acc = random_data(mean1,mean2,cov,1000)\n",
    "print(\"The accuracy is\", acc)"
   ]
  },
  {
   "cell_type": "markdown",
   "metadata": {},
   "source": [
    "b. Now, we want to create Gaussians of dimensions 1 to 100 to see what happens to KNN as the number of dimensions close. Therefore, use a for loop to simulate two Gaussian distributions with dimensions from 1 to 100. Keep the distance between the center of the two distributions the same. One way to do this is to have the mean of the one distribution bee (1,0,0,...,0) and the other one be (-1,0,0,...,0). In other words, both Gaussians would have their center at 0 in all dimensions except $x_1$. Keep the covariance matrices as identity matrices. Hence, the distance between the two distributions will always be 2. Now, as before, apply a train-test-split, predict on the test set, and record the accuracies in each iteration of the loop. Finally, plot your accuracies over the number of dimensions using matplotlib."
   ]
  },
  {
   "cell_type": "code",
   "execution_count": 18,
   "metadata": {},
   "outputs": [
    {
     "name": "stdout",
     "output_type": "stream",
     "text": [
      "[0.842, 0.68, 0.634, 0.602, 0.586, 0.557, 0.564, 0.564, 0.545, 0.557, 0.529, 0.541, 0.52, 0.545, 0.539, 0.515, 0.509, 0.547, 0.538, 0.495, 0.512, 0.507, 0.51, 0.523, 0.503, 0.495, 0.499, 0.478, 0.52, 0.513, 0.503, 0.551, 0.543, 0.526, 0.519, 0.513, 0.501, 0.518, 0.507, 0.506, 0.493, 0.494, 0.493, 0.515, 0.482, 0.506, 0.515, 0.499, 0.513, 0.513, 0.527, 0.518, 0.496, 0.526, 0.526, 0.532, 0.508, 0.509, 0.474, 0.478, 0.502, 0.524, 0.505, 0.515, 0.522, 0.485, 0.49, 0.528, 0.505, 0.511, 0.516, 0.509, 0.522, 0.505, 0.453, 0.491, 0.535, 0.533, 0.493, 0.495, 0.506, 0.527, 0.491, 0.5, 0.508, 0.492, 0.524, 0.509, 0.49, 0.493, 0.523, 0.512, 0.516, 0.482, 0.476, 0.504, 0.548, 0.512, 0.498, 0.512]\n"
     ]
    }
   ],
   "source": [
    "# Your code goes here\n",
    "dimensions = np.arange(1,101)\n",
    "n = 1000\n",
    "accuracy = []\n",
    "\n",
    "for i in dimensions:\n",
    "    mean1 = [1] + [0]*(i-1)\n",
    "    mean2 = [-1] + [0]*(i-1)\n",
    "    cov = np.identity(i)\n",
    "    a = random_data(mean1,mean2,cov,n)\n",
    "    accuracy.append(a)\n",
    "print(accuracy)"
   ]
  },
  {
   "cell_type": "markdown",
   "metadata": {},
   "source": [
    "c. Discuss what you found in the accuracy plot in 3b. Why do you think you got those results?"
   ]
  },
  {
   "cell_type": "code",
   "execution_count": 19,
   "metadata": {},
   "outputs": [
    {
     "data": {
      "text/plain": [
       "Text(0, 0.5, 'Accuracy')"
      ]
     },
     "execution_count": 19,
     "metadata": {},
     "output_type": "execute_result"
    },
    {
     "data": {
      "image/png": "[encoded data removed]",
      "text/plain": [
       "<Figure size 432x288 with 1 Axes>"
      ]
     },
     "metadata": {
      "needs_background": "light"
     },
     "output_type": "display_data"
    }
   ],
   "source": [
    "plt.plot(dimensions,accuracy)\n",
    "plt.xlabel(\"Dimensions\")\n",
    "plt.ylabel(\"Accuracy\")"
   ]
  },
  {
   "cell_type": "code",
   "execution_count": null,
   "metadata": {},
   "outputs": [],
   "source": [
    "# The accuracy is clearly fluctuating as we iterate through the list of dimensions.\n",
    "# My conclusion is this algorithm's accuracy does not necessarily converge as we increase the number of dimensions."
   ]
  }
 ],
 "metadata": {
  "kernelspec": {
   "display_name": "Python 3",
   "language": "python",
   "name": "python3"
  },
  "language_info": {
   "codemirror_mode": {
    "name": "ipython",
    "version": 3
   },
   "file_extension": ".py",
   "mimetype": "text/x-python",
   "name": "python",
   "nbconvert_exporter": "python",
   "pygments_lexer": "ipython3",
   "version": "3.7.4"
  }
 },
 "nbformat": 4,
 "nbformat_minor": 2
}
