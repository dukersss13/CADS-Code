{
 "cells": [
  {
   "cell_type": "markdown",
   "metadata": {},
   "source": [
    "# CS530 Homework 6 Part1"
   ]
  },
  {
   "cell_type": "code",
   "execution_count": 1,
   "metadata": {},
   "outputs": [],
   "source": [
    "import numpy as np\n",
    "import pandas as pd\n",
    "from sklearn.linear_model import LogisticRegression as logreg\n",
    "from sklearn import metrics\n",
    "import matplotlib.pyplot as plt\n",
    "from sklearn.discriminant_analysis import LinearDiscriminantAnalysis as lda\n",
    "import itertools\n",
    "plt.style.use('fivethirtyeight') \n",
    "%matplotlib inline"
   ]
  },
  {
   "cell_type": "markdown",
   "metadata": {},
   "source": [
    "#### Question 1. (4 points)"
   ]
  },
  {
   "cell_type": "markdown",
   "metadata": {},
   "source": [
    "a. Files 'train.csv' and 'test.csv' contain data for the Heart Disease dataset. Use the scikit-learn package to train a logistic regression model on the training set, train.csv, and predict on the test set, test.csv. The variable that you are predicting is named 'target'. Give an accuracy of your prediction on the test set. You can find the description of the data in 'heart-disease.names' file.\n"
   ]
  },
  {
   "cell_type": "code",
   "execution_count": 2,
   "metadata": {},
   "outputs": [
    {
     "name": "stdout",
     "output_type": "stream",
     "text": [
      "Testing set accuracy is 0.8684\n"
     ]
    },
    {
     "name": "stderr",
     "output_type": "stream",
     "text": [
      "C:\\Users\\Duker\\AppData\\Local\\Continuum\\anaconda3\\lib\\site-packages\\sklearn\\linear_model\\logistic.py:947: ConvergenceWarning: lbfgs failed to converge. Increase the number of iterations.\n",
      "  \"of iterations.\", ConvergenceWarning)\n"
     ]
    }
   ],
   "source": [
    "# Your code goes here.\n",
    "\n",
    "train = pd.read_csv(\"train.csv\", index_col = 0)\n",
    "ytrain = train['target']\n",
    "xtrain = train.drop(['target'], axis = 1)\n",
    "\n",
    "clf_train = logreg(random_state=0, solver='lbfgs').fit(xtrain, ytrain)\n",
    "\n",
    "test = pd.read_csv(\"test.csv\", index_col = 0)\n",
    "xtest = test.drop(['target'], axis = 1)\n",
    "ytest = test['target']\n",
    "\n",
    "test_accuracy = round(clf_train.score(xtest,ytest),4)\n",
    "\n",
    "print(\"Testing set accuracy is\", test_accuracy)"
   ]
  },
  {
   "cell_type": "markdown",
   "metadata": {},
   "source": [
    "b. Use the scikit-learn package to plot an ROC curve of the predictions on the test set from 1a."
   ]
  },
  {
   "cell_type": "code",
   "execution_count": 3,
   "metadata": {},
   "outputs": [
    {
     "data": {
      "image/png": "[encoded data removed]",
      "text/plain": [
       "<Figure size 432x288 with 1 Axes>"
      ]
     },
     "metadata": {
      "needs_background": "light"
     },
     "output_type": "display_data"
    },
    {
     "name": "stdout",
     "output_type": "stream",
     "text": [
      "The AUC is 0.9293\n"
     ]
    }
   ],
   "source": [
    "# Your code goes here.\n",
    "ylogprob = clf_train.predict_proba(xtest)[::,1]\n",
    "fpr, tpr, thresholds = metrics.roc_curve(ytest, ylogprob)\n",
    "auc = metrics.auc(fpr,tpr)\n",
    "\n",
    "plt.plot(fpr, tpr, 'r-', lw = 1)\n",
    "plt.plot([0, 1], [0, 1], color = 'navy', lw = 1, linestyle = '--')\n",
    "plt.xlabel(\"False Positive Rate\")\n",
    "plt.ylabel(\"True Positive Rate\")\n",
    "plt.show()\n",
    "\n",
    "print(\"The AUC is\",round(auc,4))"
   ]
  },
  {
   "cell_type": "markdown",
   "metadata": {},
   "source": [
    "c. Implement a function to plot the ROC curve of the model you get from on the test set. (Hints: 1. check the [documentation](https://scikit-learn.org/stable/modules/generated/sklearn.linear_model.LogisticRegression.html) of logistic regression to get the probability output. 2. Loop through a list of probability thresholds for classification and calculate the Specificity and Sensitivity for each threshold value.)"
   ]
  },
  {
   "cell_type": "code",
   "execution_count": 6,
   "metadata": {},
   "outputs": [
    {
     "name": "stderr",
     "output_type": "stream",
     "text": [
      "C:\\Users\\Duker\\AppData\\Local\\Continuum\\anaconda3\\lib\\site-packages\\sklearn\\linear_model\\logistic.py:947: ConvergenceWarning: lbfgs failed to converge. Increase the number of iterations.\n",
      "  \"of iterations.\", ConvergenceWarning)\n"
     ]
    },
    {
     "data": {
      "text/html": [
       "<div>\n",
       "<style scoped>\n",
       "    .dataframe tbody tr th:only-of-type {\n",
       "        vertical-align: middle;\n",
       "    }\n",
       "\n",
       "    .dataframe tbody tr th {\n",
       "        vertical-align: top;\n",
       "    }\n",
       "\n",
       "    .dataframe thead th {\n",
       "        text-align: right;\n",
       "    }\n",
       "</style>\n",
       "<table border=\"1\" class=\"dataframe\">\n",
       "  <thead>\n",
       "    <tr style=\"text-align: right;\">\n",
       "      <th></th>\n",
       "      <th>Labels</th>\n",
       "      <th>Predicted Probability</th>\n",
       "    </tr>\n",
       "  </thead>\n",
       "  <tbody>\n",
       "    <tr>\n",
       "      <td>227</td>\n",
       "      <td>0</td>\n",
       "      <td>0.209641</td>\n",
       "    </tr>\n",
       "    <tr>\n",
       "      <td>228</td>\n",
       "      <td>0</td>\n",
       "      <td>0.422666</td>\n",
       "    </tr>\n",
       "    <tr>\n",
       "      <td>229</td>\n",
       "      <td>1</td>\n",
       "      <td>0.981840</td>\n",
       "    </tr>\n",
       "    <tr>\n",
       "      <td>230</td>\n",
       "      <td>0</td>\n",
       "      <td>0.911411</td>\n",
       "    </tr>\n",
       "    <tr>\n",
       "      <td>231</td>\n",
       "      <td>1</td>\n",
       "      <td>0.769289</td>\n",
       "    </tr>\n",
       "    <tr>\n",
       "      <td>...</td>\n",
       "      <td>...</td>\n",
       "      <td>...</td>\n",
       "    </tr>\n",
       "    <tr>\n",
       "      <td>298</td>\n",
       "      <td>1</td>\n",
       "      <td>0.919905</td>\n",
       "    </tr>\n",
       "    <tr>\n",
       "      <td>299</td>\n",
       "      <td>1</td>\n",
       "      <td>0.955510</td>\n",
       "    </tr>\n",
       "    <tr>\n",
       "      <td>300</td>\n",
       "      <td>1</td>\n",
       "      <td>0.951541</td>\n",
       "    </tr>\n",
       "    <tr>\n",
       "      <td>301</td>\n",
       "      <td>1</td>\n",
       "      <td>0.620182</td>\n",
       "    </tr>\n",
       "    <tr>\n",
       "      <td>302</td>\n",
       "      <td>1</td>\n",
       "      <td>0.989510</td>\n",
       "    </tr>\n",
       "  </tbody>\n",
       "</table>\n",
       "<p>76 rows × 2 columns</p>\n",
       "</div>"
      ],
      "text/plain": [
       "     Labels  Predicted Probability\n",
       "227       0               0.209641\n",
       "228       0               0.422666\n",
       "229       1               0.981840\n",
       "230       0               0.911411\n",
       "231       1               0.769289\n",
       "..      ...                    ...\n",
       "298       1               0.919905\n",
       "299       1               0.955510\n",
       "300       1               0.951541\n",
       "301       1               0.620182\n",
       "302       1               0.989510\n",
       "\n",
       "[76 rows x 2 columns]"
      ]
     },
     "execution_count": 6,
     "metadata": {},
     "output_type": "execute_result"
    }
   ],
   "source": [
    "logR = logreg(random_state = 0, solver = 'lbfgs')\n",
    "logR.fit(xtrain,ytrain)\n",
    "ypred = logR.predict(xtest)\n",
    "\n",
    "predict_prob = [i[1] for i in logR.predict_proba(xtest)]\n",
    "\n",
    "fake_thresholds = np.linspace(0,1,10)\n",
    "\n",
    "pred_df = pd.DataFrame({'Labels': ytest,\n",
    "                        'Predicted Probability': predict_prob})\n",
    "\n",
    "pred_df"
   ]
  },
  {
   "cell_type": "code",
   "execution_count": 7,
   "metadata": {},
   "outputs": [],
   "source": [
    "# As you can see, I tried really hard to make this function but for some reason, it could not run."
   ]
  },
  {
   "cell_type": "code",
   "execution_count": 8,
   "metadata": {},
   "outputs": [],
   "source": [
    "def roc_curve(predict_probabilities, thresholds):\n",
    "    # Separating the labels & predicted probabilities\n",
    "    labels = predict_probabilities.iloc[:,0].values\n",
    "    prob = predict_probabilities.iloc[:,1].values\n",
    "    \n",
    "    true_positive = 0\n",
    "    false_negative = 0\n",
    "    true_negative = 0\n",
    "    false_positive = 0\n",
    "    tpr_list = []\n",
    "    fpr_list = []\n",
    "    \n",
    "    for p in prob:\n",
    "        for (l,t) in zip(labels, thresholds):\n",
    "            if (l == 1) & (p >= t):\n",
    "                true_positive += 1   \n",
    "            if (l == 1) & (p < t):\n",
    "                false_positive += 1\n",
    "            if (l == 0) & (p <= t):\n",
    "                true_negative += 1\n",
    "            if (l == 0) & (p > t):\n",
    "                false_negative += 1\n",
    "    \n",
    "        tpr = (true_positive) / (true_positive + false_negative)\n",
    "        fpr = (false_positive)/(true_negative + false_positive)\n",
    "        tpr_list.append(tpr)\n",
    "        fpr_list.append(fpr)\n",
    "    #print(tpr_list)\n",
    "    #print(len(fpr_list))\n",
    "     \n",
    "    # Plot ROC curve.  \n",
    "    plt.figure(figsize = (8,8))\n",
    "    plt.plot(fpr_list,tpr_list, label= 'ROC Curve')\n",
    "    plt.plot(np.linspace(0, 1, 10), np.linspace(0, 1, 10), label='baseline', lw = 1, linestyle='--')\n",
    "    plt.ylabel('TPR', fontsize = 10)\n",
    "    plt.xlabel('FPR', fontsize = 10)\n",
    "    plt.legend(fontsize = 10)"
   ]
  },
  {
   "cell_type": "code",
   "execution_count": 9,
   "metadata": {},
   "outputs": [
    {
     "data": {
      "image/png": "[encoded data removed]",
      "text/plain": [
       "<Figure size 576x576 with 1 Axes>"
      ]
     },
     "metadata": {
      "needs_background": "light"
     },
     "output_type": "display_data"
    }
   ],
   "source": [
    "roc_curve(pred_df, fake_thresholds)"
   ]
  },
  {
   "cell_type": "markdown",
   "metadata": {},
   "source": [
    "#### Question 2 (3 points)"
   ]
  },
  {
   "cell_type": "markdown",
   "metadata": {},
   "source": [
    "a. Use the same dataset in Question 1 to train a classification model with the LDA algorithm. Give a prediction accuracy on the test set."
   ]
  },
  {
   "cell_type": "code",
   "execution_count": 4,
   "metadata": {},
   "outputs": [
    {
     "name": "stdout",
     "output_type": "stream",
     "text": [
      "The prediction accuracy with LDA on testing set is 0.8553\n"
     ]
    }
   ],
   "source": [
    "# Your code goes here\n",
    "# LDA accuracy scores on the training + test sets\n",
    "clf2 = lda()\n",
    "lda_train = clf2.fit(xtrain,ytrain)\n",
    "print(\"The prediction accuracy with LDA on testing set is\", round(lda_train.score(xtest,ytest),4))"
   ]
  },
  {
   "cell_type": "markdown",
   "metadata": {},
   "source": [
    "b. Plot the ROC curve of the LDA model you trained in 2a on the test set. You can use the scikit-learn package."
   ]
  },
  {
   "cell_type": "code",
   "execution_count": 5,
   "metadata": {},
   "outputs": [
    {
     "data": {
      "image/png": "[encoded data removed]",
      "text/plain": [
       "<Figure size 432x288 with 1 Axes>"
      ]
     },
     "metadata": {
      "needs_background": "light"
     },
     "output_type": "display_data"
    }
   ],
   "source": [
    "# Your code goes here\n",
    "# ROC curve of the LDA model on the test set\n",
    "\n",
    "lda_logprob = lda_train.predict_proba(xtest)[::,1]\n",
    "fpr2, tpr2, thresholds2 = metrics.roc_curve(ytest, lda_logprob)\n",
    "auc2 = metrics.auc(fpr2,tpr2)\n",
    "\n",
    "plt.plot(fpr2, tpr2, 'k-', lw = 1)\n",
    "plt.plot([0, 1], [0, 1], color='navy', lw = 1, linestyle = '--')\n",
    "plt.xlabel(\"False Positive Rate\")\n",
    "plt.ylabel(\"True Positive Rate\")\n",
    "plt.show()"
   ]
  },
  {
   "cell_type": "markdown",
   "metadata": {},
   "source": [
    "c. Compare the ROC and accuracy on the test set that you get from Questions 1 and 2. Which algorithm performs better on this dataset? Explain your answer and hypothesize why one algorithm might be better than the other on this dataset."
   ]
  },
  {
   "cell_type": "code",
   "execution_count": null,
   "metadata": {},
   "outputs": [],
   "source": [
    "# The ROC from Q1 is slightly different than the one in Q2. \n",
    "# There seems to be more changes between among the TPR & FPR when using LogReg vs. LDA.\n",
    "# In terms of the accuracy, performing LDA on the training set results in a lower accuracy score \n",
    "# but LDA on the testing set returns the same accuracy. "
   ]
  },
  {
   "cell_type": "code",
   "execution_count": null,
   "metadata": {},
   "outputs": [],
   "source": [
    "# I think LDA is a better fitted algorithm for this dataset.\n",
    "# Reason is because LDA is a better method for separability of variables.\n",
    "# If we are trying to identify whether a patient has a heart disease, it's best if we can clearly separate the variables\n",
    "# to help the classification process. "
   ]
  }
 ],
 "metadata": {
  "kernelspec": {
   "display_name": "Python 3",
   "language": "python",
   "name": "python3"
  },
  "language_info": {
   "codemirror_mode": {
    "name": "ipython",
    "version": 3
   },
   "file_extension": ".py",
   "mimetype": "text/x-python",
   "name": "python",
   "nbconvert_exporter": "python",
   "pygments_lexer": "ipython3",
   "version": "3.7.4"
  }
 },
 "nbformat": 4,
 "nbformat_minor": 2
}
