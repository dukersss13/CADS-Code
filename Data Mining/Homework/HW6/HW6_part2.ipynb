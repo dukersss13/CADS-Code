{
 "cells": [
  {
   "cell_type": "markdown",
   "metadata": {},
   "source": [
    "#### Question 3 (3 points)"
   ]
  },
  {
   "cell_type": "markdown",
   "metadata": {},
   "source": [
    "a. Use the synthetic dataset (created below) to train a logistic regression model on the training set. Calculate the AUC of your prediction on the test set."
   ]
  },
  {
   "cell_type": "code",
   "execution_count": 1,
   "metadata": {},
   "outputs": [],
   "source": [
    "import numpy as np\n",
    "import matplotlib.pyplot as plt\n",
    "import pandas as pd\n",
    "from sklearn import metrics\n",
    "from sklearn.linear_model import LogisticRegression as logreg\n",
    "from random import sample\n",
    "plt.style.use('fivethirtyeight')\n",
    "%matplotlib inline"
   ]
  },
  {
   "cell_type": "code",
   "execution_count": 2,
   "metadata": {},
   "outputs": [],
   "source": [
    "from sklearn import datasets\n",
    "from sklearn.model_selection import train_test_split\n",
    "\n",
    "x, y = datasets.make_classification(n_samples=2000, n_features=20,\n",
    "                                    n_informative=3)\n",
    "\n",
    "xtrain, xtest, ytrain, ytest = train_test_split(x, y, test_size=0.33, random_state=42)"
   ]
  },
  {
   "cell_type": "code",
   "execution_count": 3,
   "metadata": {},
   "outputs": [
    {
     "name": "stdout",
     "output_type": "stream",
     "text": [
      "The AUC of my prediction is 0.9227\n"
     ]
    }
   ],
   "source": [
    "# Your code goes here\n",
    "clf = logreg(random_state = 0, solver='lbfgs').fit(xtrain,ytrain)\n",
    "ylogprob = clf.predict(xtest)\n",
    "fpr, tpr, thresholds = metrics.roc_curve(ytest, ylogprob)\n",
    "\n",
    "auc = metrics.auc(fpr,tpr)\n",
    "print(\"The AUC of my prediction is\", round(auc,4))"
   ]
  },
  {
   "cell_type": "markdown",
   "metadata": {},
   "source": [
    "b. Randomly sample 100, 300, and 1000 data points from the training set. For each sample size, randomly sample 1000 times, each time fit a logistic regresson, predict on the test set and calcuate the AUC. Plot a distribution of the 1000 AUCs for each sample size on the same plot. Also, plot the AUC you get from 3a as a verticle line on the same plot as well. (Hints: Plot [distributions/histogram](https://stackoverflow.com/questions/6871201/plot-two-histograms-on-single-chart-with-matplotlib).) "
   ]
  },
  {
   "cell_type": "code",
   "execution_count": 4,
   "metadata": {},
   "outputs": [],
   "source": [
    "# Your code goes here\n",
    "# This function takes in a dataset & returns a subset of \"n\" elements.\n",
    "\n",
    "def sample_func(dataset, n):\n",
    "    list_dataset = list(dataset)\n",
    "    subset = sample(list_dataset, n)\n",
    "    return subset"
   ]
  },
  {
   "cell_type": "code",
   "execution_count": 5,
   "metadata": {},
   "outputs": [],
   "source": [
    "def auc(xtrain, ytrain, xtest, ytest, sample_points):\n",
    "    auc_list = []\n",
    "    \n",
    "    # Loop to sample & calculate the AUC 1000 times for each sample size.\n",
    "    for i in range(1000):\n",
    "        xtrain_subset = sample_func(xtrain, sample_points)\n",
    "        ytrain_subset = sample_func(ytrain, sample_points)\n",
    "        \n",
    "        clf = logreg(random_state = 0, solver = 'lbfgs').fit(xtrain_subset, ytrain_subset)\n",
    "        ylogprob = clf.predict(xtest)\n",
    "        fpr,tpr,thresholds = metrics.roc_curve(ytest, ylogprob)\n",
    "        auc = metrics.auc(fpr,tpr)\n",
    "        auc_list.append(auc)\n",
    "        \n",
    "    return auc_list\n",
    "\n",
    "auc100 = auc(xtrain, ytrain, xtest, ytest, 100)\n",
    "auc300 = auc(xtrain, ytrain, xtest, ytest, 300)\n",
    "auc1000 = auc(xtrain, ytrain, xtest, ytest, 1000)"
   ]
  },
  {
   "cell_type": "code",
   "execution_count": 7,
   "metadata": {},
   "outputs": [
    {
     "data": {
      "image/png": "[encoded data removed]",
      "text/plain": [
       "<Figure size 432x288 with 1 Axes>"
      ]
     },
     "metadata": {
      "needs_background": "light"
     },
     "output_type": "display_data"
    }
   ],
   "source": [
    "plt.hist(auc100, alpha = 0.5, label= 'n=100')\n",
    "plt.hist(auc300, alpha = 0.5, label='n=300')\n",
    "plt.hist(auc1000, alpha = 0.5, label= 'n=1000')\n",
    "\n",
    "plt.legend(loc = 'upper right')\n",
    "plt.xlabel(\"AUC Values\")\n",
    "plt.ylabel(\"Frequency\")\n",
    "\n",
    "plt.show()"
   ]
  },
  {
   "cell_type": "code",
   "execution_count": 8,
   "metadata": {},
   "outputs": [],
   "source": [
    "# The histogram has a normal distribution curve (bell-shaped)"
   ]
  }
 ],
 "metadata": {
  "kernelspec": {
   "display_name": "Python 3",
   "language": "python",
   "name": "python3"
  },
  "language_info": {
   "codemirror_mode": {
    "name": "ipython",
    "version": 3
   },
   "file_extension": ".py",
   "mimetype": "text/x-python",
   "name": "python",
   "nbconvert_exporter": "python",
   "pygments_lexer": "ipython3",
   "version": "3.7.4"
  }
 },
 "nbformat": 4,
 "nbformat_minor": 2
}
