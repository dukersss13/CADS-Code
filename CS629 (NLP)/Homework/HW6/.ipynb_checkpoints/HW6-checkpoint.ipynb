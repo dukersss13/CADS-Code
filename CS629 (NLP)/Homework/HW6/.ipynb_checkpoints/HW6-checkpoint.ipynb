{
 "cells": [
  {
   "cell_type": "code",
   "execution_count": 1,
   "metadata": {},
   "outputs": [],
   "source": [
    "import numpy as np\n",
    "import pandas as pd\n",
    "from textblob import TextBlob\n",
    "import matplotlib.pyplot as plt\n",
    "%matplotlib inline"
   ]
  },
  {
   "cell_type": "code",
   "execution_count": 2,
   "metadata": {},
   "outputs": [],
   "source": [
    "document1 = '''It’s become a familiar sight for the Chapman community: President Daniele \n",
    "Struppa standing on stage at the Musco Center, addressing a combined \n",
    "audience of university faculty, staff and university supporters.'''\n",
    "\n",
    "document2 = '''What was different this year — as has been the case for most events this \n",
    "year — was that everyone in the audience was viewing the address from home.'''\n",
    "\n",
    "doc1 = TextBlob(document1)\n",
    "doc2 = TextBlob(document2)"
   ]
  },
  {
   "cell_type": "markdown",
   "metadata": {},
   "source": [
    "### Problem 1"
   ]
  },
  {
   "cell_type": "code",
   "execution_count": 3,
   "metadata": {},
   "outputs": [
    {
     "name": "stdout",
     "output_type": "stream",
     "text": [
      "['it', 's', 'become', 'a', 'familiar', 'sight', 'for', 'the', 'chapman', 'community', 'president', 'daniele', 'struppa', 'standing', 'on', 'stage', 'at', 'the', 'musco', 'center', 'addressing', 'a', 'combined', 'audience', 'of', 'university', 'faculty', 'staff', 'and', 'university', 'supporters'] \n",
      "\n",
      "['what', 'was', 'different', 'this', 'year', 'as', 'has', 'been', 'the', 'case', 'for', 'most', 'events', 'this', 'year', 'was', 'that', 'everyone', 'in', 'the', 'audience', 'was', 'viewing', 'the', 'address', 'from', 'home']\n"
     ]
    }
   ],
   "source": [
    "# Filter by list comprehension\n",
    "doc1_words = doc1.words.lower()\n",
    "doc2_words = doc2.words.lower()\n",
    "puncs = set((',','.',';',':','--','-','!','—','?',':','`',\"''\", '(',')','[',']', '’'))\n",
    "\n",
    "doc1_filtered = [word for word in doc1_words if word not in puncs]\n",
    "doc2_filtered = [word for word in doc2_words if word not in puncs]\n",
    "print(doc1_filtered, \"\\n\")\n",
    "print(doc2_filtered)"
   ]
  },
  {
   "cell_type": "code",
   "execution_count": 4,
   "metadata": {},
   "outputs": [
    {
     "name": "stdout",
     "output_type": "stream",
     "text": [
      "['it', 's', 'become', 'a', 'familiar', 'sight', 'for', 'the', 'chapman', 'community', 'president', 'daniele', 'struppa', 'standing', 'on', 'stage', 'at', 'the', 'musco', 'center', 'addressing', 'a', 'combined', 'audience', 'of', 'university', 'faculty', 'staff', 'and', 'university', 'supporters'] \n",
      "\n",
      "['what', 'was', 'different', 'this', 'year', 'as', 'has', 'been', 'the', 'case', 'for', 'most', 'events', 'this', 'year', 'was', 'that', 'everyone', 'in', 'the', 'audience', 'was', 'viewing', 'the', 'address', 'from', 'home']\n"
     ]
    }
   ],
   "source": [
    "# Filter by lambda\n",
    "doc1_filtered2 = list(filter(lambda word: word not in puncs, doc1_words))\n",
    "doc2_filtered2 = list(filter(lambda word: word not in puncs, doc2_words))\n",
    "print(doc1_filtered2, \"\\n\")\n",
    "print(doc2_filtered2)"
   ]
  },
  {
   "cell_type": "markdown",
   "metadata": {},
   "source": [
    "### Problem 2"
   ]
  },
  {
   "cell_type": "code",
   "execution_count": 5,
   "metadata": {},
   "outputs": [
    {
     "name": "stdout",
     "output_type": "stream",
     "text": [
      "[['it'], ['s'], ['become'], ['a'], ['familiar'], ['sight'], ['for'], ['the'], ['chapman'], ['community']] \n",
      "\n",
      "[['it'], ['s'], ['become'], ['a'], ['familiar'], ['sight'], ['for'], ['the'], ['chapman'], ['community']]\n"
     ]
    }
   ],
   "source": [
    "from nltk.tokenize import word_tokenize\n",
    "tokenize_list = [word_tokenize(word) for word in doc1_words if '’' not in word]\n",
    "tokenize_lambda = [(lambda word: word_tokenize(word))(word) for word in doc1_words if '’' not in word]\n",
    "print(tokenize_list[:10], \"\\n\")\n",
    "print(tokenize_lambda[:10])"
   ]
  },
  {
   "cell_type": "markdown",
   "metadata": {},
   "source": [
    "### Problem 3"
   ]
  },
  {
   "cell_type": "code",
   "execution_count": 6,
   "metadata": {},
   "outputs": [
    {
     "name": "stdout",
     "output_type": "stream",
     "text": [
      "['become', 'familiar', 'sight', 'chapman', 'community', 'president', 'daniele', 'struppa', 'standing', 'stage', 'musco', 'center', 'addressing', 'combined', 'audience', 'university', 'faculty', 'staff', 'university', 'supporters'] \n",
      "\n",
      "['different', 'year', 'case', 'events', 'year', 'everyone', 'audience', 'viewing', 'address', 'home']\n"
     ]
    }
   ],
   "source": [
    "from nltk.corpus import stopwords\n",
    "\n",
    "stop_words = stopwords.words('english')\n",
    "\n",
    "doc1_sw_list = [word for word in doc1_words if word not in stop_words and '—' not in word and '’' not in word]\n",
    "doc2_sw_list = [word for word in doc2_words if word not in stop_words and '—' not in word and '’' not in word]\n",
    "print(doc1_sw_list, \"\\n\")\n",
    "print(doc2_sw_list)"
   ]
  },
  {
   "cell_type": "code",
   "execution_count": 7,
   "metadata": {},
   "outputs": [
    {
     "name": "stdout",
     "output_type": "stream",
     "text": [
      "['become', 'familiar', 'sight', 'chapman', 'community', 'president', 'daniele', 'struppa', 'standing', 'stage', 'musco', 'center', 'addressing', 'combined', 'audience', 'university', 'faculty', 'staff', 'university', 'supporters'] \n",
      "\n",
      "['different', 'year', 'case', 'events', 'year', 'everyone', 'audience', 'viewing', 'address', 'home']\n"
     ]
    }
   ],
   "source": [
    "doc1_sw_lambda = list(filter(lambda word: word not in stop_words and '-' not in word and '’' not in word, doc1_words))\n",
    "doc2_sw_lambda = list(filter(lambda word: word not in stop_words and '—' not in word and '’' not in word, doc2_words))\n",
    "print(doc1_sw_lambda, \"\\n\")\n",
    "print(doc2_sw_lambda)"
   ]
  },
  {
   "cell_type": "markdown",
   "metadata": {},
   "source": [
    "### Problem 4"
   ]
  },
  {
   "cell_type": "code",
   "execution_count": 8,
   "metadata": {},
   "outputs": [
    {
     "name": "stdout",
     "output_type": "stream",
     "text": [
      "['it', 's', 'becom', 'a', 'familiar', 'sight', 'for', 'the', 'chapman', 'commun', 'presid', 'daniel', 'struppa', 'stand', 'on', 'stage', 'at', 'the', 'musco', 'center', 'address', 'a', 'combin', 'audienc', 'of', 'univers', 'faculti', 'staff', 'and', 'univers', 'support'] \n",
      "\n",
      "['what', 'wa', 'differ', 'thi', 'year', 'as', 'ha', 'been', 'the', 'case', 'for', 'most', 'event', 'thi', 'year', 'wa', 'that', 'everyon', 'in', 'the', 'audienc', 'wa', 'view', 'the', 'address', 'from', 'home']\n"
     ]
    }
   ],
   "source": [
    "doc1_stems_list = [word.stem() for word in doc1_words if '’' not in word]\n",
    "doc2_stems_list = [word.stem() for word in doc2_words if '—' not in word]\n",
    "print(doc1_stems_list, \"\\n\")\n",
    "print(doc2_stems_list)"
   ]
  },
  {
   "cell_type": "code",
   "execution_count": 9,
   "metadata": {},
   "outputs": [
    {
     "name": "stdout",
     "output_type": "stream",
     "text": [
      "['it', 's', 'becom', 'a', 'familiar', 'sight', 'for', 'the', 'chapman', 'commun', 'presid', 'daniel', 'struppa', 'stand', 'on', 'stage', 'at', 'the', 'musco', 'center', 'address', 'a', 'combin', 'audienc', 'of', 'univers', 'faculti', 'staff', 'and', 'univers', 'support'] \n",
      "\n",
      "['what', 'wa', 'differ', 'thi', 'year', 'as', 'ha', 'been', 'the', 'case', 'for', 'most', 'event', 'thi', 'year', 'wa', 'that', 'everyon', 'in', 'the', 'audienc', 'wa', 'view', 'the', 'address', 'from', 'home']\n"
     ]
    }
   ],
   "source": [
    "stem_lambda = lambda word:word.stem()\n",
    "doc1_stems_lambda = [(stem_lambda)(word) for word in doc1_words if '’' not in word]\n",
    "doc2_stems_lambda = [(stem_lambda)(word) for word in doc2_words if '—' not in word]\n",
    "print(doc1_stems_lambda, \"\\n\")\n",
    "print(doc2_stems_lambda)"
   ]
  },
  {
   "cell_type": "markdown",
   "metadata": {},
   "source": [
    "### Problem 5"
   ]
  },
  {
   "cell_type": "code",
   "execution_count": 10,
   "metadata": {},
   "outputs": [],
   "source": [
    "from sklearn.feature_extraction.text import CountVectorizer\n",
    "cv = CountVectorizer()\n",
    "corpus = [document1, document2]"
   ]
  },
  {
   "cell_type": "code",
   "execution_count": 11,
   "metadata": {},
   "outputs": [
    {
     "data": {
      "text/html": [
       "<div>\n",
       "<style scoped>\n",
       "    .dataframe tbody tr th:only-of-type {\n",
       "        vertical-align: middle;\n",
       "    }\n",
       "\n",
       "    .dataframe tbody tr th {\n",
       "        vertical-align: top;\n",
       "    }\n",
       "\n",
       "    .dataframe thead th {\n",
       "        text-align: right;\n",
       "    }\n",
       "</style>\n",
       "<table border=\"1\" class=\"dataframe\">\n",
       "  <thead>\n",
       "    <tr style=\"text-align: right;\">\n",
       "      <th></th>\n",
       "      <th>Doc1</th>\n",
       "      <th>Doc2</th>\n",
       "    </tr>\n",
       "    <tr>\n",
       "      <th>Words</th>\n",
       "      <th></th>\n",
       "      <th></th>\n",
       "    </tr>\n",
       "  </thead>\n",
       "  <tbody>\n",
       "    <tr>\n",
       "      <td>address</td>\n",
       "      <td>0</td>\n",
       "      <td>1</td>\n",
       "    </tr>\n",
       "    <tr>\n",
       "      <td>addressing</td>\n",
       "      <td>1</td>\n",
       "      <td>0</td>\n",
       "    </tr>\n",
       "    <tr>\n",
       "      <td>and</td>\n",
       "      <td>1</td>\n",
       "      <td>0</td>\n",
       "    </tr>\n",
       "    <tr>\n",
       "      <td>as</td>\n",
       "      <td>0</td>\n",
       "      <td>1</td>\n",
       "    </tr>\n",
       "    <tr>\n",
       "      <td>at</td>\n",
       "      <td>1</td>\n",
       "      <td>0</td>\n",
       "    </tr>\n",
       "    <tr>\n",
       "      <td>audience</td>\n",
       "      <td>1</td>\n",
       "      <td>1</td>\n",
       "    </tr>\n",
       "    <tr>\n",
       "      <td>become</td>\n",
       "      <td>1</td>\n",
       "      <td>0</td>\n",
       "    </tr>\n",
       "    <tr>\n",
       "      <td>been</td>\n",
       "      <td>0</td>\n",
       "      <td>1</td>\n",
       "    </tr>\n",
       "    <tr>\n",
       "      <td>case</td>\n",
       "      <td>0</td>\n",
       "      <td>1</td>\n",
       "    </tr>\n",
       "    <tr>\n",
       "      <td>center</td>\n",
       "      <td>1</td>\n",
       "      <td>0</td>\n",
       "    </tr>\n",
       "  </tbody>\n",
       "</table>\n",
       "</div>"
      ],
      "text/plain": [
       "            Doc1  Doc2\n",
       "Words                 \n",
       "address        0     1\n",
       "addressing     1     0\n",
       "and            1     0\n",
       "as             0     1\n",
       "at             1     0\n",
       "audience       1     1\n",
       "become         1     0\n",
       "been           0     1\n",
       "case           0     1\n",
       "center         1     0"
      ]
     },
     "execution_count": 11,
     "metadata": {},
     "output_type": "execute_result"
    }
   ],
   "source": [
    "X = cv.fit(corpus)\n",
    "words = X.get_feature_names()\n",
    "X = cv.transform(corpus)\n",
    "df = pd.DataFrame(X.toarray(), columns = words).T\n",
    "df.columns = ['Doc1', 'Doc2']\n",
    "df.index.name = 'Words'\n",
    "df.head(10)"
   ]
  },
  {
   "cell_type": "markdown",
   "metadata": {},
   "source": [
    "### Problem 6"
   ]
  },
  {
   "cell_type": "code",
   "execution_count": 13,
   "metadata": {},
   "outputs": [],
   "source": [
    "cv = CountVectorizer(ngram_range=(2,3))"
   ]
  },
  {
   "cell_type": "code",
   "execution_count": 15,
   "metadata": {},
   "outputs": [],
   "source": [
    "import string\n",
    "import re \n",
    "import nltk\n",
    "#nltk.download('stopwords')\n",
    "stopwords = nltk.corpus.stopwords.words('english')\n",
    "ps = nltk.PorterStemmer()"
   ]
  },
  {
   "cell_type": "code",
   "execution_count": 23,
   "metadata": {},
   "outputs": [],
   "source": [
    "def clean_text_ngrams(txt):\n",
    "    txt = \"\".join([c for c in txt if c not in string.punctuation])\n",
    "    tokens = re.split('\\W+', txt)\n",
    "    txt = \" \".join([ps.stem(word) for word in tokens if word not in stopwords])\n",
    "    return txt"
   ]
  },
  {
   "cell_type": "code",
   "execution_count": 27,
   "metadata": {},
   "outputs": [],
   "source": [
    "dfCorpus = pd.DataFrame(corpus, columns = ['msg'])\n",
    "dfCorpus['msg clean'] = dfCorpus['msg'].apply(lambda x: clean_text_ngrams(x))"
   ]
  },
  {
   "cell_type": "code",
   "execution_count": 29,
   "metadata": {},
   "outputs": [
    {
     "data": {
      "text/html": [
       "<div>\n",
       "<style scoped>\n",
       "    .dataframe tbody tr th:only-of-type {\n",
       "        vertical-align: middle;\n",
       "    }\n",
       "\n",
       "    .dataframe tbody tr th {\n",
       "        vertical-align: top;\n",
       "    }\n",
       "\n",
       "    .dataframe thead th {\n",
       "        text-align: right;\n",
       "    }\n",
       "</style>\n",
       "<table border=\"1\" class=\"dataframe\">\n",
       "  <thead>\n",
       "    <tr style=\"text-align: right;\">\n",
       "      <th></th>\n",
       "      <th>address combin</th>\n",
       "      <th>address combin audienc</th>\n",
       "      <th>address home</th>\n",
       "      <th>audienc univers</th>\n",
       "      <th>audienc univers faculti</th>\n",
       "      <th>audienc view</th>\n",
       "      <th>audienc view address</th>\n",
       "      <th>becom familiar</th>\n",
       "      <th>becom familiar sight</th>\n",
       "      <th>case event</th>\n",
       "      <th>...</th>\n",
       "      <th>univers faculti staff</th>\n",
       "      <th>univers support</th>\n",
       "      <th>view address</th>\n",
       "      <th>view address home</th>\n",
       "      <th>what differ</th>\n",
       "      <th>what differ year</th>\n",
       "      <th>year case</th>\n",
       "      <th>year case event</th>\n",
       "      <th>year everyon</th>\n",
       "      <th>year everyon audienc</th>\n",
       "    </tr>\n",
       "  </thead>\n",
       "  <tbody>\n",
       "    <tr>\n",
       "      <td>0</td>\n",
       "      <td>1</td>\n",
       "      <td>1</td>\n",
       "      <td>0</td>\n",
       "      <td>1</td>\n",
       "      <td>1</td>\n",
       "      <td>0</td>\n",
       "      <td>0</td>\n",
       "      <td>1</td>\n",
       "      <td>1</td>\n",
       "      <td>0</td>\n",
       "      <td>...</td>\n",
       "      <td>1</td>\n",
       "      <td>1</td>\n",
       "      <td>0</td>\n",
       "      <td>0</td>\n",
       "      <td>0</td>\n",
       "      <td>0</td>\n",
       "      <td>0</td>\n",
       "      <td>0</td>\n",
       "      <td>0</td>\n",
       "      <td>0</td>\n",
       "    </tr>\n",
       "    <tr>\n",
       "      <td>1</td>\n",
       "      <td>0</td>\n",
       "      <td>0</td>\n",
       "      <td>1</td>\n",
       "      <td>0</td>\n",
       "      <td>0</td>\n",
       "      <td>1</td>\n",
       "      <td>1</td>\n",
       "      <td>0</td>\n",
       "      <td>0</td>\n",
       "      <td>1</td>\n",
       "      <td>...</td>\n",
       "      <td>0</td>\n",
       "      <td>0</td>\n",
       "      <td>1</td>\n",
       "      <td>1</td>\n",
       "      <td>1</td>\n",
       "      <td>1</td>\n",
       "      <td>1</td>\n",
       "      <td>1</td>\n",
       "      <td>1</td>\n",
       "      <td>1</td>\n",
       "    </tr>\n",
       "  </tbody>\n",
       "</table>\n",
       "<p>2 rows × 58 columns</p>\n",
       "</div>"
      ],
      "text/plain": [
       "   address combin  address combin audienc  address home  audienc univers  \\\n",
       "0               1                       1             0                1   \n",
       "1               0                       0             1                0   \n",
       "\n",
       "   audienc univers faculti  audienc view  audienc view address  \\\n",
       "0                        1             0                     0   \n",
       "1                        0             1                     1   \n",
       "\n",
       "   becom familiar  becom familiar sight  case event  ...  \\\n",
       "0               1                     1           0  ...   \n",
       "1               0                     0           1  ...   \n",
       "\n",
       "   univers faculti staff  univers support  view address  view address home  \\\n",
       "0                      1                1             0                  0   \n",
       "1                      0                0             1                  1   \n",
       "\n",
       "   what differ  what differ year  year case  year case event  year everyon  \\\n",
       "0            0                 0          0                0             0   \n",
       "1            1                 1          1                1             1   \n",
       "\n",
       "   year everyon audienc  \n",
       "0                     0  \n",
       "1                     1  \n",
       "\n",
       "[2 rows x 58 columns]"
      ]
     },
     "execution_count": 29,
     "metadata": {},
     "output_type": "execute_result"
    }
   ],
   "source": [
    "X = cv.fit_transform(dfCorpus['msg clean'])\n",
    "df = pd.DataFrame(X.toarray(), columns = cv.get_feature_names())\n",
    "df"
   ]
  }
 ],
 "metadata": {
  "kernelspec": {
   "display_name": "Python 3",
   "language": "python",
   "name": "python3"
  },
  "language_info": {
   "codemirror_mode": {
    "name": "ipython",
    "version": 3
   },
   "file_extension": ".py",
   "mimetype": "text/x-python",
   "name": "python",
   "nbconvert_exporter": "python",
   "pygments_lexer": "ipython3",
   "version": "3.7.4"
  }
 },
 "nbformat": 4,
 "nbformat_minor": 2
}
