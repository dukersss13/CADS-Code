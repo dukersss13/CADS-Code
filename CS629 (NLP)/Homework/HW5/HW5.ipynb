{
 "cells": [
  {
   "cell_type": "code",
   "execution_count": 4,
   "metadata": {},
   "outputs": [],
   "source": [
    "from scipy.spatial.distance import euclidean, cityblock, cosine\n",
    "import numpy as np\n",
    "import pandas as pd\n",
    "import matplotlib.pyplot as plt\n",
    "%matplotlib inline"
   ]
  },
  {
   "cell_type": "code",
   "execution_count": 5,
   "metadata": {},
   "outputs": [],
   "source": [
    "def norm(x):\n",
    "    return x/np.linalg.norm(x)"
   ]
  },
  {
   "cell_type": "code",
   "execution_count": 6,
   "metadata": {},
   "outputs": [
    {
     "name": "stdout",
     "output_type": "stream",
     "text": [
      "[0.3939193  0.91914503]\n",
      "[0.13756837 0.99049227]\n",
      "[0.23464053 0.97208221]\n",
      "[0.94688159 0.32158243]\n",
      "[0.99624059 0.08662962]\n"
     ]
    }
   ],
   "source": [
    "# Problem 1a Norms of all vectors\n",
    "A = np.array([3,7])\n",
    "B = np.array([5,36])\n",
    "C = np.array([7,29])\n",
    "D = np.array([212,72])\n",
    "E = np.array([23,2])\n",
    "vector_list = [A,B,C,D,E]\n",
    "norm_vectors = []\n",
    "for vector in vector_list:\n",
    "    print(norm(vector))\n",
    "    norm_vectors.append(norm(vector))"
   ]
  },
  {
   "cell_type": "markdown",
   "metadata": {},
   "source": [
    "#### This function will only iterate & compute the distances between unique pairs of vectors in the list. Meaning it won't compute the distance on itself OR the distance between pairs of reversed orders.\n",
    "\n",
    "i.e: If distance(A,B) is computed then no point of computing distance(B,A)"
   ]
  },
  {
   "cell_type": "code",
   "execution_count": 7,
   "metadata": {},
   "outputs": [
    {
     "data": {
      "text/plain": [
       "array([[0.2661, 0.1678, 0.8142, 1.0276],\n",
       "       [0.    , 0.0988, 1.05  , 1.2467],\n",
       "       [0.0988, 0.    , 0.9646, 1.1679],\n",
       "       [1.05  , 0.9646, 0.    , 0.2401],\n",
       "       [1.2467, 1.1679, 0.2401, 0.    ]])"
      ]
     },
     "execution_count": 7,
     "metadata": {},
     "output_type": "execute_result"
    }
   ],
   "source": [
    "# Problem 1b Euclidean Distance\n",
    "def iter_distance(norm_vectors, distance_type):\n",
    "    dist_list = []\n",
    "    for i in range(len(norm_vectors)):\n",
    "        ind_dist = []\n",
    "        for j in range(1, len(norm_vectors)):\n",
    "            ind_dist.append(round(distance_type(norm_vectors[i], norm_vectors[j]),4))\n",
    "        dist_list.append(ind_dist)\n",
    "    return np.asarray(dist_list)\n",
    "\n",
    "iter_distance(norm_vectors, euclidean)"
   ]
  },
  {
   "cell_type": "code",
   "execution_count": 8,
   "metadata": {},
   "outputs": [
    {
     "data": {
      "text/plain": [
       "array([[0.3277, 0.2122, 1.1505, 1.4348],\n",
       "       [0.    , 0.1155, 1.4782, 1.7625],\n",
       "       [0.1155, 0.    , 1.3627, 1.6471],\n",
       "       [1.4782, 1.3627, 0.    , 0.2843],\n",
       "       [1.7625, 1.6471, 0.2843, 0.    ]])"
      ]
     },
     "execution_count": 8,
     "metadata": {},
     "output_type": "execute_result"
    }
   ],
   "source": [
    "# Problem 1c Manhattan Distance\n",
    "iter_distance(norm_vectors, cityblock)"
   ]
  },
  {
   "cell_type": "code",
   "execution_count": 9,
   "metadata": {},
   "outputs": [
    {
     "data": {
      "text/plain": [
       "array([[0.0354, 0.0141, 0.3314, 0.5279],\n",
       "       [0.    , 0.0049, 0.5512, 0.7771],\n",
       "       [0.0049, 0.    , 0.4652, 0.682 ],\n",
       "       [0.5512, 0.4652, 0.    , 0.0288],\n",
       "       [0.7771, 0.682 , 0.0288, 0.    ]])"
      ]
     },
     "execution_count": 9,
     "metadata": {},
     "output_type": "execute_result"
    }
   ],
   "source": [
    "# Problem 1e Cosine Distance\n",
    "cosine_distances = iter_distance(norm_vectors, cosine)\n",
    "cosine_distances"
   ]
  },
  {
   "cell_type": "code",
   "execution_count": 10,
   "metadata": {},
   "outputs": [
    {
     "data": {
      "text/plain": [
       "array([[0.9646, 0.9859, 0.6686, 0.4721],\n",
       "       [1.    , 0.9951, 0.4488, 0.2229],\n",
       "       [0.9951, 1.    , 0.5348, 0.318 ],\n",
       "       [0.4488, 0.5348, 1.    , 0.9712],\n",
       "       [0.2229, 0.318 , 0.9712, 1.    ]])"
      ]
     },
     "execution_count": 10,
     "metadata": {},
     "output_type": "execute_result"
    }
   ],
   "source": [
    "# Problem 1d Cosine Similarity\n",
    "cosine_similarities = 1 - cosine_distances\n",
    "cosine_similarities"
   ]
  },
  {
   "cell_type": "code",
   "execution_count": 11,
   "metadata": {},
   "outputs": [
    {
     "name": "stdout",
     "output_type": "stream",
     "text": [
      "[2.69529167e-02 5.84243064e-04 2.08959688e-03 5.20933410e-01\n",
      " 7.43954451e-01]\n",
      "0.0005842430643980823\n"
     ]
    }
   ],
   "source": [
    "# Problem 2 \n",
    "query_vector = np.array([4,23])\n",
    "norm_query = query_vector/np.linalg.norm(query_vector)\n",
    "\n",
    "cosineSim = np.array([])\n",
    "for vector in norm_vectors:\n",
    "    similarity = norm_query @ vector\n",
    "    cosineSim = np.append(cosineSim, similarity)\n",
    "    \n",
    "cosineDist = 1 - cosineSim\n",
    "print(cosineDist)\n",
    "print(min(cosineDist))"
   ]
  },
  {
   "cell_type": "code",
   "execution_count": 30,
   "metadata": {},
   "outputs": [
    {
     "data": {
      "image/png": "[encoded data removed]",
      "text/plain": [
       "<Figure size 432x288 with 1 Axes>"
      ]
     },
     "metadata": {
      "needs_background": "light"
     },
     "output_type": "display_data"
    }
   ],
   "source": [
    "for i in norm_vectors:\n",
    "    plt.quiver(*i, color = 'black', scale = 1)\n",
    "    plt.quiver(*norm_query, color = 'r', scale = 1)\n",
    "plt.xlim(0,1)\n",
    "plt.ylim(0,1)\n",
    "plt.show()"
   ]
  },
  {
   "cell_type": "code",
   "execution_count": 13,
   "metadata": {},
   "outputs": [],
   "source": [
    "# Problem 3\n",
    "document1 = '''It’s become a familiar sight for the Chapman community: President Daniele \n",
    "Struppa standing on stage at the Musco Center, addressing a combined \n",
    "audience of university faculty, staff and university supporters.\n",
    "'''\n",
    "document2 = '''What was different this year — as has been the case for most events this \n",
    "year — was that everyone in the audience was viewing the address from home.\n",
    "'''\n",
    "\n",
    "bow1 = document1.split(' ')\n",
    "bow2 = document2.split(' ')"
   ]
  },
  {
   "cell_type": "code",
   "execution_count": 14,
   "metadata": {},
   "outputs": [
    {
     "name": "stdout",
     "output_type": "stream",
     "text": [
      "Counter({'a': 2, 'the': 2, ',': 2, 'university': 2, 'it': 1, '’': 1, 's': 1, 'become': 1, 'familiar': 1, 'sight': 1, 'for': 1, 'chapman': 1, 'community': 1, ':': 1, 'president': 1, 'daniele': 1, 'struppa': 1, 'standing': 1, 'on': 1, 'stage': 1, 'at': 1, 'musco': 1, 'center': 1, 'addressing': 1, 'combined': 1, 'audience': 1, 'of': 1, 'faculty': 1, 'staff': 1, 'and': 1, 'supporters': 1, '.': 1})\n"
     ]
    }
   ],
   "source": [
    "# Part 1\n",
    "from nltk.tokenize import TreebankWordTokenizer\n",
    "from collections import Counter\n",
    "tokenizer = TreebankWordTokenizer()\n",
    "tokens = tokenizer.tokenize(document1.lower())\n",
    "print(Counter(tokens))"
   ]
  },
  {
   "cell_type": "code",
   "execution_count": 15,
   "metadata": {},
   "outputs": [
    {
     "name": "stdout",
     "output_type": "stream",
     "text": [
      "Counter({'was': 3, 'the': 3, 'this': 2, 'year': 2, '—': 2, 'what': 1, 'different': 1, 'as': 1, 'has': 1, 'been': 1, 'case': 1, 'for': 1, 'most': 1, 'events': 1, 'that': 1, 'everyone': 1, 'in': 1, 'audience': 1, 'viewing': 1, 'address': 1, 'from': 1, 'home': 1, '.': 1})\n"
     ]
    }
   ],
   "source": [
    "token2 = tokenizer.tokenize(document2.lower())\n",
    "print(Counter(token2))"
   ]
  },
  {
   "cell_type": "code",
   "execution_count": 16,
   "metadata": {},
   "outputs": [
    {
     "name": "stdout",
     "output_type": "stream",
     "text": [
      "      Words        TF\n",
      "0      It’s  0.037037\n",
      "1    become  0.037037\n",
      "2         a  0.074074\n",
      "3  familiar  0.037037\n",
      "4     sight  0.037037 \n",
      "\n",
      "       Words        TF\n",
      "0       What  0.043478\n",
      "1        was  0.130435\n",
      "2  different  0.043478\n",
      "3       this  0.086957\n",
      "4       year  0.043478\n"
     ]
    }
   ],
   "source": [
    "# Part 2\n",
    "uniqueWords = set(bow1).union(set(bow2))\n",
    "numofWords1 = dict.fromkeys(bow1, 0)\n",
    "numofWords2 = dict.fromkeys(bow2, 0)\n",
    "for word in bow1:\n",
    "    numofWords1[word] += 1\n",
    "for word in bow2:\n",
    "    numofWords2[word] += 1\n",
    "num_unique_words1 = len(np.unique(bow1))\n",
    "num_unique_words2 = len(np.unique(bow2))\n",
    "\n",
    "\n",
    "tf1 = pd.DataFrame({\"Words\": list(numofWords1.keys()), \"TF\": np.asarray(list(numofWords1.values()))/num_unique_words1})\n",
    "tf2 = pd.DataFrame({\"Words\": list(numofWords2.keys()), \"TF\":np.asarray(list(numofWords2.values()))/num_unique_words2})\n",
    "print(tf1.head(), \"\\n\")\n",
    "print(tf2.head())"
   ]
  },
  {
   "cell_type": "code",
   "execution_count": 54,
   "metadata": {},
   "outputs": [
    {
     "data": {
      "text/html": [
       "<div>\n",
       "<style scoped>\n",
       "    .dataframe tbody tr th:only-of-type {\n",
       "        vertical-align: middle;\n",
       "    }\n",
       "\n",
       "    .dataframe tbody tr th {\n",
       "        vertical-align: top;\n",
       "    }\n",
       "\n",
       "    .dataframe thead th {\n",
       "        text-align: right;\n",
       "    }\n",
       "</style>\n",
       "<table border=\"1\" class=\"dataframe\">\n",
       "  <thead>\n",
       "    <tr style=\"text-align: right;\">\n",
       "      <th></th>\n",
       "      <th>Words</th>\n",
       "      <th>TF</th>\n",
       "    </tr>\n",
       "  </thead>\n",
       "  <tbody>\n",
       "    <tr>\n",
       "      <td>42</td>\n",
       "      <td>the</td>\n",
       "      <td>0.058824</td>\n",
       "    </tr>\n",
       "    <tr>\n",
       "      <td>46</td>\n",
       "      <td>was</td>\n",
       "      <td>0.058824</td>\n",
       "    </tr>\n",
       "    <tr>\n",
       "      <td>49</td>\n",
       "      <td>—</td>\n",
       "      <td>0.039216</td>\n",
       "    </tr>\n",
       "    <tr>\n",
       "      <td>48</td>\n",
       "      <td>year</td>\n",
       "      <td>0.039216</td>\n",
       "    </tr>\n",
       "    <tr>\n",
       "      <td>43</td>\n",
       "      <td>this</td>\n",
       "      <td>0.039216</td>\n",
       "    </tr>\n",
       "  </tbody>\n",
       "</table>\n",
       "</div>"
      ],
      "text/plain": [
       "   Words        TF\n",
       "42   the  0.058824\n",
       "46   was  0.058824\n",
       "49     —  0.039216\n",
       "48  year  0.039216\n",
       "43  this  0.039216"
      ]
     },
     "execution_count": 54,
     "metadata": {},
     "output_type": "execute_result"
    }
   ],
   "source": [
    "# Part 3 \n",
    "docs = [document1]\n",
    "docs.append(document2)\n",
    "doc_tokens = []\n",
    "\n",
    "for doc in docs:\n",
    "    doc_tokens += [sorted(tokenizer.tokenize(doc.lower()))]\n",
    "    \n",
    "all_doc_tokens = sum(doc_tokens, [])\n",
    "lexicon = sorted(set(all_doc_tokens))\n",
    "\n",
    "from collections import OrderedDict\n",
    "zero_vector = OrderedDict((token,0) for token in lexicon)\n",
    "\n",
    "for doc in docs:\n",
    "    vec = zero_vector.copy()\n",
    "    tokens = tokenizer.tokenize(doc.lower())\n",
    "    token_counts = Counter(tokens)\n",
    "    \n",
    "    for key, value in token_counts.items():\n",
    "        vec[key] = value/len(lexicon)\n",
    "lexicon_df = pd.DataFrame({\"Words\": list(vec.keys()), \"TF\": list(vec.values())}).sort_values(by=['TF'], ascending=False)\n",
    "lexicon_df.head(5)"
   ]
  },
  {
   "cell_type": "code",
   "execution_count": 90,
   "metadata": {},
   "outputs": [
    {
     "name": "stderr",
     "output_type": "stream",
     "text": [
      "C:\\Users\\Duker\\AppData\\Local\\Continuum\\anaconda3\\lib\\site-packages\\ipykernel_launcher.py:18: RuntimeWarning: divide by zero encountered in log10\n"
     ]
    },
    {
     "data": {
      "image/png": "[encoded data removed]",
      "text/plain": [
       "<Figure size 504x288 with 1 Axes>"
      ]
     },
     "metadata": {
      "needs_background": "light"
     },
     "output_type": "display_data"
    }
   ],
   "source": [
    "# Problem 4\n",
    "\n",
    "import nltk\n",
    "#nltk.download('brown')\n",
    "from collections import Counter\n",
    "import re\n",
    "\n",
    "txt = open('RomeoJuliet.txt').read()\n",
    "\n",
    "new_txt = re.sub(r'[^\\w\\s]', '', txt)\n",
    "tokenizer = TreebankWordTokenizer()\n",
    "tokens = tokenizer.tokenize(new_txt.lower())\n",
    "word_count = Counter(tokens)\n",
    "\n",
    "txt_df = pd.DataFrame({\"Words\": list(word_count.keys()), \"TF\": list(word_count.values())}).sort_values(by=['TF'], \n",
    "                                                                                                       ascending = False)\n",
    "plt.figure(figsize=(7,4))\n",
    "plt.plot(np.log10(range(len(txt_df))), np.log10(txt_df['TF']), color = 'b')\n",
    "plt.xlabel(\"Log10(Rank)\", size = 14)\n",
    "plt.ylabel(\"Log10(Term Frequency)\", size = 14)\n",
    "plt.xticks(size = 12)\n",
    "plt.yticks(size = 12)\n",
    "plt.title(\"Zipf's Law in Romeo & Juliet\", size = 15)\n",
    "plt.show()"
   ]
  },
  {
   "cell_type": "code",
   "execution_count": null,
   "metadata": {},
   "outputs": [],
   "source": []
  }
 ],
 "metadata": {
  "kernelspec": {
   "display_name": "Python 3",
   "language": "python",
   "name": "python3"
  },
  "language_info": {
   "codemirror_mode": {
    "name": "ipython",
    "version": 3
   },
   "file_extension": ".py",
   "mimetype": "text/x-python",
   "name": "python",
   "nbconvert_exporter": "python",
   "pygments_lexer": "ipython3",
   "version": "3.7.4"
  }
 },
 "nbformat": 4,
 "nbformat_minor": 2
}
