{
 "cells": [
  {
   "cell_type": "code",
   "execution_count": 1,
   "metadata": {},
   "outputs": [],
   "source": [
    "import tensorflow as tf\n",
    "import numpy as np"
   ]
  },
  {
   "cell_type": "code",
   "execution_count": 2,
   "metadata": {},
   "outputs": [],
   "source": [
    "# Problem 1\n",
    "\n",
    "z1 = 0.355\n",
    "w3 = 0.36\n",
    "b2 = 0.56"
   ]
  },
  {
   "cell_type": "code",
   "execution_count": 3,
   "metadata": {},
   "outputs": [],
   "source": [
    "def print_(a1, a2):\n",
    "    print(\"a1={}, a2={}\".format(a1, a2))"
   ]
  },
  {
   "cell_type": "code",
   "execution_count": 4,
   "metadata": {},
   "outputs": [
    {
     "name": "stdout",
     "output_type": "stream",
     "text": [
      "a1=0.355, a2=0.688\n"
     ]
    }
   ],
   "source": [
    "# Linear \n",
    "a1 = z1\n",
    "z2 = a1*w3 + b2\n",
    "a2 = round(z2,3)\n",
    "print_(a1, a2)"
   ]
  },
  {
   "cell_type": "code",
   "execution_count": 5,
   "metadata": {},
   "outputs": [
    {
     "name": "stdout",
     "output_type": "stream",
     "text": [
      "a1=0.341, a2=0.593\n"
     ]
    }
   ],
   "source": [
    "# Tanh\n",
    "def tanh(x):\n",
    "    return round((np.exp(x) - np.exp((-x)))/(np.exp(x) + np.exp(-x)), 3)\n",
    "\n",
    "a1 = tanh(z1)\n",
    "z2 = (a1*w3)+b2\n",
    "a2 = tanh(z2)\n",
    "print_(a1, a2)"
   ]
  },
  {
   "cell_type": "code",
   "execution_count": 6,
   "metadata": {},
   "outputs": [
    {
     "name": "stdout",
     "output_type": "stream",
     "text": [
      "a1=0.355, a2=0.688\n"
     ]
    }
   ],
   "source": [
    "# ReLU\n",
    "def relu(x):\n",
    "    if x < 0:\n",
    "        return 0\n",
    "    else: \n",
    "        return round(x,3)\n",
    "    \n",
    "a1 = relu(z1)\n",
    "z2 = (a1*w3)+b2\n",
    "a2 = relu(z2)\n",
    "print_(a1, a2)"
   ]
  },
  {
   "cell_type": "code",
   "execution_count": 7,
   "metadata": {},
   "outputs": [],
   "source": [
    "# Problem 2\n",
    "def sigmoid(x):\n",
    "    return np.exp(x)/(1+np.exp(x))\n",
    "\n",
    "def sigmoid_prime(x_list):\n",
    "    solutions = [round(sigmoid(x)*(1-sigmoid(x)),4) for x in x_list]\n",
    "    return solutions"
   ]
  },
  {
   "cell_type": "code",
   "execution_count": 8,
   "metadata": {},
   "outputs": [
    {
     "data": {
      "text/plain": [
       "[0.0177, 0.235, 0.0177]"
      ]
     },
     "execution_count": 8,
     "metadata": {},
     "output_type": "execute_result"
    }
   ],
   "source": [
    "x_list = [-4.0, 0.5, 4.0]\n",
    "sigmoid_prime(x_list)"
   ]
  },
  {
   "cell_type": "code",
   "execution_count": 9,
   "metadata": {},
   "outputs": [
    {
     "data": {
      "text/plain": [
       "[0.002, 0.7866, 0.002]"
      ]
     },
     "execution_count": 9,
     "metadata": {},
     "output_type": "execute_result"
    }
   ],
   "source": [
    "def tanh_prime(x_list):\n",
    "    return [round(1 - tanh(x)**2,4) for x in x_list]\n",
    "\n",
    "tanh_prime(x_list)"
   ]
  },
  {
   "cell_type": "code",
   "execution_count": 10,
   "metadata": {},
   "outputs": [
    {
     "data": {
      "text/plain": [
       "[0, 1, 1]"
      ]
     },
     "execution_count": 10,
     "metadata": {},
     "output_type": "execute_result"
    }
   ],
   "source": [
    "def relu_prime(x_list):\n",
    "    sol = []\n",
    "    for x in x_list:\n",
    "        if x > 0:\n",
    "            sol.append(1)\n",
    "        else:\n",
    "            sol.append(0)\n",
    "    return sol\n",
    "\n",
    "relu_prime(x_list)"
   ]
  },
  {
   "cell_type": "code",
   "execution_count": 11,
   "metadata": {},
   "outputs": [
    {
     "name": "stdout",
     "output_type": "stream",
     "text": [
      "[0.637566, 0.212227, 0.086285, 0.063922]\n",
      "[0.219107, 0.17939, 0.441227, 0.040027, 0.120249]\n"
     ]
    }
   ],
   "source": [
    "# Problem 3\n",
    "def softmax(v_list):\n",
    "    sol = []\n",
    "    denom = sum([np.exp(yi) for yi in v_list])\n",
    "    for yi in v_list:\n",
    "        S = round(np.exp(yi)/denom, 6)\n",
    "        sol.append(S)\n",
    "    return sol\n",
    "\n",
    "V1 = [2.3, 1.2, 0.3, 0.0]\n",
    "V2 = [1.9, 1.7, 2.6, 0.2, 1.3]\n",
    "\n",
    "print(softmax(V1))\n",
    "print(softmax(V2))"
   ]
  },
  {
   "cell_type": "code",
   "execution_count": 12,
   "metadata": {},
   "outputs": [
    {
     "data": {
      "text/plain": [
       "[2.99573227355399,\n",
       " 1.6094379124341005,\n",
       " 0.916290731874155,\n",
       " 0.5108256237659907,\n",
       " 0.10536051565782628]"
      ]
     },
     "execution_count": 12,
     "metadata": {},
     "output_type": "execute_result"
    }
   ],
   "source": [
    "# Problem 4\n",
    "def cost_function(target, compValue_list):\n",
    "    return [ -( (target*np.log(compValue)) + (1-target) * (np.log(1-compValue)) ) for compValue in compValue_list ] \n",
    "\n",
    "target = 0\n",
    "compValue_list = [0.95, 0.8, 0.6, 0.4, 0.1]\n",
    "cost_function(target, compValue_list)"
   ]
  },
  {
   "cell_type": "code",
   "execution_count": 13,
   "metadata": {},
   "outputs": [
    {
     "data": {
      "text/plain": [
       "[0.05129329438755058,\n",
       " 0.2231435513142097,\n",
       " 0.5108256237659907,\n",
       " 0.916290731874155,\n",
       " 2.3025850929940455]"
      ]
     },
     "execution_count": 13,
     "metadata": {},
     "output_type": "execute_result"
    }
   ],
   "source": [
    "target = 1\n",
    "cost_function(target, compValue_list)"
   ]
  },
  {
   "cell_type": "code",
   "execution_count": 14,
   "metadata": {},
   "outputs": [
    {
     "name": "stdout",
     "output_type": "stream",
     "text": [
      "a1: tf.Tensor([1 1 1], shape=(3,), dtype=int64)\n",
      "a2: tf.Tensor([0 2 2], shape=(3,), dtype=int64)\n"
     ]
    }
   ],
   "source": [
    "# Problem 5 \n",
    "a = np.array([[5,2,3], [26,56,92], [3,0,26]])\n",
    "a1 = tf.argmax(a, axis=0)\n",
    "a2 = tf.argmax(a, axis=1)\n",
    "\n",
    "print(\"a1:\", a1)\n",
    "print(\"a2:\", a2)"
   ]
  },
  {
   "cell_type": "code",
   "execution_count": 16,
   "metadata": {},
   "outputs": [
    {
     "name": "stdout",
     "output_type": "stream",
     "text": [
      "Input: [0, 0] \n",
      "\n",
      "Computed Value:\n",
      "0.0413786285\n",
      "Error:\n",
      "0.00171219092\n",
      "Input: [1, 0] \n",
      "\n",
      "Computed Value:\n",
      "0.999659061\n",
      "Error:\n",
      "1.16239107e-07\n",
      "Input: [0, 1] \n",
      "\n",
      "Computed Value:\n",
      "0.992013514\n",
      "Error:\n",
      "6.37839548e-05\n",
      "Input: [1, 1] \n",
      "\n",
      "Computed Value:\n",
      "0.673784077\n",
      "Error:\n",
      "0.453984976\n"
     ]
    }
   ],
   "source": [
    "# Problem 6 \n",
    "\n",
    "def xor(x):\n",
    "    return x[0]^x[1]\n",
    "\n",
    "def compute_error(x):\n",
    "    input_ = tf.constant([x])\n",
    "    W1 = tf.constant([[4,-6,-5], [3,6,4]])\n",
    "    b1 = tf.constant([[-2,3,-2]])\n",
    "    \n",
    "    outputH1 = input_ @ W1 + b1\n",
    "    outputH1_act = tf.sigmoid(tf.cast(outputH1, tf.float32))\n",
    "    \n",
    "    W2 = tf.cast(tf.constant([[5],[-9],[7]]), tf.float32)\n",
    "    b2 = tf.cast(tf.constant([4]), tf.float32)\n",
    "    \n",
    "    outputH2 = outputH1_act @ W2 + b2\n",
    "    outputH2_act = tf.sigmoid(tf.cast(outputH2, tf.float32))\n",
    "    \n",
    "    error = (xor(x) - outputH2_act)**2\n",
    "    \n",
    "    return outputH2_act, error\n",
    "\n",
    "inputs = [[0,0], [1,0], [0,1], [1,1]]\n",
    "\n",
    "for input_ in inputs:\n",
    "    out, error = compute_error(input_)\n",
    "    print(\"Input:\", input_, \"\\n\")\n",
    "    print(\"Computed Value:\")\n",
    "    tf.print(out[0][0])\n",
    "    print(\"Error:\")\n",
    "    tf.print(error[0][0])"
   ]
  },
  {
   "cell_type": "code",
   "execution_count": null,
   "metadata": {},
   "outputs": [],
   "source": []
  }
 ],
 "metadata": {
  "kernelspec": {
   "display_name": "Python 3",
   "language": "python",
   "name": "python3"
  },
  "language_info": {
   "codemirror_mode": {
    "name": "ipython",
    "version": 3
   },
   "file_extension": ".py",
   "mimetype": "text/x-python",
   "name": "python",
   "nbconvert_exporter": "python",
   "pygments_lexer": "ipython3",
   "version": "3.7.4"
  }
 },
 "nbformat": 4,
 "nbformat_minor": 2
}
