{
 "cells": [
  {
   "cell_type": "code",
   "execution_count": 27,
   "metadata": {
    "colab": {
     "base_uri": "https://localhost:8080/",
     "height": 38,
     "resources": {
      "http://localhost:8080/nbextensions/google.colab/files.js": {
       "data": "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",
       "headers": [
        [
         "content-type",
         "application/javascript"
        ]
       ],
       "ok": true,
       "status": 200,
       "status_text": ""
      }
     }
    },
    "id": "cLxeglOnQbwh",
    "outputId": "6140d799-1ea1-4f78-a557-c2b04507a309"
   },
   "outputs": [
    {
     "data": {
      "text/html": [
       "\n",
       "     <input type=\"file\" id=\"files-fea1d088-aefd-4b76-9cc4-72a86220c5e6\" name=\"files[]\" multiple disabled\n",
       "        style=\"border:none\" />\n",
       "     <output id=\"result-fea1d088-aefd-4b76-9cc4-72a86220c5e6\">\n",
       "      Upload widget is only available when the cell has been executed in the\n",
       "      current browser session. Please rerun this cell to enable.\n",
       "      </output>\n",
       "      <script src=\"/nbextensions/google.colab/files.js\"></script> "
      ],
      "text/plain": [
       "<IPython.core.display.HTML object>"
      ]
     },
     "metadata": {
      "tags": []
     },
     "output_type": "display_data"
    }
   ],
   "source": [
    "from textblob import TextBlob\n",
    "import nltk\n",
    "from nltk.corpus import stopwords\n",
    "# nltk.download('punkt')\n",
    "# nltk.download('brown')\n",
    "# nltk.download('stopwords')\n",
    "import numpy as np\n",
    "import pandas as pd\n",
    "from google.colab import files\n",
    "uploaded = files.upload()"
   ]
  },
  {
   "cell_type": "code",
   "execution_count": 28,
   "metadata": {
    "id": "wN8-WWBhQbwp"
   },
   "outputs": [],
   "source": [
    "textTotal = open('RomeoJuliet.txt').read()\n",
    "blobTotal = TextBlob(textTotal)\n",
    "numChars = 1000\n",
    "text1000 = textTotal[0:numChars+1]\n",
    "blob1000 = TextBlob(text1000)"
   ]
  },
  {
   "cell_type": "markdown",
   "metadata": {
    "id": "9s-RxM-zQbwq"
   },
   "source": [
    "### Analysis of Sentences"
   ]
  },
  {
   "cell_type": "code",
   "execution_count": 29,
   "metadata": {
    "colab": {
     "base_uri": "https://localhost:8080/"
    },
    "id": "YsaAnC7FQbwr",
    "outputId": "75c2733d-f0b4-496e-8f56-298143883aa2"
   },
   "outputs": [
    {
     "name": "stdout",
     "output_type": "stream",
     "text": [
      "# of sentences in Romeo & Juliet: 3169\n"
     ]
    }
   ],
   "source": [
    "# Problem 1 \n",
    "print(\"# of sentences in Romeo & Juliet:\", len(blobTotal.sentences))"
   ]
  },
  {
   "cell_type": "code",
   "execution_count": 30,
   "metadata": {
    "colab": {
     "base_uri": "https://localhost:8080/"
    },
    "id": "6bbNO2btQbws",
    "outputId": "6dbc40b5-1a89-4228-b967-2af24f25729d"
   },
   "outputs": [
    {
     "name": "stdout",
     "output_type": "stream",
     "text": [
      "# of sentences containing 'Queen': 1\n"
     ]
    }
   ],
   "source": [
    "# Problem 2 \n",
    "count = 0\n",
    "wordSearch = 'Queen'\n",
    "for s in blobTotal.sentences:\n",
    "    if wordSearch in s:\n",
    "        count += 1\n",
    "print(\"# of sentences containing 'Queen':\", count)"
   ]
  },
  {
   "cell_type": "code",
   "execution_count": 31,
   "metadata": {
    "colab": {
     "base_uri": "https://localhost:8080/",
     "height": 370
    },
    "id": "l_60CmFBQbwt",
    "outputId": "4265d298-2d3e-41cd-86a0-9af5994cc40a"
   },
   "outputs": [
    {
     "name": "stdout",
     "output_type": "stream",
     "text": [
      "Top 10 longest sentences:\n"
     ]
    },
    {
     "data": {
      "text/html": [
       "<div>\n",
       "<style scoped>\n",
       "    .dataframe tbody tr th:only-of-type {\n",
       "        vertical-align: middle;\n",
       "    }\n",
       "\n",
       "    .dataframe tbody tr th {\n",
       "        vertical-align: top;\n",
       "    }\n",
       "\n",
       "    .dataframe thead th {\n",
       "        text-align: right;\n",
       "    }\n",
       "</style>\n",
       "<table border=\"1\" class=\"dataframe\">\n",
       "  <thead>\n",
       "    <tr style=\"text-align: right;\">\n",
       "      <th></th>\n",
       "      <th>Sentences</th>\n",
       "      <th>Length</th>\n",
       "    </tr>\n",
       "  </thead>\n",
       "  <tbody>\n",
       "    <tr>\n",
       "      <th>589</th>\n",
       "      <td>(A, n, d,  , i, n,  , t, h, i, s,  , s, t, a, ...</td>\n",
       "      <td>857</td>\n",
       "    </tr>\n",
       "    <tr>\n",
       "      <th>3139</th>\n",
       "      <td>(I, N, D, E, M, N, I, T, Y,  , -,  , Y, o, u, ...</td>\n",
       "      <td>683</td>\n",
       "    </tr>\n",
       "    <tr>\n",
       "      <th>588</th>\n",
       "      <td>(S, h, e,  , i, s,  , t, h, e,  , f, a, i, r, ...</td>\n",
       "      <td>649</td>\n",
       "    </tr>\n",
       "    <tr>\n",
       "      <th>2411</th>\n",
       "      <td>(O, r, ,,  , i, f,  , I,  , l, i, v, e, ,,  , ...</td>\n",
       "      <td>550</td>\n",
       "    </tr>\n",
       "    <tr>\n",
       "      <th>3087</th>\n",
       "      <td>(T, h, e,  , f, o, l, l, o, w, i, n, g,  , s, ...</td>\n",
       "      <td>533</td>\n",
       "    </tr>\n",
       "    <tr>\n",
       "      <th>2165</th>\n",
       "      <td>(D, a, y, ,,  , n, i, g, h, t, ,,  , h, o, u, ...</td>\n",
       "      <td>508</td>\n",
       "    </tr>\n",
       "    <tr>\n",
       "      <th>2693</th>\n",
       "      <td>(I,  , d, o,  , r, e, m, e, m, b, e, r,  , a, ...</td>\n",
       "      <td>493</td>\n",
       "    </tr>\n",
       "    <tr>\n",
       "      <th>3061</th>\n",
       "      <td>(S, T, A, R, T, :,  , F, U, L, L,  , L, I, C, ...</td>\n",
       "      <td>471</td>\n",
       "    </tr>\n",
       "    <tr>\n",
       "      <th>3102</th>\n",
       "      <td>(H, o, w, e, v, e, r, ,,  , i, f,  , y, o, u, ...</td>\n",
       "      <td>465</td>\n",
       "    </tr>\n",
       "    <tr>\n",
       "      <th>3051</th>\n",
       "      <td>([, _, E, x, e, u, n, t, ., _, ], \\n, \\n, \\n, ...</td>\n",
       "      <td>436</td>\n",
       "    </tr>\n",
       "  </tbody>\n",
       "</table>\n",
       "</div>"
      ],
      "text/plain": [
       "                                              Sentences  Length\n",
       "589   (A, n, d,  , i, n,  , t, h, i, s,  , s, t, a, ...     857\n",
       "3139  (I, N, D, E, M, N, I, T, Y,  , -,  , Y, o, u, ...     683\n",
       "588   (S, h, e,  , i, s,  , t, h, e,  , f, a, i, r, ...     649\n",
       "2411  (O, r, ,,  , i, f,  , I,  , l, i, v, e, ,,  , ...     550\n",
       "3087  (T, h, e,  , f, o, l, l, o, w, i, n, g,  , s, ...     533\n",
       "2165  (D, a, y, ,,  , n, i, g, h, t, ,,  , h, o, u, ...     508\n",
       "2693  (I,  , d, o,  , r, e, m, e, m, b, e, r,  , a, ...     493\n",
       "3061  (S, T, A, R, T, :,  , F, U, L, L,  , L, I, C, ...     471\n",
       "3102  (H, o, w, e, v, e, r, ,,  , i, f,  , y, o, u, ...     465\n",
       "3051  ([, _, E, x, e, u, n, t, ., _, ], \\n, \\n, \\n, ...     436"
      ]
     },
     "execution_count": 31,
     "metadata": {
      "tags": []
     },
     "output_type": "execute_result"
    }
   ],
   "source": [
    "# Problem 3\n",
    "length_list = []\n",
    "sent_list = []\n",
    "for s in blobTotal.sentences:\n",
    "    sent_list.append(s)\n",
    "    length_list.append(len(s))\n",
    "    \n",
    "sent_df = pd.DataFrame({\"Sentences\": sent_list, \"Length\": length_list}).sort_values(by=['Length'], ascending=False)\n",
    "print(\"Top 10 longest sentences:\")\n",
    "sent_df.head(10)"
   ]
  },
  {
   "cell_type": "code",
   "execution_count": 32,
   "metadata": {
    "colab": {
     "base_uri": "https://localhost:8080/",
     "height": 370
    },
    "id": "Qp_DHe0TQbwt",
    "outputId": "8da04597-6471-4c0b-a1c7-15b767f2f83a"
   },
   "outputs": [
    {
     "name": "stdout",
     "output_type": "stream",
     "text": [
      "Top 10 shortest sentences:\n"
     ]
    },
    {
     "data": {
      "text/html": [
       "<div>\n",
       "<style scoped>\n",
       "    .dataframe tbody tr th:only-of-type {\n",
       "        vertical-align: middle;\n",
       "    }\n",
       "\n",
       "    .dataframe tbody tr th {\n",
       "        vertical-align: top;\n",
       "    }\n",
       "\n",
       "    .dataframe thead th {\n",
       "        text-align: right;\n",
       "    }\n",
       "</style>\n",
       "<table border=\"1\" class=\"dataframe\">\n",
       "  <thead>\n",
       "    <tr style=\"text-align: right;\">\n",
       "      <th></th>\n",
       "      <th>Sentences</th>\n",
       "      <th>Length</th>\n",
       "    </tr>\n",
       "  </thead>\n",
       "  <tbody>\n",
       "    <tr>\n",
       "      <th>406</th>\n",
       "      <td>(U, p, .)</td>\n",
       "      <td>3</td>\n",
       "    </tr>\n",
       "    <tr>\n",
       "      <th>150</th>\n",
       "      <td>(N, o, .)</td>\n",
       "      <td>3</td>\n",
       "    </tr>\n",
       "    <tr>\n",
       "      <th>2523</th>\n",
       "      <td>(H, a, !)</td>\n",
       "      <td>3</td>\n",
       "    </tr>\n",
       "    <tr>\n",
       "      <th>1400</th>\n",
       "      <td>(G, o, .)</td>\n",
       "      <td>3</td>\n",
       "    </tr>\n",
       "    <tr>\n",
       "      <th>2603</th>\n",
       "      <td>(N, o, .)</td>\n",
       "      <td>3</td>\n",
       "    </tr>\n",
       "    <tr>\n",
       "      <th>1033</th>\n",
       "      <td>(N, o, .)</td>\n",
       "      <td>3</td>\n",
       "    </tr>\n",
       "    <tr>\n",
       "      <th>3067</th>\n",
       "      <td>(1, ., B, .)</td>\n",
       "      <td>4</td>\n",
       "    </tr>\n",
       "    <tr>\n",
       "      <th>268</th>\n",
       "      <td>(O, u, t, .)</td>\n",
       "      <td>4</td>\n",
       "    </tr>\n",
       "    <tr>\n",
       "      <th>3074</th>\n",
       "      <td>(1, ., C, .)</td>\n",
       "      <td>4</td>\n",
       "    </tr>\n",
       "    <tr>\n",
       "      <th>3080</th>\n",
       "      <td>(1, ., D, .)</td>\n",
       "      <td>4</td>\n",
       "    </tr>\n",
       "  </tbody>\n",
       "</table>\n",
       "</div>"
      ],
      "text/plain": [
       "         Sentences  Length\n",
       "406      (U, p, .)       3\n",
       "150      (N, o, .)       3\n",
       "2523     (H, a, !)       3\n",
       "1400     (G, o, .)       3\n",
       "2603     (N, o, .)       3\n",
       "1033     (N, o, .)       3\n",
       "3067  (1, ., B, .)       4\n",
       "268   (O, u, t, .)       4\n",
       "3074  (1, ., C, .)       4\n",
       "3080  (1, ., D, .)       4"
      ]
     },
     "execution_count": 32,
     "metadata": {
      "tags": []
     },
     "output_type": "execute_result"
    }
   ],
   "source": [
    "# Problem 4\n",
    "print(\"Top 10 shortest sentences:\")\n",
    "sent_df.sort_values(by=[\"Length\"]).head(10)"
   ]
  },
  {
   "cell_type": "markdown",
   "metadata": {
    "id": "YfTwUVRpQbwu"
   },
   "source": [
    "### Analysis of Sentiments, Translation, nGrams & spaCy"
   ]
  },
  {
   "cell_type": "code",
   "execution_count": 33,
   "metadata": {
    "colab": {
     "base_uri": "https://localhost:8080/"
    },
    "id": "42CRV3k6Qbwv",
    "outputId": "c5f57c4e-cec9-40ea-d3bd-ab246e758dcf"
   },
   "outputs": [
    {
     "name": "stdout",
     "output_type": "stream",
     "text": [
      "# of sentences with positive polarity: 666\n",
      "# of sentences with negative polarity: 279\n",
      "# of sentences with neutral polarity: 2224\n"
     ]
    },
    {
     "data": {
      "text/plain": [
       "True"
      ]
     },
     "execution_count": 33,
     "metadata": {
      "tags": []
     },
     "output_type": "execute_result"
    }
   ],
   "source": [
    "# Problem 1\n",
    "totalSentences = blobTotal.sentences\n",
    "negative = 0\n",
    "positive = 0\n",
    "neutral = 0\n",
    "pol_list = []\n",
    "\n",
    "for s in totalSentences:\n",
    "    pol_list.append(s.polarity)\n",
    "    if s.polarity > 0:\n",
    "        positive += 1\n",
    "    elif s.polarity < 0:\n",
    "        negative += 1\n",
    "    else:\n",
    "        neutral += 1\n",
    "print(\"# of sentences with positive polarity:\", positive)\n",
    "print(\"# of sentences with negative polarity:\", negative)\n",
    "print(\"# of sentences with neutral polarity:\", neutral)\n",
    "len(totalSentences) == sum([positive, negative, neutral])"
   ]
  },
  {
   "cell_type": "code",
   "execution_count": 34,
   "metadata": {
    "colab": {
     "base_uri": "https://localhost:8080/",
     "height": 370
    },
    "id": "lZ00sqO9Qbww",
    "outputId": "fe7be0aa-9fe3-4ba3-907c-e1b72663ce62"
   },
   "outputs": [
    {
     "name": "stdout",
     "output_type": "stream",
     "text": [
      "Top 10 sentences with positive polarity:\n"
     ]
    },
    {
     "data": {
      "text/html": [
       "<div>\n",
       "<style scoped>\n",
       "    .dataframe tbody tr th:only-of-type {\n",
       "        vertical-align: middle;\n",
       "    }\n",
       "\n",
       "    .dataframe tbody tr th {\n",
       "        vertical-align: top;\n",
       "    }\n",
       "\n",
       "    .dataframe thead th {\n",
       "        text-align: right;\n",
       "    }\n",
       "</style>\n",
       "<table border=\"1\" class=\"dataframe\">\n",
       "  <thead>\n",
       "    <tr style=\"text-align: right;\">\n",
       "      <th></th>\n",
       "      <th>Sentences</th>\n",
       "      <th>Polarity</th>\n",
       "    </tr>\n",
       "  </thead>\n",
       "  <tbody>\n",
       "    <tr>\n",
       "      <th>1693</th>\n",
       "      <td>(O,  , T, y, b, a, l, t, ,,  , T, y, b, a, l, ...</td>\n",
       "      <td>1.000</td>\n",
       "    </tr>\n",
       "    <tr>\n",
       "      <th>2235</th>\n",
       "      <td>(H, a, p, p, i, l, y,  , m, e, t, ,,  , m, y, ...</td>\n",
       "      <td>1.000</td>\n",
       "    </tr>\n",
       "    <tr>\n",
       "      <th>2380</th>\n",
       "      <td>(A, y, ,,  , t, h, o, s, e,  , a, t, t, i, r, ...</td>\n",
       "      <td>1.000</td>\n",
       "    </tr>\n",
       "    <tr>\n",
       "      <th>737</th>\n",
       "      <td>(A, w, a, y, ,,  , b, e,  , g, o, n, e, ;,  , ...</td>\n",
       "      <td>1.000</td>\n",
       "    </tr>\n",
       "    <tr>\n",
       "      <th>379</th>\n",
       "      <td>(Y, o, u, r,  , p, l, a, n, t, a, i, n,  , l, ...</td>\n",
       "      <td>1.000</td>\n",
       "    </tr>\n",
       "    <tr>\n",
       "      <th>1552</th>\n",
       "      <td>(I,  , t, h, o, u, g, h, t,  , a, l, l,  , f, ...</td>\n",
       "      <td>1.000</td>\n",
       "    </tr>\n",
       "    <tr>\n",
       "      <th>1711</th>\n",
       "      <td>(B, e, a, u, t, i, f, u, l,  , t, y, r, a, n, ...</td>\n",
       "      <td>1.000</td>\n",
       "    </tr>\n",
       "    <tr>\n",
       "      <th>629</th>\n",
       "      <td>(W, e, l, c, o, m, e, ,,  , g, e, n, t, l, e, ...</td>\n",
       "      <td>1.000</td>\n",
       "    </tr>\n",
       "    <tr>\n",
       "      <th>627</th>\n",
       "      <td>(S, h, e,  , t, h, a, t,  , m, a, k, e, s,  , ...</td>\n",
       "      <td>0.900</td>\n",
       "    </tr>\n",
       "    <tr>\n",
       "      <th>651</th>\n",
       "      <td>(O, ,,  , s, h, e,  , d, o, t, h,  , t, e, a, ...</td>\n",
       "      <td>0.875</td>\n",
       "    </tr>\n",
       "  </tbody>\n",
       "</table>\n",
       "</div>"
      ],
      "text/plain": [
       "                                              Sentences  Polarity\n",
       "1693  (O,  , T, y, b, a, l, t, ,,  , T, y, b, a, l, ...     1.000\n",
       "2235  (H, a, p, p, i, l, y,  , m, e, t, ,,  , m, y, ...     1.000\n",
       "2380  (A, y, ,,  , t, h, o, s, e,  , a, t, t, i, r, ...     1.000\n",
       "737   (A, w, a, y, ,,  , b, e,  , g, o, n, e, ;,  , ...     1.000\n",
       "379   (Y, o, u, r,  , p, l, a, n, t, a, i, n,  , l, ...     1.000\n",
       "1552  (I,  , t, h, o, u, g, h, t,  , a, l, l,  , f, ...     1.000\n",
       "1711  (B, e, a, u, t, i, f, u, l,  , t, y, r, a, n, ...     1.000\n",
       "629   (W, e, l, c, o, m, e, ,,  , g, e, n, t, l, e, ...     1.000\n",
       "627   (S, h, e,  , t, h, a, t,  , m, a, k, e, s,  , ...     0.900\n",
       "651   (O, ,,  , s, h, e,  , d, o, t, h,  , t, e, a, ...     0.875"
      ]
     },
     "execution_count": 34,
     "metadata": {
      "tags": []
     },
     "output_type": "execute_result"
    }
   ],
   "source": [
    "# Problem 2\n",
    "pol_df = pd.DataFrame({\"Sentences\": totalSentences, \"Polarity\": pol_list}).sort_values(by=[\"Polarity\"], ascending=False)\n",
    "print(\"Top 10 sentences with positive polarity:\")\n",
    "pol_df.head(10)"
   ]
  },
  {
   "cell_type": "code",
   "execution_count": 35,
   "metadata": {
    "colab": {
     "base_uri": "https://localhost:8080/",
     "height": 370
    },
    "id": "nou7gpgoQbwx",
    "outputId": "19b0bebb-d760-422f-a8d0-83ad07ab84fa"
   },
   "outputs": [
    {
     "name": "stdout",
     "output_type": "stream",
     "text": [
      "Top 10 sentences with negative polarity:\n"
     ]
    },
    {
     "data": {
      "text/html": [
       "<div>\n",
       "<style scoped>\n",
       "    .dataframe tbody tr th:only-of-type {\n",
       "        vertical-align: middle;\n",
       "    }\n",
       "\n",
       "    .dataframe tbody tr th {\n",
       "        vertical-align: top;\n",
       "    }\n",
       "\n",
       "    .dataframe thead th {\n",
       "        text-align: right;\n",
       "    }\n",
       "</style>\n",
       "<table border=\"1\" class=\"dataframe\">\n",
       "  <thead>\n",
       "    <tr style=\"text-align: right;\">\n",
       "      <th></th>\n",
       "      <th>Sentences</th>\n",
       "      <th>Polarity</th>\n",
       "    </tr>\n",
       "  </thead>\n",
       "  <tbody>\n",
       "    <tr>\n",
       "      <th>1224</th>\n",
       "      <td>(Y, e, a, ,,  , i, s,  , t, h, e,  , w, o, r, ...</td>\n",
       "      <td>-1.0</td>\n",
       "    </tr>\n",
       "    <tr>\n",
       "      <th>2409</th>\n",
       "      <td>(T, h, e, r, e, ’, s,  , a,  , f, e, a, r, f, ...</td>\n",
       "      <td>-1.0</td>\n",
       "    </tr>\n",
       "    <tr>\n",
       "      <th>2742</th>\n",
       "      <td>(I,  , c, o, u, l, d,  , n, o, t,  , s, e, n, ...</td>\n",
       "      <td>-0.9</td>\n",
       "    </tr>\n",
       "    <tr>\n",
       "      <th>2565</th>\n",
       "      <td>(D, e, s, p, i, s, ’, d, ,,  , d, i, s, t, r, ...</td>\n",
       "      <td>-0.9</td>\n",
       "    </tr>\n",
       "    <tr>\n",
       "      <th>1771</th>\n",
       "      <td>(R, o, m, e, o, ,,  , c, o, m, e,  , f, o, r, ...</td>\n",
       "      <td>-0.9</td>\n",
       "    </tr>\n",
       "    <tr>\n",
       "      <th>2883</th>\n",
       "      <td>(I,  , d, a, r, e,  , n, o, t, ,,  , s, i, r, ...</td>\n",
       "      <td>-0.9</td>\n",
       "    </tr>\n",
       "    <tr>\n",
       "      <th>1889</th>\n",
       "      <td>(A, n, d,  , s, l, a, y,  , t, h, y,  , l, a, ...</td>\n",
       "      <td>-0.8</td>\n",
       "    </tr>\n",
       "    <tr>\n",
       "      <th>2841</th>\n",
       "      <td>(T, y, b, a, l, t, ,,  , l, i, e, s, t,  , t, ...</td>\n",
       "      <td>-0.8</td>\n",
       "    </tr>\n",
       "    <tr>\n",
       "      <th>214</th>\n",
       "      <td>(Y, o, u,  , m, e, n, ,,  , y, o, u,  , b, e, ...</td>\n",
       "      <td>-0.8</td>\n",
       "    </tr>\n",
       "    <tr>\n",
       "      <th>958</th>\n",
       "      <td>(B, y,  , a, n, d,  , b, y,  , I,  , c, o, m, ...</td>\n",
       "      <td>-0.8</td>\n",
       "    </tr>\n",
       "  </tbody>\n",
       "</table>\n",
       "</div>"
      ],
      "text/plain": [
       "                                              Sentences  Polarity\n",
       "1224  (Y, e, a, ,,  , i, s,  , t, h, e,  , w, o, r, ...      -1.0\n",
       "2409  (T, h, e, r, e, ’, s,  , a,  , f, e, a, r, f, ...      -1.0\n",
       "2742  (I,  , c, o, u, l, d,  , n, o, t,  , s, e, n, ...      -0.9\n",
       "2565  (D, e, s, p, i, s, ’, d, ,,  , d, i, s, t, r, ...      -0.9\n",
       "1771  (R, o, m, e, o, ,,  , c, o, m, e,  , f, o, r, ...      -0.9\n",
       "2883  (I,  , d, a, r, e,  , n, o, t, ,,  , s, i, r, ...      -0.9\n",
       "1889  (A, n, d,  , s, l, a, y,  , t, h, y,  , l, a, ...      -0.8\n",
       "2841  (T, y, b, a, l, t, ,,  , l, i, e, s, t,  , t, ...      -0.8\n",
       "214   (Y, o, u,  , m, e, n, ,,  , y, o, u,  , b, e, ...      -0.8\n",
       "958   (B, y,  , a, n, d,  , b, y,  , I,  , c, o, m, ...      -0.8"
      ]
     },
     "execution_count": 35,
     "metadata": {
      "tags": []
     },
     "output_type": "execute_result"
    }
   ],
   "source": [
    "# Problem 3\n",
    "print(\"Top 10 sentences with negative polarity:\")\n",
    "pol_df.sort_values(by=[\"Polarity\"]).head(10)"
   ]
  },
  {
   "cell_type": "code",
   "execution_count": 36,
   "metadata": {
    "colab": {
     "base_uri": "https://localhost:8080/"
    },
    "id": "2EfLVNvOQbwx",
    "outputId": "85dbeb5e-3b5b-4db0-f0e2-a8bcc7c6034a"
   },
   "outputs": [
    {
     "name": "stdout",
     "output_type": "stream",
     "text": [
      "Top 2 longest sentences in Japanese: \n",
      "\n",
      "そしてこの状態で彼女は夜ごとにギャロップします\n",
      "恋人たちの頭脳を通して、そして彼らは愛を夢見ます。\n",
      "カーテシーをまっすぐに夢見る、廷臣の膝。\n",
      "手数料をまっすぐに夢見ている他の弁護士の指。\n",
      "キスを真っ直ぐに夢見る女性の唇、\n",
      "水ぶくれに悩まされている怒っているマブはどれですか？\n",
      "汚染されたお菓子で彼らの呼吸は次のとおりです。\n",
      "時々、彼女は廷臣の鼻にギャロップします、\n",
      "そして、彼がスーツの匂いを嗅ぐことを夢見ています。\n",
      "そしていつか彼女は什分の一の豚のしっぽを持って来る、\n",
      "眠っているときにパーソンの鼻をくすぐる、\n",
      "それから彼に別の恩恵を夢見ます：\n",
      "時々、彼女は兵士の首を運転します。\n",
      "そして、彼が外国の喉を切ることを夢見ています、\n",
      "違反、ambuscados、スペインの刃、\n",
      "健康の5つの深さ;そしてアノン\n",
      "彼が開始して目覚める耳の太鼓。\n",
      "そして、このように怯えて、1つか2つの祈りを誓います、\n",
      "そしてまた眠ります。 \n",
      "\n",
      "補償-あなたは財団を補償し、保持することに同意します。\n",
      "商標権者、財団の代理人または従業員、誰でも\n",
      "ProjectGutenberg-tm電子作品のコピーを\n",
      "この合意に従い、およびに関連するすべてのボランティア\n",
      "Project Gutenberg-tmの制作、プロモーション、配布\n",
      "電子作品、すべての責任、費用、費用から無害、\n",
      "いずれかから直接的または間接的に発生する法定費用を含む\n",
      "あなたが行う、または発生させる次のこと：（a）これの配布\n",
      "またはProjectGutenberg-tmの作業、（b）変更、修正、または\n",
      "Project Gutenberg-tmの作品への追加または削除、および（c）\n",
      "あなたが引き起こす欠陥。 \n",
      "\n"
     ]
    }
   ],
   "source": [
    "# Problem 4\n",
    "top2 = sent_df.iloc[0:2,0].values\n",
    "print(\"Top 2 longest sentences in Japanese: \\n\")\n",
    "for i in top2:\n",
    "    i = TextBlob(str(i))\n",
    "    print(i.translate(to = 'ja'), \"\\n\")"
   ]
  },
  {
   "cell_type": "code",
   "execution_count": 37,
   "metadata": {
    "id": "oII-bOTeQbwy"
   },
   "outputs": [],
   "source": [
    "# Problem 5 \n",
    "n5Grams = blobTotal.ngrams(n=5)\n",
    "nGrams_pol = []\n",
    "nGrams = []\n",
    "for i in n5Grams:\n",
    "    blob_i = TextBlob(str(i))\n",
    "    nGrams.append(str(i))\n",
    "    nGrams_pol.append(blob_i.polarity)"
   ]
  },
  {
   "cell_type": "code",
   "execution_count": 38,
   "metadata": {
    "colab": {
     "base_uri": "https://localhost:8080/",
     "height": 352
    },
    "id": "0MwNYvYJQbwy",
    "outputId": "4d88ebd1-d437-40e4-c25d-1b164632aaf7"
   },
   "outputs": [
    {
     "data": {
      "text/html": [
       "<div>\n",
       "<style scoped>\n",
       "    .dataframe tbody tr th:only-of-type {\n",
       "        vertical-align: middle;\n",
       "    }\n",
       "\n",
       "    .dataframe tbody tr th {\n",
       "        vertical-align: top;\n",
       "    }\n",
       "\n",
       "    .dataframe thead th {\n",
       "        text-align: right;\n",
       "    }\n",
       "</style>\n",
       "<table border=\"1\" class=\"dataframe\">\n",
       "  <thead>\n",
       "    <tr style=\"text-align: right;\">\n",
       "      <th></th>\n",
       "      <th>nGrams</th>\n",
       "      <th>nGrams Polarity</th>\n",
       "    </tr>\n",
       "  </thead>\n",
       "  <tbody>\n",
       "    <tr>\n",
       "      <th>17315</th>\n",
       "      <td>['her', 'best', 'array', 'But', 'like']</td>\n",
       "      <td>1.0</td>\n",
       "    </tr>\n",
       "    <tr>\n",
       "      <th>21193</th>\n",
       "      <td>['In', 'thy', 'best', 'robes', 'uncover']</td>\n",
       "      <td>1.0</td>\n",
       "    </tr>\n",
       "    <tr>\n",
       "      <th>3589</th>\n",
       "      <td>['now', 'shows', 'best', 'ROMEO', 'I']</td>\n",
       "      <td>1.0</td>\n",
       "    </tr>\n",
       "    <tr>\n",
       "      <th>2627</th>\n",
       "      <td>['To', 'call', 'hers', 'exquisite', 'in']</td>\n",
       "      <td>1.0</td>\n",
       "    </tr>\n",
       "    <tr>\n",
       "      <th>3587</th>\n",
       "      <td>['well', 'that', 'now', 'shows', 'best']</td>\n",
       "      <td>1.0</td>\n",
       "    </tr>\n",
       "    <tr>\n",
       "      <th>13951</th>\n",
       "      <td>['best', 'MERCUTIO', 'Help', 'me', 'into']</td>\n",
       "      <td>1.0</td>\n",
       "    </tr>\n",
       "    <tr>\n",
       "      <th>15327</th>\n",
       "      <td>['Tybalt', 'Tybalt', 'the', 'best', 'friend']</td>\n",
       "      <td>1.0</td>\n",
       "    </tr>\n",
       "    <tr>\n",
       "      <th>15328</th>\n",
       "      <td>['Tybalt', 'the', 'best', 'friend', 'I']</td>\n",
       "      <td>1.0</td>\n",
       "    </tr>\n",
       "    <tr>\n",
       "      <th>23348</th>\n",
       "      <td>['And', 'in', 'her', 'best', 'array']</td>\n",
       "      <td>1.0</td>\n",
       "    </tr>\n",
       "    <tr>\n",
       "      <th>23347</th>\n",
       "      <td>['is', 'And', 'in', 'her', 'best']</td>\n",
       "      <td>1.0</td>\n",
       "    </tr>\n",
       "  </tbody>\n",
       "</table>\n",
       "</div>"
      ],
      "text/plain": [
       "                                              nGrams  nGrams Polarity\n",
       "17315        ['her', 'best', 'array', 'But', 'like']              1.0\n",
       "21193      ['In', 'thy', 'best', 'robes', 'uncover']              1.0\n",
       "3589          ['now', 'shows', 'best', 'ROMEO', 'I']              1.0\n",
       "2627       ['To', 'call', 'hers', 'exquisite', 'in']              1.0\n",
       "3587        ['well', 'that', 'now', 'shows', 'best']              1.0\n",
       "13951     ['best', 'MERCUTIO', 'Help', 'me', 'into']              1.0\n",
       "15327  ['Tybalt', 'Tybalt', 'the', 'best', 'friend']              1.0\n",
       "15328       ['Tybalt', 'the', 'best', 'friend', 'I']              1.0\n",
       "23348          ['And', 'in', 'her', 'best', 'array']              1.0\n",
       "23347             ['is', 'And', 'in', 'her', 'best']              1.0"
      ]
     },
     "execution_count": 38,
     "metadata": {
      "tags": []
     },
     "output_type": "execute_result"
    }
   ],
   "source": [
    "nGrams_pol_df = pd.DataFrame({\"nGrams\": nGrams, \"nGrams Polarity\": nGrams_pol}).sort_values(by=['nGrams Polarity'], ascending=False)\n",
    "nGrams_pol_df.head(10)"
   ]
  },
  {
   "cell_type": "code",
   "execution_count": 39,
   "metadata": {
    "id": "Trz3HuSrQbwy"
   },
   "outputs": [],
   "source": [
    "# Problem 6\n",
    "import spacy\n",
    "from pathlib import Path\n",
    "nlp = spacy.load('en')"
   ]
  },
  {
   "cell_type": "code",
   "execution_count": 45,
   "metadata": {
    "id": "CuLig032Qbwz"
   },
   "outputs": [],
   "source": [
    "rnj = nlp(Path('RomeoJuliet.txt').read_text())\n",
    "macbeth = nlp(Path('Macbeth.txt').read_text())\n",
    "lesMis = nlp(Path('Les Miserable.txt').read_text())\n",
    "hamlet = nlp(Path('Hamlet.txt').read_text())"
   ]
  },
  {
   "cell_type": "code",
   "execution_count": 47,
   "metadata": {
    "colab": {
     "base_uri": "https://localhost:8080/"
    },
    "id": "iWPri-qJR7HO",
    "outputId": "ae805a50-9dec-4db2-cc35-0ee79441b115"
   },
   "outputs": [
    {
     "name": "stdout",
     "output_type": "stream",
     "text": [
      "Similarity between Hamlet & Macbeth: 0.9658\n",
      "Similarity between Macbeth & Les Mis: 0.8894\n",
      "Similarity between Hamlet & Les Mis: 0.9373\n"
     ]
    },
    {
     "name": "stderr",
     "output_type": "stream",
     "text": [
      "/usr/lib/python3.7/runpy.py:193: ModelsWarning: [W007] The model you're using has no word vectors loaded, so the result of the Doc.similarity method will be based on the tagger, parser and NER, which may not give useful similarity judgements. This may happen if you're using one of the small models, e.g. `en_core_web_sm`, which don't ship with word vectors and only use context-sensitive tensors. You can always add your own word vectors, or use one of the larger models instead if available.\n",
      "  \"__main__\", mod_spec)\n",
      "/usr/lib/python3.7/runpy.py:193: ModelsWarning: [W007] The model you're using has no word vectors loaded, so the result of the Doc.similarity method will be based on the tagger, parser and NER, which may not give useful similarity judgements. This may happen if you're using one of the small models, e.g. `en_core_web_sm`, which don't ship with word vectors and only use context-sensitive tensors. You can always add your own word vectors, or use one of the larger models instead if available.\n",
      "  \"__main__\", mod_spec)\n",
      "/usr/lib/python3.7/runpy.py:193: ModelsWarning: [W007] The model you're using has no word vectors loaded, so the result of the Doc.similarity method will be based on the tagger, parser and NER, which may not give useful similarity judgements. This may happen if you're using one of the small models, e.g. `en_core_web_sm`, which don't ship with word vectors and only use context-sensitive tensors. You can always add your own word vectors, or use one of the larger models instead if available.\n",
      "  \"__main__\", mod_spec)\n"
     ]
    }
   ],
   "source": [
    "print(\"Similarity between Hamlet & Macbeth:\", round(macbeth.similarity(hamlet), 4))\n",
    "print(\"Similarity between Macbeth & Les Mis:\", round(lesMis.similarity(macbeth), 4))\n",
    "print(\"Similarity between Hamlet & Les Mis:\", round(hamlet.similarity(lesMis), 4))"
   ]
  },
  {
   "cell_type": "markdown",
   "metadata": {
    "id": "pynOD-MyWcYq"
   },
   "source": [
    "## Stemming, Lemmatization & WordNet"
   ]
  },
  {
   "cell_type": "code",
   "execution_count": 51,
   "metadata": {
    "colab": {
     "base_uri": "https://localhost:8080/"
    },
    "id": "DqkiZEEeUIGs",
    "outputId": "59f79228-ee64-47c2-b68f-4ba702e1983e"
   },
   "outputs": [
    {
     "name": "stdout",
     "output_type": "stream",
     "text": [
      "Stem: anticip\n",
      "Lemma: anticipation\n"
     ]
    }
   ],
   "source": [
    "#nltk.download('wordnet')\n",
    "from textblob import Word\n",
    "# Problem 1 & 2\n",
    "word1 = Word(\"anticipation\")\n",
    "print(\"Stem:\", word1.stem())\n",
    "print(\"Lemma:\", word1.lemmatize())"
   ]
  },
  {
   "cell_type": "code",
   "execution_count": 67,
   "metadata": {
    "colab": {
     "base_uri": "https://localhost:8080/"
    },
    "id": "XH-JiKqcWNh7",
    "outputId": "9b1155d2-922c-4661-ee85-bfd8618ddaaf"
   },
   "outputs": [
    {
     "name": "stdout",
     "output_type": "stream",
     "text": [
      "{Synset('angry.a.01'), Synset('angry.s.02'), Synset('angry.s.03')}\n"
     ]
    }
   ],
   "source": [
    "# Problem 3\n",
    "angry = Word(\"angry\")\n",
    "angry_synsets = angry.synsets\n",
    "syn = set()\n",
    "\n",
    "for i in angry_synsets:\n",
    "  for lemma in i.lemmas():\n",
    "    syn.add(i)\n",
    "print(syn)"
   ]
  },
  {
   "cell_type": "code",
   "execution_count": 72,
   "metadata": {
    "colab": {
     "base_uri": "https://localhost:8080/"
    },
    "id": "cah73_7uW-pK",
    "outputId": "1067fd48-8532-45a4-ae47-b24c060599af"
   },
   "outputs": [
    {
     "data": {
      "text/plain": [
       "[Lemma('unangry.a.01.unangry')]"
      ]
     },
     "execution_count": 72,
     "metadata": {
      "tags": []
     },
     "output_type": "execute_result"
    }
   ],
   "source": [
    "# Problem 4\n",
    "lemmas = angry.synsets[0].lemmas()\n",
    "lemmas[0].antonyms()"
   ]
  },
  {
   "cell_type": "markdown",
   "metadata": {
    "id": "rVhQNdRnaYua"
   },
   "source": [
    "### Readability Assessment "
   ]
  },
  {
   "cell_type": "code",
   "execution_count": 75,
   "metadata": {
    "id": "almyLN80aez-"
   },
   "outputs": [],
   "source": [
    "#!pip install textatistic"
   ]
  },
  {
   "cell_type": "code",
   "execution_count": 80,
   "metadata": {
    "colab": {
     "base_uri": "https://localhost:8080/"
    },
    "id": "DbT9zkK-aikd",
    "outputId": "d63b0d49-0b39-4752-f1fb-b1ff6132cfc8"
   },
   "outputs": [
    {
     "name": "stdout",
     "output_type": "stream",
     "text": [
      "Romeo & Juliet readability: {'char_count': 131781, 'word_count': 29318, 'sent_count': 3403, 'sybl_count': 35399, 'notdalechall_count': 6922, 'polysyblword_count': 1042, 'flesch_score': 95.94310121673479, 'fleschkincaid_score': 2.0174821979546937, 'gunningfog_score': 4.867787989863079, 'smog_score': 6.29026977403745, 'dalechall_score': 7.791850713812807}\n"
     ]
    }
   ],
   "source": [
    "from textatistic import Textatistic\n",
    "rnj = open('RomeoJuliet.txt').read()\n",
    "readability1 = Textatistic(rnj)\n",
    "print(\"Romeo & Juliet readability:\", readability1.dict())"
   ]
  },
  {
   "cell_type": "code",
   "execution_count": 81,
   "metadata": {
    "colab": {
     "base_uri": "https://localhost:8080/"
    },
    "id": "ZTzb265Aa56P",
    "outputId": "58819339-de0b-4d6d-a041-c11cbbc95c75"
   },
   "outputs": [
    {
     "name": "stdout",
     "output_type": "stream",
     "text": [
      "Hamlet readability: {'char_count': 160543, 'word_count': 35310, 'sent_count': 4098, 'sybl_count': 43997, 'notdalechall_count': 8021, 'polysyblword_count': 1459, 'flesch_score': 92.67598280115092, 'fleschkincaid_score': 2.473442610171446, 'gunningfog_score': 5.099348875241379, 'smog_score': 6.537782921689099, 'dalechall_score': 7.6507209880858635}\n"
     ]
    }
   ],
   "source": [
    "hamlet = open('Hamlet.txt').read()\n",
    "readability2 = Textatistic(hamlet)\n",
    "print(\"Hamlet readability:\", readability2.dict())"
   ]
  },
  {
   "cell_type": "code",
   "execution_count": 82,
   "metadata": {
    "colab": {
     "base_uri": "https://localhost:8080/"
    },
    "id": "cSuOT4OfbWWm",
    "outputId": "d0d1a39e-3eb6-4ccf-ac5a-c192dc39a51d"
   },
   "outputs": [
    {
     "name": "stdout",
     "output_type": "stream",
     "text": [
      "Les Miserables readability: {'char_count': 562037, 'word_count': 122869, 'sent_count': 7965, 'sybl_count': 157191, 'notdalechall_count': 25994, 'polysyblword_count': 6652, 'flesch_score': 82.94548596276992, 'fleschkincaid_score': 5.522374808844765, 'gunningfog_score': 8.33600414022729, 'smog_score': 8.349793125977707, 'dalechall_score': 7.742146380254521}\n"
     ]
    }
   ],
   "source": [
    "lesMis = open('Les Miserable.txt').read()\n",
    "readability3 = Textatistic(lesMis)\n",
    "print(\"Les Miserables readability:\", readability3.dict())"
   ]
  },
  {
   "cell_type": "code",
   "execution_count": null,
   "metadata": {
    "id": "LXQYA4wWbgjm"
   },
   "outputs": [],
   "source": []
  }
 ],
 "metadata": {
  "colab": {
   "collapsed_sections": [],
   "name": "HW4.ipynb",
   "provenance": []
  },
  "kernelspec": {
   "display_name": "Python 3",
   "language": "python",
   "name": "python3"
  },
  "language_info": {
   "codemirror_mode": {
    "name": "ipython",
    "version": 3
   },
   "file_extension": ".py",
   "mimetype": "text/x-python",
   "name": "python",
   "nbconvert_exporter": "python",
   "pygments_lexer": "ipython3",
   "version": "3.7.4"
  }
 },
 "nbformat": 4,
 "nbformat_minor": 1
}
