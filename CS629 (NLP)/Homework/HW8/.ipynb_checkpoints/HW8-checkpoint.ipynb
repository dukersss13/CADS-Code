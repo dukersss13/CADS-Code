{
 "cells": [
  {
   "cell_type": "code",
   "execution_count": 17,
   "metadata": {},
   "outputs": [],
   "source": [
    "import numpy as np\n",
    "import pandas as pd\n",
    "from scipy.linalg import svd\n",
    "import matplotlib.pyplot as plt\n",
    "%matplotlib inline"
   ]
  },
  {
   "cell_type": "code",
   "execution_count": 2,
   "metadata": {},
   "outputs": [
    {
     "name": "stdout",
     "output_type": "stream",
     "text": [
      "V:\n",
      " [[-0.70710678 -0.70710678]\n",
      " [-0.70710678  0.70710678]]\n",
      "Sigma:\n",
      " [3.46410162 3.16227766]\n",
      "Ustar:\n",
      " [[-4.08248290e-01 -8.16496581e-01 -4.08248290e-01]\n",
      " [-8.94427191e-01  4.47213595e-01  5.26260748e-16]\n",
      " [-1.82574186e-01 -3.65148372e-01  9.12870929e-01]]\n",
      "Original:\n",
      " [[ 3  1  1]\n",
      " [-1  3  1]]\n",
      "Verified Matrix:\n",
      " [[ 3.  1.  1.]\n",
      " [-1.  3.  1.]]\n"
     ]
    }
   ],
   "source": [
    "# Problem 1\n",
    "A = np.array([[3,1,1],[-1,3,1]])\n",
    "V, Sigma, Ustar = svd(A)\n",
    "\n",
    "print(\"V:\\n\", V)\n",
    "print(\"Sigma:\\n\", Sigma)\n",
    "print(\"Ustar:\\n\", Ustar)\n",
    "\n",
    "sigmaMatrix = np.diag(Sigma)\n",
    "z = np.zeros((2,1))\n",
    "sigma_extended = np.hstack((sigmaMatrix, z))\n",
    "\n",
    "A_ = V @ sigma_extended @ Ustar\n",
    "print(\"Original:\\n\", A)\n",
    "print(\"Verified Matrix:\\n\", A_)"
   ]
  },
  {
   "cell_type": "code",
   "execution_count": 3,
   "metadata": {},
   "outputs": [
    {
     "name": "stdout",
     "output_type": "stream",
     "text": [
      "V:\n",
      " [[-0.57735027 -0.70710678  0.40824829]\n",
      " [-0.57735027  0.         -0.81649658]\n",
      " [-0.57735027  0.70710678  0.40824829]]\n",
      "Sigma:\n",
      " [1.73205081 1.41421356]\n",
      "Ustar:\n",
      " [[-0. -1.]\n",
      " [-1. -0.]]\n",
      "Original:\n",
      " [[ 1  1]\n",
      " [ 0  1]\n",
      " [-1  1]]\n",
      "Verified Matrix:\n",
      " [[ 1.  1.]\n",
      " [ 0.  1.]\n",
      " [-1.  1.]]\n"
     ]
    }
   ],
   "source": [
    "# Problem 1 cont.\n",
    "A2 = np.array([[1,1],[0,1],[-1,1]])\n",
    "V2, Sigma2, Ustar2 = svd(A2)\n",
    "\n",
    "sigmaMatrix2 = np.diag(Sigma2)\n",
    "z = np.zeros((1,2))\n",
    "sigma_extended2 = np.vstack((sigmaMatrix2, z))\n",
    "A_2 = V2 @ sigma_extended2 @ Ustar2\n",
    "print(\"V:\\n\", V2)\n",
    "print(\"Sigma:\\n\", Sigma2)\n",
    "print(\"Ustar:\\n\", Ustar2)\n",
    "\n",
    "print(\"Original:\\n\", A2)\n",
    "print(\"Verified Matrix:\\n\", A_2)"
   ]
  },
  {
   "cell_type": "code",
   "execution_count": 4,
   "metadata": {},
   "outputs": [],
   "source": [
    "# Problem 2.1\n",
    "from sklearn.feature_extraction.text import CountVectorizer\n",
    "from sklearn.decomposition import TruncatedSVD\n",
    "\n",
    "p1 = 'runs'\n",
    "p2 = 'runs pitcher innings'\n",
    "p3 = 'pitcher'\n",
    "p4 = 'touchdown'\n",
    "p5 = 'quarterback'\n",
    "p6 = 'touchdown quarterback'\n",
    "corpus = [p1,p2,p3,p4,p5,p6]"
   ]
  },
  {
   "cell_type": "code",
   "execution_count": 5,
   "metadata": {},
   "outputs": [
    {
     "data": {
      "text/html": [
       "<div>\n",
       "<style scoped>\n",
       "    .dataframe tbody tr th:only-of-type {\n",
       "        vertical-align: middle;\n",
       "    }\n",
       "\n",
       "    .dataframe tbody tr th {\n",
       "        vertical-align: top;\n",
       "    }\n",
       "\n",
       "    .dataframe thead th {\n",
       "        text-align: right;\n",
       "    }\n",
       "</style>\n",
       "<table border=\"1\" class=\"dataframe\">\n",
       "  <thead>\n",
       "    <tr style=\"text-align: right;\">\n",
       "      <th></th>\n",
       "      <th>innings</th>\n",
       "      <th>pitcher</th>\n",
       "      <th>quarterback</th>\n",
       "      <th>runs</th>\n",
       "      <th>touchdown</th>\n",
       "    </tr>\n",
       "  </thead>\n",
       "  <tbody>\n",
       "    <tr>\n",
       "      <td>0</td>\n",
       "      <td>0</td>\n",
       "      <td>0</td>\n",
       "      <td>0</td>\n",
       "      <td>1</td>\n",
       "      <td>0</td>\n",
       "    </tr>\n",
       "    <tr>\n",
       "      <td>1</td>\n",
       "      <td>1</td>\n",
       "      <td>1</td>\n",
       "      <td>0</td>\n",
       "      <td>1</td>\n",
       "      <td>0</td>\n",
       "    </tr>\n",
       "    <tr>\n",
       "      <td>2</td>\n",
       "      <td>0</td>\n",
       "      <td>1</td>\n",
       "      <td>0</td>\n",
       "      <td>0</td>\n",
       "      <td>0</td>\n",
       "    </tr>\n",
       "    <tr>\n",
       "      <td>3</td>\n",
       "      <td>0</td>\n",
       "      <td>0</td>\n",
       "      <td>0</td>\n",
       "      <td>0</td>\n",
       "      <td>1</td>\n",
       "    </tr>\n",
       "    <tr>\n",
       "      <td>4</td>\n",
       "      <td>0</td>\n",
       "      <td>0</td>\n",
       "      <td>1</td>\n",
       "      <td>0</td>\n",
       "      <td>0</td>\n",
       "    </tr>\n",
       "    <tr>\n",
       "      <td>5</td>\n",
       "      <td>0</td>\n",
       "      <td>0</td>\n",
       "      <td>1</td>\n",
       "      <td>0</td>\n",
       "      <td>1</td>\n",
       "    </tr>\n",
       "  </tbody>\n",
       "</table>\n",
       "</div>"
      ],
      "text/plain": [
       "   innings  pitcher  quarterback  runs  touchdown\n",
       "0        0        0            0     1          0\n",
       "1        1        1            0     1          0\n",
       "2        0        1            0     0          0\n",
       "3        0        0            0     0          1\n",
       "4        0        0            1     0          0\n",
       "5        0        0            1     0          1"
      ]
     },
     "execution_count": 5,
     "metadata": {},
     "output_type": "execute_result"
    }
   ],
   "source": [
    "vectorizer = CountVectorizer()\n",
    "bow = vectorizer.fit_transform(corpus)\n",
    "df = pd.DataFrame(bow.toarray(), columns = vectorizer.get_feature_names())\n",
    "df"
   ]
  },
  {
   "cell_type": "code",
   "execution_count": 6,
   "metadata": {},
   "outputs": [
    {
     "name": "stdout",
     "output_type": "stream",
     "text": [
      "Cosine Similarity:\n",
      " [[1.         0.57735027 0.         0.         0.         0.        ]\n",
      " [0.57735027 1.         0.57735027 0.         0.         0.        ]\n",
      " [0.         0.57735027 1.         0.         0.         0.        ]\n",
      " [0.         0.         0.         1.         0.         0.70710678]\n",
      " [0.         0.         0.         0.         1.         0.70710678]\n",
      " [0.         0.         0.         0.70710678 0.70710678 1.        ]] \n",
      "\n",
      "Cosine Distance:\n",
      " [[ 0.00000000e+00  4.22649731e-01  1.00000000e+00  1.00000000e+00\n",
      "   1.00000000e+00  1.00000000e+00]\n",
      " [ 4.22649731e-01 -2.22044605e-16  4.22649731e-01  1.00000000e+00\n",
      "   1.00000000e+00  1.00000000e+00]\n",
      " [ 1.00000000e+00  4.22649731e-01  0.00000000e+00  1.00000000e+00\n",
      "   1.00000000e+00  1.00000000e+00]\n",
      " [ 1.00000000e+00  1.00000000e+00  1.00000000e+00  0.00000000e+00\n",
      "   1.00000000e+00  2.92893219e-01]\n",
      " [ 1.00000000e+00  1.00000000e+00  1.00000000e+00  1.00000000e+00\n",
      "   0.00000000e+00  2.92893219e-01]\n",
      " [ 1.00000000e+00  1.00000000e+00  1.00000000e+00  2.92893219e-01\n",
      "   2.92893219e-01  2.22044605e-16]]\n"
     ]
    }
   ],
   "source": [
    "bow_array = bow.toarray()\n",
    "norm_list = []\n",
    "\n",
    "def norm(array):\n",
    "    return array/np.linalg.norm(array)\n",
    "\n",
    "for i in bow_array:\n",
    "    norm_list.append(norm(i))\n",
    "    \n",
    "def cosine_sim(p1,p2):\n",
    "    return p1 @ p2\n",
    "\n",
    "numDocu = len(corpus)\n",
    "cos_simMatrix = np.zeros((numDocu, numDocu))\n",
    "cos_distMatrix = np.zeros((numDocu, numDocu))\n",
    "\n",
    "for i in range(numDocu):\n",
    "    for j in range(numDocu):\n",
    "        cos_simMatrix[i,j] = cosine_sim(norm_list[i], norm_list[j])\n",
    "        cos_distMatrix[i,j] = 1 - cos_simMatrix[i,j]\n",
    "        \n",
    "print(\"Cosine Similarity:\\n\", cos_simMatrix,\"\\n\")\n",
    "print(\"Cosine Distance:\\n\", cos_distMatrix)"
   ]
  },
  {
   "cell_type": "code",
   "execution_count": 7,
   "metadata": {},
   "outputs": [
    {
     "name": "stdout",
     "output_type": "stream",
     "text": [
      "Term-Word-Document Matric (TWD):\n",
      " [[0 1 0 0 0 0]\n",
      " [0 1 1 0 0 0]\n",
      " [0 0 0 0 1 1]\n",
      " [1 1 0 0 0 0]\n",
      " [0 0 0 1 0 1]] \n",
      "\n",
      "Document Term Matrix (DTM):\n",
      " [[0 0 0 1 0]\n",
      " [1 1 0 1 0]\n",
      " [0 1 0 0 0]\n",
      " [0 0 0 0 1]\n",
      " [0 0 1 0 0]\n",
      " [0 0 1 0 1]]\n"
     ]
    }
   ],
   "source": [
    "# Problem 2.2\n",
    "A_word = bow.todense().T\n",
    "print(\"Term-Word-Document Matric (TWD):\\n\", A_word, \"\\n\")\n",
    "A_document = bow.todense()\n",
    "print(\"Document Term Matrix (DTM):\\n\", A_document)"
   ]
  },
  {
   "cell_type": "code",
   "execution_count": 8,
   "metadata": {},
   "outputs": [
    {
     "name": "stdout",
     "output_type": "stream",
     "text": [
      "TDM:\n",
      " [[ 8.88073834e-01 -0.00000000e+00]\n",
      " [ 1.21313142e+00 -3.92840743e-16]\n",
      " [ 3.36711608e-16  1.22474487e+00]\n",
      " [ 1.21313142e+00 -3.55016232e-16]\n",
      " [ 4.04053930e-16  1.22474487e+00]] \n",
      "\n",
      "DTM:\n",
      " [[ 6.27963030e-01 -1.63222602e-16]\n",
      " [ 1.71562690e+00 -2.22691508e-16]\n",
      " [ 6.27963030e-01 -1.27060763e-15]\n",
      " [ 5.34046268e-16  7.07106781e-01]\n",
      " [ 4.59984725e-16  7.07106781e-01]\n",
      " [ 9.80373155e-16  1.41421356e+00]]\n"
     ]
    }
   ],
   "source": [
    "# Problem 2.3 \n",
    "sigma_significant = 2\n",
    "\n",
    "svd_ = TruncatedSVD(n_components = sigma_significant)\n",
    "lsa1 = svd_.fit_transform(A_word)\n",
    "print(\"TDM:\\n\", lsa1, \"\\n\")\n",
    "\n",
    "lsa2 = svd_.fit_transform(A_document)\n",
    "print(\"DTM:\\n\", lsa2)"
   ]
  },
  {
   "cell_type": "code",
   "execution_count": 15,
   "metadata": {},
   "outputs": [
    {
     "data": {
      "text/html": [
       "<div>\n",
       "<style scoped>\n",
       "    .dataframe tbody tr th:only-of-type {\n",
       "        vertical-align: middle;\n",
       "    }\n",
       "\n",
       "    .dataframe tbody tr th {\n",
       "        vertical-align: top;\n",
       "    }\n",
       "\n",
       "    .dataframe thead th {\n",
       "        text-align: right;\n",
       "    }\n",
       "</style>\n",
       "<table border=\"1\" class=\"dataframe\">\n",
       "  <thead>\n",
       "    <tr style=\"text-align: right;\">\n",
       "      <th></th>\n",
       "      <th>Topic1</th>\n",
       "      <th>Topic2</th>\n",
       "      <th>corpus</th>\n",
       "    </tr>\n",
       "  </thead>\n",
       "  <tbody>\n",
       "    <tr>\n",
       "      <td>0</td>\n",
       "      <td>6.279630e-01</td>\n",
       "      <td>-1.632226e-16</td>\n",
       "      <td>runs</td>\n",
       "    </tr>\n",
       "    <tr>\n",
       "      <td>1</td>\n",
       "      <td>1.715627e+00</td>\n",
       "      <td>-2.226915e-16</td>\n",
       "      <td>runs pitcher innings</td>\n",
       "    </tr>\n",
       "    <tr>\n",
       "      <td>2</td>\n",
       "      <td>6.279630e-01</td>\n",
       "      <td>-1.270608e-15</td>\n",
       "      <td>pitcher</td>\n",
       "    </tr>\n",
       "    <tr>\n",
       "      <td>3</td>\n",
       "      <td>5.340463e-16</td>\n",
       "      <td>7.071068e-01</td>\n",
       "      <td>touchdown</td>\n",
       "    </tr>\n",
       "    <tr>\n",
       "      <td>4</td>\n",
       "      <td>4.599847e-16</td>\n",
       "      <td>7.071068e-01</td>\n",
       "      <td>quarterback</td>\n",
       "    </tr>\n",
       "    <tr>\n",
       "      <td>5</td>\n",
       "      <td>9.803732e-16</td>\n",
       "      <td>1.414214e+00</td>\n",
       "      <td>touchdown quarterback</td>\n",
       "    </tr>\n",
       "  </tbody>\n",
       "</table>\n",
       "</div>"
      ],
      "text/plain": [
       "         Topic1        Topic2                 corpus\n",
       "0  6.279630e-01 -1.632226e-16                   runs\n",
       "1  1.715627e+00 -2.226915e-16   runs pitcher innings\n",
       "2  6.279630e-01 -1.270608e-15                pitcher\n",
       "3  5.340463e-16  7.071068e-01              touchdown\n",
       "4  4.599847e-16  7.071068e-01            quarterback\n",
       "5  9.803732e-16  1.414214e+00  touchdown quarterback"
      ]
     },
     "execution_count": 15,
     "metadata": {},
     "output_type": "execute_result"
    }
   ],
   "source": [
    "df2 = pd.DataFrame(lsa2, columns = ['Topic1', 'Topic2'])\n",
    "df2['corpus'] = corpus\n",
    "df2"
   ]
  },
  {
   "cell_type": "code",
   "execution_count": 30,
   "metadata": {},
   "outputs": [
    {
     "data": {
      "image/png": "[encoded data removed]",
      "text/plain": [
       "<Figure size 432x288 with 1 Axes>"
      ]
     },
     "metadata": {
      "needs_background": "light"
     },
     "output_type": "display_data"
    }
   ],
   "source": [
    "plt.scatter(np.abs(df2.iloc[:,0]), np.abs(df2.iloc[:,1]), color = 'r')\n",
    "plt.axhline(y=0, color='k')\n",
    "plt.axvline(x=0, color='k')\n",
    "plt.xlabel('Topic 1')\n",
    "plt.ylabel('Topic 2')\n",
    "plt.show()"
   ]
  },
  {
   "cell_type": "code",
   "execution_count": 32,
   "metadata": {},
   "outputs": [
    {
     "data": {
      "text/plain": [
       "['runs',\n",
       " 'runs pitcher innings',\n",
       " 'pitcher',\n",
       " 'touchdown',\n",
       " 'quarterback',\n",
       " 'touchdown quarterback']"
      ]
     },
     "execution_count": 32,
     "metadata": {},
     "output_type": "execute_result"
    }
   ],
   "source": [
    "# Doc1 was more appropriate for Topic 1 & Doc2 was more appropriate for Topic 2\n",
    "# 'runs pitcher innings' & 'pitcher' describe baseball (Topic 1) while 'touchdown' & 'quarterback' describe football (Topic2)"
   ]
  }
 ],
 "metadata": {
  "kernelspec": {
   "display_name": "Python 3",
   "language": "python",
   "name": "python3"
  },
  "language_info": {
   "codemirror_mode": {
    "name": "ipython",
    "version": 3
   },
   "file_extension": ".py",
   "mimetype": "text/x-python",
   "name": "python",
   "nbconvert_exporter": "python",
   "pygments_lexer": "ipython3",
   "version": "3.7.4"
  }
 },
 "nbformat": 4,
 "nbformat_minor": 2
}
