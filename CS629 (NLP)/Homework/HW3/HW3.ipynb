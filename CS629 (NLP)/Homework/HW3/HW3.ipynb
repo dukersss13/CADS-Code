{
 "cells": [
  {
   "cell_type": "code",
   "execution_count": 17,
   "metadata": {},
   "outputs": [],
   "source": [
    "import re\n",
    "import numpy as np\n",
    "import pandas as pd\n",
    "import nltk \n",
    "from textblob import TextBlob\n",
    "from nltk.corpus import stopwords"
   ]
  },
  {
   "cell_type": "markdown",
   "metadata": {},
   "source": [
    "### Note\n",
    "My answers will be slightly different than yours because my answers ignore punctuation marks & don't count them as words."
   ]
  },
  {
   "cell_type": "code",
   "execution_count": 18,
   "metadata": {},
   "outputs": [],
   "source": [
    "textTotal = open('RomeoJuliet.txt').read()\n",
    "blobTotal = TextBlob(textTotal)\n",
    "numChars = 1000\n",
    "text1000 = textTotal[0:numChars+1]\n",
    "blob1000 = TextBlob(text1000)"
   ]
  },
  {
   "cell_type": "code",
   "execution_count": 19,
   "metadata": {},
   "outputs": [
    {
     "name": "stdout",
     "output_type": "stream",
     "text": [
      "['Project', 'Gutenbergâ€™s', 'Romeo', 'and', 'Juliet', 'by', 'William', 'Shakespeare', 'This', 'eBook'] \n",
      "\n",
      "['is', 'for', 'the', 'use', 'of', 'anyone', 'anywhere', 'in', 'the', 'United'] \n",
      "\n",
      "['States', 'and', 'most', 'other', 'parts', 'of', 'the', 'world', 'at', 'no'] \n",
      "\n",
      "['cost', 'and', 'with', 'almost', 'no', 'restrictions', 'whatsoever', 'You', 'may', 'copy'] \n",
      "\n",
      "['it', 'give', 'it', 'away', 'or', 're-use', 'it', 'under', 'the', 'terms'] \n",
      "\n",
      "['of', 'the', 'Project', 'Gutenberg', 'License', 'included', 'with', 'this', 'eBook', 'or'] \n",
      "\n",
      "['online', 'at', 'www.gutenberg.org', 'If', 'you', 'are', 'not', 'located', 'in', 'the'] \n",
      "\n",
      "['United', 'States', 'youâ€™ll', 'have', 'to', 'check', 'the', 'laws', 'of', 'the'] \n",
      "\n",
      "['country', 'where', 'you', 'are', 'located', 'before', 'using', 'this', 'ebook', 'Title'] \n",
      "\n",
      "['Romeo', 'and', 'Juliet', 'Author', 'William', 'Shakespeare', 'Release', 'Date', 'November', '1998'] \n",
      "\n",
      "['Etext', '1513', 'Last', 'Updated', 'January', '30', '2019', 'Language', 'English', 'Character'] \n",
      "\n",
      "['set', 'encoding', 'UTF-8', 'START', 'OF', 'THIS', 'PROJECT', 'GUTENBERG', 'EBOOK', 'ROMEO'] \n",
      "\n",
      "['AND', 'JULIET', 'This', 'etext', 'was', 'produced', 'by', 'the', 'PG', 'Shakespeare'] \n",
      "\n",
      "['Team', 'a', 'team', 'of', 'about', 'twenty', 'Project', 'Gutenberg', 'volunteers', 'THE'] \n",
      "\n",
      "['TRAGEDY', 'OF', 'ROMEO', 'AND', 'JULIET', 'by', 'William', 'Shakespeare', 'Contents', 'THE'] \n",
      "\n",
      "['PROLOGUE', 'ACT', 'I', 'Scene', 'I', 'A', 'public', 'place', 'Scene', 'II'] \n",
      "\n",
      "['A', 'Street'] \n",
      "\n"
     ]
    }
   ],
   "source": [
    "# Problem 1\n",
    "def print_10_words(blob):\n",
    "    i = 0\n",
    "    while i < len(blob.words):\n",
    "        print(blob.words[i:i+10], \"\\n\")\n",
    "        i += 10\n",
    "print_10_words(blob1000)        "
   ]
  },
  {
   "cell_type": "code",
   "execution_count": 20,
   "metadata": {},
   "outputs": [
    {
     "name": "stdout",
     "output_type": "stream",
     "text": [
      "# of words in the entire text: 29270\n"
     ]
    }
   ],
   "source": [
    "# Problem 2\n",
    "print(\"# of words in the entire text:\", len(blobTotal.words))"
   ]
  },
  {
   "cell_type": "code",
   "execution_count": 21,
   "metadata": {},
   "outputs": [
    {
     "name": "stdout",
     "output_type": "stream",
     "text": [
      "# of unique words in the entire text: 4326\n"
     ]
    }
   ],
   "source": [
    "# Problem 3\n",
    "unique_words = dict(blobTotal.word_counts.items())\n",
    "print(\"# of unique words in the entire text:\", len(unique_words.keys()))"
   ]
  },
  {
   "cell_type": "code",
   "execution_count": 22,
   "metadata": {},
   "outputs": [
    {
     "name": "stdout",
     "output_type": "stream",
     "text": [
      "# of unique words EXCLUDING stop words: 4200\n"
     ]
    }
   ],
   "source": [
    "# Problem 4\n",
    "stop_words = stopwords.words('english')\n",
    "without_stopwords = []\n",
    "for word in unique_words.keys():\n",
    "    if word not in stop_words:\n",
    "        without_stopwords.append(word)\n",
    "        \n",
    "print(\"# of unique words EXCLUDING stop words:\", len(without_stopwords))"
   ]
  },
  {
   "cell_type": "code",
   "execution_count": 23,
   "metadata": {},
   "outputs": [
    {
     "data": {
      "text/html": [
       "<div>\n",
       "<style scoped>\n",
       "    .dataframe tbody tr th:only-of-type {\n",
       "        vertical-align: middle;\n",
       "    }\n",
       "\n",
       "    .dataframe tbody tr th {\n",
       "        vertical-align: top;\n",
       "    }\n",
       "\n",
       "    .dataframe thead th {\n",
       "        text-align: right;\n",
       "    }\n",
       "</style>\n",
       "<table border=\"1\" class=\"dataframe\">\n",
       "  <thead>\n",
       "    <tr style=\"text-align: right;\">\n",
       "      <th></th>\n",
       "      <th>words</th>\n",
       "      <th>frequency</th>\n",
       "    </tr>\n",
       "  </thead>\n",
       "  <tbody>\n",
       "    <tr>\n",
       "      <td>0</td>\n",
       "      <td>the</td>\n",
       "      <td>876</td>\n",
       "    </tr>\n",
       "    <tr>\n",
       "      <td>1</td>\n",
       "      <td>and</td>\n",
       "      <td>809</td>\n",
       "    </tr>\n",
       "    <tr>\n",
       "      <td>2</td>\n",
       "      <td>to</td>\n",
       "      <td>624</td>\n",
       "    </tr>\n",
       "    <tr>\n",
       "      <td>3</td>\n",
       "      <td>i</td>\n",
       "      <td>582</td>\n",
       "    </tr>\n",
       "    <tr>\n",
       "      <td>4</td>\n",
       "      <td>a</td>\n",
       "      <td>543</td>\n",
       "    </tr>\n",
       "    <tr>\n",
       "      <td>5</td>\n",
       "      <td>of</td>\n",
       "      <td>519</td>\n",
       "    </tr>\n",
       "    <tr>\n",
       "      <td>6</td>\n",
       "      <td>in</td>\n",
       "      <td>395</td>\n",
       "    </tr>\n",
       "    <tr>\n",
       "      <td>7</td>\n",
       "      <td>is</td>\n",
       "      <td>367</td>\n",
       "    </tr>\n",
       "    <tr>\n",
       "      <td>8</td>\n",
       "      <td>you</td>\n",
       "      <td>364</td>\n",
       "    </tr>\n",
       "    <tr>\n",
       "      <td>9</td>\n",
       "      <td>that</td>\n",
       "      <td>361</td>\n",
       "    </tr>\n",
       "  </tbody>\n",
       "</table>\n",
       "</div>"
      ],
      "text/plain": [
       "  words  frequency\n",
       "0   the        876\n",
       "1   and        809\n",
       "2    to        624\n",
       "3     i        582\n",
       "4     a        543\n",
       "5    of        519\n",
       "6    in        395\n",
       "7    is        367\n",
       "8   you        364\n",
       "9  that        361"
      ]
     },
     "execution_count": 23,
     "metadata": {},
     "output_type": "execute_result"
    }
   ],
   "source": [
    "# Problem 5 \n",
    "from operator import itemgetter\n",
    "sorted_words = sorted(list(blobTotal.word_counts.items()), key = itemgetter(1), reverse = True)\n",
    "numberTopwords= 10\n",
    "top10Words = sorted_words[0:numberTopwords]\n",
    "df = pd.DataFrame(top10Words, columns = ['words', 'frequency'])\n",
    "df"
   ]
  },
  {
   "cell_type": "code",
   "execution_count": 24,
   "metadata": {},
   "outputs": [
    {
     "data": {
      "text/html": [
       "<div>\n",
       "<style scoped>\n",
       "    .dataframe tbody tr th:only-of-type {\n",
       "        vertical-align: middle;\n",
       "    }\n",
       "\n",
       "    .dataframe tbody tr th {\n",
       "        vertical-align: top;\n",
       "    }\n",
       "\n",
       "    .dataframe thead th {\n",
       "        text-align: right;\n",
       "    }\n",
       "</style>\n",
       "<table border=\"1\" class=\"dataframe\">\n",
       "  <thead>\n",
       "    <tr style=\"text-align: right;\">\n",
       "      <th></th>\n",
       "      <th>Words</th>\n",
       "      <th>Frequency</th>\n",
       "    </tr>\n",
       "  </thead>\n",
       "  <tbody>\n",
       "    <tr>\n",
       "      <td>2</td>\n",
       "      <td>romeo</td>\n",
       "      <td>304</td>\n",
       "    </tr>\n",
       "    <tr>\n",
       "      <td>230</td>\n",
       "      <td>thou</td>\n",
       "      <td>277</td>\n",
       "    </tr>\n",
       "    <tr>\n",
       "      <td>3</td>\n",
       "      <td>juliet</td>\n",
       "      <td>183</td>\n",
       "    </tr>\n",
       "    <tr>\n",
       "      <td>280</td>\n",
       "      <td>thy</td>\n",
       "      <td>170</td>\n",
       "    </tr>\n",
       "    <tr>\n",
       "      <td>126</td>\n",
       "      <td>nurse</td>\n",
       "      <td>149</td>\n",
       "    </tr>\n",
       "    <tr>\n",
       "      <td>119</td>\n",
       "      <td>capulet</td>\n",
       "      <td>141</td>\n",
       "    </tr>\n",
       "    <tr>\n",
       "      <td>244</td>\n",
       "      <td>thee</td>\n",
       "      <td>138</td>\n",
       "    </tr>\n",
       "    <tr>\n",
       "      <td>191</td>\n",
       "      <td>love</td>\n",
       "      <td>137</td>\n",
       "    </tr>\n",
       "    <tr>\n",
       "      <td>205</td>\n",
       "      <td>shall</td>\n",
       "      <td>112</td>\n",
       "    </tr>\n",
       "    <tr>\n",
       "      <td>111</td>\n",
       "      <td>lady</td>\n",
       "      <td>109</td>\n",
       "    </tr>\n",
       "  </tbody>\n",
       "</table>\n",
       "</div>"
      ],
      "text/plain": [
       "       Words  Frequency\n",
       "2      romeo        304\n",
       "230     thou        277\n",
       "3     juliet        183\n",
       "280      thy        170\n",
       "126    nurse        149\n",
       "119  capulet        141\n",
       "244     thee        138\n",
       "191     love        137\n",
       "205    shall        112\n",
       "111     lady        109"
      ]
     },
     "execution_count": 24,
     "metadata": {},
     "output_type": "execute_result"
    }
   ],
   "source": [
    "# Problem 6\n",
    "blob_wordCount = dict(blobTotal.word_counts.items())\n",
    "new_dict = {}\n",
    "for word in blob_wordCount.keys():\n",
    "    if word not in stop_words:\n",
    "        d = {word: blob_wordCount[word]}\n",
    "        new_dict.update(d)\n",
    "new_dict_df = pd.DataFrame({'Words': list(new_dict.keys()), 'Frequency': list(new_dict.values())})\n",
    "new_dict_df.sort_values(by=['Frequency'], ascending=False).head(10)"
   ]
  },
  {
   "cell_type": "code",
   "execution_count": 25,
   "metadata": {},
   "outputs": [
    {
     "name": "stdout",
     "output_type": "stream",
     "text": [
      "['project gutenbergâ€™s romeo', 'juliet', 'william shakespeare'] \n",
      "\n",
      "['restrictions whatsoever', 'project gutenberg license', 'title'] \n",
      "\n",
      "['romeo', 'juliet author', 'william shakespeare release date'] \n",
      "\n",
      "['november', 'etext', 'updated'] \n",
      "\n",
      "['january', 'language', 'english character'] \n",
      "\n",
      "['utf-8', 'start of this project gutenberg ebook romeo and juliet', 'pg shakespeare team'] \n",
      "\n",
      "['project gutenberg', 'the tragedy of romeo and juliet', 'william shakespeare contents the prologue'] \n",
      "\n",
      "['act', 'scene', 'public place'] \n",
      "\n",
      "['scene ii'] \n",
      "\n"
     ]
    }
   ],
   "source": [
    "# Problem 7\n",
    "i = 0\n",
    "while i < len(blob1000.noun_phrases):\n",
    "    print(blob1000.noun_phrases[i:i+3], \"\\n\")\n",
    "    i += 3"
   ]
  },
  {
   "cell_type": "code",
   "execution_count": 26,
   "metadata": {},
   "outputs": [
    {
     "name": "stdout",
     "output_type": "stream",
     "text": [
      "# of noun phrases in the entire text: 4640\n"
     ]
    }
   ],
   "source": [
    "# Problem 8 \n",
    "print(\"# of noun phrases in the entire text:\", len(blobTotal.noun_phrases))"
   ]
  },
  {
   "cell_type": "code",
   "execution_count": 27,
   "metadata": {},
   "outputs": [
    {
     "data": {
      "text/html": [
       "<div>\n",
       "<style scoped>\n",
       "    .dataframe tbody tr th:only-of-type {\n",
       "        vertical-align: middle;\n",
       "    }\n",
       "\n",
       "    .dataframe tbody tr th {\n",
       "        vertical-align: top;\n",
       "    }\n",
       "\n",
       "    .dataframe thead th {\n",
       "        text-align: right;\n",
       "    }\n",
       "</style>\n",
       "<table border=\"1\" class=\"dataframe\">\n",
       "  <thead>\n",
       "    <tr style=\"text-align: right;\">\n",
       "      <th></th>\n",
       "      <th>Nouns</th>\n",
       "      <th>Frequency</th>\n",
       "    </tr>\n",
       "  </thead>\n",
       "  <tbody>\n",
       "    <tr>\n",
       "      <td>0</td>\n",
       "      <td>romeo</td>\n",
       "      <td>280</td>\n",
       "    </tr>\n",
       "    <tr>\n",
       "      <td>1</td>\n",
       "      <td>juliet</td>\n",
       "      <td>167</td>\n",
       "    </tr>\n",
       "    <tr>\n",
       "      <td>2</td>\n",
       "      <td>nurse</td>\n",
       "      <td>131</td>\n",
       "    </tr>\n",
       "    <tr>\n",
       "      <td>3</td>\n",
       "      <td>capulet</td>\n",
       "      <td>86</td>\n",
       "    </tr>\n",
       "    <tr>\n",
       "      <td>4</td>\n",
       "      <td>mercutio</td>\n",
       "      <td>81</td>\n",
       "    </tr>\n",
       "    <tr>\n",
       "      <td>5</td>\n",
       "      <td>benvolio</td>\n",
       "      <td>72</td>\n",
       "    </tr>\n",
       "    <tr>\n",
       "      <td>6</td>\n",
       "      <td>iâ€™ll</td>\n",
       "      <td>71</td>\n",
       "    </tr>\n",
       "    <tr>\n",
       "      <td>7</td>\n",
       "      <td>tybalt</td>\n",
       "      <td>67</td>\n",
       "    </tr>\n",
       "    <tr>\n",
       "      <td>8</td>\n",
       "      <td>friar lawrence</td>\n",
       "      <td>59</td>\n",
       "    </tr>\n",
       "    <tr>\n",
       "      <td>9</td>\n",
       "      <td>paris</td>\n",
       "      <td>53</td>\n",
       "    </tr>\n",
       "  </tbody>\n",
       "</table>\n",
       "</div>"
      ],
      "text/plain": [
       "            Nouns  Frequency\n",
       "0           romeo        280\n",
       "1          juliet        167\n",
       "2           nurse        131\n",
       "3         capulet         86\n",
       "4        mercutio         81\n",
       "5        benvolio         72\n",
       "6          iâ€™ll         71\n",
       "7          tybalt         67\n",
       "8  friar lawrence         59\n",
       "9           paris         53"
      ]
     },
     "execution_count": 27,
     "metadata": {},
     "output_type": "execute_result"
    }
   ],
   "source": [
    "# Problem 9 \n",
    "noun_phrases = blobTotal.noun_phrases\n",
    "np_df = pd.DataFrame(pd.Series(noun_phrases).value_counts().reset_index())\n",
    "np_df.columns = ['Nouns', 'Frequency']\n",
    "np_df.sort_values(by=['Frequency'], ascending=False).head(10)"
   ]
  },
  {
   "cell_type": "code",
   "execution_count": 28,
   "metadata": {},
   "outputs": [
    {
     "name": "stdout",
     "output_type": "stream",
     "text": [
      "['WATCH', 'WATCH', 'WATCH', 'WATCH', 'WATCH', 'WATCH', 'WATCH', 'WATCH', 'WARRANTY', 'WARRANTY', 'WARRANTIES', 'WARRANTIES']\n"
     ]
    }
   ],
   "source": [
    "# Problem 10\n",
    "wa_words = []\n",
    "for word in blobTotal.words:\n",
    "    if 'WA' in word:\n",
    "        wa_words.append(word)\n",
    "print(wa_words)"
   ]
  },
  {
   "cell_type": "code",
   "execution_count": 34,
   "metadata": {},
   "outputs": [],
   "source": [
    "# Problem 11\n",
    "import imageio\n",
    "from wordcloud import WordCloud\n",
    "\n",
    "file_name = 'mask_heart.png'\n",
    "mask_image = imageio.imread(str(file_name))\n",
    "wordcloud = WordCloud(colormap = 'prism', mask=mask_image, background_color='white')\n",
    "wordcloudImage = wordcloud.generate(textTotal)\n",
    "#wordcloudFile = wordcloudImage.to_file('Hamlet.png')"
   ]
  },
  {
   "cell_type": "code",
   "execution_count": 42,
   "metadata": {},
   "outputs": [
    {
     "data": {
      "image/png": "[encoded data removed]",
      "text/plain": [
       "<Figure size 648x648 with 1 Axes>"
      ]
     },
     "metadata": {
      "needs_background": "light"
     },
     "output_type": "display_data"
    }
   ],
   "source": [
    "from PIL import Image\n",
    "import matplotlib.pyplot as plt\n",
    "im = Image.open('Hamlet.png')\n",
    "fig, ax = plt.subplots(figsize=(9,9))\n",
    "ax.imshow(im)\n",
    "plt.show()"
   ]
  },
  {
   "cell_type": "code",
   "execution_count": null,
   "metadata": {},
   "outputs": [],
   "source": []
  }
 ],
 "metadata": {
  "kernelspec": {
   "display_name": "Python 3",
   "language": "python",
   "name": "python3"
  },
  "language_info": {
   "codemirror_mode": {
    "name": "ipython",
    "version": 3
   },
   "file_extension": ".py",
   "mimetype": "text/x-python",
   "name": "python",
   "nbconvert_exporter": "python",
   "pygments_lexer": "ipython3",
   "version": "3.7.4"
  }
 },
 "nbformat": 4,
 "nbformat_minor": 2
}
